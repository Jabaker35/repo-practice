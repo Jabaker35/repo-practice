{
 "cells": [
  {
   "cell_type": "code",
   "execution_count": 64,
   "id": "2bfe3b3b-819d-4bb2-aae4-5ee50983926d",
   "metadata": {},
   "outputs": [],
   "source": [
    "import pandas as pd\n",
    "import numpy as np\n",
    "import pandas_datareader as pdr\n",
    "import datetime as dt\n",
    "import matplotlib.pyplot as plt\n",
    "import yfinance as yf\n",
    "import mplfinance as mpf"
   ]
  },
  {
   "cell_type": "code",
   "execution_count": 1,
   "id": "d5f44e8f-f316-44ac-bb93-453b3a8804e8",
   "metadata": {},
   "outputs": [
    {
     "name": "stdout",
     "output_type": "stream",
     "text": [
      "Collecting pandas-datareader\n",
      "  Downloading pandas_datareader-0.10.0-py3-none-any.whl (109 kB)\n",
      "     -------------------------------------- 109.5/109.5 kB 1.3 MB/s eta 0:00:00\n",
      "Requirement already satisfied: requests>=2.19.0 in c:\\users\\judie baker\\anaconda3\\lib\\site-packages (from pandas-datareader) (2.28.1)\n",
      "Requirement already satisfied: lxml in c:\\users\\judie baker\\anaconda3\\lib\\site-packages (from pandas-datareader) (4.9.1)\n",
      "Requirement already satisfied: pandas>=0.23 in c:\\users\\judie baker\\anaconda3\\lib\\site-packages (from pandas-datareader) (1.4.4)\n",
      "Requirement already satisfied: python-dateutil>=2.8.1 in c:\\users\\judie baker\\anaconda3\\lib\\site-packages (from pandas>=0.23->pandas-datareader) (2.8.2)\n",
      "Requirement already satisfied: numpy>=1.18.5 in c:\\users\\judie baker\\anaconda3\\lib\\site-packages (from pandas>=0.23->pandas-datareader) (1.21.5)\n",
      "Requirement already satisfied: pytz>=2020.1 in c:\\users\\judie baker\\anaconda3\\lib\\site-packages (from pandas>=0.23->pandas-datareader) (2022.1)\n",
      "Requirement already satisfied: certifi>=2017.4.17 in c:\\users\\judie baker\\anaconda3\\lib\\site-packages (from requests>=2.19.0->pandas-datareader) (2022.9.14)\n",
      "Requirement already satisfied: idna<4,>=2.5 in c:\\users\\judie baker\\anaconda3\\lib\\site-packages (from requests>=2.19.0->pandas-datareader) (3.3)\n",
      "Requirement already satisfied: charset-normalizer<3,>=2 in c:\\users\\judie baker\\anaconda3\\lib\\site-packages (from requests>=2.19.0->pandas-datareader) (2.0.4)\n",
      "Requirement already satisfied: urllib3<1.27,>=1.21.1 in c:\\users\\judie baker\\anaconda3\\lib\\site-packages (from requests>=2.19.0->pandas-datareader) (1.26.11)\n",
      "Requirement already satisfied: six>=1.5 in c:\\users\\judie baker\\anaconda3\\lib\\site-packages (from python-dateutil>=2.8.1->pandas>=0.23->pandas-datareader) (1.16.0)\n",
      "Installing collected packages: pandas-datareader\n",
      "Successfully installed pandas-datareader-0.10.0\n",
      "Note: you may need to restart the kernel to use updated packages.\n"
     ]
    }
   ],
   "source": [
    "pip install pandas-datareader"
   ]
  },
  {
   "cell_type": "code",
   "execution_count": 2,
   "id": "a6054308-dfc5-4c4c-9e8e-fc1f63a3ac6f",
   "metadata": {},
   "outputs": [
    {
     "data": {
      "text/html": [
       "<div>\n",
       "<style scoped>\n",
       "    .dataframe tbody tr th:only-of-type {\n",
       "        vertical-align: middle;\n",
       "    }\n",
       "\n",
       "    .dataframe tbody tr th {\n",
       "        vertical-align: top;\n",
       "    }\n",
       "\n",
       "    .dataframe thead th {\n",
       "        text-align: right;\n",
       "    }\n",
       "</style>\n",
       "<table border=\"1\" class=\"dataframe\">\n",
       "  <thead>\n",
       "    <tr style=\"text-align: right;\">\n",
       "      <th></th>\n",
       "      <th>Open</th>\n",
       "      <th>High</th>\n",
       "      <th>Low</th>\n",
       "      <th>Close</th>\n",
       "      <th>Adj Close</th>\n",
       "      <th>Volume</th>\n",
       "    </tr>\n",
       "    <tr>\n",
       "      <th>Date</th>\n",
       "      <th></th>\n",
       "      <th></th>\n",
       "      <th></th>\n",
       "      <th></th>\n",
       "      <th></th>\n",
       "      <th></th>\n",
       "    </tr>\n",
       "  </thead>\n",
       "  <tbody>\n",
       "    <tr>\n",
       "      <th>2014-09-29</th>\n",
       "      <td>100.589996</td>\n",
       "      <td>100.690002</td>\n",
       "      <td>98.040001</td>\n",
       "      <td>99.620003</td>\n",
       "      <td>93.514290</td>\n",
       "      <td>142718700</td>\n",
       "    </tr>\n",
       "    <tr>\n",
       "      <th>2014-10-06</th>\n",
       "      <td>99.949997</td>\n",
       "      <td>102.379997</td>\n",
       "      <td>98.309998</td>\n",
       "      <td>100.730003</td>\n",
       "      <td>94.556244</td>\n",
       "      <td>280258200</td>\n",
       "    </tr>\n",
       "    <tr>\n",
       "      <th>2014-10-13</th>\n",
       "      <td>101.330002</td>\n",
       "      <td>101.779999</td>\n",
       "      <td>95.180000</td>\n",
       "      <td>97.669998</td>\n",
       "      <td>91.683792</td>\n",
       "      <td>358539800</td>\n",
       "    </tr>\n",
       "    <tr>\n",
       "      <th>2014-10-20</th>\n",
       "      <td>98.320000</td>\n",
       "      <td>105.489998</td>\n",
       "      <td>98.220001</td>\n",
       "      <td>105.220001</td>\n",
       "      <td>98.771042</td>\n",
       "      <td>358532900</td>\n",
       "    </tr>\n",
       "    <tr>\n",
       "      <th>2014-10-27</th>\n",
       "      <td>104.849998</td>\n",
       "      <td>108.040001</td>\n",
       "      <td>104.699997</td>\n",
       "      <td>108.000000</td>\n",
       "      <td>101.380676</td>\n",
       "      <td>220230600</td>\n",
       "    </tr>\n",
       "    <tr>\n",
       "      <th>...</th>\n",
       "      <td>...</td>\n",
       "      <td>...</td>\n",
       "      <td>...</td>\n",
       "      <td>...</td>\n",
       "      <td>...</td>\n",
       "      <td>...</td>\n",
       "    </tr>\n",
       "    <tr>\n",
       "      <th>2018-03-05</th>\n",
       "      <td>175.210007</td>\n",
       "      <td>180.000000</td>\n",
       "      <td>174.270004</td>\n",
       "      <td>179.979996</td>\n",
       "      <td>179.979996</td>\n",
       "      <td>139852700</td>\n",
       "    </tr>\n",
       "    <tr>\n",
       "      <th>2018-03-12</th>\n",
       "      <td>180.289993</td>\n",
       "      <td>183.500000</td>\n",
       "      <td>177.619995</td>\n",
       "      <td>178.020004</td>\n",
       "      <td>178.020004</td>\n",
       "      <td>155417500</td>\n",
       "    </tr>\n",
       "    <tr>\n",
       "      <th>2018-03-19</th>\n",
       "      <td>177.320007</td>\n",
       "      <td>177.470001</td>\n",
       "      <td>164.940002</td>\n",
       "      <td>164.940002</td>\n",
       "      <td>164.940002</td>\n",
       "      <td>172670700</td>\n",
       "    </tr>\n",
       "    <tr>\n",
       "      <th>2018-03-26</th>\n",
       "      <td>168.070007</td>\n",
       "      <td>175.149994</td>\n",
       "      <td>165.190002</td>\n",
       "      <td>167.779999</td>\n",
       "      <td>167.779999</td>\n",
       "      <td>157898400</td>\n",
       "    </tr>\n",
       "    <tr>\n",
       "      <th>2018-03-29</th>\n",
       "      <td>167.804993</td>\n",
       "      <td>171.750000</td>\n",
       "      <td>166.899994</td>\n",
       "      <td>167.779999</td>\n",
       "      <td>167.779999</td>\n",
       "      <td>38398505</td>\n",
       "    </tr>\n",
       "  </tbody>\n",
       "</table>\n",
       "<p>184 rows × 6 columns</p>\n",
       "</div>"
      ],
      "text/plain": [
       "                  Open        High         Low       Close   Adj Close  \\\n",
       "Date                                                                     \n",
       "2014-09-29  100.589996  100.690002   98.040001   99.620003   93.514290   \n",
       "2014-10-06   99.949997  102.379997   98.309998  100.730003   94.556244   \n",
       "2014-10-13  101.330002  101.779999   95.180000   97.669998   91.683792   \n",
       "2014-10-20   98.320000  105.489998   98.220001  105.220001   98.771042   \n",
       "2014-10-27  104.849998  108.040001  104.699997  108.000000  101.380676   \n",
       "...                ...         ...         ...         ...         ...   \n",
       "2018-03-05  175.210007  180.000000  174.270004  179.979996  179.979996   \n",
       "2018-03-12  180.289993  183.500000  177.619995  178.020004  178.020004   \n",
       "2018-03-19  177.320007  177.470001  164.940002  164.940002  164.940002   \n",
       "2018-03-26  168.070007  175.149994  165.190002  167.779999  167.779999   \n",
       "2018-03-29  167.804993  171.750000  166.899994  167.779999  167.779999   \n",
       "\n",
       "               Volume  \n",
       "Date                   \n",
       "2014-09-29  142718700  \n",
       "2014-10-06  280258200  \n",
       "2014-10-13  358539800  \n",
       "2014-10-20  358532900  \n",
       "2014-10-27  220230600  \n",
       "...               ...  \n",
       "2018-03-05  139852700  \n",
       "2018-03-12  155417500  \n",
       "2018-03-19  172670700  \n",
       "2018-03-26  157898400  \n",
       "2018-03-29   38398505  \n",
       "\n",
       "[184 rows x 6 columns]"
      ]
     },
     "execution_count": 2,
     "metadata": {},
     "output_type": "execute_result"
    }
   ],
   "source": [
    "apple = pd.read_csv('documents/AAPL.csv',index_col=0,parse_dates=True)\n",
    "apple"
   ]
  },
  {
   "cell_type": "code",
   "execution_count": 4,
   "id": "7521dd39-160d-4351-94cc-34893f3c0231",
   "metadata": {},
   "outputs": [
    {
     "data": {
      "text/plain": [
       "<AxesSubplot:xlabel='Date'>"
      ]
     },
     "execution_count": 4,
     "metadata": {},
     "output_type": "execute_result"
    },
    {
     "data": {
      "image/png": "[encoded data removed]",
      "text/plain": [
       "<Figure size 640x480 with 1 Axes>"
      ]
     },
     "metadata": {},
     "output_type": "display_data"
    }
   ],
   "source": [
    "apple.plot()"
   ]
  },
  {
   "cell_type": "code",
   "execution_count": 6,
   "id": "7cddad0f-f909-4ce5-89be-d89379fbeca3",
   "metadata": {},
   "outputs": [
    {
     "data": {
      "text/html": [
       "<div>\n",
       "<style scoped>\n",
       "    .dataframe tbody tr th:only-of-type {\n",
       "        vertical-align: middle;\n",
       "    }\n",
       "\n",
       "    .dataframe tbody tr th {\n",
       "        vertical-align: top;\n",
       "    }\n",
       "\n",
       "    .dataframe thead th {\n",
       "        text-align: right;\n",
       "    }\n",
       "</style>\n",
       "<table border=\"1\" class=\"dataframe\">\n",
       "  <thead>\n",
       "    <tr style=\"text-align: right;\">\n",
       "      <th></th>\n",
       "      <th>Open</th>\n",
       "      <th>High</th>\n",
       "      <th>Low</th>\n",
       "      <th>Close</th>\n",
       "      <th>Adj Close</th>\n",
       "      <th>Volume</th>\n",
       "      <th>Daily Chng</th>\n",
       "    </tr>\n",
       "    <tr>\n",
       "      <th>Date</th>\n",
       "      <th></th>\n",
       "      <th></th>\n",
       "      <th></th>\n",
       "      <th></th>\n",
       "      <th></th>\n",
       "      <th></th>\n",
       "      <th></th>\n",
       "    </tr>\n",
       "  </thead>\n",
       "  <tbody>\n",
       "    <tr>\n",
       "      <th>2014-09-29</th>\n",
       "      <td>100.589996</td>\n",
       "      <td>100.690002</td>\n",
       "      <td>98.040001</td>\n",
       "      <td>99.620003</td>\n",
       "      <td>93.514290</td>\n",
       "      <td>142718700</td>\n",
       "      <td>-0.969993</td>\n",
       "    </tr>\n",
       "    <tr>\n",
       "      <th>2014-10-06</th>\n",
       "      <td>99.949997</td>\n",
       "      <td>102.379997</td>\n",
       "      <td>98.309998</td>\n",
       "      <td>100.730003</td>\n",
       "      <td>94.556244</td>\n",
       "      <td>280258200</td>\n",
       "      <td>0.780006</td>\n",
       "    </tr>\n",
       "    <tr>\n",
       "      <th>2014-10-13</th>\n",
       "      <td>101.330002</td>\n",
       "      <td>101.779999</td>\n",
       "      <td>95.180000</td>\n",
       "      <td>97.669998</td>\n",
       "      <td>91.683792</td>\n",
       "      <td>358539800</td>\n",
       "      <td>-3.660004</td>\n",
       "    </tr>\n",
       "    <tr>\n",
       "      <th>2014-10-20</th>\n",
       "      <td>98.320000</td>\n",
       "      <td>105.489998</td>\n",
       "      <td>98.220001</td>\n",
       "      <td>105.220001</td>\n",
       "      <td>98.771042</td>\n",
       "      <td>358532900</td>\n",
       "      <td>6.900001</td>\n",
       "    </tr>\n",
       "    <tr>\n",
       "      <th>2014-10-27</th>\n",
       "      <td>104.849998</td>\n",
       "      <td>108.040001</td>\n",
       "      <td>104.699997</td>\n",
       "      <td>108.000000</td>\n",
       "      <td>101.380676</td>\n",
       "      <td>220230600</td>\n",
       "      <td>3.150002</td>\n",
       "    </tr>\n",
       "  </tbody>\n",
       "</table>\n",
       "</div>"
      ],
      "text/plain": [
       "                  Open        High         Low       Close   Adj Close  \\\n",
       "Date                                                                     \n",
       "2014-09-29  100.589996  100.690002   98.040001   99.620003   93.514290   \n",
       "2014-10-06   99.949997  102.379997   98.309998  100.730003   94.556244   \n",
       "2014-10-13  101.330002  101.779999   95.180000   97.669998   91.683792   \n",
       "2014-10-20   98.320000  105.489998   98.220001  105.220001   98.771042   \n",
       "2014-10-27  104.849998  108.040001  104.699997  108.000000  101.380676   \n",
       "\n",
       "               Volume  Daily Chng  \n",
       "Date                               \n",
       "2014-09-29  142718700   -0.969993  \n",
       "2014-10-06  280258200    0.780006  \n",
       "2014-10-13  358539800   -3.660004  \n",
       "2014-10-20  358532900    6.900001  \n",
       "2014-10-27  220230600    3.150002  "
      ]
     },
     "execution_count": 6,
     "metadata": {},
     "output_type": "execute_result"
    }
   ],
   "source": [
    "apple['Daily Chng']=apple['Close']-apple['Open']\n",
    "apple.head()"
   ]
  },
  {
   "cell_type": "code",
   "execution_count": 7,
   "id": "d3c73908-384f-4d15-b085-a6b94516c3fc",
   "metadata": {},
   "outputs": [
    {
     "data": {
      "text/html": [
       "<div>\n",
       "<style scoped>\n",
       "    .dataframe tbody tr th:only-of-type {\n",
       "        vertical-align: middle;\n",
       "    }\n",
       "\n",
       "    .dataframe tbody tr th {\n",
       "        vertical-align: top;\n",
       "    }\n",
       "\n",
       "    .dataframe thead th {\n",
       "        text-align: right;\n",
       "    }\n",
       "</style>\n",
       "<table border=\"1\" class=\"dataframe\">\n",
       "  <thead>\n",
       "    <tr style=\"text-align: right;\">\n",
       "      <th></th>\n",
       "      <th>Open</th>\n",
       "      <th>High</th>\n",
       "      <th>Low</th>\n",
       "      <th>Close</th>\n",
       "      <th>Adj Close</th>\n",
       "      <th>Volume</th>\n",
       "      <th>Daily Chng</th>\n",
       "      <th>Normalized</th>\n",
       "    </tr>\n",
       "    <tr>\n",
       "      <th>Date</th>\n",
       "      <th></th>\n",
       "      <th></th>\n",
       "      <th></th>\n",
       "      <th></th>\n",
       "      <th></th>\n",
       "      <th></th>\n",
       "      <th></th>\n",
       "      <th></th>\n",
       "    </tr>\n",
       "  </thead>\n",
       "  <tbody>\n",
       "    <tr>\n",
       "      <th>2014-09-29</th>\n",
       "      <td>100.589996</td>\n",
       "      <td>100.690002</td>\n",
       "      <td>98.040001</td>\n",
       "      <td>99.620003</td>\n",
       "      <td>93.514290</td>\n",
       "      <td>142718700</td>\n",
       "      <td>-0.969993</td>\n",
       "      <td>1.000000</td>\n",
       "    </tr>\n",
       "    <tr>\n",
       "      <th>2014-10-06</th>\n",
       "      <td>99.949997</td>\n",
       "      <td>102.379997</td>\n",
       "      <td>98.309998</td>\n",
       "      <td>100.730003</td>\n",
       "      <td>94.556244</td>\n",
       "      <td>280258200</td>\n",
       "      <td>0.780006</td>\n",
       "      <td>1.011142</td>\n",
       "    </tr>\n",
       "    <tr>\n",
       "      <th>2014-10-13</th>\n",
       "      <td>101.330002</td>\n",
       "      <td>101.779999</td>\n",
       "      <td>95.180000</td>\n",
       "      <td>97.669998</td>\n",
       "      <td>91.683792</td>\n",
       "      <td>358539800</td>\n",
       "      <td>-3.660004</td>\n",
       "      <td>0.980426</td>\n",
       "    </tr>\n",
       "    <tr>\n",
       "      <th>2014-10-20</th>\n",
       "      <td>98.320000</td>\n",
       "      <td>105.489998</td>\n",
       "      <td>98.220001</td>\n",
       "      <td>105.220001</td>\n",
       "      <td>98.771042</td>\n",
       "      <td>358532900</td>\n",
       "      <td>6.900001</td>\n",
       "      <td>1.056214</td>\n",
       "    </tr>\n",
       "    <tr>\n",
       "      <th>2014-10-27</th>\n",
       "      <td>104.849998</td>\n",
       "      <td>108.040001</td>\n",
       "      <td>104.699997</td>\n",
       "      <td>108.000000</td>\n",
       "      <td>101.380676</td>\n",
       "      <td>220230600</td>\n",
       "      <td>3.150002</td>\n",
       "      <td>1.084120</td>\n",
       "    </tr>\n",
       "  </tbody>\n",
       "</table>\n",
       "</div>"
      ],
      "text/plain": [
       "                  Open        High         Low       Close   Adj Close  \\\n",
       "Date                                                                     \n",
       "2014-09-29  100.589996  100.690002   98.040001   99.620003   93.514290   \n",
       "2014-10-06   99.949997  102.379997   98.309998  100.730003   94.556244   \n",
       "2014-10-13  101.330002  101.779999   95.180000   97.669998   91.683792   \n",
       "2014-10-20   98.320000  105.489998   98.220001  105.220001   98.771042   \n",
       "2014-10-27  104.849998  108.040001  104.699997  108.000000  101.380676   \n",
       "\n",
       "               Volume  Daily Chng  Normalized  \n",
       "Date                                           \n",
       "2014-09-29  142718700   -0.969993    1.000000  \n",
       "2014-10-06  280258200    0.780006    1.011142  \n",
       "2014-10-13  358539800   -3.660004    0.980426  \n",
       "2014-10-20  358532900    6.900001    1.056214  \n",
       "2014-10-27  220230600    3.150002    1.084120  "
      ]
     },
     "execution_count": 7,
     "metadata": {},
     "output_type": "execute_result"
    }
   ],
   "source": [
    "apple['Normalized']=apple['Close']/apple['Close'].iloc[0]\n",
    "apple.head()"
   ]
  },
  {
   "cell_type": "code",
   "execution_count": 8,
   "id": "3ab96f0d-3be4-46e0-8db8-3f4411f30972",
   "metadata": {},
   "outputs": [
    {
     "data": {
      "text/plain": [
       "90.519997"
      ]
     },
     "execution_count": 8,
     "metadata": {},
     "output_type": "execute_result"
    }
   ],
   "source": [
    "apple['Close'].min()"
   ]
  },
  {
   "cell_type": "code",
   "execution_count": 9,
   "id": "6f34233e-bcfb-4369-b2b9-5decef269ade",
   "metadata": {},
   "outputs": [
    {
     "data": {
      "text/plain": [
       "Open          9.239000e+01\n",
       "High          9.377000e+01\n",
       "Low           8.947000e+01\n",
       "Close         9.052000e+01\n",
       "Adj Close     8.779682e+01\n",
       "Volume        3.839850e+07\n",
       "Daily Chng   -1.238001e+01\n",
       "Normalized    9.086528e-01\n",
       "dtype: float64"
      ]
     },
     "execution_count": 9,
     "metadata": {},
     "output_type": "execute_result"
    }
   ],
   "source": [
    "apple.min()"
   ]
  },
  {
   "cell_type": "code",
   "execution_count": 10,
   "id": "96398c68-2afb-4188-954b-b52040fdb620",
   "metadata": {},
   "outputs": [
    {
     "data": {
      "text/plain": [
       "84"
      ]
     },
     "execution_count": 10,
     "metadata": {},
     "output_type": "execute_result"
    }
   ],
   "source": [
    "apple['Close'].argmin()"
   ]
  },
  {
   "cell_type": "code",
   "execution_count": 11,
   "id": "492014d8-c3c1-44cd-ba6d-c69daa37ab3d",
   "metadata": {},
   "outputs": [
    {
     "data": {
      "text/plain": [
       "Open          9.300000e+01\n",
       "High          9.377000e+01\n",
       "Low           8.947000e+01\n",
       "Close         9.052000e+01\n",
       "Adj Close     8.779682e+01\n",
       "Volume        2.160498e+08\n",
       "Daily Chng   -2.480003e+00\n",
       "Normalized    9.086528e-01\n",
       "Name: 2016-05-09 00:00:00, dtype: float64"
      ]
     },
     "execution_count": 11,
     "metadata": {},
     "output_type": "execute_result"
    }
   ],
   "source": [
    "apple.iloc[84]"
   ]
  },
  {
   "cell_type": "code",
   "execution_count": null,
   "id": "416616e5-d629-4ea8-8391-6a64d2b64da8",
   "metadata": {},
   "outputs": [],
   "source": [
    "apple['Close'].argmax()"
   ]
  },
  {
   "cell_type": "code",
   "execution_count": 12,
   "id": "3d9b490f-7c05-4414-a206-28c5d0c5b369",
   "metadata": {},
   "outputs": [
    {
     "data": {
      "text/html": [
       "<div>\n",
       "<style scoped>\n",
       "    .dataframe tbody tr th:only-of-type {\n",
       "        vertical-align: middle;\n",
       "    }\n",
       "\n",
       "    .dataframe tbody tr th {\n",
       "        vertical-align: top;\n",
       "    }\n",
       "\n",
       "    .dataframe thead th {\n",
       "        text-align: right;\n",
       "    }\n",
       "</style>\n",
       "<table border=\"1\" class=\"dataframe\">\n",
       "  <thead>\n",
       "    <tr style=\"text-align: right;\">\n",
       "      <th></th>\n",
       "      <th>Open</th>\n",
       "      <th>High</th>\n",
       "      <th>Low</th>\n",
       "      <th>Close</th>\n",
       "      <th>Adj Close</th>\n",
       "      <th>Volume</th>\n",
       "      <th>Daily Chng</th>\n",
       "      <th>Normalized</th>\n",
       "    </tr>\n",
       "    <tr>\n",
       "      <th>Date</th>\n",
       "      <th></th>\n",
       "      <th></th>\n",
       "      <th></th>\n",
       "      <th></th>\n",
       "      <th></th>\n",
       "      <th></th>\n",
       "      <th></th>\n",
       "      <th></th>\n",
       "    </tr>\n",
       "  </thead>\n",
       "  <tbody>\n",
       "    <tr>\n",
       "      <th>2018-03-05</th>\n",
       "      <td>175.210007</td>\n",
       "      <td>180.000000</td>\n",
       "      <td>174.270004</td>\n",
       "      <td>179.979996</td>\n",
       "      <td>179.979996</td>\n",
       "      <td>139852700</td>\n",
       "      <td>4.769989</td>\n",
       "      <td>1.806665</td>\n",
       "    </tr>\n",
       "    <tr>\n",
       "      <th>2018-03-12</th>\n",
       "      <td>180.289993</td>\n",
       "      <td>183.500000</td>\n",
       "      <td>177.619995</td>\n",
       "      <td>178.020004</td>\n",
       "      <td>178.020004</td>\n",
       "      <td>155417500</td>\n",
       "      <td>-2.269989</td>\n",
       "      <td>1.786991</td>\n",
       "    </tr>\n",
       "    <tr>\n",
       "      <th>2018-03-19</th>\n",
       "      <td>177.320007</td>\n",
       "      <td>177.470001</td>\n",
       "      <td>164.940002</td>\n",
       "      <td>164.940002</td>\n",
       "      <td>164.940002</td>\n",
       "      <td>172670700</td>\n",
       "      <td>-12.380005</td>\n",
       "      <td>1.655692</td>\n",
       "    </tr>\n",
       "    <tr>\n",
       "      <th>2018-03-26</th>\n",
       "      <td>168.070007</td>\n",
       "      <td>175.149994</td>\n",
       "      <td>165.190002</td>\n",
       "      <td>167.779999</td>\n",
       "      <td>167.779999</td>\n",
       "      <td>157898400</td>\n",
       "      <td>-0.290008</td>\n",
       "      <td>1.684200</td>\n",
       "    </tr>\n",
       "    <tr>\n",
       "      <th>2018-03-29</th>\n",
       "      <td>167.804993</td>\n",
       "      <td>171.750000</td>\n",
       "      <td>166.899994</td>\n",
       "      <td>167.779999</td>\n",
       "      <td>167.779999</td>\n",
       "      <td>38398505</td>\n",
       "      <td>-0.024994</td>\n",
       "      <td>1.684200</td>\n",
       "    </tr>\n",
       "  </tbody>\n",
       "</table>\n",
       "</div>"
      ],
      "text/plain": [
       "                  Open        High         Low       Close   Adj Close  \\\n",
       "Date                                                                     \n",
       "2018-03-05  175.210007  180.000000  174.270004  179.979996  179.979996   \n",
       "2018-03-12  180.289993  183.500000  177.619995  178.020004  178.020004   \n",
       "2018-03-19  177.320007  177.470001  164.940002  164.940002  164.940002   \n",
       "2018-03-26  168.070007  175.149994  165.190002  167.779999  167.779999   \n",
       "2018-03-29  167.804993  171.750000  166.899994  167.779999  167.779999   \n",
       "\n",
       "               Volume  Daily Chng  Normalized  \n",
       "Date                                           \n",
       "2018-03-05  139852700    4.769989    1.806665  \n",
       "2018-03-12  155417500   -2.269989    1.786991  \n",
       "2018-03-19  172670700  -12.380005    1.655692  \n",
       "2018-03-26  157898400   -0.290008    1.684200  \n",
       "2018-03-29   38398505   -0.024994    1.684200  "
      ]
     },
     "execution_count": 12,
     "metadata": {},
     "output_type": "execute_result"
    }
   ],
   "source": [
    "apple.iloc[179:]"
   ]
  },
  {
   "cell_type": "code",
   "execution_count": 13,
   "id": "04d00329-a0f0-408c-88ce-4802be7604b6",
   "metadata": {},
   "outputs": [
    {
     "data": {
      "text/plain": [
       "127.35266294565217"
      ]
     },
     "execution_count": 13,
     "metadata": {},
     "output_type": "execute_result"
    }
   ],
   "source": [
    "apple['Close'].mean()"
   ]
  },
  {
   "cell_type": "code",
   "execution_count": 14,
   "id": "474bb530-4426-4218-8d3f-408c53b88e4c",
   "metadata": {},
   "outputs": [
    {
     "data": {
      "text/html": [
       "<div>\n",
       "<style scoped>\n",
       "    .dataframe tbody tr th:only-of-type {\n",
       "        vertical-align: middle;\n",
       "    }\n",
       "\n",
       "    .dataframe tbody tr th {\n",
       "        vertical-align: top;\n",
       "    }\n",
       "\n",
       "    .dataframe thead th {\n",
       "        text-align: right;\n",
       "    }\n",
       "</style>\n",
       "<table border=\"1\" class=\"dataframe\">\n",
       "  <thead>\n",
       "    <tr style=\"text-align: right;\">\n",
       "      <th></th>\n",
       "      <th>Open</th>\n",
       "      <th>Close</th>\n",
       "      <th>Daily Chng</th>\n",
       "      <th>Normalized</th>\n",
       "    </tr>\n",
       "    <tr>\n",
       "      <th>Date</th>\n",
       "      <th></th>\n",
       "      <th></th>\n",
       "      <th></th>\n",
       "      <th></th>\n",
       "    </tr>\n",
       "  </thead>\n",
       "  <tbody>\n",
       "    <tr>\n",
       "      <th>2014-09-29</th>\n",
       "      <td>100.589996</td>\n",
       "      <td>99.620003</td>\n",
       "      <td>-0.969993</td>\n",
       "      <td>1.000000</td>\n",
       "    </tr>\n",
       "    <tr>\n",
       "      <th>2014-10-06</th>\n",
       "      <td>99.949997</td>\n",
       "      <td>100.730003</td>\n",
       "      <td>0.780006</td>\n",
       "      <td>1.011142</td>\n",
       "    </tr>\n",
       "    <tr>\n",
       "      <th>2014-10-13</th>\n",
       "      <td>101.330002</td>\n",
       "      <td>97.669998</td>\n",
       "      <td>-3.660004</td>\n",
       "      <td>0.980426</td>\n",
       "    </tr>\n",
       "    <tr>\n",
       "      <th>2014-10-20</th>\n",
       "      <td>98.320000</td>\n",
       "      <td>105.220001</td>\n",
       "      <td>6.900001</td>\n",
       "      <td>1.056214</td>\n",
       "    </tr>\n",
       "    <tr>\n",
       "      <th>2014-10-27</th>\n",
       "      <td>104.849998</td>\n",
       "      <td>108.000000</td>\n",
       "      <td>3.150002</td>\n",
       "      <td>1.084120</td>\n",
       "    </tr>\n",
       "    <tr>\n",
       "      <th>...</th>\n",
       "      <td>...</td>\n",
       "      <td>...</td>\n",
       "      <td>...</td>\n",
       "      <td>...</td>\n",
       "    </tr>\n",
       "    <tr>\n",
       "      <th>2018-03-05</th>\n",
       "      <td>175.210007</td>\n",
       "      <td>179.979996</td>\n",
       "      <td>4.769989</td>\n",
       "      <td>1.806665</td>\n",
       "    </tr>\n",
       "    <tr>\n",
       "      <th>2018-03-12</th>\n",
       "      <td>180.289993</td>\n",
       "      <td>178.020004</td>\n",
       "      <td>-2.269989</td>\n",
       "      <td>1.786991</td>\n",
       "    </tr>\n",
       "    <tr>\n",
       "      <th>2018-03-19</th>\n",
       "      <td>177.320007</td>\n",
       "      <td>164.940002</td>\n",
       "      <td>-12.380005</td>\n",
       "      <td>1.655692</td>\n",
       "    </tr>\n",
       "    <tr>\n",
       "      <th>2018-03-26</th>\n",
       "      <td>168.070007</td>\n",
       "      <td>167.779999</td>\n",
       "      <td>-0.290008</td>\n",
       "      <td>1.684200</td>\n",
       "    </tr>\n",
       "    <tr>\n",
       "      <th>2018-03-29</th>\n",
       "      <td>167.804993</td>\n",
       "      <td>167.779999</td>\n",
       "      <td>-0.024994</td>\n",
       "      <td>1.684200</td>\n",
       "    </tr>\n",
       "  </tbody>\n",
       "</table>\n",
       "<p>184 rows × 4 columns</p>\n",
       "</div>"
      ],
      "text/plain": [
       "                  Open       Close  Daily Chng  Normalized\n",
       "Date                                                      \n",
       "2014-09-29  100.589996   99.620003   -0.969993    1.000000\n",
       "2014-10-06   99.949997  100.730003    0.780006    1.011142\n",
       "2014-10-13  101.330002   97.669998   -3.660004    0.980426\n",
       "2014-10-20   98.320000  105.220001    6.900001    1.056214\n",
       "2014-10-27  104.849998  108.000000    3.150002    1.084120\n",
       "...                ...         ...         ...         ...\n",
       "2018-03-05  175.210007  179.979996    4.769989    1.806665\n",
       "2018-03-12  180.289993  178.020004   -2.269989    1.786991\n",
       "2018-03-19  177.320007  164.940002  -12.380005    1.655692\n",
       "2018-03-26  168.070007  167.779999   -0.290008    1.684200\n",
       "2018-03-29  167.804993  167.779999   -0.024994    1.684200\n",
       "\n",
       "[184 rows x 4 columns]"
      ]
     },
     "execution_count": 14,
     "metadata": {},
     "output_type": "execute_result"
    }
   ],
   "source": [
    "# dropping labels\n",
    "apple.drop(labels=['High','Low','Adj Close','Volume'],axis=1)"
   ]
  },
  {
   "cell_type": "code",
   "execution_count": 28,
   "id": "7f35ad12-1c20-4a30-b5ff-39a1f49c5ac8",
   "metadata": {},
   "outputs": [
    {
     "data": {
      "text/html": [
       "<div>\n",
       "<style scoped>\n",
       "    .dataframe tbody tr th:only-of-type {\n",
       "        vertical-align: middle;\n",
       "    }\n",
       "\n",
       "    .dataframe tbody tr th {\n",
       "        vertical-align: top;\n",
       "    }\n",
       "\n",
       "    .dataframe thead th {\n",
       "        text-align: right;\n",
       "    }\n",
       "</style>\n",
       "<table border=\"1\" class=\"dataframe\">\n",
       "  <thead>\n",
       "    <tr style=\"text-align: right;\">\n",
       "      <th></th>\n",
       "      <th>High</th>\n",
       "      <th>Low</th>\n",
       "      <th>Open</th>\n",
       "      <th>Close</th>\n",
       "      <th>Volume</th>\n",
       "      <th>Adj Close</th>\n",
       "    </tr>\n",
       "    <tr>\n",
       "      <th>Date</th>\n",
       "      <th></th>\n",
       "      <th></th>\n",
       "      <th></th>\n",
       "      <th></th>\n",
       "      <th></th>\n",
       "      <th></th>\n",
       "    </tr>\n",
       "  </thead>\n",
       "  <tbody>\n",
       "    <tr>\n",
       "      <th>2020-01-02</th>\n",
       "      <td>75.150002</td>\n",
       "      <td>73.797501</td>\n",
       "      <td>74.059998</td>\n",
       "      <td>75.087502</td>\n",
       "      <td>135480400.0</td>\n",
       "      <td>73.561546</td>\n",
       "    </tr>\n",
       "    <tr>\n",
       "      <th>2020-01-03</th>\n",
       "      <td>75.144997</td>\n",
       "      <td>74.125000</td>\n",
       "      <td>74.287498</td>\n",
       "      <td>74.357498</td>\n",
       "      <td>146322800.0</td>\n",
       "      <td>72.846359</td>\n",
       "    </tr>\n",
       "    <tr>\n",
       "      <th>2020-01-06</th>\n",
       "      <td>74.989998</td>\n",
       "      <td>73.187500</td>\n",
       "      <td>73.447502</td>\n",
       "      <td>74.949997</td>\n",
       "      <td>118387200.0</td>\n",
       "      <td>73.426842</td>\n",
       "    </tr>\n",
       "    <tr>\n",
       "      <th>2020-01-07</th>\n",
       "      <td>75.224998</td>\n",
       "      <td>74.370003</td>\n",
       "      <td>74.959999</td>\n",
       "      <td>74.597504</td>\n",
       "      <td>108872000.0</td>\n",
       "      <td>73.081497</td>\n",
       "    </tr>\n",
       "    <tr>\n",
       "      <th>2020-01-08</th>\n",
       "      <td>76.110001</td>\n",
       "      <td>74.290001</td>\n",
       "      <td>74.290001</td>\n",
       "      <td>75.797501</td>\n",
       "      <td>132079200.0</td>\n",
       "      <td>74.257095</td>\n",
       "    </tr>\n",
       "  </tbody>\n",
       "</table>\n",
       "</div>"
      ],
      "text/plain": [
       "                 High        Low       Open      Close       Volume  Adj Close\n",
       "Date                                                                          \n",
       "2020-01-02  75.150002  73.797501  74.059998  75.087502  135480400.0  73.561546\n",
       "2020-01-03  75.144997  74.125000  74.287498  74.357498  146322800.0  72.846359\n",
       "2020-01-06  74.989998  73.187500  73.447502  74.949997  118387200.0  73.426842\n",
       "2020-01-07  75.224998  74.370003  74.959999  74.597504  108872000.0  73.081497\n",
       "2020-01-08  76.110001  74.290001  74.290001  75.797501  132079200.0  74.257095"
      ]
     },
     "execution_count": 28,
     "metadata": {},
     "output_type": "execute_result"
    }
   ],
   "source": [
    "# reading data from yahoo finance\n",
    "start = dt.datetime(2020,1,1)\n",
    "data = pdr.get_data_yahoo('AAPL',start)\n",
    "data.head()"
   ]
  },
  {
   "cell_type": "code",
   "execution_count": 5,
   "id": "0bcb4b91-22cc-4b93-92ba-52d57a924480",
   "metadata": {},
   "outputs": [
    {
     "data": {
      "text/plain": [
       "DatetimeIndex(['2020-01-02', '2020-01-03', '2020-01-06', '2020-01-07',\n",
       "               '2020-01-08', '2020-01-09', '2020-01-10', '2020-01-13',\n",
       "               '2020-01-14', '2020-01-15',\n",
       "               ...\n",
       "               '2022-11-30', '2022-12-01', '2022-12-02', '2022-12-05',\n",
       "               '2022-12-06', '2022-12-07', '2022-12-08', '2022-12-09',\n",
       "               '2022-12-12', '2022-12-13'],\n",
       "              dtype='datetime64[ns]', name='Date', length=744, freq=None)"
      ]
     },
     "execution_count": 5,
     "metadata": {},
     "output_type": "execute_result"
    }
   ],
   "source": [
    "data.index"
   ]
  },
  {
   "cell_type": "code",
   "execution_count": null,
   "id": "176dd2cd-705f-4539-ae4e-d69082e172c3",
   "metadata": {},
   "outputs": [],
   "source": [
    "data.dtypes"
   ]
  },
  {
   "cell_type": "code",
   "execution_count": null,
   "id": "7f8cd408-fdbb-4c7b-a8c1-65fd8244e5ac",
   "metadata": {},
   "outputs": [],
   "source": [
    "type(apple)"
   ]
  },
  {
   "cell_type": "code",
   "execution_count": 30,
   "id": "48feece8-4049-4404-b107-0ac3789bb867",
   "metadata": {},
   "outputs": [],
   "source": [
    "# converting to numpy array\n",
    "arr = data.to_numpy()"
   ]
  },
  {
   "cell_type": "code",
   "execution_count": 31,
   "id": "4aea2f9e-3433-462c-8c85-845222f63498",
   "metadata": {},
   "outputs": [
    {
     "data": {
      "text/plain": [
       "(744, 6)"
      ]
     },
     "execution_count": 31,
     "metadata": {},
     "output_type": "execute_result"
    }
   ],
   "source": [
    "arr.shape"
   ]
  },
  {
   "cell_type": "code",
   "execution_count": 32,
   "id": "aac5fb9f-46af-45d9-a1a0-ce525d05fb4a",
   "metadata": {},
   "outputs": [
    {
     "data": {
      "text/plain": [
       "744"
      ]
     },
     "execution_count": 32,
     "metadata": {},
     "output_type": "execute_result"
    }
   ],
   "source": [
    "len(data)"
   ]
  },
  {
   "cell_type": "code",
   "execution_count": 33,
   "id": "5b837e51-9f86-4d58-b4a5-ba7539a5fbc8",
   "metadata": {},
   "outputs": [
    {
     "data": {
      "text/plain": [
       "array([7.51500015e+01, 7.37975006e+01, 7.40599976e+01, 7.50875015e+01,\n",
       "       1.35480400e+08, 7.35615463e+01])"
      ]
     },
     "execution_count": 33,
     "metadata": {},
     "output_type": "execute_result"
    }
   ],
   "source": [
    "arr[0]"
   ]
  },
  {
   "cell_type": "code",
   "execution_count": 34,
   "id": "224d28aa-a0bf-4743-afdf-62ba3ebfd7b6",
   "metadata": {},
   "outputs": [
    {
     "data": {
      "text/plain": [
       "array([75.15000153, 75.14499664, 74.98999786, 75.22499847, 76.11000061,\n",
       "       77.60749817, 78.16750336, 79.26750183, 79.39250183, 78.875     ])"
      ]
     },
     "execution_count": 34,
     "metadata": {},
     "output_type": "execute_result"
    }
   ],
   "source": [
    "# first 10 rows, 1 col, and create a copy\n",
    "small = arr[:10,0].copy()\n",
    "small"
   ]
  },
  {
   "cell_type": "code",
   "execution_count": 35,
   "id": "3c95bae5-5ec3-4f40-8a0e-2ec50f144f5c",
   "metadata": {},
   "outputs": [
    {
     "data": {
      "text/plain": [
       "79.39250183105469"
      ]
     },
     "execution_count": 35,
     "metadata": {},
     "output_type": "execute_result"
    }
   ],
   "source": [
    "np.max(small)"
   ]
  },
  {
   "cell_type": "code",
   "execution_count": 36,
   "id": "fd573fc3-cb6f-471f-910c-c7a02c15e18c",
   "metadata": {},
   "outputs": [
    {
     "data": {
      "text/plain": [
       "8"
      ]
     },
     "execution_count": 36,
     "metadata": {},
     "output_type": "execute_result"
    }
   ],
   "source": [
    "small.argmax()"
   ]
  },
  {
   "cell_type": "code",
   "execution_count": 37,
   "id": "e10ff14b-5672-472c-a1de-9f5cebb3f204",
   "metadata": {},
   "outputs": [
    {
     "data": {
      "text/plain": [
       "79.39250183105469"
      ]
     },
     "execution_count": 37,
     "metadata": {},
     "output_type": "execute_result"
    }
   ],
   "source": [
    "# getting value\n",
    "small[small.argmax()]"
   ]
  },
  {
   "cell_type": "code",
   "execution_count": 38,
   "id": "1eb7a601-8bd5-45ec-b346-64c6883440ce",
   "metadata": {},
   "outputs": [
    {
     "data": {
      "text/plain": [
       "array([4.31948614, 4.31941954, 4.31735474, 4.3204836 , 4.33217967,\n",
       "       4.35166405, 4.358854  , 4.37282823, 4.37440393, 4.36786432])"
      ]
     },
     "execution_count": 38,
     "metadata": {},
     "output_type": "execute_result"
    }
   ],
   "source": [
    "# calculating return: take log\n",
    "np.log(small)"
   ]
  },
  {
   "cell_type": "code",
   "execution_count": 39,
   "id": "6920085b-505f-4146-9d24-7b7beeaa25cc",
   "metadata": {},
   "outputs": [
    {
     "data": {
      "text/html": [
       "<div>\n",
       "<style scoped>\n",
       "    .dataframe tbody tr th:only-of-type {\n",
       "        vertical-align: middle;\n",
       "    }\n",
       "\n",
       "    .dataframe tbody tr th {\n",
       "        vertical-align: top;\n",
       "    }\n",
       "\n",
       "    .dataframe thead th {\n",
       "        text-align: right;\n",
       "    }\n",
       "</style>\n",
       "<table border=\"1\" class=\"dataframe\">\n",
       "  <thead>\n",
       "    <tr style=\"text-align: right;\">\n",
       "      <th></th>\n",
       "      <th>High</th>\n",
       "      <th>Low</th>\n",
       "      <th>Open</th>\n",
       "      <th>Close</th>\n",
       "      <th>Volume</th>\n",
       "      <th>Adj Close</th>\n",
       "    </tr>\n",
       "    <tr>\n",
       "      <th>Date</th>\n",
       "      <th></th>\n",
       "      <th></th>\n",
       "      <th></th>\n",
       "      <th></th>\n",
       "      <th></th>\n",
       "      <th></th>\n",
       "    </tr>\n",
       "  </thead>\n",
       "  <tbody>\n",
       "    <tr>\n",
       "      <th>2020-01-02</th>\n",
       "      <td>4.319486</td>\n",
       "      <td>4.301325</td>\n",
       "      <td>4.304876</td>\n",
       "      <td>4.318654</td>\n",
       "      <td>18.724338</td>\n",
       "      <td>4.298122</td>\n",
       "    </tr>\n",
       "    <tr>\n",
       "      <th>2020-01-03</th>\n",
       "      <td>4.319420</td>\n",
       "      <td>4.305753</td>\n",
       "      <td>4.307943</td>\n",
       "      <td>4.308885</td>\n",
       "      <td>18.801326</td>\n",
       "      <td>4.288353</td>\n",
       "    </tr>\n",
       "    <tr>\n",
       "      <th>2020-01-06</th>\n",
       "      <td>4.317355</td>\n",
       "      <td>4.293025</td>\n",
       "      <td>4.296571</td>\n",
       "      <td>4.316821</td>\n",
       "      <td>18.589471</td>\n",
       "      <td>4.296290</td>\n",
       "    </tr>\n",
       "    <tr>\n",
       "      <th>2020-01-07</th>\n",
       "      <td>4.320484</td>\n",
       "      <td>4.309053</td>\n",
       "      <td>4.316955</td>\n",
       "      <td>4.312107</td>\n",
       "      <td>18.505683</td>\n",
       "      <td>4.291575</td>\n",
       "    </tr>\n",
       "    <tr>\n",
       "      <th>2020-01-08</th>\n",
       "      <td>4.332180</td>\n",
       "      <td>4.307976</td>\n",
       "      <td>4.307976</td>\n",
       "      <td>4.328065</td>\n",
       "      <td>18.698912</td>\n",
       "      <td>4.307533</td>\n",
       "    </tr>\n",
       "    <tr>\n",
       "      <th>...</th>\n",
       "      <td>...</td>\n",
       "      <td>...</td>\n",
       "      <td>...</td>\n",
       "      <td>...</td>\n",
       "      <td>...</td>\n",
       "      <td>...</td>\n",
       "    </tr>\n",
       "    <tr>\n",
       "      <th>2022-12-07</th>\n",
       "      <td>4.965429</td>\n",
       "      <td>4.941642</td>\n",
       "      <td>4.957164</td>\n",
       "      <td>4.948334</td>\n",
       "      <td>18.060014</td>\n",
       "      <td>4.948334</td>\n",
       "    </tr>\n",
       "    <tr>\n",
       "      <th>2022-12-08</th>\n",
       "      <td>4.966474</td>\n",
       "      <td>4.949469</td>\n",
       "      <td>4.958359</td>\n",
       "      <td>4.960394</td>\n",
       "      <td>17.944712</td>\n",
       "      <td>4.960394</td>\n",
       "    </tr>\n",
       "    <tr>\n",
       "      <th>2022-12-09</th>\n",
       "      <td>4.980657</td>\n",
       "      <td>4.948050</td>\n",
       "      <td>4.958219</td>\n",
       "      <td>4.956953</td>\n",
       "      <td>18.147158</td>\n",
       "      <td>4.956953</td>\n",
       "    </tr>\n",
       "    <tr>\n",
       "      <th>2022-12-12</th>\n",
       "      <td>4.973280</td>\n",
       "      <td>4.949185</td>\n",
       "      <td>4.960745</td>\n",
       "      <td>4.973210</td>\n",
       "      <td>18.069932</td>\n",
       "      <td>4.973210</td>\n",
       "    </tr>\n",
       "    <tr>\n",
       "      <th>2022-12-13</th>\n",
       "      <td>5.010430</td>\n",
       "      <td>4.989820</td>\n",
       "      <td>5.007296</td>\n",
       "      <td>4.995996</td>\n",
       "      <td>17.382855</td>\n",
       "      <td>4.995996</td>\n",
       "    </tr>\n",
       "  </tbody>\n",
       "</table>\n",
       "<p>744 rows × 6 columns</p>\n",
       "</div>"
      ],
      "text/plain": [
       "                High       Low      Open     Close     Volume  Adj Close\n",
       "Date                                                                    \n",
       "2020-01-02  4.319486  4.301325  4.304876  4.318654  18.724338   4.298122\n",
       "2020-01-03  4.319420  4.305753  4.307943  4.308885  18.801326   4.288353\n",
       "2020-01-06  4.317355  4.293025  4.296571  4.316821  18.589471   4.296290\n",
       "2020-01-07  4.320484  4.309053  4.316955  4.312107  18.505683   4.291575\n",
       "2020-01-08  4.332180  4.307976  4.307976  4.328065  18.698912   4.307533\n",
       "...              ...       ...       ...       ...        ...        ...\n",
       "2022-12-07  4.965429  4.941642  4.957164  4.948334  18.060014   4.948334\n",
       "2022-12-08  4.966474  4.949469  4.958359  4.960394  17.944712   4.960394\n",
       "2022-12-09  4.980657  4.948050  4.958219  4.956953  18.147158   4.956953\n",
       "2022-12-12  4.973280  4.949185  4.960745  4.973210  18.069932   4.973210\n",
       "2022-12-13  5.010430  4.989820  5.007296  4.995996  17.382855   4.995996\n",
       "\n",
       "[744 rows x 6 columns]"
      ]
     },
     "execution_count": 39,
     "metadata": {},
     "output_type": "execute_result"
    }
   ],
   "source": [
    "np.log(data)"
   ]
  },
  {
   "cell_type": "code",
   "execution_count": 40,
   "id": "120cb1da-d252-4e70-9a1e-e3ba09ce7834",
   "metadata": {},
   "outputs": [
    {
     "data": {
      "text/html": [
       "<div>\n",
       "<style scoped>\n",
       "    .dataframe tbody tr th:only-of-type {\n",
       "        vertical-align: middle;\n",
       "    }\n",
       "\n",
       "    .dataframe tbody tr th {\n",
       "        vertical-align: top;\n",
       "    }\n",
       "\n",
       "    .dataframe thead th {\n",
       "        text-align: right;\n",
       "    }\n",
       "</style>\n",
       "<table border=\"1\" class=\"dataframe\">\n",
       "  <thead>\n",
       "    <tr style=\"text-align: right;\">\n",
       "      <th></th>\n",
       "      <th>Adj Close</th>\n",
       "      <th>Close</th>\n",
       "      <th>Daily Chng</th>\n",
       "      <th>High</th>\n",
       "      <th>Low</th>\n",
       "      <th>Normalized</th>\n",
       "      <th>Open</th>\n",
       "      <th>Volume</th>\n",
       "    </tr>\n",
       "    <tr>\n",
       "      <th>Date</th>\n",
       "      <th></th>\n",
       "      <th></th>\n",
       "      <th></th>\n",
       "      <th></th>\n",
       "      <th></th>\n",
       "      <th></th>\n",
       "      <th></th>\n",
       "      <th></th>\n",
       "    </tr>\n",
       "  </thead>\n",
       "  <tbody>\n",
       "    <tr>\n",
       "      <th>2014-09-29</th>\n",
       "      <td>NaN</td>\n",
       "      <td>NaN</td>\n",
       "      <td>NaN</td>\n",
       "      <td>NaN</td>\n",
       "      <td>NaN</td>\n",
       "      <td>NaN</td>\n",
       "      <td>NaN</td>\n",
       "      <td>NaN</td>\n",
       "    </tr>\n",
       "    <tr>\n",
       "      <th>2014-10-06</th>\n",
       "      <td>NaN</td>\n",
       "      <td>NaN</td>\n",
       "      <td>NaN</td>\n",
       "      <td>NaN</td>\n",
       "      <td>NaN</td>\n",
       "      <td>NaN</td>\n",
       "      <td>NaN</td>\n",
       "      <td>NaN</td>\n",
       "    </tr>\n",
       "    <tr>\n",
       "      <th>2014-10-13</th>\n",
       "      <td>NaN</td>\n",
       "      <td>NaN</td>\n",
       "      <td>NaN</td>\n",
       "      <td>NaN</td>\n",
       "      <td>NaN</td>\n",
       "      <td>NaN</td>\n",
       "      <td>NaN</td>\n",
       "      <td>NaN</td>\n",
       "    </tr>\n",
       "    <tr>\n",
       "      <th>2014-10-20</th>\n",
       "      <td>NaN</td>\n",
       "      <td>NaN</td>\n",
       "      <td>NaN</td>\n",
       "      <td>NaN</td>\n",
       "      <td>NaN</td>\n",
       "      <td>NaN</td>\n",
       "      <td>NaN</td>\n",
       "      <td>NaN</td>\n",
       "    </tr>\n",
       "    <tr>\n",
       "      <th>2014-10-27</th>\n",
       "      <td>NaN</td>\n",
       "      <td>NaN</td>\n",
       "      <td>NaN</td>\n",
       "      <td>NaN</td>\n",
       "      <td>NaN</td>\n",
       "      <td>NaN</td>\n",
       "      <td>NaN</td>\n",
       "      <td>NaN</td>\n",
       "    </tr>\n",
       "    <tr>\n",
       "      <th>...</th>\n",
       "      <td>...</td>\n",
       "      <td>...</td>\n",
       "      <td>...</td>\n",
       "      <td>...</td>\n",
       "      <td>...</td>\n",
       "      <td>...</td>\n",
       "      <td>...</td>\n",
       "      <td>...</td>\n",
       "    </tr>\n",
       "    <tr>\n",
       "      <th>2022-12-07</th>\n",
       "      <td>NaN</td>\n",
       "      <td>NaN</td>\n",
       "      <td>NaN</td>\n",
       "      <td>NaN</td>\n",
       "      <td>NaN</td>\n",
       "      <td>NaN</td>\n",
       "      <td>NaN</td>\n",
       "      <td>NaN</td>\n",
       "    </tr>\n",
       "    <tr>\n",
       "      <th>2022-12-08</th>\n",
       "      <td>NaN</td>\n",
       "      <td>NaN</td>\n",
       "      <td>NaN</td>\n",
       "      <td>NaN</td>\n",
       "      <td>NaN</td>\n",
       "      <td>NaN</td>\n",
       "      <td>NaN</td>\n",
       "      <td>NaN</td>\n",
       "    </tr>\n",
       "    <tr>\n",
       "      <th>2022-12-09</th>\n",
       "      <td>NaN</td>\n",
       "      <td>NaN</td>\n",
       "      <td>NaN</td>\n",
       "      <td>NaN</td>\n",
       "      <td>NaN</td>\n",
       "      <td>NaN</td>\n",
       "      <td>NaN</td>\n",
       "      <td>NaN</td>\n",
       "    </tr>\n",
       "    <tr>\n",
       "      <th>2022-12-12</th>\n",
       "      <td>NaN</td>\n",
       "      <td>NaN</td>\n",
       "      <td>NaN</td>\n",
       "      <td>NaN</td>\n",
       "      <td>NaN</td>\n",
       "      <td>NaN</td>\n",
       "      <td>NaN</td>\n",
       "      <td>NaN</td>\n",
       "    </tr>\n",
       "    <tr>\n",
       "      <th>2022-12-13</th>\n",
       "      <td>NaN</td>\n",
       "      <td>NaN</td>\n",
       "      <td>NaN</td>\n",
       "      <td>NaN</td>\n",
       "      <td>NaN</td>\n",
       "      <td>NaN</td>\n",
       "      <td>NaN</td>\n",
       "      <td>NaN</td>\n",
       "    </tr>\n",
       "  </tbody>\n",
       "</table>\n",
       "<p>928 rows × 8 columns</p>\n",
       "</div>"
      ],
      "text/plain": [
       "            Adj Close  Close  Daily Chng  High  Low  Normalized  Open  Volume\n",
       "Date                                                                         \n",
       "2014-09-29        NaN    NaN         NaN   NaN  NaN         NaN   NaN     NaN\n",
       "2014-10-06        NaN    NaN         NaN   NaN  NaN         NaN   NaN     NaN\n",
       "2014-10-13        NaN    NaN         NaN   NaN  NaN         NaN   NaN     NaN\n",
       "2014-10-20        NaN    NaN         NaN   NaN  NaN         NaN   NaN     NaN\n",
       "2014-10-27        NaN    NaN         NaN   NaN  NaN         NaN   NaN     NaN\n",
       "...               ...    ...         ...   ...  ...         ...   ...     ...\n",
       "2022-12-07        NaN    NaN         NaN   NaN  NaN         NaN   NaN     NaN\n",
       "2022-12-08        NaN    NaN         NaN   NaN  NaN         NaN   NaN     NaN\n",
       "2022-12-09        NaN    NaN         NaN   NaN  NaN         NaN   NaN     NaN\n",
       "2022-12-12        NaN    NaN         NaN   NaN  NaN         NaN   NaN     NaN\n",
       "2022-12-13        NaN    NaN         NaN   NaN  NaN         NaN   NaN     NaN\n",
       "\n",
       "[928 rows x 8 columns]"
      ]
     },
     "execution_count": 40,
     "metadata": {},
     "output_type": "execute_result"
    }
   ],
   "source": [
    "# dividing previous value with next value\n",
    "apple/data.shift()"
   ]
  },
  {
   "cell_type": "code",
   "execution_count": 41,
   "id": "4247348a-51c2-495c-b3f9-33446d0b77b7",
   "metadata": {},
   "outputs": [
    {
     "data": {
      "text/plain": [
       "High         0.690944\n",
       "Low          0.688495\n",
       "Open         0.702421\n",
       "Close        0.677342\n",
       "Volume      -1.341483\n",
       "Adj Close    0.697874\n",
       "dtype: float64"
      ]
     },
     "execution_count": 41,
     "metadata": {},
     "output_type": "execute_result"
    }
   ],
   "source": [
    "# calculating percentage change\n",
    "np.sum(np.log(data/data.shift()))"
   ]
  },
  {
   "cell_type": "code",
   "execution_count": 16,
   "id": "72c18660-c6ff-45ca-bb24-ba16eaa77b10",
   "metadata": {},
   "outputs": [
    {
     "data": {
      "text/html": [
       "<div>\n",
       "<style scoped>\n",
       "    .dataframe tbody tr th:only-of-type {\n",
       "        vertical-align: middle;\n",
       "    }\n",
       "\n",
       "    .dataframe tbody tr th {\n",
       "        vertical-align: top;\n",
       "    }\n",
       "\n",
       "    .dataframe thead th {\n",
       "        text-align: right;\n",
       "    }\n",
       "</style>\n",
       "<table border=\"1\" class=\"dataframe\">\n",
       "  <thead>\n",
       "    <tr style=\"text-align: right;\">\n",
       "      <th></th>\n",
       "      <th>High</th>\n",
       "      <th>Low</th>\n",
       "      <th>Open</th>\n",
       "      <th>Close</th>\n",
       "      <th>Volume</th>\n",
       "      <th>Adj Close</th>\n",
       "    </tr>\n",
       "    <tr>\n",
       "      <th>Date</th>\n",
       "      <th></th>\n",
       "      <th></th>\n",
       "      <th></th>\n",
       "      <th></th>\n",
       "      <th></th>\n",
       "      <th></th>\n",
       "    </tr>\n",
       "  </thead>\n",
       "  <tbody>\n",
       "    <tr>\n",
       "      <th>2022-12-13</th>\n",
       "      <td>0.690944</td>\n",
       "      <td>0.701177</td>\n",
       "      <td>0.702421</td>\n",
       "      <td>0.688642</td>\n",
       "      <td>-2.254099</td>\n",
       "      <td>0.709174</td>\n",
       "    </tr>\n",
       "  </tbody>\n",
       "</table>\n",
       "</div>"
      ],
      "text/plain": [
       "                High       Low      Open     Close    Volume  Adj Close\n",
       "Date                                                                   \n",
       "2022-12-13  0.690944  0.701177  0.702421  0.688642 -2.254099   0.709174"
      ]
     },
     "execution_count": 16,
     "metadata": {},
     "output_type": "execute_result"
    }
   ],
   "source": [
    "np.log(data/data.iloc[0]).tail(1)"
   ]
  },
  {
   "cell_type": "code",
   "execution_count": null,
   "id": "ab6966f6-71ff-46b4-b9e4-1dd25ca06301",
   "metadata": {},
   "outputs": [],
   "source": [
    "small.shape"
   ]
  },
  {
   "cell_type": "code",
   "execution_count": null,
   "id": "1555aab9-a378-4400-a1ea-61bcf0571baf",
   "metadata": {},
   "outputs": [],
   "source": [
    "small"
   ]
  },
  {
   "cell_type": "code",
   "execution_count": null,
   "id": "40b5bda7-deaa-414e-a485-90aa32b7472f",
   "metadata": {},
   "outputs": [],
   "source": [
    "small.reshape(2,5)"
   ]
  },
  {
   "cell_type": "code",
   "execution_count": 19,
   "id": "4e1c989e-2587-40dd-bf0c-b3a2384879f5",
   "metadata": {},
   "outputs": [
    {
     "data": {
      "text/html": [
       "<div>\n",
       "<style scoped>\n",
       "    .dataframe tbody tr th:only-of-type {\n",
       "        vertical-align: middle;\n",
       "    }\n",
       "\n",
       "    .dataframe tbody tr th {\n",
       "        vertical-align: top;\n",
       "    }\n",
       "\n",
       "    .dataframe thead tr th {\n",
       "        text-align: left;\n",
       "    }\n",
       "\n",
       "    .dataframe thead tr:last-of-type th {\n",
       "        text-align: right;\n",
       "    }\n",
       "</style>\n",
       "<table border=\"1\" class=\"dataframe\">\n",
       "  <thead>\n",
       "    <tr>\n",
       "      <th>Attributes</th>\n",
       "      <th colspan=\"4\" halign=\"left\">Adj Close</th>\n",
       "      <th colspan=\"4\" halign=\"left\">Close</th>\n",
       "      <th colspan=\"2\" halign=\"left\">High</th>\n",
       "      <th>...</th>\n",
       "      <th colspan=\"2\" halign=\"left\">Low</th>\n",
       "      <th colspan=\"4\" halign=\"left\">Open</th>\n",
       "      <th colspan=\"4\" halign=\"left\">Volume</th>\n",
       "    </tr>\n",
       "    <tr>\n",
       "      <th>Symbols</th>\n",
       "      <th>AAPL</th>\n",
       "      <th>MSFT</th>\n",
       "      <th>TSLA</th>\n",
       "      <th>IBM</th>\n",
       "      <th>AAPL</th>\n",
       "      <th>MSFT</th>\n",
       "      <th>TSLA</th>\n",
       "      <th>IBM</th>\n",
       "      <th>AAPL</th>\n",
       "      <th>MSFT</th>\n",
       "      <th>...</th>\n",
       "      <th>TSLA</th>\n",
       "      <th>IBM</th>\n",
       "      <th>AAPL</th>\n",
       "      <th>MSFT</th>\n",
       "      <th>TSLA</th>\n",
       "      <th>IBM</th>\n",
       "      <th>AAPL</th>\n",
       "      <th>MSFT</th>\n",
       "      <th>TSLA</th>\n",
       "      <th>IBM</th>\n",
       "    </tr>\n",
       "    <tr>\n",
       "      <th>Date</th>\n",
       "      <th></th>\n",
       "      <th></th>\n",
       "      <th></th>\n",
       "      <th></th>\n",
       "      <th></th>\n",
       "      <th></th>\n",
       "      <th></th>\n",
       "      <th></th>\n",
       "      <th></th>\n",
       "      <th></th>\n",
       "      <th></th>\n",
       "      <th></th>\n",
       "      <th></th>\n",
       "      <th></th>\n",
       "      <th></th>\n",
       "      <th></th>\n",
       "      <th></th>\n",
       "      <th></th>\n",
       "      <th></th>\n",
       "      <th></th>\n",
       "      <th></th>\n",
       "    </tr>\n",
       "  </thead>\n",
       "  <tbody>\n",
       "    <tr>\n",
       "      <th>2020-01-02</th>\n",
       "      <td>73.561554</td>\n",
       "      <td>156.151947</td>\n",
       "      <td>28.684000</td>\n",
       "      <td>111.586510</td>\n",
       "      <td>75.087502</td>\n",
       "      <td>160.619995</td>\n",
       "      <td>28.684000</td>\n",
       "      <td>129.464630</td>\n",
       "      <td>75.150002</td>\n",
       "      <td>160.729996</td>\n",
       "      <td>...</td>\n",
       "      <td>28.114000</td>\n",
       "      <td>128.843216</td>\n",
       "      <td>74.059998</td>\n",
       "      <td>158.779999</td>\n",
       "      <td>28.299999</td>\n",
       "      <td>129.063095</td>\n",
       "      <td>135480400.0</td>\n",
       "      <td>22622100.0</td>\n",
       "      <td>142981500.0</td>\n",
       "      <td>3293436.0</td>\n",
       "    </tr>\n",
       "    <tr>\n",
       "      <th>2020-01-03</th>\n",
       "      <td>72.846375</td>\n",
       "      <td>154.207581</td>\n",
       "      <td>29.534000</td>\n",
       "      <td>110.696587</td>\n",
       "      <td>74.357498</td>\n",
       "      <td>158.619995</td>\n",
       "      <td>29.534000</td>\n",
       "      <td>128.432129</td>\n",
       "      <td>75.144997</td>\n",
       "      <td>159.949997</td>\n",
       "      <td>...</td>\n",
       "      <td>29.128000</td>\n",
       "      <td>127.686424</td>\n",
       "      <td>74.287498</td>\n",
       "      <td>158.320007</td>\n",
       "      <td>29.366667</td>\n",
       "      <td>127.695984</td>\n",
       "      <td>146322800.0</td>\n",
       "      <td>21116200.0</td>\n",
       "      <td>266677500.0</td>\n",
       "      <td>2482890.0</td>\n",
       "    </tr>\n",
       "    <tr>\n",
       "      <th>2020-01-06</th>\n",
       "      <td>73.426834</td>\n",
       "      <td>154.606155</td>\n",
       "      <td>30.102667</td>\n",
       "      <td>110.498833</td>\n",
       "      <td>74.949997</td>\n",
       "      <td>159.029999</td>\n",
       "      <td>30.102667</td>\n",
       "      <td>128.202682</td>\n",
       "      <td>74.989998</td>\n",
       "      <td>159.100006</td>\n",
       "      <td>...</td>\n",
       "      <td>29.333332</td>\n",
       "      <td>127.342255</td>\n",
       "      <td>73.447502</td>\n",
       "      <td>157.080002</td>\n",
       "      <td>29.364668</td>\n",
       "      <td>127.552582</td>\n",
       "      <td>118387200.0</td>\n",
       "      <td>20813700.0</td>\n",
       "      <td>151995000.0</td>\n",
       "      <td>2537073.0</td>\n",
       "    </tr>\n",
       "    <tr>\n",
       "      <th>2020-01-07</th>\n",
       "      <td>73.081497</td>\n",
       "      <td>153.196533</td>\n",
       "      <td>31.270666</td>\n",
       "      <td>110.572983</td>\n",
       "      <td>74.597504</td>\n",
       "      <td>157.580002</td>\n",
       "      <td>31.270666</td>\n",
       "      <td>128.288712</td>\n",
       "      <td>75.224998</td>\n",
       "      <td>159.669998</td>\n",
       "      <td>...</td>\n",
       "      <td>30.224001</td>\n",
       "      <td>127.533463</td>\n",
       "      <td>74.959999</td>\n",
       "      <td>159.320007</td>\n",
       "      <td>30.760000</td>\n",
       "      <td>127.810707</td>\n",
       "      <td>108872000.0</td>\n",
       "      <td>21634100.0</td>\n",
       "      <td>268231500.0</td>\n",
       "      <td>3232977.0</td>\n",
       "    </tr>\n",
       "    <tr>\n",
       "      <th>2020-01-08</th>\n",
       "      <td>74.257118</td>\n",
       "      <td>155.636703</td>\n",
       "      <td>32.809334</td>\n",
       "      <td>111.495872</td>\n",
       "      <td>75.797501</td>\n",
       "      <td>160.089996</td>\n",
       "      <td>32.809334</td>\n",
       "      <td>129.359467</td>\n",
       "      <td>76.110001</td>\n",
       "      <td>160.800003</td>\n",
       "      <td>...</td>\n",
       "      <td>31.215334</td>\n",
       "      <td>128.030594</td>\n",
       "      <td>74.290001</td>\n",
       "      <td>158.929993</td>\n",
       "      <td>31.580000</td>\n",
       "      <td>128.594650</td>\n",
       "      <td>132079200.0</td>\n",
       "      <td>27746500.0</td>\n",
       "      <td>467164500.0</td>\n",
       "      <td>4545916.0</td>\n",
       "    </tr>\n",
       "  </tbody>\n",
       "</table>\n",
       "<p>5 rows × 24 columns</p>\n",
       "</div>"
      ],
      "text/plain": [
       "Attributes  Adj Close                                         Close  \\\n",
       "Symbols          AAPL        MSFT       TSLA         IBM       AAPL   \n",
       "Date                                                                  \n",
       "2020-01-02  73.561554  156.151947  28.684000  111.586510  75.087502   \n",
       "2020-01-03  72.846375  154.207581  29.534000  110.696587  74.357498   \n",
       "2020-01-06  73.426834  154.606155  30.102667  110.498833  74.949997   \n",
       "2020-01-07  73.081497  153.196533  31.270666  110.572983  74.597504   \n",
       "2020-01-08  74.257118  155.636703  32.809334  111.495872  75.797501   \n",
       "\n",
       "Attributes                                          High              ...  \\\n",
       "Symbols           MSFT       TSLA         IBM       AAPL        MSFT  ...   \n",
       "Date                                                                  ...   \n",
       "2020-01-02  160.619995  28.684000  129.464630  75.150002  160.729996  ...   \n",
       "2020-01-03  158.619995  29.534000  128.432129  75.144997  159.949997  ...   \n",
       "2020-01-06  159.029999  30.102667  128.202682  74.989998  159.100006  ...   \n",
       "2020-01-07  157.580002  31.270666  128.288712  75.224998  159.669998  ...   \n",
       "2020-01-08  160.089996  32.809334  129.359467  76.110001  160.800003  ...   \n",
       "\n",
       "Attributes        Low                   Open                         \\\n",
       "Symbols          TSLA         IBM       AAPL        MSFT       TSLA   \n",
       "Date                                                                  \n",
       "2020-01-02  28.114000  128.843216  74.059998  158.779999  28.299999   \n",
       "2020-01-03  29.128000  127.686424  74.287498  158.320007  29.366667   \n",
       "2020-01-06  29.333332  127.342255  73.447502  157.080002  29.364668   \n",
       "2020-01-07  30.224001  127.533463  74.959999  159.320007  30.760000   \n",
       "2020-01-08  31.215334  128.030594  74.290001  158.929993  31.580000   \n",
       "\n",
       "Attributes                   Volume                                      \n",
       "Symbols            IBM         AAPL        MSFT         TSLA        IBM  \n",
       "Date                                                                     \n",
       "2020-01-02  129.063095  135480400.0  22622100.0  142981500.0  3293436.0  \n",
       "2020-01-03  127.695984  146322800.0  21116200.0  266677500.0  2482890.0  \n",
       "2020-01-06  127.552582  118387200.0  20813700.0  151995000.0  2537073.0  \n",
       "2020-01-07  127.810707  108872000.0  21634100.0  268231500.0  3232977.0  \n",
       "2020-01-08  128.594650  132079200.0  27746500.0  467164500.0  4545916.0  \n",
       "\n",
       "[5 rows x 24 columns]"
      ]
     },
     "execution_count": 19,
     "metadata": {},
     "output_type": "execute_result"
    }
   ],
   "source": [
    "tickers = ['AAPL','MSFT','TSLA','IBM']\n",
    "start = dt.datetime(2020,1,1)\n",
    "data = pdr.get_data_yahoo(tickers,start)\n",
    "data.head()"
   ]
  },
  {
   "cell_type": "code",
   "execution_count": 20,
   "id": "914e793c-c5d0-48ef-8349-738bcc871a61",
   "metadata": {},
   "outputs": [
    {
     "data": {
      "text/html": [
       "<div>\n",
       "<style scoped>\n",
       "    .dataframe tbody tr th:only-of-type {\n",
       "        vertical-align: middle;\n",
       "    }\n",
       "\n",
       "    .dataframe tbody tr th {\n",
       "        vertical-align: top;\n",
       "    }\n",
       "\n",
       "    .dataframe thead th {\n",
       "        text-align: right;\n",
       "    }\n",
       "</style>\n",
       "<table border=\"1\" class=\"dataframe\">\n",
       "  <thead>\n",
       "    <tr style=\"text-align: right;\">\n",
       "      <th>Symbols</th>\n",
       "      <th>AAPL</th>\n",
       "      <th>MSFT</th>\n",
       "      <th>TSLA</th>\n",
       "      <th>IBM</th>\n",
       "    </tr>\n",
       "    <tr>\n",
       "      <th>Date</th>\n",
       "      <th></th>\n",
       "      <th></th>\n",
       "      <th></th>\n",
       "      <th></th>\n",
       "    </tr>\n",
       "  </thead>\n",
       "  <tbody>\n",
       "    <tr>\n",
       "      <th>2020-01-02</th>\n",
       "      <td>73.561554</td>\n",
       "      <td>156.151947</td>\n",
       "      <td>28.684000</td>\n",
       "      <td>111.586510</td>\n",
       "    </tr>\n",
       "    <tr>\n",
       "      <th>2020-01-03</th>\n",
       "      <td>72.846375</td>\n",
       "      <td>154.207581</td>\n",
       "      <td>29.534000</td>\n",
       "      <td>110.696587</td>\n",
       "    </tr>\n",
       "    <tr>\n",
       "      <th>2020-01-06</th>\n",
       "      <td>73.426834</td>\n",
       "      <td>154.606155</td>\n",
       "      <td>30.102667</td>\n",
       "      <td>110.498833</td>\n",
       "    </tr>\n",
       "    <tr>\n",
       "      <th>2020-01-07</th>\n",
       "      <td>73.081497</td>\n",
       "      <td>153.196533</td>\n",
       "      <td>31.270666</td>\n",
       "      <td>110.572983</td>\n",
       "    </tr>\n",
       "    <tr>\n",
       "      <th>2020-01-08</th>\n",
       "      <td>74.257118</td>\n",
       "      <td>155.636703</td>\n",
       "      <td>32.809334</td>\n",
       "      <td>111.495872</td>\n",
       "    </tr>\n",
       "  </tbody>\n",
       "</table>\n",
       "</div>"
      ],
      "text/plain": [
       "Symbols          AAPL        MSFT       TSLA         IBM\n",
       "Date                                                    \n",
       "2020-01-02  73.561554  156.151947  28.684000  111.586510\n",
       "2020-01-03  72.846375  154.207581  29.534000  110.696587\n",
       "2020-01-06  73.426834  154.606155  30.102667  110.498833\n",
       "2020-01-07  73.081497  153.196533  31.270666  110.572983\n",
       "2020-01-08  74.257118  155.636703  32.809334  111.495872"
      ]
     },
     "execution_count": 20,
     "metadata": {},
     "output_type": "execute_result"
    }
   ],
   "source": [
    "data = data['Adj Close']\n",
    "data.head()"
   ]
  },
  {
   "cell_type": "code",
   "execution_count": 21,
   "id": "6f05979e-6aac-4da0-9aae-ab4c91e1800f",
   "metadata": {},
   "outputs": [
    {
     "data": {
      "text/plain": [
       "1.0"
      ]
     },
     "execution_count": 21,
     "metadata": {},
     "output_type": "execute_result"
    }
   ],
   "source": [
    "# suppose I have $100,000, 25% AAPL, 15% MSFT, 40% TSLA, 20% IBM\n",
    "portfolios = [.25,.15,.40,.20]\n",
    "np.sum(portfolios)"
   ]
  },
  {
   "cell_type": "code",
   "execution_count": 22,
   "id": "20a775cf-3703-458b-8f89-271c77fadce9",
   "metadata": {},
   "outputs": [
    {
     "data": {
      "text/html": [
       "<div>\n",
       "<style scoped>\n",
       "    .dataframe tbody tr th:only-of-type {\n",
       "        vertical-align: middle;\n",
       "    }\n",
       "\n",
       "    .dataframe tbody tr th {\n",
       "        vertical-align: top;\n",
       "    }\n",
       "\n",
       "    .dataframe thead th {\n",
       "        text-align: right;\n",
       "    }\n",
       "</style>\n",
       "<table border=\"1\" class=\"dataframe\">\n",
       "  <thead>\n",
       "    <tr style=\"text-align: right;\">\n",
       "      <th>Symbols</th>\n",
       "      <th>AAPL</th>\n",
       "      <th>MSFT</th>\n",
       "      <th>TSLA</th>\n",
       "      <th>IBM</th>\n",
       "    </tr>\n",
       "    <tr>\n",
       "      <th>Date</th>\n",
       "      <th></th>\n",
       "      <th></th>\n",
       "      <th></th>\n",
       "      <th></th>\n",
       "    </tr>\n",
       "  </thead>\n",
       "  <tbody>\n",
       "    <tr>\n",
       "      <th>2020-01-02</th>\n",
       "      <td>1.000000</td>\n",
       "      <td>1.000000</td>\n",
       "      <td>1.000000</td>\n",
       "      <td>1.000000</td>\n",
       "    </tr>\n",
       "    <tr>\n",
       "      <th>2020-01-03</th>\n",
       "      <td>0.990278</td>\n",
       "      <td>0.987548</td>\n",
       "      <td>1.029633</td>\n",
       "      <td>0.992025</td>\n",
       "    </tr>\n",
       "    <tr>\n",
       "      <th>2020-01-06</th>\n",
       "      <td>0.998169</td>\n",
       "      <td>0.990101</td>\n",
       "      <td>1.049458</td>\n",
       "      <td>0.990253</td>\n",
       "    </tr>\n",
       "    <tr>\n",
       "      <th>2020-01-07</th>\n",
       "      <td>0.993474</td>\n",
       "      <td>0.981073</td>\n",
       "      <td>1.090178</td>\n",
       "      <td>0.990917</td>\n",
       "    </tr>\n",
       "    <tr>\n",
       "      <th>2020-01-08</th>\n",
       "      <td>1.009456</td>\n",
       "      <td>0.996700</td>\n",
       "      <td>1.143820</td>\n",
       "      <td>0.999188</td>\n",
       "    </tr>\n",
       "    <tr>\n",
       "      <th>...</th>\n",
       "      <td>...</td>\n",
       "      <td>...</td>\n",
       "      <td>...</td>\n",
       "      <td>...</td>\n",
       "    </tr>\n",
       "    <tr>\n",
       "      <th>2022-12-07</th>\n",
       "      <td>1.915947</td>\n",
       "      <td>1.564950</td>\n",
       "      <td>6.067494</td>\n",
       "      <td>1.319783</td>\n",
       "    </tr>\n",
       "    <tr>\n",
       "      <th>2022-12-08</th>\n",
       "      <td>1.939192</td>\n",
       "      <td>1.584354</td>\n",
       "      <td>6.046577</td>\n",
       "      <td>1.324354</td>\n",
       "    </tr>\n",
       "    <tr>\n",
       "      <th>2022-12-09</th>\n",
       "      <td>1.932531</td>\n",
       "      <td>1.571674</td>\n",
       "      <td>6.242156</td>\n",
       "      <td>1.317812</td>\n",
       "    </tr>\n",
       "    <tr>\n",
       "      <th>2022-12-12</th>\n",
       "      <td>1.964205</td>\n",
       "      <td>1.617079</td>\n",
       "      <td>5.850649</td>\n",
       "      <td>1.337169</td>\n",
       "    </tr>\n",
       "    <tr>\n",
       "      <th>2022-12-13</th>\n",
       "      <td>2.019397</td>\n",
       "      <td>1.672089</td>\n",
       "      <td>5.816832</td>\n",
       "      <td>1.362889</td>\n",
       "    </tr>\n",
       "  </tbody>\n",
       "</table>\n",
       "<p>744 rows × 4 columns</p>\n",
       "</div>"
      ],
      "text/plain": [
       "Symbols         AAPL      MSFT      TSLA       IBM\n",
       "Date                                              \n",
       "2020-01-02  1.000000  1.000000  1.000000  1.000000\n",
       "2020-01-03  0.990278  0.987548  1.029633  0.992025\n",
       "2020-01-06  0.998169  0.990101  1.049458  0.990253\n",
       "2020-01-07  0.993474  0.981073  1.090178  0.990917\n",
       "2020-01-08  1.009456  0.996700  1.143820  0.999188\n",
       "...              ...       ...       ...       ...\n",
       "2022-12-07  1.915947  1.564950  6.067494  1.319783\n",
       "2022-12-08  1.939192  1.584354  6.046577  1.324354\n",
       "2022-12-09  1.932531  1.571674  6.242156  1.317812\n",
       "2022-12-12  1.964205  1.617079  5.850649  1.337169\n",
       "2022-12-13  2.019397  1.672089  5.816832  1.362889\n",
       "\n",
       "[744 rows x 4 columns]"
      ]
     },
     "execution_count": 22,
     "metadata": {},
     "output_type": "execute_result"
    }
   ],
   "source": [
    "# normalize dat\n",
    "data/data.iloc[0]"
   ]
  },
  {
   "cell_type": "code",
   "execution_count": 25,
   "id": "9bf40559-eb2e-4c41-a5b9-39291d445156",
   "metadata": {},
   "outputs": [
    {
     "data": {
      "text/html": [
       "<div>\n",
       "<style scoped>\n",
       "    .dataframe tbody tr th:only-of-type {\n",
       "        vertical-align: middle;\n",
       "    }\n",
       "\n",
       "    .dataframe tbody tr th {\n",
       "        vertical-align: top;\n",
       "    }\n",
       "\n",
       "    .dataframe thead th {\n",
       "        text-align: right;\n",
       "    }\n",
       "</style>\n",
       "<table border=\"1\" class=\"dataframe\">\n",
       "  <thead>\n",
       "    <tr style=\"text-align: right;\">\n",
       "      <th>Symbols</th>\n",
       "      <th>AAPL</th>\n",
       "      <th>MSFT</th>\n",
       "      <th>TSLA</th>\n",
       "      <th>IBM</th>\n",
       "    </tr>\n",
       "    <tr>\n",
       "      <th>Date</th>\n",
       "      <th></th>\n",
       "      <th></th>\n",
       "      <th></th>\n",
       "      <th></th>\n",
       "    </tr>\n",
       "  </thead>\n",
       "  <tbody>\n",
       "    <tr>\n",
       "      <th>2020-01-02</th>\n",
       "      <td>25000.000000</td>\n",
       "      <td>15000.000000</td>\n",
       "      <td>40000.000000</td>\n",
       "      <td>20000.000000</td>\n",
       "    </tr>\n",
       "    <tr>\n",
       "      <th>2020-01-03</th>\n",
       "      <td>24756.945237</td>\n",
       "      <td>14813.223611</td>\n",
       "      <td>41185.330332</td>\n",
       "      <td>19840.496293</td>\n",
       "    </tr>\n",
       "    <tr>\n",
       "      <th>2020-01-06</th>\n",
       "      <td>24954.215266</td>\n",
       "      <td>14851.510821</td>\n",
       "      <td>41978.338919</td>\n",
       "      <td>19805.052241</td>\n",
       "    </tr>\n",
       "    <tr>\n",
       "      <th>2020-01-07</th>\n",
       "      <td>24836.852018</td>\n",
       "      <td>14716.102116</td>\n",
       "      <td>43607.120493</td>\n",
       "      <td>19818.342393</td>\n",
       "    </tr>\n",
       "    <tr>\n",
       "      <th>2020-01-08</th>\n",
       "      <td>25236.388518</td>\n",
       "      <td>14950.505561</td>\n",
       "      <td>45752.801260</td>\n",
       "      <td>19983.754809</td>\n",
       "    </tr>\n",
       "    <tr>\n",
       "      <th>...</th>\n",
       "      <td>...</td>\n",
       "      <td>...</td>\n",
       "      <td>...</td>\n",
       "      <td>...</td>\n",
       "    </tr>\n",
       "    <tr>\n",
       "      <th>2022-12-07</th>\n",
       "      <td>47898.662706</td>\n",
       "      <td>23474.250540</td>\n",
       "      <td>242699.753442</td>\n",
       "      <td>26395.664613</td>\n",
       "    </tr>\n",
       "    <tr>\n",
       "      <th>2022-12-08</th>\n",
       "      <td>48479.805764</td>\n",
       "      <td>23765.313076</td>\n",
       "      <td>241863.062821</td>\n",
       "      <td>26487.072527</td>\n",
       "    </tr>\n",
       "    <tr>\n",
       "      <th>2022-12-09</th>\n",
       "      <td>48313.281877</td>\n",
       "      <td>23575.114129</td>\n",
       "      <td>249686.240352</td>\n",
       "      <td>26356.233104</td>\n",
       "    </tr>\n",
       "    <tr>\n",
       "      <th>2022-12-12</th>\n",
       "      <td>49105.136353</td>\n",
       "      <td>24256.181174</td>\n",
       "      <td>234025.947894</td>\n",
       "      <td>26743.377333</td>\n",
       "    </tr>\n",
       "    <tr>\n",
       "      <th>2022-12-13</th>\n",
       "      <td>50484.932368</td>\n",
       "      <td>25081.340107</td>\n",
       "      <td>232673.275714</td>\n",
       "      <td>27257.775556</td>\n",
       "    </tr>\n",
       "  </tbody>\n",
       "</table>\n",
       "<p>744 rows × 4 columns</p>\n",
       "</div>"
      ],
      "text/plain": [
       "Symbols             AAPL          MSFT           TSLA           IBM\n",
       "Date                                                               \n",
       "2020-01-02  25000.000000  15000.000000   40000.000000  20000.000000\n",
       "2020-01-03  24756.945237  14813.223611   41185.330332  19840.496293\n",
       "2020-01-06  24954.215266  14851.510821   41978.338919  19805.052241\n",
       "2020-01-07  24836.852018  14716.102116   43607.120493  19818.342393\n",
       "2020-01-08  25236.388518  14950.505561   45752.801260  19983.754809\n",
       "...                  ...           ...            ...           ...\n",
       "2022-12-07  47898.662706  23474.250540  242699.753442  26395.664613\n",
       "2022-12-08  48479.805764  23765.313076  241863.062821  26487.072527\n",
       "2022-12-09  48313.281877  23575.114129  249686.240352  26356.233104\n",
       "2022-12-12  49105.136353  24256.181174  234025.947894  26743.377333\n",
       "2022-12-13  50484.932368  25081.340107  232673.275714  27257.775556\n",
       "\n",
       "[744 rows x 4 columns]"
      ]
     },
     "execution_count": 25,
     "metadata": {},
     "output_type": "execute_result"
    }
   ],
   "source": [
    "(data/data.iloc[0])*portfolios*100000"
   ]
  },
  {
   "cell_type": "code",
   "execution_count": 26,
   "id": "23d9e989-7aa4-4df8-b2c3-5e46cae8ba4e",
   "metadata": {},
   "outputs": [
    {
     "data": {
      "text/plain": [
       "array([0.55437341, 0.27213854, 0.10600065, 0.0674874 ])"
      ]
     },
     "execution_count": 26,
     "metadata": {},
     "output_type": "execute_result"
    }
   ],
   "source": [
    "# working with monte carlo simulation\n",
    "weight = np.random.random(4)\n",
    "weight/=weight.sum()\n",
    "weight"
   ]
  },
  {
   "cell_type": "code",
   "execution_count": 27,
   "id": "8d4df771-77c7-4f6d-8735-fa9ff66d4875",
   "metadata": {},
   "outputs": [
    {
     "data": {
      "text/plain": [
       "1.0"
      ]
     },
     "execution_count": 27,
     "metadata": {},
     "output_type": "execute_result"
    }
   ],
   "source": [
    "weight.sum()"
   ]
  },
  {
   "cell_type": "code",
   "execution_count": null,
   "id": "7c898910-dc23-490b-8f95-f9b8f12fd0f0",
   "metadata": {},
   "outputs": [],
   "source": [
    "# Volatility: relation to price movement = thought as a risk\n",
    "# called ATR: avg true range\n",
    "# calculate true range, TR = [H-L,|H-Cp|,|L-Cp|]\n",
    "# n: time period, H, L, Cp\n",
    "# financail markets should have price movement to make money, the degree of speed of change in prices in either direction is called volatility\n",
    "# if volatility increases the potential to make money in short time, short time also increases\n",
    "# if volatility increases means the higher risk involved"
   ]
  },
  {
   "cell_type": "code",
   "execution_count": 35,
   "id": "dc8377f3-aabf-4b1c-b308-054fb70a1447",
   "metadata": {},
   "outputs": [
    {
     "data": {
      "text/html": [
       "<div>\n",
       "<style scoped>\n",
       "    .dataframe tbody tr th:only-of-type {\n",
       "        vertical-align: middle;\n",
       "    }\n",
       "\n",
       "    .dataframe tbody tr th {\n",
       "        vertical-align: top;\n",
       "    }\n",
       "\n",
       "    .dataframe thead th {\n",
       "        text-align: right;\n",
       "    }\n",
       "</style>\n",
       "<table border=\"1\" class=\"dataframe\">\n",
       "  <thead>\n",
       "    <tr style=\"text-align: right;\">\n",
       "      <th></th>\n",
       "      <th>High</th>\n",
       "      <th>Low</th>\n",
       "      <th>Open</th>\n",
       "      <th>Close</th>\n",
       "      <th>Volume</th>\n",
       "      <th>Adj Close</th>\n",
       "    </tr>\n",
       "    <tr>\n",
       "      <th>Date</th>\n",
       "      <th></th>\n",
       "      <th></th>\n",
       "      <th></th>\n",
       "      <th></th>\n",
       "      <th></th>\n",
       "      <th></th>\n",
       "    </tr>\n",
       "  </thead>\n",
       "  <tbody>\n",
       "    <tr>\n",
       "      <th>2020-01-02</th>\n",
       "      <td>329.980011</td>\n",
       "      <td>324.779999</td>\n",
       "      <td>326.100006</td>\n",
       "      <td>329.809998</td>\n",
       "      <td>4485800</td>\n",
       "      <td>329.809998</td>\n",
       "    </tr>\n",
       "    <tr>\n",
       "      <th>2020-01-03</th>\n",
       "      <td>329.859985</td>\n",
       "      <td>325.529999</td>\n",
       "      <td>326.779999</td>\n",
       "      <td>325.899994</td>\n",
       "      <td>3806900</td>\n",
       "      <td>325.899994</td>\n",
       "    </tr>\n",
       "    <tr>\n",
       "      <th>2020-01-06</th>\n",
       "      <td>336.359985</td>\n",
       "      <td>321.200012</td>\n",
       "      <td>323.119995</td>\n",
       "      <td>335.829987</td>\n",
       "      <td>5663100</td>\n",
       "      <td>335.829987</td>\n",
       "    </tr>\n",
       "    <tr>\n",
       "      <th>2020-01-07</th>\n",
       "      <td>336.700012</td>\n",
       "      <td>330.299988</td>\n",
       "      <td>336.470001</td>\n",
       "      <td>330.750000</td>\n",
       "      <td>4703200</td>\n",
       "      <td>330.750000</td>\n",
       "    </tr>\n",
       "    <tr>\n",
       "      <th>2020-01-08</th>\n",
       "      <td>342.700012</td>\n",
       "      <td>331.049988</td>\n",
       "      <td>331.489990</td>\n",
       "      <td>339.260010</td>\n",
       "      <td>7104500</td>\n",
       "      <td>339.260010</td>\n",
       "    </tr>\n",
       "  </tbody>\n",
       "</table>\n",
       "</div>"
      ],
      "text/plain": [
       "                  High         Low        Open       Close   Volume  \\\n",
       "Date                                                                  \n",
       "2020-01-02  329.980011  324.779999  326.100006  329.809998  4485800   \n",
       "2020-01-03  329.859985  325.529999  326.779999  325.899994  3806900   \n",
       "2020-01-06  336.359985  321.200012  323.119995  335.829987  5663100   \n",
       "2020-01-07  336.700012  330.299988  336.470001  330.750000  4703200   \n",
       "2020-01-08  342.700012  331.049988  331.489990  339.260010  7104500   \n",
       "\n",
       "             Adj Close  \n",
       "Date                    \n",
       "2020-01-02  329.809998  \n",
       "2020-01-03  325.899994  \n",
       "2020-01-06  335.829987  \n",
       "2020-01-07  330.750000  \n",
       "2020-01-08  339.260010  "
      ]
     },
     "execution_count": 35,
     "metadata": {},
     "output_type": "execute_result"
    }
   ],
   "source": [
    "start = dt.datetime(2020,1,1)\n",
    "data = pdr.get_data_yahoo('NFLX', start)\n",
    "data.head()"
   ]
  },
  {
   "cell_type": "code",
   "execution_count": 37,
   "id": "f59ecbc3-38a2-4e28-9078-7acc926f7a44",
   "metadata": {},
   "outputs": [
    {
     "data": {
      "text/plain": [
       "Date\n",
       "2020-01-02     5.200012\n",
       "2020-01-03     4.329987\n",
       "2020-01-06    15.159973\n",
       "2020-01-07     6.400024\n",
       "2020-01-08    11.650024\n",
       "                ...    \n",
       "2022-12-07     7.509979\n",
       "2022-12-08     7.570007\n",
       "2022-12-09     9.480011\n",
       "2022-12-12    14.329987\n",
       "2022-12-13     7.090912\n",
       "Length: 744, dtype: float64"
      ]
     },
     "execution_count": 37,
     "metadata": {},
     "output_type": "execute_result"
    }
   ],
   "source": [
    "# calculating TR\n",
    "hl = data['High']-data['Low']\n",
    "hl"
   ]
  },
  {
   "cell_type": "code",
   "execution_count": 38,
   "id": "00999c98-e1fd-4ef9-8a13-5a6965769e9b",
   "metadata": {},
   "outputs": [
    {
     "data": {
      "text/plain": [
       "Date\n",
       "2020-01-02          NaN\n",
       "2020-01-03     0.049988\n",
       "2020-01-06    10.459991\n",
       "2020-01-07     0.870026\n",
       "2020-01-08    11.950012\n",
       "                ...    \n",
       "2022-12-07     4.049988\n",
       "2022-12-08     3.959991\n",
       "2022-12-09    18.739990\n",
       "2022-12-12     3.169983\n",
       "2022-12-13    17.543610\n",
       "Length: 744, dtype: float64"
      ]
     },
     "execution_count": 38,
     "metadata": {},
     "output_type": "execute_result"
    }
   ],
   "source": [
    "h_cp = np.abs(data['High']-data['Close'].shift())\n",
    "h_cp"
   ]
  },
  {
   "cell_type": "code",
   "execution_count": 39,
   "id": "0f422aae-702c-4151-8299-01fd8aea362c",
   "metadata": {},
   "outputs": [
    {
     "data": {
      "text/plain": [
       "Date\n",
       "2020-01-02          NaN\n",
       "2020-01-03     4.279999\n",
       "2020-01-06     4.699982\n",
       "2020-01-07     5.529999\n",
       "2020-01-08     0.299988\n",
       "                ...    \n",
       "2022-12-07     3.459991\n",
       "2022-12-08     3.610016\n",
       "2022-12-09     9.259979\n",
       "2022-12-12    11.160004\n",
       "2022-12-13    10.452698\n",
       "Length: 744, dtype: float64"
      ]
     },
     "execution_count": 39,
     "metadata": {},
     "output_type": "execute_result"
    }
   ],
   "source": [
    "l_cp = np.abs(data['Low']-data['Close'].shift())\n",
    "l_cp"
   ]
  },
  {
   "cell_type": "code",
   "execution_count": 43,
   "id": "dddf8cdb-3b29-4534-ba62-b7fba9b72650",
   "metadata": {},
   "outputs": [
    {
     "data": {
      "text/html": [
       "<div>\n",
       "<style scoped>\n",
       "    .dataframe tbody tr th:only-of-type {\n",
       "        vertical-align: middle;\n",
       "    }\n",
       "\n",
       "    .dataframe tbody tr th {\n",
       "        vertical-align: top;\n",
       "    }\n",
       "\n",
       "    .dataframe thead th {\n",
       "        text-align: right;\n",
       "    }\n",
       "</style>\n",
       "<table border=\"1\" class=\"dataframe\">\n",
       "  <thead>\n",
       "    <tr style=\"text-align: right;\">\n",
       "      <th></th>\n",
       "      <th>0</th>\n",
       "      <th>1</th>\n",
       "      <th>2</th>\n",
       "    </tr>\n",
       "    <tr>\n",
       "      <th>Date</th>\n",
       "      <th></th>\n",
       "      <th></th>\n",
       "      <th></th>\n",
       "    </tr>\n",
       "  </thead>\n",
       "  <tbody>\n",
       "    <tr>\n",
       "      <th>2020-01-02</th>\n",
       "      <td>5.200012</td>\n",
       "      <td>NaN</td>\n",
       "      <td>NaN</td>\n",
       "    </tr>\n",
       "    <tr>\n",
       "      <th>2020-01-03</th>\n",
       "      <td>4.329987</td>\n",
       "      <td>0.049988</td>\n",
       "      <td>4.279999</td>\n",
       "    </tr>\n",
       "    <tr>\n",
       "      <th>2020-01-06</th>\n",
       "      <td>15.159973</td>\n",
       "      <td>10.459991</td>\n",
       "      <td>4.699982</td>\n",
       "    </tr>\n",
       "    <tr>\n",
       "      <th>2020-01-07</th>\n",
       "      <td>6.400024</td>\n",
       "      <td>0.870026</td>\n",
       "      <td>5.529999</td>\n",
       "    </tr>\n",
       "    <tr>\n",
       "      <th>2020-01-08</th>\n",
       "      <td>11.650024</td>\n",
       "      <td>11.950012</td>\n",
       "      <td>0.299988</td>\n",
       "    </tr>\n",
       "  </tbody>\n",
       "</table>\n",
       "</div>"
      ],
      "text/plain": [
       "                    0          1         2\n",
       "Date                                      \n",
       "2020-01-02   5.200012        NaN       NaN\n",
       "2020-01-03   4.329987   0.049988  4.279999\n",
       "2020-01-06  15.159973  10.459991  4.699982\n",
       "2020-01-07   6.400024   0.870026  5.529999\n",
       "2020-01-08  11.650024  11.950012  0.299988"
      ]
     },
     "execution_count": 43,
     "metadata": {},
     "output_type": "execute_result"
    }
   ],
   "source": [
    "df = pd.concat([hl,h_cp,l_cp],axis=1)\n",
    "df.head()"
   ]
  },
  {
   "cell_type": "code",
   "execution_count": 44,
   "id": "24fb0289-4bda-4c69-a626-3b97b39b4384",
   "metadata": {},
   "outputs": [
    {
     "data": {
      "text/plain": [
       "Date\n",
       "2020-01-02     5.200012\n",
       "2020-01-03     4.329987\n",
       "2020-01-06    15.159973\n",
       "2020-01-07     6.400024\n",
       "2020-01-08    11.950012\n",
       "                ...    \n",
       "2022-12-07     7.509979\n",
       "2022-12-08     7.570007\n",
       "2022-12-09    18.739990\n",
       "2022-12-12    14.329987\n",
       "2022-12-13    17.543610\n",
       "Length: 744, dtype: float64"
      ]
     },
     "execution_count": 44,
     "metadata": {},
     "output_type": "execute_result"
    }
   ],
   "source": [
    "# true range\n",
    "tr = np.max(df,axis=1)\n",
    "tr"
   ]
  },
  {
   "cell_type": "code",
   "execution_count": 45,
   "id": "c0b9fb37-6601-4ed9-81cc-336550295d67",
   "metadata": {},
   "outputs": [
    {
     "data": {
      "text/plain": [
       "Date\n",
       "2020-01-02          NaN\n",
       "2020-01-03          NaN\n",
       "2020-01-06          NaN\n",
       "2020-01-07          NaN\n",
       "2020-01-08          NaN\n",
       "                ...    \n",
       "2022-12-07    11.643563\n",
       "2022-12-08    11.111422\n",
       "2022-12-09    11.664278\n",
       "2022-12-12    12.029992\n",
       "2022-12-13    12.594535\n",
       "Length: 744, dtype: float64"
      ]
     },
     "execution_count": 45,
     "metadata": {},
     "output_type": "execute_result"
    }
   ],
   "source": [
    "avg_tr = tr.rolling(14).mean()\n",
    "avg_tr"
   ]
  },
  {
   "cell_type": "code",
   "execution_count": 46,
   "id": "21143df5-c430-4f1b-8c2f-efc2287329e4",
   "metadata": {},
   "outputs": [
    {
     "data": {
      "text/plain": [
       "Date\n",
       "2020-01-02          NaN\n",
       "2020-01-03          NaN\n",
       "2020-01-06          NaN\n",
       "2020-01-07          NaN\n",
       "2020-01-08          NaN\n",
       "                ...    \n",
       "2022-12-07    11.643563\n",
       "2022-12-08    11.111422\n",
       "2022-12-09    11.664278\n",
       "2022-12-12    12.029992\n",
       "2022-12-13    12.594535\n",
       "Length: 744, dtype: float64"
      ]
     },
     "execution_count": 46,
     "metadata": {},
     "output_type": "execute_result"
    }
   ],
   "source": [
    "# another approach\n",
    "tr.rolling(14).sum()/14"
   ]
  },
  {
   "cell_type": "code",
   "execution_count": 47,
   "id": "618e689e-fd01-4f1a-8ac4-9116a43d3a25",
   "metadata": {},
   "outputs": [
    {
     "data": {
      "text/plain": [
       "<AxesSubplot:xlabel='Date'>"
      ]
     },
     "execution_count": 47,
     "metadata": {},
     "output_type": "execute_result"
    },
    {
     "data": {
      "image/png": "[encoded data removed]",
      "text/plain": [
       "<Figure size 640x480 with 1 Axes>"
      ]
     },
     "metadata": {},
     "output_type": "display_data"
    }
   ],
   "source": [
    "fig,ax = plt.subplots()\n",
    "avg_tr.plot(ax=ax)"
   ]
  },
  {
   "cell_type": "code",
   "execution_count": 49,
   "id": "01abbbca-e655-476e-aced-89f72acfe8b9",
   "metadata": {},
   "outputs": [
    {
     "data": {
      "text/plain": [
       "Text(0, 0.5, 'Price')"
      ]
     },
     "execution_count": 49,
     "metadata": {},
     "output_type": "execute_result"
    },
    {
     "data": {
      "image/png": "[encoded data removed]",
      "text/plain": [
       "<Figure size 640x480 with 2 Axes>"
      ]
     },
     "metadata": {},
     "output_type": "display_data"
    }
   ],
   "source": [
    "# plot close, set secondary_y = True, ATR and Price\n",
    "fig,ax = plt.subplots()\n",
    "avg_tr.plot(ax=ax)\n",
    "ax2 = data['Close'].plot(ax=ax,secondary_y=True,alpha=.3)\n",
    "ax.set_ylabel('ATR')\n",
    "ax2.set_ylabel('Price')"
   ]
  },
  {
   "cell_type": "code",
   "execution_count": null,
   "id": "9298bfbe-eef3-4c2c-92d5-6bbb222518f5",
   "metadata": {},
   "outputs": [],
   "source": [
    "# sharp ratio: rep both risk and return, brings understanding to the return of the investment compared to its risk\n",
    "# SR = Rp (return from portfolio) - Rf(risk free return)/std of portfolio (or the risk)\n",
    "# used to eval the risk-adj performance of mutual fund, demonstrates the return on holding a risky asset"
   ]
  },
  {
   "cell_type": "code",
   "execution_count": 43,
   "id": "530394db-b1a6-491f-b81d-f16d2b464079",
   "metadata": {},
   "outputs": [
    {
     "data": {
      "text/html": [
       "<div>\n",
       "<style scoped>\n",
       "    .dataframe tbody tr th:only-of-type {\n",
       "        vertical-align: middle;\n",
       "    }\n",
       "\n",
       "    .dataframe tbody tr th {\n",
       "        vertical-align: top;\n",
       "    }\n",
       "\n",
       "    .dataframe thead tr th {\n",
       "        text-align: left;\n",
       "    }\n",
       "\n",
       "    .dataframe thead tr:last-of-type th {\n",
       "        text-align: right;\n",
       "    }\n",
       "</style>\n",
       "<table border=\"1\" class=\"dataframe\">\n",
       "  <thead>\n",
       "    <tr>\n",
       "      <th>Attributes</th>\n",
       "      <th colspan=\"4\" halign=\"left\">Adj Close</th>\n",
       "      <th colspan=\"4\" halign=\"left\">Close</th>\n",
       "      <th colspan=\"2\" halign=\"left\">High</th>\n",
       "      <th>...</th>\n",
       "      <th colspan=\"2\" halign=\"left\">Low</th>\n",
       "      <th colspan=\"4\" halign=\"left\">Open</th>\n",
       "      <th colspan=\"4\" halign=\"left\">Volume</th>\n",
       "    </tr>\n",
       "    <tr>\n",
       "      <th>Symbols</th>\n",
       "      <th>AAPL</th>\n",
       "      <th>MSFT</th>\n",
       "      <th>NFLX</th>\n",
       "      <th>IBM</th>\n",
       "      <th>AAPL</th>\n",
       "      <th>MSFT</th>\n",
       "      <th>NFLX</th>\n",
       "      <th>IBM</th>\n",
       "      <th>AAPL</th>\n",
       "      <th>MSFT</th>\n",
       "      <th>...</th>\n",
       "      <th>NFLX</th>\n",
       "      <th>IBM</th>\n",
       "      <th>AAPL</th>\n",
       "      <th>MSFT</th>\n",
       "      <th>NFLX</th>\n",
       "      <th>IBM</th>\n",
       "      <th>AAPL</th>\n",
       "      <th>MSFT</th>\n",
       "      <th>NFLX</th>\n",
       "      <th>IBM</th>\n",
       "    </tr>\n",
       "    <tr>\n",
       "      <th>Date</th>\n",
       "      <th></th>\n",
       "      <th></th>\n",
       "      <th></th>\n",
       "      <th></th>\n",
       "      <th></th>\n",
       "      <th></th>\n",
       "      <th></th>\n",
       "      <th></th>\n",
       "      <th></th>\n",
       "      <th></th>\n",
       "      <th></th>\n",
       "      <th></th>\n",
       "      <th></th>\n",
       "      <th></th>\n",
       "      <th></th>\n",
       "      <th></th>\n",
       "      <th></th>\n",
       "      <th></th>\n",
       "      <th></th>\n",
       "      <th></th>\n",
       "      <th></th>\n",
       "    </tr>\n",
       "  </thead>\n",
       "  <tbody>\n",
       "    <tr>\n",
       "      <th>2020-01-02</th>\n",
       "      <td>73.561531</td>\n",
       "      <td>156.151947</td>\n",
       "      <td>329.809998</td>\n",
       "      <td>111.586510</td>\n",
       "      <td>75.087502</td>\n",
       "      <td>160.619995</td>\n",
       "      <td>329.809998</td>\n",
       "      <td>129.464630</td>\n",
       "      <td>75.150002</td>\n",
       "      <td>160.729996</td>\n",
       "      <td>...</td>\n",
       "      <td>324.779999</td>\n",
       "      <td>128.843216</td>\n",
       "      <td>74.059998</td>\n",
       "      <td>158.779999</td>\n",
       "      <td>326.100006</td>\n",
       "      <td>129.063095</td>\n",
       "      <td>135480400.0</td>\n",
       "      <td>22622100.0</td>\n",
       "      <td>4485800.0</td>\n",
       "      <td>3293436.0</td>\n",
       "    </tr>\n",
       "    <tr>\n",
       "      <th>2020-01-03</th>\n",
       "      <td>72.846352</td>\n",
       "      <td>154.207581</td>\n",
       "      <td>325.899994</td>\n",
       "      <td>110.696594</td>\n",
       "      <td>74.357498</td>\n",
       "      <td>158.619995</td>\n",
       "      <td>325.899994</td>\n",
       "      <td>128.432129</td>\n",
       "      <td>75.144997</td>\n",
       "      <td>159.949997</td>\n",
       "      <td>...</td>\n",
       "      <td>325.529999</td>\n",
       "      <td>127.686424</td>\n",
       "      <td>74.287498</td>\n",
       "      <td>158.320007</td>\n",
       "      <td>326.779999</td>\n",
       "      <td>127.695984</td>\n",
       "      <td>146322800.0</td>\n",
       "      <td>21116200.0</td>\n",
       "      <td>3806900.0</td>\n",
       "      <td>2482890.0</td>\n",
       "    </tr>\n",
       "    <tr>\n",
       "      <th>2020-01-06</th>\n",
       "      <td>73.426834</td>\n",
       "      <td>154.606171</td>\n",
       "      <td>335.829987</td>\n",
       "      <td>110.498833</td>\n",
       "      <td>74.949997</td>\n",
       "      <td>159.029999</td>\n",
       "      <td>335.829987</td>\n",
       "      <td>128.202682</td>\n",
       "      <td>74.989998</td>\n",
       "      <td>159.100006</td>\n",
       "      <td>...</td>\n",
       "      <td>321.200012</td>\n",
       "      <td>127.342255</td>\n",
       "      <td>73.447502</td>\n",
       "      <td>157.080002</td>\n",
       "      <td>323.119995</td>\n",
       "      <td>127.552582</td>\n",
       "      <td>118387200.0</td>\n",
       "      <td>20813700.0</td>\n",
       "      <td>5663100.0</td>\n",
       "      <td>2537073.0</td>\n",
       "    </tr>\n",
       "    <tr>\n",
       "      <th>2020-01-07</th>\n",
       "      <td>73.081497</td>\n",
       "      <td>153.196518</td>\n",
       "      <td>330.750000</td>\n",
       "      <td>110.572968</td>\n",
       "      <td>74.597504</td>\n",
       "      <td>157.580002</td>\n",
       "      <td>330.750000</td>\n",
       "      <td>128.288712</td>\n",
       "      <td>75.224998</td>\n",
       "      <td>159.669998</td>\n",
       "      <td>...</td>\n",
       "      <td>330.299988</td>\n",
       "      <td>127.533463</td>\n",
       "      <td>74.959999</td>\n",
       "      <td>159.320007</td>\n",
       "      <td>336.470001</td>\n",
       "      <td>127.810707</td>\n",
       "      <td>108872000.0</td>\n",
       "      <td>21634100.0</td>\n",
       "      <td>4703200.0</td>\n",
       "      <td>3232977.0</td>\n",
       "    </tr>\n",
       "    <tr>\n",
       "      <th>2020-01-08</th>\n",
       "      <td>74.257111</td>\n",
       "      <td>155.636673</td>\n",
       "      <td>339.260010</td>\n",
       "      <td>111.495865</td>\n",
       "      <td>75.797501</td>\n",
       "      <td>160.089996</td>\n",
       "      <td>339.260010</td>\n",
       "      <td>129.359467</td>\n",
       "      <td>76.110001</td>\n",
       "      <td>160.800003</td>\n",
       "      <td>...</td>\n",
       "      <td>331.049988</td>\n",
       "      <td>128.030594</td>\n",
       "      <td>74.290001</td>\n",
       "      <td>158.929993</td>\n",
       "      <td>331.489990</td>\n",
       "      <td>128.594650</td>\n",
       "      <td>132079200.0</td>\n",
       "      <td>27746500.0</td>\n",
       "      <td>7104500.0</td>\n",
       "      <td>4545916.0</td>\n",
       "    </tr>\n",
       "  </tbody>\n",
       "</table>\n",
       "<p>5 rows × 24 columns</p>\n",
       "</div>"
      ],
      "text/plain": [
       "Attributes  Adj Close                                          Close  \\\n",
       "Symbols          AAPL        MSFT        NFLX         IBM       AAPL   \n",
       "Date                                                                   \n",
       "2020-01-02  73.561531  156.151947  329.809998  111.586510  75.087502   \n",
       "2020-01-03  72.846352  154.207581  325.899994  110.696594  74.357498   \n",
       "2020-01-06  73.426834  154.606171  335.829987  110.498833  74.949997   \n",
       "2020-01-07  73.081497  153.196518  330.750000  110.572968  74.597504   \n",
       "2020-01-08  74.257111  155.636673  339.260010  111.495865  75.797501   \n",
       "\n",
       "Attributes                                           High              ...  \\\n",
       "Symbols           MSFT        NFLX         IBM       AAPL        MSFT  ...   \n",
       "Date                                                                   ...   \n",
       "2020-01-02  160.619995  329.809998  129.464630  75.150002  160.729996  ...   \n",
       "2020-01-03  158.619995  325.899994  128.432129  75.144997  159.949997  ...   \n",
       "2020-01-06  159.029999  335.829987  128.202682  74.989998  159.100006  ...   \n",
       "2020-01-07  157.580002  330.750000  128.288712  75.224998  159.669998  ...   \n",
       "2020-01-08  160.089996  339.260010  129.359467  76.110001  160.800003  ...   \n",
       "\n",
       "Attributes         Low                   Open                          \\\n",
       "Symbols           NFLX         IBM       AAPL        MSFT        NFLX   \n",
       "Date                                                                    \n",
       "2020-01-02  324.779999  128.843216  74.059998  158.779999  326.100006   \n",
       "2020-01-03  325.529999  127.686424  74.287498  158.320007  326.779999   \n",
       "2020-01-06  321.200012  127.342255  73.447502  157.080002  323.119995   \n",
       "2020-01-07  330.299988  127.533463  74.959999  159.320007  336.470001   \n",
       "2020-01-08  331.049988  128.030594  74.290001  158.929993  331.489990   \n",
       "\n",
       "Attributes                   Volume                                    \n",
       "Symbols            IBM         AAPL        MSFT       NFLX        IBM  \n",
       "Date                                                                   \n",
       "2020-01-02  129.063095  135480400.0  22622100.0  4485800.0  3293436.0  \n",
       "2020-01-03  127.695984  146322800.0  21116200.0  3806900.0  2482890.0  \n",
       "2020-01-06  127.552582  118387200.0  20813700.0  5663100.0  2537073.0  \n",
       "2020-01-07  127.810707  108872000.0  21634100.0  4703200.0  3232977.0  \n",
       "2020-01-08  128.594650  132079200.0  27746500.0  7104500.0  4545916.0  \n",
       "\n",
       "[5 rows x 24 columns]"
      ]
     },
     "execution_count": 43,
     "metadata": {},
     "output_type": "execute_result"
    }
   ],
   "source": [
    "tickers = ['AAPL','MSFT','NFLX','IBM']\n",
    "start = dt.datetime(2020,1,1)\n",
    "data = pdr.get_data_yahoo(tickers,start)\n",
    "data.head()"
   ]
  },
  {
   "cell_type": "code",
   "execution_count": 44,
   "id": "04bf461f-2325-467b-934d-440998bb6f80",
   "metadata": {},
   "outputs": [
    {
     "data": {
      "text/html": [
       "<div>\n",
       "<style scoped>\n",
       "    .dataframe tbody tr th:only-of-type {\n",
       "        vertical-align: middle;\n",
       "    }\n",
       "\n",
       "    .dataframe tbody tr th {\n",
       "        vertical-align: top;\n",
       "    }\n",
       "\n",
       "    .dataframe thead th {\n",
       "        text-align: right;\n",
       "    }\n",
       "</style>\n",
       "<table border=\"1\" class=\"dataframe\">\n",
       "  <thead>\n",
       "    <tr style=\"text-align: right;\">\n",
       "      <th>Symbols</th>\n",
       "      <th>AAPL</th>\n",
       "      <th>MSFT</th>\n",
       "      <th>NFLX</th>\n",
       "      <th>IBM</th>\n",
       "    </tr>\n",
       "    <tr>\n",
       "      <th>Date</th>\n",
       "      <th></th>\n",
       "      <th></th>\n",
       "      <th></th>\n",
       "      <th></th>\n",
       "    </tr>\n",
       "  </thead>\n",
       "  <tbody>\n",
       "    <tr>\n",
       "      <th>2020-01-02</th>\n",
       "      <td>73.561531</td>\n",
       "      <td>156.151947</td>\n",
       "      <td>329.809998</td>\n",
       "      <td>111.586510</td>\n",
       "    </tr>\n",
       "    <tr>\n",
       "      <th>2020-01-03</th>\n",
       "      <td>72.846352</td>\n",
       "      <td>154.207581</td>\n",
       "      <td>325.899994</td>\n",
       "      <td>110.696594</td>\n",
       "    </tr>\n",
       "    <tr>\n",
       "      <th>2020-01-06</th>\n",
       "      <td>73.426834</td>\n",
       "      <td>154.606171</td>\n",
       "      <td>335.829987</td>\n",
       "      <td>110.498833</td>\n",
       "    </tr>\n",
       "    <tr>\n",
       "      <th>2020-01-07</th>\n",
       "      <td>73.081497</td>\n",
       "      <td>153.196518</td>\n",
       "      <td>330.750000</td>\n",
       "      <td>110.572968</td>\n",
       "    </tr>\n",
       "    <tr>\n",
       "      <th>2020-01-08</th>\n",
       "      <td>74.257111</td>\n",
       "      <td>155.636673</td>\n",
       "      <td>339.260010</td>\n",
       "      <td>111.495865</td>\n",
       "    </tr>\n",
       "    <tr>\n",
       "      <th>...</th>\n",
       "      <td>...</td>\n",
       "      <td>...</td>\n",
       "      <td>...</td>\n",
       "      <td>...</td>\n",
       "    </tr>\n",
       "    <tr>\n",
       "      <th>2022-12-07</th>\n",
       "      <td>140.940002</td>\n",
       "      <td>244.369995</td>\n",
       "      <td>308.420013</td>\n",
       "      <td>147.270004</td>\n",
       "    </tr>\n",
       "    <tr>\n",
       "      <th>2022-12-08</th>\n",
       "      <td>142.649994</td>\n",
       "      <td>247.399994</td>\n",
       "      <td>310.260010</td>\n",
       "      <td>147.779999</td>\n",
       "    </tr>\n",
       "    <tr>\n",
       "      <th>2022-12-09</th>\n",
       "      <td>142.160004</td>\n",
       "      <td>245.419998</td>\n",
       "      <td>320.010010</td>\n",
       "      <td>147.050003</td>\n",
       "    </tr>\n",
       "    <tr>\n",
       "      <th>2022-12-12</th>\n",
       "      <td>144.490005</td>\n",
       "      <td>252.509995</td>\n",
       "      <td>315.179993</td>\n",
       "      <td>149.210007</td>\n",
       "    </tr>\n",
       "    <tr>\n",
       "      <th>2022-12-13</th>\n",
       "      <td>145.879898</td>\n",
       "      <td>257.420013</td>\n",
       "      <td>324.940002</td>\n",
       "      <td>151.634995</td>\n",
       "    </tr>\n",
       "  </tbody>\n",
       "</table>\n",
       "<p>744 rows × 4 columns</p>\n",
       "</div>"
      ],
      "text/plain": [
       "Symbols           AAPL        MSFT        NFLX         IBM\n",
       "Date                                                      \n",
       "2020-01-02   73.561531  156.151947  329.809998  111.586510\n",
       "2020-01-03   72.846352  154.207581  325.899994  110.696594\n",
       "2020-01-06   73.426834  154.606171  335.829987  110.498833\n",
       "2020-01-07   73.081497  153.196518  330.750000  110.572968\n",
       "2020-01-08   74.257111  155.636673  339.260010  111.495865\n",
       "...                ...         ...         ...         ...\n",
       "2022-12-07  140.940002  244.369995  308.420013  147.270004\n",
       "2022-12-08  142.649994  247.399994  310.260010  147.779999\n",
       "2022-12-09  142.160004  245.419998  320.010010  147.050003\n",
       "2022-12-12  144.490005  252.509995  315.179993  149.210007\n",
       "2022-12-13  145.879898  257.420013  324.940002  151.634995\n",
       "\n",
       "[744 rows x 4 columns]"
      ]
     },
     "execution_count": 44,
     "metadata": {},
     "output_type": "execute_result"
    }
   ],
   "source": [
    "data = data['Adj Close']\n",
    "data"
   ]
  },
  {
   "cell_type": "code",
   "execution_count": 49,
   "id": "f0af8d4f-3500-4b42-b7f3-37393eefcfb3",
   "metadata": {},
   "outputs": [
    {
     "data": {
      "text/plain": [
       "1.0"
      ]
     },
     "execution_count": 49,
     "metadata": {},
     "output_type": "execute_result"
    }
   ],
   "source": [
    "portfolio = [.25,.15,.40,.20]\n",
    "np.sum(portfolio)"
   ]
  },
  {
   "cell_type": "code",
   "execution_count": 50,
   "id": "b2e77344-2c7f-487b-afec-a89b335e9a02",
   "metadata": {},
   "outputs": [
    {
     "data": {
      "text/html": [
       "<div>\n",
       "<style scoped>\n",
       "    .dataframe tbody tr th:only-of-type {\n",
       "        vertical-align: middle;\n",
       "    }\n",
       "\n",
       "    .dataframe tbody tr th {\n",
       "        vertical-align: top;\n",
       "    }\n",
       "\n",
       "    .dataframe thead th {\n",
       "        text-align: right;\n",
       "    }\n",
       "</style>\n",
       "<table border=\"1\" class=\"dataframe\">\n",
       "  <thead>\n",
       "    <tr style=\"text-align: right;\">\n",
       "      <th>Symbols</th>\n",
       "      <th>AAPL</th>\n",
       "      <th>MSFT</th>\n",
       "      <th>NFLX</th>\n",
       "      <th>IBM</th>\n",
       "    </tr>\n",
       "    <tr>\n",
       "      <th>Date</th>\n",
       "      <th></th>\n",
       "      <th></th>\n",
       "      <th></th>\n",
       "      <th></th>\n",
       "    </tr>\n",
       "  </thead>\n",
       "  <tbody>\n",
       "    <tr>\n",
       "      <th>2020-01-02</th>\n",
       "      <td>NaN</td>\n",
       "      <td>NaN</td>\n",
       "      <td>NaN</td>\n",
       "      <td>NaN</td>\n",
       "    </tr>\n",
       "    <tr>\n",
       "      <th>2020-01-03</th>\n",
       "      <td>0.990278</td>\n",
       "      <td>0.987548</td>\n",
       "      <td>0.988145</td>\n",
       "      <td>0.992025</td>\n",
       "    </tr>\n",
       "    <tr>\n",
       "      <th>2020-01-06</th>\n",
       "      <td>1.007969</td>\n",
       "      <td>1.002585</td>\n",
       "      <td>1.030469</td>\n",
       "      <td>0.998213</td>\n",
       "    </tr>\n",
       "    <tr>\n",
       "      <th>2020-01-07</th>\n",
       "      <td>0.995297</td>\n",
       "      <td>0.990882</td>\n",
       "      <td>0.984873</td>\n",
       "      <td>1.000671</td>\n",
       "    </tr>\n",
       "    <tr>\n",
       "      <th>2020-01-08</th>\n",
       "      <td>1.016086</td>\n",
       "      <td>1.015928</td>\n",
       "      <td>1.025729</td>\n",
       "      <td>1.008347</td>\n",
       "    </tr>\n",
       "    <tr>\n",
       "      <th>...</th>\n",
       "      <td>...</td>\n",
       "      <td>...</td>\n",
       "      <td>...</td>\n",
       "      <td>...</td>\n",
       "    </tr>\n",
       "    <tr>\n",
       "      <th>2022-12-07</th>\n",
       "      <td>0.986215</td>\n",
       "      <td>0.996940</td>\n",
       "      <td>1.009360</td>\n",
       "      <td>0.998441</td>\n",
       "    </tr>\n",
       "    <tr>\n",
       "      <th>2022-12-08</th>\n",
       "      <td>1.012133</td>\n",
       "      <td>1.012399</td>\n",
       "      <td>1.005966</td>\n",
       "      <td>1.003463</td>\n",
       "    </tr>\n",
       "    <tr>\n",
       "      <th>2022-12-09</th>\n",
       "      <td>0.996565</td>\n",
       "      <td>0.991997</td>\n",
       "      <td>1.031425</td>\n",
       "      <td>0.995060</td>\n",
       "    </tr>\n",
       "    <tr>\n",
       "      <th>2022-12-12</th>\n",
       "      <td>1.016390</td>\n",
       "      <td>1.028889</td>\n",
       "      <td>0.984907</td>\n",
       "      <td>1.014689</td>\n",
       "    </tr>\n",
       "    <tr>\n",
       "      <th>2022-12-13</th>\n",
       "      <td>1.009619</td>\n",
       "      <td>1.019445</td>\n",
       "      <td>1.030966</td>\n",
       "      <td>1.016252</td>\n",
       "    </tr>\n",
       "  </tbody>\n",
       "</table>\n",
       "<p>744 rows × 4 columns</p>\n",
       "</div>"
      ],
      "text/plain": [
       "Symbols         AAPL      MSFT      NFLX       IBM\n",
       "Date                                              \n",
       "2020-01-02       NaN       NaN       NaN       NaN\n",
       "2020-01-03  0.990278  0.987548  0.988145  0.992025\n",
       "2020-01-06  1.007969  1.002585  1.030469  0.998213\n",
       "2020-01-07  0.995297  0.990882  0.984873  1.000671\n",
       "2020-01-08  1.016086  1.015928  1.025729  1.008347\n",
       "...              ...       ...       ...       ...\n",
       "2022-12-07  0.986215  0.996940  1.009360  0.998441\n",
       "2022-12-08  1.012133  1.012399  1.005966  1.003463\n",
       "2022-12-09  0.996565  0.991997  1.031425  0.995060\n",
       "2022-12-12  1.016390  1.028889  0.984907  1.014689\n",
       "2022-12-13  1.009619  1.019445  1.030966  1.016252\n",
       "\n",
       "[744 rows x 4 columns]"
      ]
     },
     "execution_count": 50,
     "metadata": {},
     "output_type": "execute_result"
    }
   ],
   "source": [
    "# percentage change\n",
    "data/data.shift()"
   ]
  },
  {
   "cell_type": "code",
   "execution_count": 52,
   "id": "efea8dc1-8a37-47b7-b363-2d843579a65e",
   "metadata": {},
   "outputs": [
    {
     "data": {
      "text/plain": [
       "Date\n",
       "2020-01-02    0.000000\n",
       "2020-01-03   -0.010694\n",
       "2020-01-06    0.014020\n",
       "2020-01-07   -0.008515\n",
       "2020-01-08    0.018184\n",
       "                ...   \n",
       "2022-12-07   -0.000515\n",
       "2022-12-08    0.007934\n",
       "2022-12-09    0.009321\n",
       "2022-12-12    0.005169\n",
       "2022-12-13    0.020705\n",
       "Length: 744, dtype: float64"
      ]
     },
     "execution_count": 52,
     "metadata": {},
     "output_type": "execute_result"
    }
   ],
   "source": [
    "# sum of all percentage change\n",
    "np.sum(np.log(data/data.shift())*portfolio,axis=1)"
   ]
  },
  {
   "cell_type": "code",
   "execution_count": 53,
   "id": "3285dfa5-e381-4e17-b40e-74c5443a3acc",
   "metadata": {},
   "outputs": [
    {
     "data": {
      "text/plain": [
       "Date\n",
       "2020-01-02    0.000000\n",
       "2020-01-03   -0.010694\n",
       "2020-01-06    0.014020\n",
       "2020-01-07   -0.008515\n",
       "2020-01-08    0.018184\n",
       "                ...   \n",
       "2022-12-07   -0.000515\n",
       "2022-12-08    0.007934\n",
       "2022-12-09    0.009321\n",
       "2022-12-12    0.005169\n",
       "2022-12-13    0.020705\n",
       "Length: 744, dtype: float64"
      ]
     },
     "execution_count": 53,
     "metadata": {},
     "output_type": "execute_result"
    }
   ],
   "source": [
    "# log return: one method for calculating return\n",
    "# natural log of ending value/beginning value\n",
    "\n",
    "# simple return: weighted sum of simple returns of all constituents of portfolio\n",
    "\n",
    "lr = np.sum(np.log(data/data.shift())*portfolio,axis=1)\n",
    "lr"
   ]
  },
  {
   "cell_type": "code",
   "execution_count": 57,
   "id": "74b6505b-5cc3-41ca-a705-8e3e15b1b772",
   "metadata": {},
   "outputs": [
    {
     "data": {
      "text/plain": [
       "<AxesSubplot:>"
      ]
     },
     "execution_count": 57,
     "metadata": {},
     "output_type": "execute_result"
    },
    {
     "data": {
      "image/png": "[encoded data removed]",
      "text/plain": [
       "<Figure size 640x480 with 1 Axes>"
      ]
     },
     "metadata": {},
     "output_type": "display_data"
    }
   ],
   "source": [
    "# visual log return\n",
    "fig,ax = plt.subplots()\n",
    "lr.hist(bins=50,ax=ax,grid=False)"
   ]
  },
  {
   "cell_type": "code",
   "execution_count": 58,
   "id": "5703dcbb-ec2b-4dc2-af3e-11b06372e70c",
   "metadata": {},
   "outputs": [
    {
     "data": {
      "text/plain": [
       "0.020879888384388038"
      ]
     },
     "execution_count": 58,
     "metadata": {},
     "output_type": "execute_result"
    }
   ],
   "source": [
    "# std of portfolio\n",
    "lr.std()"
   ]
  },
  {
   "cell_type": "code",
   "execution_count": 59,
   "id": "bab4ca7f-0a51-4518-80a1-f33c40af576d",
   "metadata": {},
   "outputs": [
    {
     "data": {
      "text/plain": [
       "0.000405285006144645"
      ]
     },
     "execution_count": 59,
     "metadata": {},
     "output_type": "execute_result"
    }
   ],
   "source": [
    "lr.mean()"
   ]
  },
  {
   "cell_type": "code",
   "execution_count": 60,
   "id": "731c3a54-8fc2-43d7-a62f-71291cd3b62e",
   "metadata": {},
   "outputs": [
    {
     "data": {
      "text/plain": [
       "0.019410305202956828"
      ]
     },
     "execution_count": 60,
     "metadata": {},
     "output_type": "execute_result"
    }
   ],
   "source": [
    "# sharp ration = mean/std\n",
    "sharpr = lr.mean()/lr.std()\n",
    "sharpr"
   ]
  },
  {
   "cell_type": "code",
   "execution_count": 63,
   "id": "52b41f17-343c-434d-9d9c-f6446f211988",
   "metadata": {},
   "outputs": [
    {
     "data": {
      "text/plain": [
       "0.30812904263332125"
      ]
     },
     "execution_count": 63,
     "metadata": {},
     "output_type": "execute_result"
    }
   ],
   "source": [
    "# 252 trading days in a year raised to **0.5\n",
    "# analyze sharp ratio (asr)\n",
    "asr = sharpr * 252**0.5\n",
    "asr"
   ]
  },
  {
   "cell_type": "code",
   "execution_count": 69,
   "id": "ae4e08cf-f9cb-49da-923c-494a19d9c519",
   "metadata": {},
   "outputs": [
    {
     "data": {
      "text/plain": [
       "array([0.46673377, 0.4005591 , 0.01128408, 0.12142304])"
      ]
     },
     "execution_count": 69,
     "metadata": {},
     "output_type": "execute_result"
    }
   ],
   "source": [
    "# compare with other portfolio and optimize portfolios\n",
    "weight = np.random.random(4)\n",
    "weight/=weight.sum()\n",
    "weight"
   ]
  },
  {
   "cell_type": "code",
   "execution_count": 70,
   "id": "da415218-413d-4aa8-94a6-1ca6e92643a8",
   "metadata": {},
   "outputs": [
    {
     "data": {
      "text/plain": [
       "Date\n",
       "2020-01-02    0.000000\n",
       "2020-01-03   -0.010686\n",
       "2020-01-06    0.004860\n",
       "2020-01-07   -0.005960\n",
       "2020-01-08    0.015074\n",
       "                ...   \n",
       "2022-12-07   -0.007790\n",
       "2022-12-08    0.011052\n",
       "2022-12-09   -0.005077\n",
       "2022-12-12    0.020595\n",
       "2022-12-13    0.014484\n",
       "Length: 744, dtype: float64"
      ]
     },
     "execution_count": 70,
     "metadata": {},
     "output_type": "execute_result"
    }
   ],
   "source": [
    "lr2 = np.sum(np.log(data/data.shift())*weight,axis=1)\n",
    "lr2"
   ]
  },
  {
   "cell_type": "code",
   "execution_count": 71,
   "id": "45ed90e6-f318-4eda-bc1f-f717c2e6a2f4",
   "metadata": {},
   "outputs": [
    {
     "data": {
      "text/plain": [
       "0.03712873912131284"
      ]
     },
     "execution_count": 71,
     "metadata": {},
     "output_type": "execute_result"
    }
   ],
   "source": [
    "sharpr2 = lr2.mean()/lr2.std()\n",
    "sharpr2"
   ]
  },
  {
   "cell_type": "code",
   "execution_count": 72,
   "id": "a0667e77-aa96-497d-81b0-0a55c0d61572",
   "metadata": {},
   "outputs": [
    {
     "data": {
      "text/plain": [
       "0.5894004612503316"
      ]
     },
     "execution_count": 72,
     "metadata": {},
     "output_type": "execute_result"
    }
   ],
   "source": [
    "asr2 = sharpr2 * 252**0.5\n",
    "asr2"
   ]
  },
  {
   "cell_type": "code",
   "execution_count": null,
   "id": "73579050-38cc-4262-bf18-63aad5700676",
   "metadata": {},
   "outputs": [],
   "source": [
    "# Monte Carlo Simulation: applying sharp ratio to create a efficient frontier\n",
    "# used to understand the effect of uncertainity and randomness in forecasting models\n",
    "# aka monte carlo method, multiple probability sim: estimating to possible outcomes of a uncertain event\n",
    "# if there are too many variables which affects the outcome, it can simulate to find the optimal value\n",
    "# efficient frontier is a set of optimal portfolio that offers highest or lowest expected returns for given level risk\n",
    "# portfolio lies below efficient frontier are sub optimal b/c it will not provide enough returns for level of risk"
   ]
  },
  {
   "cell_type": "code",
   "execution_count": 2,
   "id": "eb5d65ba-5947-48a2-859e-abbcb3a1dd6c",
   "metadata": {},
   "outputs": [],
   "source": [
    "# 7 means 6, repeating it two times\n",
    "def roll_dice():\n",
    "    return(np.sum(np.random.randint(1,7,2)))"
   ]
  },
  {
   "cell_type": "code",
   "execution_count": 3,
   "id": "3dc2d4bb-794a-4c5f-98d1-ce92b4e9cda1",
   "metadata": {},
   "outputs": [
    {
     "data": {
      "text/plain": [
       "7"
      ]
     },
     "execution_count": 3,
     "metadata": {},
     "output_type": "execute_result"
    }
   ],
   "source": [
    "roll_dice()"
   ]
  },
  {
   "cell_type": "code",
   "execution_count": 4,
   "id": "7c82d422-fb65-490d-8ce5-2e24221a56ee",
   "metadata": {},
   "outputs": [],
   "source": [
    "# whenever dice adds to 7 = gain $5 for any other number loose $1\n",
    "def mcs(runs=1000):\n",
    "    results = np.zeros(2)\n",
    "    for _ in range(runs):\n",
    "        if roll_dice()==7:\n",
    "            results[0] += 1\n",
    "        else:\n",
    "            results[1] += 1\n",
    "    return results"
   ]
  },
  {
   "cell_type": "code",
   "execution_count": 5,
   "id": "ce3fca7d-8561-42d9-bf34-3f32e279f406",
   "metadata": {},
   "outputs": [
    {
     "data": {
      "text/plain": [
       "array([180., 820.])"
      ]
     },
     "execution_count": 5,
     "metadata": {},
     "output_type": "execute_result"
    }
   ],
   "source": [
    "mcs()"
   ]
  },
  {
   "cell_type": "code",
   "execution_count": 7,
   "id": "248ec134-82a9-44b6-a16b-fbb1d66e2a93",
   "metadata": {},
   "outputs": [
    {
     "data": {
      "text/plain": [
       "array([173., 177., 151., 172., 177., 161., 170., 171., 182., 172., 174.,\n",
       "       166., 173., 185., 172., 158., 178., 148., 157., 150., 163., 165.,\n",
       "       151., 173., 176., 168., 156., 176., 161., 157., 162., 155., 183.,\n",
       "       161., 153., 190., 179., 163., 181., 167., 167., 166., 155., 146.,\n",
       "       161., 178., 183., 160., 148., 160., 165., 169., 162., 148., 156.,\n",
       "       162., 178., 189., 161., 158., 151., 159., 158., 172., 168., 189.,\n",
       "       164., 161., 144., 159., 167., 175., 176., 170., 144., 172., 173.,\n",
       "       165., 165., 179., 173., 172., 161., 165., 186., 150., 159., 155.,\n",
       "       154., 163., 205., 170., 173., 170., 164., 154., 171., 173., 158.,\n",
       "       178., 157., 157., 184., 156., 170., 178., 190., 166., 192., 179.,\n",
       "       155., 180., 176., 143., 200., 178., 169., 175., 159., 150., 168.,\n",
       "       168., 169., 165., 148., 144., 179., 172., 159., 157., 163., 153.,\n",
       "       164., 161., 183., 155., 175., 175., 145., 145., 167., 179., 169.,\n",
       "       164., 166., 156., 182., 180., 182., 177., 178., 161., 179., 161.,\n",
       "       161., 184., 185., 168., 153., 179., 177., 182., 163., 158., 171.,\n",
       "       163., 171., 176., 159., 171., 157., 163., 163., 145., 148., 168.,\n",
       "       159., 177., 167., 171., 179., 172., 169., 167., 139., 191., 154.,\n",
       "       155., 162., 180., 182., 182., 166., 160., 178., 152., 168., 172.,\n",
       "       182., 150., 163., 180., 150., 161., 169., 160., 169., 170., 159.,\n",
       "       147., 184., 147., 145., 153., 168., 165., 159., 168., 153., 182.,\n",
       "       170., 148., 139., 171., 182., 158., 179., 157., 178., 162., 155.,\n",
       "       156., 196., 166., 181., 175., 175., 166., 157., 155., 172., 176.,\n",
       "       159., 172., 154., 164., 166., 165., 138., 176., 170., 175., 174.,\n",
       "       172., 172., 154., 157., 151., 158., 156., 156., 162., 167., 171.,\n",
       "       178., 162., 166., 154., 156., 154., 182., 165., 187., 170., 149.,\n",
       "       173., 168., 167., 172., 165., 188., 155., 167., 159., 170., 178.,\n",
       "       136., 181., 162., 157., 169., 160., 163., 159., 170., 182., 156.,\n",
       "       183., 158., 170., 159., 174., 159., 165., 182., 166., 159., 180.,\n",
       "       149., 194., 166., 146., 178., 153., 169., 181., 162., 159., 152.,\n",
       "       141., 161., 150., 160., 159., 156., 153., 164., 170., 162., 174.,\n",
       "       179., 188., 170., 187., 159., 183., 166., 152., 180., 171., 171.,\n",
       "       185., 184., 166., 183., 160., 158., 176., 157., 177., 187., 185.,\n",
       "       155., 161., 153., 183., 161., 184., 183., 156., 171., 175., 160.,\n",
       "       156., 173., 162., 176., 170., 173., 176., 175., 184., 179., 168.,\n",
       "       183., 159., 174., 163., 168., 184., 157., 185., 156., 185., 173.,\n",
       "       168., 168., 159., 168., 163., 145., 161., 165., 165., 178., 151.,\n",
       "       167., 183., 174., 157., 173., 160., 169., 170., 162., 166., 167.,\n",
       "       189., 138., 163., 152., 190., 173., 171., 192., 176., 163., 169.,\n",
       "       179., 160., 164., 176., 188., 155., 166., 186., 151., 176., 178.,\n",
       "       168., 158., 164., 166., 150., 154., 165., 146., 154., 157., 169.,\n",
       "       148., 173., 164., 152., 184., 181., 178., 165., 162., 149., 158.,\n",
       "       158., 158., 173., 156., 156., 176., 153., 172., 157., 146., 160.,\n",
       "       177., 177., 173., 162., 168., 160., 148., 147., 170., 154., 180.,\n",
       "       183., 160., 156., 163., 164., 181., 175., 186., 162., 169., 173.,\n",
       "       153., 168., 158., 160., 170., 168., 175., 173., 153., 149., 176.,\n",
       "       164., 185., 159., 150., 180., 167., 178., 166., 158., 159., 155.,\n",
       "       179., 155., 173., 169., 186., 184., 162., 160., 168., 184., 169.,\n",
       "       154., 168., 147., 167., 151., 154., 159., 152., 165., 170., 168.,\n",
       "       136., 200., 170., 159., 171., 165., 154., 138., 159., 168., 158.,\n",
       "       165., 175., 182., 184., 181., 141., 155., 155., 171., 177., 150.,\n",
       "       171., 172., 159., 177., 161., 167., 166., 164., 188., 159., 197.,\n",
       "       166., 143., 170., 155., 159., 157., 168., 174., 168., 178., 162.,\n",
       "       161., 187., 153., 179., 183., 165., 160., 159., 168., 185., 156.,\n",
       "       164., 160., 185., 163., 165., 170., 171., 165., 164., 161., 147.,\n",
       "       173., 169., 166., 166., 171., 171., 173., 151., 182., 147., 174.,\n",
       "       161., 177., 153., 146., 156., 158., 167., 168., 177., 163., 177.,\n",
       "       165., 175., 159., 166., 169., 159., 140., 146., 180., 166., 193.,\n",
       "       163., 173., 157., 161., 166., 156., 151., 168., 155., 174., 153.,\n",
       "       168., 181., 170., 156., 176., 165., 159., 171., 173., 172., 152.,\n",
       "       157., 180., 152., 159., 166., 152., 178., 171., 168., 167., 176.,\n",
       "       188., 174., 154., 162., 177., 176., 169., 164., 162., 161., 154.,\n",
       "       164., 170., 159., 162., 171., 176., 154., 158., 164., 161., 178.,\n",
       "       149., 181., 169., 163., 175., 138., 169., 166., 190., 139., 166.,\n",
       "       170., 175., 157., 178., 170., 176., 180., 171., 178., 157., 178.,\n",
       "       155., 166., 163., 151., 147., 161., 169., 165., 156., 178., 177.,\n",
       "       172., 167., 194., 189., 183., 174., 168., 155., 161., 176., 174.,\n",
       "       161., 183., 170., 165., 150., 160., 158., 170., 183., 185., 161.,\n",
       "       163., 165., 178., 158., 175., 181., 172., 176., 194., 172., 163.,\n",
       "       159., 150., 162., 150., 179., 167., 184., 178., 180., 175., 157.,\n",
       "       187., 164., 178., 153., 167., 172., 165., 180., 185., 172., 171.,\n",
       "       145., 165., 165., 172., 169., 149., 152., 165., 181., 150., 180.,\n",
       "       175., 159., 157., 175., 160., 163., 179., 169., 171., 185., 165.,\n",
       "       169., 161., 151., 159., 161., 155., 166., 162., 164., 189., 181.,\n",
       "       169., 162., 167., 166., 169., 155., 155., 146., 178., 162., 161.,\n",
       "       158., 173., 182., 154., 187., 166., 170., 160., 155., 169., 187.,\n",
       "       131., 175., 178., 160., 167., 154., 187., 173., 181., 156., 190.,\n",
       "       171., 178., 142., 162., 167., 163., 158., 166., 150., 159., 162.,\n",
       "       180., 168., 165., 158., 171., 174., 176., 175., 172., 162., 157.,\n",
       "       154., 152., 178., 180., 152., 137., 160., 164., 172., 146., 162.,\n",
       "       169., 167., 171., 169., 160., 175., 184., 185., 172., 168., 177.,\n",
       "       165., 181., 157., 153., 170., 172., 179., 176., 173., 176., 165.,\n",
       "       178., 156., 159., 196., 175., 147., 177., 159., 186., 178., 175.,\n",
       "       156., 162., 170., 170., 161., 175., 167., 160., 165., 168., 165.,\n",
       "       172., 166., 177., 164., 171., 176., 172., 173., 181., 185., 167.,\n",
       "       161., 157., 159., 147., 177., 162., 174., 165., 151., 173., 151.,\n",
       "       162., 161., 161., 161., 191., 155., 169., 181., 167., 166., 170.,\n",
       "       169., 178., 164., 162., 162., 157., 151., 174., 183., 173., 157.,\n",
       "       154., 176., 158., 192., 170., 165., 165., 135., 154., 168., 168.,\n",
       "       162., 161., 159., 161., 166., 190., 176., 170., 155., 160., 180.,\n",
       "       178., 160., 169., 174., 160., 179., 145., 167., 171., 156., 148.,\n",
       "       164., 164., 172., 169., 175., 178., 171., 190., 176., 168.])"
      ]
     },
     "execution_count": 7,
     "metadata": {},
     "output_type": "execute_result"
    }
   ],
   "source": [
    "# getting first entry\n",
    "results = np.zeros(1000)\n",
    "for i in range(1000):\n",
    "    results[i] = mcs()[0]\n",
    "results"
   ]
  },
  {
   "cell_type": "code",
   "execution_count": 8,
   "id": "5aa59b78-2ba4-4509-a796-49d723e09ad2",
   "metadata": {},
   "outputs": [
    {
     "data": {
      "text/plain": [
       "(array([  2.,  11.,  15.,  46.,  88., 145., 158., 167., 131., 118.,  74.,\n",
       "         30.,   9.,   5.,   1.]),\n",
       " array([131.        , 135.93333333, 140.86666667, 145.8       ,\n",
       "        150.73333333, 155.66666667, 160.6       , 165.53333333,\n",
       "        170.46666667, 175.4       , 180.33333333, 185.26666667,\n",
       "        190.2       , 195.13333333, 200.06666667, 205.        ]),\n",
       " <BarContainer object of 15 artists>)"
      ]
     },
     "execution_count": 8,
     "metadata": {},
     "output_type": "execute_result"
    },
    {
     "data": {
      "image/png": "[encoded data removed]",
      "text/plain": [
       "<Figure size 640x480 with 1 Axes>"
      ]
     },
     "metadata": {},
     "output_type": "display_data"
    }
   ],
   "source": [
    "fig,ax=plt.subplots()\n",
    "ax.hist(results,bins=15)"
   ]
  },
  {
   "cell_type": "code",
   "execution_count": 9,
   "id": "4e7ce74d-1b27-4d63-87c1-aadad486995a",
   "metadata": {},
   "outputs": [
    {
     "data": {
      "text/plain": [
       "833.58"
      ]
     },
     "execution_count": 9,
     "metadata": {},
     "output_type": "execute_result"
    }
   ],
   "source": [
    "results.mean()*5"
   ]
  },
  {
   "cell_type": "code",
   "execution_count": 10,
   "id": "d5bade73-c7aa-4d78-a94d-888172457037",
   "metadata": {},
   "outputs": [
    {
     "data": {
      "text/plain": [
       "833.284"
      ]
     },
     "execution_count": 10,
     "metadata": {},
     "output_type": "execute_result"
    }
   ],
   "source": [
    "1000-results.mean()"
   ]
  },
  {
   "cell_type": "code",
   "execution_count": 11,
   "id": "d7d148c9-d515-4d93-adc2-ff9cf24af94e",
   "metadata": {},
   "outputs": [
    {
     "data": {
      "text/plain": [
       "0.2960000000000491"
      ]
     },
     "execution_count": 11,
     "metadata": {},
     "output_type": "execute_result"
    }
   ],
   "source": [
    "833.58 - 833.284"
   ]
  },
  {
   "cell_type": "code",
   "execution_count": 12,
   "id": "d20d7b32-d93a-44a7-af3c-c3a66f02edd4",
   "metadata": {},
   "outputs": [
    {
     "data": {
      "text/html": [
       "<div>\n",
       "<style scoped>\n",
       "    .dataframe tbody tr th:only-of-type {\n",
       "        vertical-align: middle;\n",
       "    }\n",
       "\n",
       "    .dataframe tbody tr th {\n",
       "        vertical-align: top;\n",
       "    }\n",
       "\n",
       "    .dataframe thead th {\n",
       "        text-align: right;\n",
       "    }\n",
       "</style>\n",
       "<table border=\"1\" class=\"dataframe\">\n",
       "  <thead>\n",
       "    <tr style=\"text-align: right;\">\n",
       "      <th>Symbols</th>\n",
       "      <th>AAPL</th>\n",
       "      <th>MSFT</th>\n",
       "      <th>NFLX</th>\n",
       "      <th>IBM</th>\n",
       "    </tr>\n",
       "    <tr>\n",
       "      <th>Date</th>\n",
       "      <th></th>\n",
       "      <th></th>\n",
       "      <th></th>\n",
       "      <th></th>\n",
       "    </tr>\n",
       "  </thead>\n",
       "  <tbody>\n",
       "    <tr>\n",
       "      <th>2020-01-02</th>\n",
       "      <td>73.561539</td>\n",
       "      <td>156.151932</td>\n",
       "      <td>329.809998</td>\n",
       "      <td>111.586502</td>\n",
       "    </tr>\n",
       "    <tr>\n",
       "      <th>2020-01-03</th>\n",
       "      <td>72.846375</td>\n",
       "      <td>154.207581</td>\n",
       "      <td>325.899994</td>\n",
       "      <td>110.696587</td>\n",
       "    </tr>\n",
       "    <tr>\n",
       "      <th>2020-01-06</th>\n",
       "      <td>73.426834</td>\n",
       "      <td>154.606171</td>\n",
       "      <td>335.829987</td>\n",
       "      <td>110.498840</td>\n",
       "    </tr>\n",
       "    <tr>\n",
       "      <th>2020-01-07</th>\n",
       "      <td>73.081482</td>\n",
       "      <td>153.196518</td>\n",
       "      <td>330.750000</td>\n",
       "      <td>110.572968</td>\n",
       "    </tr>\n",
       "    <tr>\n",
       "      <th>2020-01-08</th>\n",
       "      <td>74.257111</td>\n",
       "      <td>155.636673</td>\n",
       "      <td>339.260010</td>\n",
       "      <td>111.495865</td>\n",
       "    </tr>\n",
       "  </tbody>\n",
       "</table>\n",
       "</div>"
      ],
      "text/plain": [
       "Symbols          AAPL        MSFT        NFLX         IBM\n",
       "Date                                                     \n",
       "2020-01-02  73.561539  156.151932  329.809998  111.586502\n",
       "2020-01-03  72.846375  154.207581  325.899994  110.696587\n",
       "2020-01-06  73.426834  154.606171  335.829987  110.498840\n",
       "2020-01-07  73.081482  153.196518  330.750000  110.572968\n",
       "2020-01-08  74.257111  155.636673  339.260010  111.495865"
      ]
     },
     "execution_count": 12,
     "metadata": {},
     "output_type": "execute_result"
    }
   ],
   "source": [
    "tickers = ['AAPL','MSFT','NFLX','IBM']\n",
    "start = dt.datetime(2020,1,1)\n",
    "data = pdr.get_data_yahoo(tickers,start)\n",
    "data = data['Adj Close']\n",
    "data.head()"
   ]
  },
  {
   "cell_type": "code",
   "execution_count": 13,
   "id": "431ed6fb-401a-4440-a05f-cbcf0b571228",
   "metadata": {},
   "outputs": [
    {
     "data": {
      "text/html": [
       "<div>\n",
       "<style scoped>\n",
       "    .dataframe tbody tr th:only-of-type {\n",
       "        vertical-align: middle;\n",
       "    }\n",
       "\n",
       "    .dataframe tbody tr th {\n",
       "        vertical-align: top;\n",
       "    }\n",
       "\n",
       "    .dataframe thead th {\n",
       "        text-align: right;\n",
       "    }\n",
       "</style>\n",
       "<table border=\"1\" class=\"dataframe\">\n",
       "  <thead>\n",
       "    <tr style=\"text-align: right;\">\n",
       "      <th>Symbols</th>\n",
       "      <th>AAPL</th>\n",
       "      <th>MSFT</th>\n",
       "      <th>NFLX</th>\n",
       "      <th>IBM</th>\n",
       "    </tr>\n",
       "    <tr>\n",
       "      <th>Date</th>\n",
       "      <th></th>\n",
       "      <th></th>\n",
       "      <th></th>\n",
       "      <th></th>\n",
       "    </tr>\n",
       "  </thead>\n",
       "  <tbody>\n",
       "    <tr>\n",
       "      <th>2020-01-02</th>\n",
       "      <td>NaN</td>\n",
       "      <td>NaN</td>\n",
       "      <td>NaN</td>\n",
       "      <td>NaN</td>\n",
       "    </tr>\n",
       "    <tr>\n",
       "      <th>2020-01-03</th>\n",
       "      <td>-0.009770</td>\n",
       "      <td>-0.012530</td>\n",
       "      <td>-0.011926</td>\n",
       "      <td>-0.008007</td>\n",
       "    </tr>\n",
       "    <tr>\n",
       "      <th>2020-01-06</th>\n",
       "      <td>0.007937</td>\n",
       "      <td>0.002581</td>\n",
       "      <td>0.030014</td>\n",
       "      <td>-0.001788</td>\n",
       "    </tr>\n",
       "    <tr>\n",
       "      <th>2020-01-07</th>\n",
       "      <td>-0.004714</td>\n",
       "      <td>-0.009160</td>\n",
       "      <td>-0.015242</td>\n",
       "      <td>0.000671</td>\n",
       "    </tr>\n",
       "    <tr>\n",
       "      <th>2020-01-08</th>\n",
       "      <td>0.015959</td>\n",
       "      <td>0.015803</td>\n",
       "      <td>0.025404</td>\n",
       "      <td>0.008312</td>\n",
       "    </tr>\n",
       "    <tr>\n",
       "      <th>...</th>\n",
       "      <td>...</td>\n",
       "      <td>...</td>\n",
       "      <td>...</td>\n",
       "      <td>...</td>\n",
       "    </tr>\n",
       "    <tr>\n",
       "      <th>2022-12-07</th>\n",
       "      <td>-0.013881</td>\n",
       "      <td>-0.003064</td>\n",
       "      <td>0.009316</td>\n",
       "      <td>-0.001561</td>\n",
       "    </tr>\n",
       "    <tr>\n",
       "      <th>2022-12-08</th>\n",
       "      <td>0.012060</td>\n",
       "      <td>0.012323</td>\n",
       "      <td>0.005948</td>\n",
       "      <td>0.003457</td>\n",
       "    </tr>\n",
       "    <tr>\n",
       "      <th>2022-12-09</th>\n",
       "      <td>-0.003441</td>\n",
       "      <td>-0.008035</td>\n",
       "      <td>0.030942</td>\n",
       "      <td>-0.004952</td>\n",
       "    </tr>\n",
       "    <tr>\n",
       "      <th>2022-12-12</th>\n",
       "      <td>0.016257</td>\n",
       "      <td>0.028480</td>\n",
       "      <td>-0.015208</td>\n",
       "      <td>0.014582</td>\n",
       "    </tr>\n",
       "    <tr>\n",
       "      <th>2022-12-13</th>\n",
       "      <td>0.002155</td>\n",
       "      <td>0.011576</td>\n",
       "      <td>0.022944</td>\n",
       "      <td>0.007877</td>\n",
       "    </tr>\n",
       "  </tbody>\n",
       "</table>\n",
       "<p>744 rows × 4 columns</p>\n",
       "</div>"
      ],
      "text/plain": [
       "Symbols         AAPL      MSFT      NFLX       IBM\n",
       "Date                                              \n",
       "2020-01-02       NaN       NaN       NaN       NaN\n",
       "2020-01-03 -0.009770 -0.012530 -0.011926 -0.008007\n",
       "2020-01-06  0.007937  0.002581  0.030014 -0.001788\n",
       "2020-01-07 -0.004714 -0.009160 -0.015242  0.000671\n",
       "2020-01-08  0.015959  0.015803  0.025404  0.008312\n",
       "...              ...       ...       ...       ...\n",
       "2022-12-07 -0.013881 -0.003064  0.009316 -0.001561\n",
       "2022-12-08  0.012060  0.012323  0.005948  0.003457\n",
       "2022-12-09 -0.003441 -0.008035  0.030942 -0.004952\n",
       "2022-12-12  0.016257  0.028480 -0.015208  0.014582\n",
       "2022-12-13  0.002155  0.011576  0.022944  0.007877\n",
       "\n",
       "[744 rows x 4 columns]"
      ]
     },
     "execution_count": 13,
     "metadata": {},
     "output_type": "execute_result"
    }
   ],
   "source": [
    "lr = np.log(data/data.shift())\n",
    "lr"
   ]
  },
  {
   "cell_type": "code",
   "execution_count": 14,
   "id": "4a2dc916-bde8-4fec-8883-6bede2a944ca",
   "metadata": {},
   "outputs": [
    {
     "data": {
      "text/plain": [
       "array([0.37272601, 0.11588426, 0.29285663, 0.21853311])"
      ]
     },
     "execution_count": 14,
     "metadata": {},
     "output_type": "execute_result"
    }
   ],
   "source": [
    "weight = np.random.random(4)\n",
    "weight/=weight.sum()\n",
    "weight"
   ]
  },
  {
   "cell_type": "code",
   "execution_count": 34,
   "id": "08d0352c-5706-4306-bc6d-4cf9d6fd48c6",
   "metadata": {},
   "outputs": [
    {
     "data": {
      "text/plain": [
       "0.10418383346203612"
      ]
     },
     "execution_count": 34,
     "metadata": {},
     "output_type": "execute_result"
    }
   ],
   "source": [
    "# expected return\n",
    "er = np.sum(lr.mean()*weight)*252\n",
    "er"
   ]
  },
  {
   "cell_type": "code",
   "execution_count": 35,
   "id": "5b816333-832e-4edf-ace3-aef05776488e",
   "metadata": {},
   "outputs": [
    {
     "data": {
      "text/plain": [
       "0.2991003830121089"
      ]
     },
     "execution_count": 35,
     "metadata": {},
     "output_type": "execute_result"
    }
   ],
   "source": [
    "# expected volatility: formula to speed up\n",
    "ev = np.sqrt(np.dot(weight.T,(np.dot(lr.cov()*252,weight))))\n",
    "ev"
   ]
  },
  {
   "cell_type": "code",
   "execution_count": 37,
   "id": "c1609be7-71e1-4254-9441-697ab64f1fc3",
   "metadata": {},
   "outputs": [
    {
     "data": {
      "text/plain": [
       "0.3483239720820361"
      ]
     },
     "execution_count": 37,
     "metadata": {},
     "output_type": "execute_result"
    }
   ],
   "source": [
    "# sharp ratio: expected return/expected volatility\n",
    "sharpr = er/ev\n",
    "sharpr"
   ]
  },
  {
   "cell_type": "code",
   "execution_count": 55,
   "id": "f53e88a5-d598-4fe9-8cdb-2370671364d8",
   "metadata": {},
   "outputs": [],
   "source": [
    "# monte carlo sim\n",
    "# runs = 5000\n",
    "n = 5000\n",
    "weights = np.zeros((n,4))\n",
    "ers = np.zeros(n)\n",
    "evs = np.zeros(n)\n",
    "sharprs = np.zeros(n)\n",
    "\n",
    "for i in range(n):\n",
    "    weight = np.random.random(4)\n",
    "    weight/=weight.sum()\n",
    "    weights[i] = weight\n",
    "    \n",
    "    ers[i] = np.sum(lr.mean()*weight)*252\n",
    "    evs[i] = np.sqrt(np.dot(weight.T,(np.dot(lr.cov()*252,weight))))\n",
    "    sharprs[i] = ers[i]/evs[i]"
   ]
  },
  {
   "cell_type": "code",
   "execution_count": 56,
   "id": "74580795-c8a7-4b19-93d4-2d02d72f681a",
   "metadata": {},
   "outputs": [
    {
     "data": {
      "text/plain": [
       "0.6199056432183379"
      ]
     },
     "execution_count": 56,
     "metadata": {},
     "output_type": "execute_result"
    }
   ],
   "source": [
    "sharprs.max()"
   ]
  },
  {
   "cell_type": "code",
   "execution_count": 57,
   "id": "3650e608-c7a2-41c6-b826-21ed89a48ff6",
   "metadata": {},
   "outputs": [
    {
     "data": {
      "text/plain": [
       "855"
      ]
     },
     "execution_count": 57,
     "metadata": {},
     "output_type": "execute_result"
    }
   ],
   "source": [
    "sharprs.argmax()"
   ]
  },
  {
   "cell_type": "code",
   "execution_count": 58,
   "id": "2b23d1e2-44ed-47cf-aa22-9687d0d973f6",
   "metadata": {},
   "outputs": [
    {
     "data": {
      "text/plain": [
       "array([0.90237206, 0.06635067, 0.001865  , 0.02941228])"
      ]
     },
     "execution_count": 58,
     "metadata": {},
     "output_type": "execute_result"
    }
   ],
   "source": [
    "weights[855]"
   ]
  },
  {
   "cell_type": "code",
   "execution_count": 61,
   "id": "eb9e956d-da5a-4787-807c-e9d889551581",
   "metadata": {},
   "outputs": [
    {
     "data": {
      "text/plain": [
       "Text(0, 0.5, 'Expected Return')"
      ]
     },
     "execution_count": 61,
     "metadata": {},
     "output_type": "execute_result"
    },
    {
     "data": {
      "image/png": "[encoded data removed]",
      "text/plain": [
       "<Figure size 640x480 with 1 Axes>"
      ]
     },
     "metadata": {},
     "output_type": "display_data"
    }
   ],
   "source": [
    "fig,ax=plt.subplots()\n",
    "ax.scatter(evs,ers,c=sharprs)\n",
    "ax.scatter(evs[sharprs.argmax()],ers[sharprs.argmax()],c='r')\n",
    "ax.set_xlabel('Expected Volatility')\n",
    "ax.set_ylabel('Expected Return')"
   ]
  },
  {
   "cell_type": "code",
   "execution_count": 62,
   "id": "e375f6b5-cd83-4b26-9fd1-67531be30810",
   "metadata": {},
   "outputs": [
    {
     "name": "stdout",
     "output_type": "stream",
     "text": [
      "Collecting yfinanceNote: you may need to restart the kernel to use updated packages.\n",
      "\n",
      "  Downloading yfinance-0.1.90-py2.py3-none-any.whl (29 kB)\n",
      "Collecting multitasking>=0.0.7\n",
      "  Downloading multitasking-0.0.11-py3-none-any.whl (8.5 kB)\n",
      "Requirement already satisfied: appdirs>=1.4.4 in c:\\users\\judie baker\\anaconda3\\lib\\site-packages (from yfinance) (1.4.4)\n",
      "Requirement already satisfied: lxml>=4.9.1 in c:\\users\\judie baker\\anaconda3\\lib\\site-packages (from yfinance) (4.9.1)\n",
      "Requirement already satisfied: pandas>=1.3.0 in c:\\users\\judie baker\\anaconda3\\lib\\site-packages (from yfinance) (1.4.4)\n",
      "Requirement already satisfied: numpy>=1.16.5 in c:\\users\\judie baker\\anaconda3\\lib\\site-packages (from yfinance) (1.21.5)\n",
      "Requirement already satisfied: requests>=2.26 in c:\\users\\judie baker\\anaconda3\\lib\\site-packages (from yfinance) (2.28.1)\n",
      "Requirement already satisfied: pytz>=2020.1 in c:\\users\\judie baker\\anaconda3\\lib\\site-packages (from pandas>=1.3.0->yfinance) (2022.1)\n",
      "Requirement already satisfied: python-dateutil>=2.8.1 in c:\\users\\judie baker\\anaconda3\\lib\\site-packages (from pandas>=1.3.0->yfinance) (2.8.2)\n",
      "Requirement already satisfied: urllib3<1.27,>=1.21.1 in c:\\users\\judie baker\\anaconda3\\lib\\site-packages (from requests>=2.26->yfinance) (1.26.11)\n",
      "Requirement already satisfied: charset-normalizer<3,>=2 in c:\\users\\judie baker\\anaconda3\\lib\\site-packages (from requests>=2.26->yfinance) (2.0.4)\n",
      "Requirement already satisfied: idna<4,>=2.5 in c:\\users\\judie baker\\anaconda3\\lib\\site-packages (from requests>=2.26->yfinance) (3.3)\n",
      "Requirement already satisfied: certifi>=2017.4.17 in c:\\users\\judie baker\\anaconda3\\lib\\site-packages (from requests>=2.26->yfinance) (2022.9.14)\n",
      "Requirement already satisfied: six>=1.5 in c:\\users\\judie baker\\anaconda3\\lib\\site-packages (from python-dateutil>=2.8.1->pandas>=1.3.0->yfinance) (1.16.0)\n",
      "Installing collected packages: multitasking, yfinance\n",
      "Successfully installed multitasking-0.0.11 yfinance-0.1.90\n"
     ]
    }
   ],
   "source": [
    "pip install yfinance"
   ]
  },
  {
   "cell_type": "code",
   "execution_count": 63,
   "id": "9469140c-06f3-4a91-a09e-23edc98596b5",
   "metadata": {},
   "outputs": [
    {
     "name": "stdout",
     "output_type": "stream",
     "text": [
      "Collecting mplfinance\n",
      "  Downloading mplfinance-0.12.9b7-py3-none-any.whl (73 kB)\n",
      "     -------------------------------------- 73.1/73.1 kB 403.2 kB/s eta 0:00:00\n",
      "Requirement already satisfied: pandas in c:\\users\\judie baker\\anaconda3\\lib\\site-packages (from mplfinance) (1.4.4)\n",
      "Requirement already satisfied: matplotlib in c:\\users\\judie baker\\anaconda3\\lib\\site-packages (from mplfinance) (3.5.2)\n",
      "Requirement already satisfied: kiwisolver>=1.0.1 in c:\\users\\judie baker\\anaconda3\\lib\\site-packages (from matplotlib->mplfinance) (1.4.2)\n",
      "Requirement already satisfied: fonttools>=4.22.0 in c:\\users\\judie baker\\anaconda3\\lib\\site-packages (from matplotlib->mplfinance) (4.25.0)\n",
      "Requirement already satisfied: cycler>=0.10 in c:\\users\\judie baker\\anaconda3\\lib\\site-packages (from matplotlib->mplfinance) (0.11.0)\n",
      "Requirement already satisfied: pyparsing>=2.2.1 in c:\\users\\judie baker\\anaconda3\\lib\\site-packages (from matplotlib->mplfinance) (3.0.9)\n",
      "Requirement already satisfied: pillow>=6.2.0 in c:\\users\\judie baker\\anaconda3\\lib\\site-packages (from matplotlib->mplfinance) (9.2.0)\n",
      "Requirement already satisfied: numpy>=1.17 in c:\\users\\judie baker\\anaconda3\\lib\\site-packages (from matplotlib->mplfinance) (1.21.5)\n",
      "Requirement already satisfied: python-dateutil>=2.7 in c:\\users\\judie baker\\anaconda3\\lib\\site-packages (from matplotlib->mplfinance) (2.8.2)\n",
      "Requirement already satisfied: packaging>=20.0 in c:\\users\\judie baker\\anaconda3\\lib\\site-packages (from matplotlib->mplfinance) (21.3)\n",
      "Requirement already satisfied: pytz>=2020.1 in c:\\users\\judie baker\\anaconda3\\lib\\site-packages (from pandas->mplfinance) (2022.1)\n",
      "Requirement already satisfied: six>=1.5 in c:\\users\\judie baker\\anaconda3\\lib\\site-packages (from python-dateutil>=2.7->matplotlib->mplfinance) (1.16.0)\n",
      "Installing collected packages: mplfinance\n",
      "Successfully installed mplfinance-0.12.9b7\n",
      "Note: you may need to restart the kernel to use updated packages.\n"
     ]
    }
   ],
   "source": [
    "pip install mplfinance"
   ]
  },
  {
   "cell_type": "code",
   "execution_count": 65,
   "id": "7f767f9c-b243-45e2-a6eb-f9e3ca791246",
   "metadata": {},
   "outputs": [
    {
     "data": {
      "text/plain": [
       "{'zip': '78725',\n",
       " 'sector': 'Consumer Cyclical',\n",
       " 'fullTimeEmployees': 99290,\n",
       " 'longBusinessSummary': 'Tesla, Inc. designs, develops, manufactures, leases, and sells electric vehicles, and energy generation and storage systems in the United States, China, and internationally. The company operates in two segments, Automotive, and Energy Generation and Storage. The Automotive segment offers electric vehicles, as well as sells automotive regulatory credits. It provides sedans and sport utility vehicles through direct and used vehicle sales, a network of Tesla Superchargers, and in-app upgrades; and purchase financing and leasing services. This segment is also involved in the provision of non-warranty after-sales vehicle services, sale of used vehicles, retail merchandise, and vehicle insurance, as well as sale of products to third party customers; services for electric vehicles through its company-owned service locations, and Tesla mobile service technicians; and vehicle limited warranties and extended service plans. The Energy Generation and Storage segment engages in the design, manufacture, installation, sale, and leasing of solar energy generation and energy storage products, and related services to residential, commercial, and industrial customers and utilities through its website, stores, and galleries, as well as through a network of channel partners. This segment also offers service and repairs to its energy product customers, including under warranty; and various financing options to its solar customers. The company was formerly known as Tesla Motors, Inc. and changed its name to Tesla, Inc. in February 2017. Tesla, Inc. was incorporated in 2003 and is headquartered in Austin, Texas.',\n",
       " 'city': 'Austin',\n",
       " 'phone': '(512) 516-8177',\n",
       " 'state': 'TX',\n",
       " 'country': 'United States',\n",
       " 'companyOfficers': [],\n",
       " 'website': 'https://www.tesla.com',\n",
       " 'maxAge': 1,\n",
       " 'address1': '13101 Tesla Road',\n",
       " 'industry': 'Auto Manufacturers',\n",
       " 'ebitdaMargins': 0.21385999,\n",
       " 'profitMargins': 0.14947,\n",
       " 'grossMargins': 0.26613,\n",
       " 'operatingCashflow': 16030999552,\n",
       " 'revenueGrowth': 0.559,\n",
       " 'operatingMargins': 0.16569,\n",
       " 'ebitda': 16010000384,\n",
       " 'targetLowPrice': 24.33,\n",
       " 'recommendationKey': 'buy',\n",
       " 'grossProfits': 13606000000,\n",
       " 'freeCashflow': 6553249792,\n",
       " 'targetMedianPrice': 275,\n",
       " 'currentPrice': 161.8434,\n",
       " 'earningsGrowth': 0.977,\n",
       " 'currentRatio': 1.462,\n",
       " 'returnOnAssets': 0.11723,\n",
       " 'numberOfAnalystOpinions': 37,\n",
       " 'targetMeanPrice': 263.11,\n",
       " 'debtToEquity': 14.284,\n",
       " 'returnOnEquity': 0.32242,\n",
       " 'targetHighPrice': 436,\n",
       " 'totalCash': 21106999296,\n",
       " 'totalDebt': 5873999872,\n",
       " 'totalRevenue': 74863001600,\n",
       " 'totalCashPerShare': 6.684,\n",
       " 'financialCurrency': 'USD',\n",
       " 'revenuePerShare': 24.151,\n",
       " 'quickRatio': 0.953,\n",
       " 'recommendationMean': 2.2,\n",
       " 'exchange': 'NMS',\n",
       " 'shortName': 'Tesla, Inc.',\n",
       " 'longName': 'Tesla, Inc.',\n",
       " 'exchangeTimezoneName': 'America/New_York',\n",
       " 'exchangeTimezoneShortName': 'EST',\n",
       " 'isEsgPopulated': False,\n",
       " 'gmtOffSetMilliseconds': '-18000000',\n",
       " 'quoteType': 'EQUITY',\n",
       " 'symbol': 'TSLA',\n",
       " 'messageBoardId': 'finmb_27444752',\n",
       " 'market': 'us_market',\n",
       " 'annualHoldingsTurnover': None,\n",
       " 'enterpriseToRevenue': 6.892,\n",
       " 'beta3Year': None,\n",
       " 'enterpriseToEbitda': 32.228,\n",
       " '52WeekChange': -0.47474724,\n",
       " 'morningStarRiskRating': None,\n",
       " 'forwardEps': 5.54,\n",
       " 'revenueQuarterlyGrowth': None,\n",
       " 'sharesOutstanding': 3157750016,\n",
       " 'fundInceptionDate': None,\n",
       " 'annualReportExpenseRatio': None,\n",
       " 'totalAssets': None,\n",
       " 'bookValue': 12.619,\n",
       " 'sharesShort': 77644542,\n",
       " 'sharesPercentSharesOut': 0.024600001,\n",
       " 'fundFamily': None,\n",
       " 'lastFiscalYearEnd': 1640908800,\n",
       " 'heldPercentInstitutions': 0.44777,\n",
       " 'netIncomeToCommon': 11187000320,\n",
       " 'trailingEps': 3.03,\n",
       " 'lastDividendValue': None,\n",
       " 'SandP52WeekChange': -0.13886869,\n",
       " 'priceToBook': 12.825374,\n",
       " 'heldPercentInsiders': 0.16324,\n",
       " 'nextFiscalYearEnd': 1703980800,\n",
       " 'yield': None,\n",
       " 'mostRecentQuarter': 1664496000,\n",
       " 'shortRatio': 0.88,\n",
       " 'sharesShortPreviousMonthDate': 1667174400,\n",
       " 'floatShares': 2663153683,\n",
       " 'beta': 1.912715,\n",
       " 'enterpriseValue': 515974004736,\n",
       " 'priceHint': 2,\n",
       " 'threeYearAverageReturn': None,\n",
       " 'lastSplitDate': 1661385600,\n",
       " 'lastSplitFactor': '3:1',\n",
       " 'legalType': None,\n",
       " 'lastDividendDate': None,\n",
       " 'morningStarOverallRating': None,\n",
       " 'earningsQuarterlyGrowth': 1.035,\n",
       " 'priceToSalesTrailing12Months': 6.8266163,\n",
       " 'dateShortInterest': 1669766400,\n",
       " 'pegRatio': 0.86,\n",
       " 'ytdReturn': None,\n",
       " 'forwardPE': 29.21361,\n",
       " 'lastCapGain': None,\n",
       " 'shortPercentOfFloat': 0.03,\n",
       " 'sharesShortPriorMonth': 76828235,\n",
       " 'impliedSharesOutstanding': 0,\n",
       " 'category': None,\n",
       " 'fiveYearAverageReturn': None,\n",
       " 'previousClose': 167.82,\n",
       " 'regularMarketOpen': 174.87,\n",
       " 'twoHundredDayAverage': 261.2979,\n",
       " 'trailingAnnualDividendYield': 0,\n",
       " 'payoutRatio': 0,\n",
       " 'volume24Hr': None,\n",
       " 'regularMarketDayHigh': 175,\n",
       " 'navPrice': None,\n",
       " 'averageDailyVolume10Day': 92736900,\n",
       " 'regularMarketPreviousClose': 167.82,\n",
       " 'fiftyDayAverage': 203.2476,\n",
       " 'trailingAnnualDividendRate': 0,\n",
       " 'open': 174.87,\n",
       " 'toCurrency': None,\n",
       " 'averageVolume10days': 92736900,\n",
       " 'expireDate': None,\n",
       " 'algorithm': None,\n",
       " 'dividendRate': None,\n",
       " 'exDividendDate': None,\n",
       " 'circulatingSupply': None,\n",
       " 'startDate': None,\n",
       " 'regularMarketDayLow': 156.91,\n",
       " 'currency': 'USD',\n",
       " 'trailingPE': 53.413662,\n",
       " 'regularMarketVolume': 158612611,\n",
       " 'lastMarket': None,\n",
       " 'maxSupply': None,\n",
       " 'openInterest': None,\n",
       " 'marketCap': 511061000192,\n",
       " 'volumeAllCurrencies': None,\n",
       " 'strikePrice': None,\n",
       " 'averageVolume': 82835134,\n",
       " 'dayLow': 156.91,\n",
       " 'ask': 161.08,\n",
       " 'askSize': 900,\n",
       " 'volume': 158612611,\n",
       " 'fiftyTwoWeekHigh': 402.66666,\n",
       " 'fromCurrency': None,\n",
       " 'fiveYearAvgDividendYield': None,\n",
       " 'fiftyTwoWeekLow': 156.91,\n",
       " 'bid': 160.95,\n",
       " 'tradeable': False,\n",
       " 'dividendYield': None,\n",
       " 'bidSize': 1000,\n",
       " 'dayHigh': 175,\n",
       " 'coinMarketCapLink': None,\n",
       " 'regularMarketPrice': 161.8434,\n",
       " 'preMarketPrice': 174.74,\n",
       " 'logo_url': 'https://logo.clearbit.com/tesla.com',\n",
       " 'trailingPegRatio': 1.463}"
      ]
     },
     "execution_count": 65,
     "metadata": {},
     "output_type": "execute_result"
    }
   ],
   "source": [
    "# basic information\n",
    "tsla = yf.Ticker('TSLA')\n",
    "tsla.info"
   ]
  },
  {
   "cell_type": "code",
   "execution_count": 93,
   "id": "0ff30461-907c-4627-9f34-8bdb52046ed0",
   "metadata": {},
   "outputs": [
    {
     "name": "stdout",
     "output_type": "stream",
     "text": [
      "Market Cap: 511061000192 \n",
      "\n"
     ]
    }
   ],
   "source": [
    "print(f'Market Cap: {tsla.info[\"marketCap\"]} \\n')"
   ]
  },
  {
   "cell_type": "code",
   "execution_count": 94,
   "id": "26099926-10d7-4fe6-a928-21054f855b1a",
   "metadata": {},
   "outputs": [
    {
     "name": "stdout",
     "output_type": "stream",
     "text": [
      "Employees: 99290\n",
      "\n"
     ]
    }
   ],
   "source": [
    "print(f'Employees: {tsla.info[\"fullTimeEmployees\"]}\\n')"
   ]
  },
  {
   "cell_type": "code",
   "execution_count": null,
   "id": "d762c7d2-de54-4899-a8df-0bcb6db1cc33",
   "metadata": {},
   "outputs": [],
   "source": [
    "print(f'Business Summary: {tsla.info[\"longBusinessSummary\"]}\\n')"
   ]
  },
  {
   "cell_type": "code",
   "execution_count": 68,
   "id": "0714f728-2c35-41b9-9a63-f4e2a859ed45",
   "metadata": {},
   "outputs": [
    {
     "data": {
      "text/html": [
       "<div>\n",
       "<style scoped>\n",
       "    .dataframe tbody tr th:only-of-type {\n",
       "        vertical-align: middle;\n",
       "    }\n",
       "\n",
       "    .dataframe tbody tr th {\n",
       "        vertical-align: top;\n",
       "    }\n",
       "\n",
       "    .dataframe thead th {\n",
       "        text-align: right;\n",
       "    }\n",
       "</style>\n",
       "<table border=\"1\" class=\"dataframe\">\n",
       "  <thead>\n",
       "    <tr style=\"text-align: right;\">\n",
       "      <th></th>\n",
       "      <th>Open</th>\n",
       "      <th>High</th>\n",
       "      <th>Low</th>\n",
       "      <th>Close</th>\n",
       "      <th>Volume</th>\n",
       "      <th>Dividends</th>\n",
       "      <th>Stock Splits</th>\n",
       "    </tr>\n",
       "    <tr>\n",
       "      <th>Date</th>\n",
       "      <th></th>\n",
       "      <th></th>\n",
       "      <th></th>\n",
       "      <th></th>\n",
       "      <th></th>\n",
       "      <th></th>\n",
       "      <th></th>\n",
       "    </tr>\n",
       "  </thead>\n",
       "  <tbody>\n",
       "    <tr>\n",
       "      <th>2022-12-07 00:00:00-05:00</th>\n",
       "      <td>175.029999</td>\n",
       "      <td>179.380005</td>\n",
       "      <td>172.220001</td>\n",
       "      <td>174.039993</td>\n",
       "      <td>84213300</td>\n",
       "      <td>0</td>\n",
       "      <td>0</td>\n",
       "    </tr>\n",
       "    <tr>\n",
       "      <th>2022-12-08 00:00:00-05:00</th>\n",
       "      <td>172.199997</td>\n",
       "      <td>175.199997</td>\n",
       "      <td>169.059998</td>\n",
       "      <td>173.440002</td>\n",
       "      <td>97624500</td>\n",
       "      <td>0</td>\n",
       "      <td>0</td>\n",
       "    </tr>\n",
       "    <tr>\n",
       "      <th>2022-12-09 00:00:00-05:00</th>\n",
       "      <td>173.839996</td>\n",
       "      <td>182.500000</td>\n",
       "      <td>173.360001</td>\n",
       "      <td>179.050003</td>\n",
       "      <td>104746600</td>\n",
       "      <td>0</td>\n",
       "      <td>0</td>\n",
       "    </tr>\n",
       "    <tr>\n",
       "      <th>2022-12-12 00:00:00-05:00</th>\n",
       "      <td>176.100006</td>\n",
       "      <td>177.369995</td>\n",
       "      <td>167.520004</td>\n",
       "      <td>167.820007</td>\n",
       "      <td>109794500</td>\n",
       "      <td>0</td>\n",
       "      <td>0</td>\n",
       "    </tr>\n",
       "    <tr>\n",
       "      <th>2022-12-13 00:00:00-05:00</th>\n",
       "      <td>174.869995</td>\n",
       "      <td>175.000000</td>\n",
       "      <td>156.910004</td>\n",
       "      <td>161.630005</td>\n",
       "      <td>160644711</td>\n",
       "      <td>0</td>\n",
       "      <td>0</td>\n",
       "    </tr>\n",
       "  </tbody>\n",
       "</table>\n",
       "</div>"
      ],
      "text/plain": [
       "                                 Open        High         Low       Close  \\\n",
       "Date                                                                        \n",
       "2022-12-07 00:00:00-05:00  175.029999  179.380005  172.220001  174.039993   \n",
       "2022-12-08 00:00:00-05:00  172.199997  175.199997  169.059998  173.440002   \n",
       "2022-12-09 00:00:00-05:00  173.839996  182.500000  173.360001  179.050003   \n",
       "2022-12-12 00:00:00-05:00  176.100006  177.369995  167.520004  167.820007   \n",
       "2022-12-13 00:00:00-05:00  174.869995  175.000000  156.910004  161.630005   \n",
       "\n",
       "                              Volume  Dividends  Stock Splits  \n",
       "Date                                                           \n",
       "2022-12-07 00:00:00-05:00   84213300          0             0  \n",
       "2022-12-08 00:00:00-05:00   97624500          0             0  \n",
       "2022-12-09 00:00:00-05:00  104746600          0             0  \n",
       "2022-12-12 00:00:00-05:00  109794500          0             0  \n",
       "2022-12-13 00:00:00-05:00  160644711          0             0  "
      ]
     },
     "execution_count": 68,
     "metadata": {},
     "output_type": "execute_result"
    }
   ],
   "source": [
    "tsla.history(period='5d')"
   ]
  },
  {
   "cell_type": "code",
   "execution_count": 69,
   "id": "c7038c04-4359-4df0-b45b-68ca099333dc",
   "metadata": {},
   "outputs": [
    {
     "data": {
      "text/html": [
       "<div>\n",
       "<style scoped>\n",
       "    .dataframe tbody tr th:only-of-type {\n",
       "        vertical-align: middle;\n",
       "    }\n",
       "\n",
       "    .dataframe tbody tr th {\n",
       "        vertical-align: top;\n",
       "    }\n",
       "\n",
       "    .dataframe thead th {\n",
       "        text-align: right;\n",
       "    }\n",
       "</style>\n",
       "<table border=\"1\" class=\"dataframe\">\n",
       "  <thead>\n",
       "    <tr style=\"text-align: right;\">\n",
       "      <th></th>\n",
       "      <th>Open</th>\n",
       "      <th>High</th>\n",
       "      <th>Low</th>\n",
       "      <th>Close</th>\n",
       "      <th>Volume</th>\n",
       "    </tr>\n",
       "    <tr>\n",
       "      <th>Date</th>\n",
       "      <th></th>\n",
       "      <th></th>\n",
       "      <th></th>\n",
       "      <th></th>\n",
       "      <th></th>\n",
       "    </tr>\n",
       "  </thead>\n",
       "  <tbody>\n",
       "    <tr>\n",
       "      <th>2022-12-07 00:00:00-05:00</th>\n",
       "      <td>175.029999</td>\n",
       "      <td>179.380005</td>\n",
       "      <td>172.220001</td>\n",
       "      <td>174.039993</td>\n",
       "      <td>84213300</td>\n",
       "    </tr>\n",
       "    <tr>\n",
       "      <th>2022-12-08 00:00:00-05:00</th>\n",
       "      <td>172.199997</td>\n",
       "      <td>175.199997</td>\n",
       "      <td>169.059998</td>\n",
       "      <td>173.440002</td>\n",
       "      <td>97624500</td>\n",
       "    </tr>\n",
       "    <tr>\n",
       "      <th>2022-12-09 00:00:00-05:00</th>\n",
       "      <td>173.839996</td>\n",
       "      <td>182.500000</td>\n",
       "      <td>173.360001</td>\n",
       "      <td>179.050003</td>\n",
       "      <td>104746600</td>\n",
       "    </tr>\n",
       "    <tr>\n",
       "      <th>2022-12-12 00:00:00-05:00</th>\n",
       "      <td>176.100006</td>\n",
       "      <td>177.369995</td>\n",
       "      <td>167.520004</td>\n",
       "      <td>167.820007</td>\n",
       "      <td>109794500</td>\n",
       "    </tr>\n",
       "    <tr>\n",
       "      <th>2022-12-13 00:00:00-05:00</th>\n",
       "      <td>174.869995</td>\n",
       "      <td>175.000000</td>\n",
       "      <td>156.910004</td>\n",
       "      <td>161.570007</td>\n",
       "      <td>160781273</td>\n",
       "    </tr>\n",
       "  </tbody>\n",
       "</table>\n",
       "</div>"
      ],
      "text/plain": [
       "                                 Open        High         Low       Close  \\\n",
       "Date                                                                        \n",
       "2022-12-07 00:00:00-05:00  175.029999  179.380005  172.220001  174.039993   \n",
       "2022-12-08 00:00:00-05:00  172.199997  175.199997  169.059998  173.440002   \n",
       "2022-12-09 00:00:00-05:00  173.839996  182.500000  173.360001  179.050003   \n",
       "2022-12-12 00:00:00-05:00  176.100006  177.369995  167.520004  167.820007   \n",
       "2022-12-13 00:00:00-05:00  174.869995  175.000000  156.910004  161.570007   \n",
       "\n",
       "                              Volume  \n",
       "Date                                  \n",
       "2022-12-07 00:00:00-05:00   84213300  \n",
       "2022-12-08 00:00:00-05:00   97624500  \n",
       "2022-12-09 00:00:00-05:00  104746600  \n",
       "2022-12-12 00:00:00-05:00  109794500  \n",
       "2022-12-13 00:00:00-05:00  160781273  "
      ]
     },
     "execution_count": 69,
     "metadata": {},
     "output_type": "execute_result"
    }
   ],
   "source": [
    "tsla.history(period='5d',actions=False)"
   ]
  },
  {
   "cell_type": "code",
   "execution_count": null,
   "id": "672e06ba-2113-4e4b-b5cb-8c120400d807",
   "metadata": {},
   "outputs": [],
   "source": [
    "tsla=yf.Ticker('tsla')\n",
    "tsla.history(start='2021-02-20', end='2021-03-01',actions=False)"
   ]
  },
  {
   "cell_type": "code",
   "execution_count": 73,
   "id": "32a0d69f-bb27-44bd-950d-68735f520ca7",
   "metadata": {},
   "outputs": [
    {
     "name": "stdout",
     "output_type": "stream",
     "text": [
      "[*********************100%***********************]  3 of 3 completed\n"
     ]
    }
   ],
   "source": [
    "# fetch multiple tickers\n",
    "# YTD: year to date refers to beginning of current calendar to the current date\n",
    "# useful in analyzing business trends over time comparing performance data with other competitors in same industry\n",
    "data = yf.download('AMZN AAPL TSLA', period='ytd',group_by='ticker',actions=False)\n",
    "amzn = data['AMZN']\n",
    "aapl = data['AAPL']"
   ]
  },
  {
   "cell_type": "code",
   "execution_count": 74,
   "id": "78c17010-a013-42f2-9834-e14a92a5a783",
   "metadata": {},
   "outputs": [
    {
     "data": {
      "text/html": [
       "<div>\n",
       "<style scoped>\n",
       "    .dataframe tbody tr th:only-of-type {\n",
       "        vertical-align: middle;\n",
       "    }\n",
       "\n",
       "    .dataframe tbody tr th {\n",
       "        vertical-align: top;\n",
       "    }\n",
       "\n",
       "    .dataframe thead th {\n",
       "        text-align: right;\n",
       "    }\n",
       "</style>\n",
       "<table border=\"1\" class=\"dataframe\">\n",
       "  <thead>\n",
       "    <tr style=\"text-align: right;\">\n",
       "      <th></th>\n",
       "      <th>Open</th>\n",
       "      <th>High</th>\n",
       "      <th>Low</th>\n",
       "      <th>Close</th>\n",
       "      <th>Adj Close</th>\n",
       "      <th>Volume</th>\n",
       "    </tr>\n",
       "    <tr>\n",
       "      <th>Date</th>\n",
       "      <th></th>\n",
       "      <th></th>\n",
       "      <th></th>\n",
       "      <th></th>\n",
       "      <th></th>\n",
       "      <th></th>\n",
       "    </tr>\n",
       "  </thead>\n",
       "  <tbody>\n",
       "    <tr>\n",
       "      <th>2022-01-03</th>\n",
       "      <td>167.550003</td>\n",
       "      <td>170.703506</td>\n",
       "      <td>166.160507</td>\n",
       "      <td>170.404495</td>\n",
       "      <td>170.404495</td>\n",
       "      <td>63520000</td>\n",
       "    </tr>\n",
       "    <tr>\n",
       "      <th>2022-01-04</th>\n",
       "      <td>170.438004</td>\n",
       "      <td>171.399994</td>\n",
       "      <td>166.349503</td>\n",
       "      <td>167.522003</td>\n",
       "      <td>167.522003</td>\n",
       "      <td>70726000</td>\n",
       "    </tr>\n",
       "    <tr>\n",
       "      <th>2022-01-05</th>\n",
       "      <td>166.882996</td>\n",
       "      <td>167.126495</td>\n",
       "      <td>164.356995</td>\n",
       "      <td>164.356995</td>\n",
       "      <td>164.356995</td>\n",
       "      <td>64302000</td>\n",
       "    </tr>\n",
       "    <tr>\n",
       "      <th>2022-01-06</th>\n",
       "      <td>163.450500</td>\n",
       "      <td>164.800003</td>\n",
       "      <td>161.936996</td>\n",
       "      <td>163.253998</td>\n",
       "      <td>163.253998</td>\n",
       "      <td>51958000</td>\n",
       "    </tr>\n",
       "    <tr>\n",
       "      <th>2022-01-07</th>\n",
       "      <td>163.839005</td>\n",
       "      <td>165.243500</td>\n",
       "      <td>162.031006</td>\n",
       "      <td>162.554001</td>\n",
       "      <td>162.554001</td>\n",
       "      <td>46606000</td>\n",
       "    </tr>\n",
       "  </tbody>\n",
       "</table>\n",
       "</div>"
      ],
      "text/plain": [
       "                  Open        High         Low       Close   Adj Close  \\\n",
       "Date                                                                     \n",
       "2022-01-03  167.550003  170.703506  166.160507  170.404495  170.404495   \n",
       "2022-01-04  170.438004  171.399994  166.349503  167.522003  167.522003   \n",
       "2022-01-05  166.882996  167.126495  164.356995  164.356995  164.356995   \n",
       "2022-01-06  163.450500  164.800003  161.936996  163.253998  163.253998   \n",
       "2022-01-07  163.839005  165.243500  162.031006  162.554001  162.554001   \n",
       "\n",
       "              Volume  \n",
       "Date                  \n",
       "2022-01-03  63520000  \n",
       "2022-01-04  70726000  \n",
       "2022-01-05  64302000  \n",
       "2022-01-06  51958000  \n",
       "2022-01-07  46606000  "
      ]
     },
     "execution_count": 74,
     "metadata": {},
     "output_type": "execute_result"
    }
   ],
   "source": [
    "amzn.head()"
   ]
  },
  {
   "cell_type": "code",
   "execution_count": 75,
   "id": "f60c141e-8052-4ae6-b652-3e5778c3e3b3",
   "metadata": {},
   "outputs": [],
   "source": [
    "amzn.to_csv('documents/AMZN.csv')"
   ]
  },
  {
   "cell_type": "code",
   "execution_count": 85,
   "id": "9dfeae33-b09b-4d59-ac4e-ee0b906f415e",
   "metadata": {},
   "outputs": [
    {
     "data": {
      "text/html": [
       "<div>\n",
       "<style scoped>\n",
       "    .dataframe tbody tr th:only-of-type {\n",
       "        vertical-align: middle;\n",
       "    }\n",
       "\n",
       "    .dataframe tbody tr th {\n",
       "        vertical-align: top;\n",
       "    }\n",
       "\n",
       "    .dataframe thead th {\n",
       "        text-align: right;\n",
       "    }\n",
       "</style>\n",
       "<table border=\"1\" class=\"dataframe\">\n",
       "  <thead>\n",
       "    <tr style=\"text-align: right;\">\n",
       "      <th></th>\n",
       "      <th>Dividends</th>\n",
       "      <th>Stock Splits</th>\n",
       "    </tr>\n",
       "    <tr>\n",
       "      <th>Date</th>\n",
       "      <th></th>\n",
       "      <th></th>\n",
       "    </tr>\n",
       "  </thead>\n",
       "  <tbody>\n",
       "    <tr>\n",
       "      <th>2021-11-05 00:00:00-04:00</th>\n",
       "      <td>0.22</td>\n",
       "      <td>0.0</td>\n",
       "    </tr>\n",
       "    <tr>\n",
       "      <th>2022-02-04 00:00:00-05:00</th>\n",
       "      <td>0.22</td>\n",
       "      <td>0.0</td>\n",
       "    </tr>\n",
       "    <tr>\n",
       "      <th>2022-05-06 00:00:00-04:00</th>\n",
       "      <td>0.23</td>\n",
       "      <td>0.0</td>\n",
       "    </tr>\n",
       "    <tr>\n",
       "      <th>2022-08-05 00:00:00-04:00</th>\n",
       "      <td>0.23</td>\n",
       "      <td>0.0</td>\n",
       "    </tr>\n",
       "    <tr>\n",
       "      <th>2022-11-04 00:00:00-04:00</th>\n",
       "      <td>0.23</td>\n",
       "      <td>0.0</td>\n",
       "    </tr>\n",
       "  </tbody>\n",
       "</table>\n",
       "</div>"
      ],
      "text/plain": [
       "                           Dividends  Stock Splits\n",
       "Date                                              \n",
       "2021-11-05 00:00:00-04:00       0.22           0.0\n",
       "2022-02-04 00:00:00-05:00       0.22           0.0\n",
       "2022-05-06 00:00:00-04:00       0.23           0.0\n",
       "2022-08-05 00:00:00-04:00       0.23           0.0\n",
       "2022-11-04 00:00:00-04:00       0.23           0.0"
      ]
     },
     "execution_count": 85,
     "metadata": {},
     "output_type": "execute_result"
    }
   ],
   "source": [
    "aapl = yf.Ticker('AAPL')\n",
    "aapl.actions.tail(5)"
   ]
  },
  {
   "cell_type": "code",
   "execution_count": 86,
   "id": "823ce81e-db4e-4137-9ed7-b7c604300d87",
   "metadata": {},
   "outputs": [
    {
     "data": {
      "text/html": [
       "<div>\n",
       "<style scoped>\n",
       "    .dataframe tbody tr th:only-of-type {\n",
       "        vertical-align: middle;\n",
       "    }\n",
       "\n",
       "    .dataframe tbody tr th {\n",
       "        vertical-align: top;\n",
       "    }\n",
       "\n",
       "    .dataframe thead th {\n",
       "        text-align: right;\n",
       "    }\n",
       "</style>\n",
       "<table border=\"1\" class=\"dataframe\">\n",
       "  <thead>\n",
       "    <tr style=\"text-align: right;\">\n",
       "      <th></th>\n",
       "      <th>0</th>\n",
       "      <th>1</th>\n",
       "    </tr>\n",
       "  </thead>\n",
       "  <tbody>\n",
       "    <tr>\n",
       "      <th>0</th>\n",
       "      <td>0.07%</td>\n",
       "      <td>% of Shares Held by All Insider</td>\n",
       "    </tr>\n",
       "    <tr>\n",
       "      <th>1</th>\n",
       "      <td>60.02%</td>\n",
       "      <td>% of Shares Held by Institutions</td>\n",
       "    </tr>\n",
       "    <tr>\n",
       "      <th>2</th>\n",
       "      <td>60.07%</td>\n",
       "      <td>% of Float Held by Institutions</td>\n",
       "    </tr>\n",
       "    <tr>\n",
       "      <th>3</th>\n",
       "      <td>5522</td>\n",
       "      <td>Number of Institutions Holding Shares</td>\n",
       "    </tr>\n",
       "  </tbody>\n",
       "</table>\n",
       "</div>"
      ],
      "text/plain": [
       "        0                                      1\n",
       "0   0.07%        % of Shares Held by All Insider\n",
       "1  60.02%       % of Shares Held by Institutions\n",
       "2  60.07%        % of Float Held by Institutions\n",
       "3    5522  Number of Institutions Holding Shares"
      ]
     },
     "execution_count": 86,
     "metadata": {},
     "output_type": "execute_result"
    }
   ],
   "source": [
    "aapl.major_holders"
   ]
  },
  {
   "cell_type": "code",
   "execution_count": 87,
   "id": "cba64c39-8de1-4244-9999-5d56ce2b69d7",
   "metadata": {},
   "outputs": [
    {
     "data": {
      "text/html": [
       "<div>\n",
       "<style scoped>\n",
       "    .dataframe tbody tr th:only-of-type {\n",
       "        vertical-align: middle;\n",
       "    }\n",
       "\n",
       "    .dataframe tbody tr th {\n",
       "        vertical-align: top;\n",
       "    }\n",
       "\n",
       "    .dataframe thead th {\n",
       "        text-align: right;\n",
       "    }\n",
       "</style>\n",
       "<table border=\"1\" class=\"dataframe\">\n",
       "  <thead>\n",
       "    <tr style=\"text-align: right;\">\n",
       "      <th></th>\n",
       "      <th>Firm</th>\n",
       "      <th>To Grade</th>\n",
       "      <th>From Grade</th>\n",
       "      <th>Action</th>\n",
       "    </tr>\n",
       "    <tr>\n",
       "      <th>Date</th>\n",
       "      <th></th>\n",
       "      <th></th>\n",
       "      <th></th>\n",
       "      <th></th>\n",
       "    </tr>\n",
       "  </thead>\n",
       "  <tbody>\n",
       "    <tr>\n",
       "      <th>2022-10-28 13:19:17</th>\n",
       "      <td>Wedbush</td>\n",
       "      <td>Outperform</td>\n",
       "      <td></td>\n",
       "      <td>main</td>\n",
       "    </tr>\n",
       "    <tr>\n",
       "      <th>2022-11-07 12:39:27</th>\n",
       "      <td>Barclays</td>\n",
       "      <td>Equal-Weight</td>\n",
       "      <td></td>\n",
       "      <td>main</td>\n",
       "    </tr>\n",
       "    <tr>\n",
       "      <th>2022-11-07 13:08:30</th>\n",
       "      <td>B of A Securities</td>\n",
       "      <td>Neutral</td>\n",
       "      <td></td>\n",
       "      <td>main</td>\n",
       "    </tr>\n",
       "    <tr>\n",
       "      <th>2022-11-08 12:14:23</th>\n",
       "      <td>Morgan Stanley</td>\n",
       "      <td>Overweight</td>\n",
       "      <td></td>\n",
       "      <td>main</td>\n",
       "    </tr>\n",
       "    <tr>\n",
       "      <th>2022-11-08 12:17:03</th>\n",
       "      <td>UBS</td>\n",
       "      <td>Buy</td>\n",
       "      <td></td>\n",
       "      <td>main</td>\n",
       "    </tr>\n",
       "  </tbody>\n",
       "</table>\n",
       "</div>"
      ],
      "text/plain": [
       "                                  Firm      To Grade From Grade Action\n",
       "Date                                                                  \n",
       "2022-10-28 13:19:17            Wedbush    Outperform              main\n",
       "2022-11-07 12:39:27           Barclays  Equal-Weight              main\n",
       "2022-11-07 13:08:30  B of A Securities       Neutral              main\n",
       "2022-11-08 12:14:23     Morgan Stanley    Overweight              main\n",
       "2022-11-08 12:17:03                UBS           Buy              main"
      ]
     },
     "execution_count": 87,
     "metadata": {},
     "output_type": "execute_result"
    }
   ],
   "source": [
    "# tail for the latest data\n",
    "aapl.recommendations.tail()"
   ]
  },
  {
   "cell_type": "code",
   "execution_count": 88,
   "id": "87fb48cc-6bb6-4eb4-954d-98c9f22859f8",
   "metadata": {},
   "outputs": [
    {
     "data": {
      "text/html": [
       "<div>\n",
       "<style scoped>\n",
       "    .dataframe tbody tr th:only-of-type {\n",
       "        vertical-align: middle;\n",
       "    }\n",
       "\n",
       "    .dataframe tbody tr th {\n",
       "        vertical-align: top;\n",
       "    }\n",
       "\n",
       "    .dataframe thead th {\n",
       "        text-align: right;\n",
       "    }\n",
       "</style>\n",
       "<table border=\"1\" class=\"dataframe\">\n",
       "  <thead>\n",
       "    <tr style=\"text-align: right;\">\n",
       "      <th></th>\n",
       "      <th>0</th>\n",
       "      <th>1</th>\n",
       "    </tr>\n",
       "  </thead>\n",
       "  <tbody>\n",
       "    <tr>\n",
       "      <th>Earnings Date</th>\n",
       "      <td>2023-01-25 10:59:00</td>\n",
       "      <td>2023-01-30 12:00:00</td>\n",
       "    </tr>\n",
       "    <tr>\n",
       "      <th>Earnings Average</th>\n",
       "      <td>1.99</td>\n",
       "      <td>1.99</td>\n",
       "    </tr>\n",
       "    <tr>\n",
       "      <th>Earnings Low</th>\n",
       "      <td>1.86</td>\n",
       "      <td>1.86</td>\n",
       "    </tr>\n",
       "    <tr>\n",
       "      <th>Earnings High</th>\n",
       "      <td>2.12</td>\n",
       "      <td>2.12</td>\n",
       "    </tr>\n",
       "    <tr>\n",
       "      <th>Revenue Average</th>\n",
       "      <td>123264000000</td>\n",
       "      <td>123264000000</td>\n",
       "    </tr>\n",
       "    <tr>\n",
       "      <th>Revenue Low</th>\n",
       "      <td>117305000000</td>\n",
       "      <td>117305000000</td>\n",
       "    </tr>\n",
       "    <tr>\n",
       "      <th>Revenue High</th>\n",
       "      <td>129379000000</td>\n",
       "      <td>129379000000</td>\n",
       "    </tr>\n",
       "  </tbody>\n",
       "</table>\n",
       "</div>"
      ],
      "text/plain": [
       "                                    0                    1\n",
       "Earnings Date     2023-01-25 10:59:00  2023-01-30 12:00:00\n",
       "Earnings Average                 1.99                 1.99\n",
       "Earnings Low                     1.86                 1.86\n",
       "Earnings High                    2.12                 2.12\n",
       "Revenue Average          123264000000         123264000000\n",
       "Revenue Low              117305000000         117305000000\n",
       "Revenue High             129379000000         129379000000"
      ]
     },
     "execution_count": 88,
     "metadata": {},
     "output_type": "execute_result"
    }
   ],
   "source": [
    "aapl.calendar"
   ]
  },
  {
   "cell_type": "code",
   "execution_count": 89,
   "id": "b18d1914-2f19-4688-9e5c-9248ee61c52d",
   "metadata": {},
   "outputs": [
    {
     "data": {
      "text/plain": [
       "'US0378331005'"
      ]
     },
     "execution_count": 89,
     "metadata": {},
     "output_type": "execute_result"
    }
   ],
   "source": [
    "# ISIN: 12 digit number\n",
    "aapl.isin"
   ]
  },
  {
   "cell_type": "code",
   "execution_count": null,
   "id": "01d2dc35-5c00-4132-8b1b-ccfb9dbb335c",
   "metadata": {},
   "outputs": [],
   "source": [
    "# corr means movement of stock with benchmark index\n",
    "# ranges from -1 and 1 both inclusive\n",
    "    # if r = 1 perfect positive corr\n",
    "    # if r = -1 perfect negative corr\n",
    "    # if r = 0 no corr"
   ]
  },
  {
   "cell_type": "code",
   "execution_count": 102,
   "id": "8ae4ab70-ba6c-4332-9aa8-85f801a103ba",
   "metadata": {},
   "outputs": [
    {
     "data": {
      "text/html": [
       "<div>\n",
       "<style scoped>\n",
       "    .dataframe tbody tr th:only-of-type {\n",
       "        vertical-align: middle;\n",
       "    }\n",
       "\n",
       "    .dataframe tbody tr th {\n",
       "        vertical-align: top;\n",
       "    }\n",
       "\n",
       "    .dataframe thead th {\n",
       "        text-align: right;\n",
       "    }\n",
       "</style>\n",
       "<table border=\"1\" class=\"dataframe\">\n",
       "  <thead>\n",
       "    <tr style=\"text-align: right;\">\n",
       "      <th>Symbols</th>\n",
       "      <th>AAPL</th>\n",
       "      <th>MSFT</th>\n",
       "      <th>NFLX</th>\n",
       "      <th>IBM</th>\n",
       "    </tr>\n",
       "    <tr>\n",
       "      <th>Date</th>\n",
       "      <th></th>\n",
       "      <th></th>\n",
       "      <th></th>\n",
       "      <th></th>\n",
       "    </tr>\n",
       "  </thead>\n",
       "  <tbody>\n",
       "    <tr>\n",
       "      <th>2020-01-02</th>\n",
       "      <td>73.561539</td>\n",
       "      <td>156.151947</td>\n",
       "      <td>329.809998</td>\n",
       "      <td>111.586494</td>\n",
       "    </tr>\n",
       "    <tr>\n",
       "      <th>2020-01-03</th>\n",
       "      <td>72.846367</td>\n",
       "      <td>154.207596</td>\n",
       "      <td>325.899994</td>\n",
       "      <td>110.696579</td>\n",
       "    </tr>\n",
       "    <tr>\n",
       "      <th>2020-01-06</th>\n",
       "      <td>73.426826</td>\n",
       "      <td>154.606201</td>\n",
       "      <td>335.829987</td>\n",
       "      <td>110.498833</td>\n",
       "    </tr>\n",
       "    <tr>\n",
       "      <th>2020-01-07</th>\n",
       "      <td>73.081490</td>\n",
       "      <td>153.196533</td>\n",
       "      <td>330.750000</td>\n",
       "      <td>110.572975</td>\n",
       "    </tr>\n",
       "    <tr>\n",
       "      <th>2020-01-08</th>\n",
       "      <td>74.257118</td>\n",
       "      <td>155.636673</td>\n",
       "      <td>339.260010</td>\n",
       "      <td>111.495872</td>\n",
       "    </tr>\n",
       "  </tbody>\n",
       "</table>\n",
       "</div>"
      ],
      "text/plain": [
       "Symbols          AAPL        MSFT        NFLX         IBM\n",
       "Date                                                     \n",
       "2020-01-02  73.561539  156.151947  329.809998  111.586494\n",
       "2020-01-03  72.846367  154.207596  325.899994  110.696579\n",
       "2020-01-06  73.426826  154.606201  335.829987  110.498833\n",
       "2020-01-07  73.081490  153.196533  330.750000  110.572975\n",
       "2020-01-08  74.257118  155.636673  339.260010  111.495872"
      ]
     },
     "execution_count": 102,
     "metadata": {},
     "output_type": "execute_result"
    }
   ],
   "source": [
    "tickers = ['AAPL','MSFT','NFLX','IBM']\n",
    "start = dt.datetime(2020,1,1)\n",
    "data = pdr.get_data_yahoo(tickers,start)\n",
    "data = data['Adj Close']\n",
    "data.head()"
   ]
  },
  {
   "cell_type": "code",
   "execution_count": 103,
   "id": "bf9a8a9e-0ce8-439d-a1a0-c8bbe2c0b650",
   "metadata": {},
   "outputs": [
    {
     "data": {
      "text/html": [
       "<div>\n",
       "<style scoped>\n",
       "    .dataframe tbody tr th:only-of-type {\n",
       "        vertical-align: middle;\n",
       "    }\n",
       "\n",
       "    .dataframe tbody tr th {\n",
       "        vertical-align: top;\n",
       "    }\n",
       "\n",
       "    .dataframe thead th {\n",
       "        text-align: right;\n",
       "    }\n",
       "</style>\n",
       "<table border=\"1\" class=\"dataframe\">\n",
       "  <thead>\n",
       "    <tr style=\"text-align: right;\">\n",
       "      <th>Symbols</th>\n",
       "      <th>AAPL</th>\n",
       "      <th>MSFT</th>\n",
       "      <th>NFLX</th>\n",
       "      <th>IBM</th>\n",
       "    </tr>\n",
       "    <tr>\n",
       "      <th>Date</th>\n",
       "      <th></th>\n",
       "      <th></th>\n",
       "      <th></th>\n",
       "      <th></th>\n",
       "    </tr>\n",
       "  </thead>\n",
       "  <tbody>\n",
       "    <tr>\n",
       "      <th>2020-01-02</th>\n",
       "      <td>NaN</td>\n",
       "      <td>NaN</td>\n",
       "      <td>NaN</td>\n",
       "      <td>NaN</td>\n",
       "    </tr>\n",
       "    <tr>\n",
       "      <th>2020-01-03</th>\n",
       "      <td>-0.009770</td>\n",
       "      <td>-0.012530</td>\n",
       "      <td>-0.011926</td>\n",
       "      <td>-0.008007</td>\n",
       "    </tr>\n",
       "    <tr>\n",
       "      <th>2020-01-06</th>\n",
       "      <td>0.007937</td>\n",
       "      <td>0.002582</td>\n",
       "      <td>0.030014</td>\n",
       "      <td>-0.001788</td>\n",
       "    </tr>\n",
       "    <tr>\n",
       "      <th>2020-01-07</th>\n",
       "      <td>-0.004714</td>\n",
       "      <td>-0.009160</td>\n",
       "      <td>-0.015242</td>\n",
       "      <td>0.000671</td>\n",
       "    </tr>\n",
       "    <tr>\n",
       "      <th>2020-01-08</th>\n",
       "      <td>0.015959</td>\n",
       "      <td>0.015803</td>\n",
       "      <td>0.025404</td>\n",
       "      <td>0.008312</td>\n",
       "    </tr>\n",
       "    <tr>\n",
       "      <th>...</th>\n",
       "      <td>...</td>\n",
       "      <td>...</td>\n",
       "      <td>...</td>\n",
       "      <td>...</td>\n",
       "    </tr>\n",
       "    <tr>\n",
       "      <th>2022-12-07</th>\n",
       "      <td>-0.013881</td>\n",
       "      <td>-0.003064</td>\n",
       "      <td>0.009316</td>\n",
       "      <td>-0.001561</td>\n",
       "    </tr>\n",
       "    <tr>\n",
       "      <th>2022-12-08</th>\n",
       "      <td>0.012060</td>\n",
       "      <td>0.012323</td>\n",
       "      <td>0.005948</td>\n",
       "      <td>0.003457</td>\n",
       "    </tr>\n",
       "    <tr>\n",
       "      <th>2022-12-09</th>\n",
       "      <td>-0.003441</td>\n",
       "      <td>-0.008035</td>\n",
       "      <td>0.030942</td>\n",
       "      <td>-0.004952</td>\n",
       "    </tr>\n",
       "    <tr>\n",
       "      <th>2022-12-12</th>\n",
       "      <td>0.016257</td>\n",
       "      <td>0.028480</td>\n",
       "      <td>-0.015208</td>\n",
       "      <td>0.014582</td>\n",
       "    </tr>\n",
       "    <tr>\n",
       "      <th>2022-12-13</th>\n",
       "      <td>0.006760</td>\n",
       "      <td>0.017314</td>\n",
       "      <td>0.016239</td>\n",
       "      <td>0.009073</td>\n",
       "    </tr>\n",
       "  </tbody>\n",
       "</table>\n",
       "<p>744 rows × 4 columns</p>\n",
       "</div>"
      ],
      "text/plain": [
       "Symbols         AAPL      MSFT      NFLX       IBM\n",
       "Date                                              \n",
       "2020-01-02       NaN       NaN       NaN       NaN\n",
       "2020-01-03 -0.009770 -0.012530 -0.011926 -0.008007\n",
       "2020-01-06  0.007937  0.002582  0.030014 -0.001788\n",
       "2020-01-07 -0.004714 -0.009160 -0.015242  0.000671\n",
       "2020-01-08  0.015959  0.015803  0.025404  0.008312\n",
       "...              ...       ...       ...       ...\n",
       "2022-12-07 -0.013881 -0.003064  0.009316 -0.001561\n",
       "2022-12-08  0.012060  0.012323  0.005948  0.003457\n",
       "2022-12-09 -0.003441 -0.008035  0.030942 -0.004952\n",
       "2022-12-12  0.016257  0.028480 -0.015208  0.014582\n",
       "2022-12-13  0.006760  0.017314  0.016239  0.009073\n",
       "\n",
       "[744 rows x 4 columns]"
      ]
     },
     "execution_count": 103,
     "metadata": {},
     "output_type": "execute_result"
    }
   ],
   "source": [
    "lr = np.log(data/data.shift())\n",
    "lr"
   ]
  },
  {
   "cell_type": "code",
   "execution_count": 104,
   "id": "d119937b-1776-4d9c-a897-3ebb93174033",
   "metadata": {},
   "outputs": [
    {
     "data": {
      "text/html": [
       "<div>\n",
       "<style scoped>\n",
       "    .dataframe tbody tr th:only-of-type {\n",
       "        vertical-align: middle;\n",
       "    }\n",
       "\n",
       "    .dataframe tbody tr th {\n",
       "        vertical-align: top;\n",
       "    }\n",
       "\n",
       "    .dataframe thead th {\n",
       "        text-align: right;\n",
       "    }\n",
       "</style>\n",
       "<table border=\"1\" class=\"dataframe\">\n",
       "  <thead>\n",
       "    <tr style=\"text-align: right;\">\n",
       "      <th>Symbols</th>\n",
       "      <th>AAPL</th>\n",
       "      <th>MSFT</th>\n",
       "      <th>NFLX</th>\n",
       "      <th>IBM</th>\n",
       "    </tr>\n",
       "    <tr>\n",
       "      <th>Symbols</th>\n",
       "      <th></th>\n",
       "      <th></th>\n",
       "      <th></th>\n",
       "      <th></th>\n",
       "    </tr>\n",
       "  </thead>\n",
       "  <tbody>\n",
       "    <tr>\n",
       "      <th>AAPL</th>\n",
       "      <td>1.000000</td>\n",
       "      <td>0.813227</td>\n",
       "      <td>0.465445</td>\n",
       "      <td>0.457473</td>\n",
       "    </tr>\n",
       "    <tr>\n",
       "      <th>MSFT</th>\n",
       "      <td>0.813227</td>\n",
       "      <td>1.000000</td>\n",
       "      <td>0.487225</td>\n",
       "      <td>0.476320</td>\n",
       "    </tr>\n",
       "    <tr>\n",
       "      <th>NFLX</th>\n",
       "      <td>0.465445</td>\n",
       "      <td>0.487225</td>\n",
       "      <td>1.000000</td>\n",
       "      <td>0.099000</td>\n",
       "    </tr>\n",
       "    <tr>\n",
       "      <th>IBM</th>\n",
       "      <td>0.457473</td>\n",
       "      <td>0.476320</td>\n",
       "      <td>0.099000</td>\n",
       "      <td>1.000000</td>\n",
       "    </tr>\n",
       "  </tbody>\n",
       "</table>\n",
       "</div>"
      ],
      "text/plain": [
       "Symbols      AAPL      MSFT      NFLX       IBM\n",
       "Symbols                                        \n",
       "AAPL     1.000000  0.813227  0.465445  0.457473\n",
       "MSFT     0.813227  1.000000  0.487225  0.476320\n",
       "NFLX     0.465445  0.487225  1.000000  0.099000\n",
       "IBM      0.457473  0.476320  0.099000  1.000000"
      ]
     },
     "execution_count": 104,
     "metadata": {},
     "output_type": "execute_result"
    }
   ],
   "source": [
    "lr.corr()"
   ]
  },
  {
   "cell_type": "code",
   "execution_count": 116,
   "id": "e7fd532d-074d-4fd5-b829-7eb3fbe1ddee",
   "metadata": {},
   "outputs": [
    {
     "data": {
      "text/html": [
       "<div>\n",
       "<style scoped>\n",
       "    .dataframe tbody tr th:only-of-type {\n",
       "        vertical-align: middle;\n",
       "    }\n",
       "\n",
       "    .dataframe tbody tr th {\n",
       "        vertical-align: top;\n",
       "    }\n",
       "\n",
       "    .dataframe thead th {\n",
       "        text-align: right;\n",
       "    }\n",
       "</style>\n",
       "<table border=\"1\" class=\"dataframe\">\n",
       "  <thead>\n",
       "    <tr style=\"text-align: right;\">\n",
       "      <th></th>\n",
       "      <th>High</th>\n",
       "      <th>Low</th>\n",
       "      <th>Open</th>\n",
       "      <th>Close</th>\n",
       "      <th>Volume</th>\n",
       "      <th>Adj Close</th>\n",
       "    </tr>\n",
       "    <tr>\n",
       "      <th>Date</th>\n",
       "      <th></th>\n",
       "      <th></th>\n",
       "      <th></th>\n",
       "      <th></th>\n",
       "      <th></th>\n",
       "      <th></th>\n",
       "    </tr>\n",
       "  </thead>\n",
       "  <tbody>\n",
       "    <tr>\n",
       "      <th>2020-01-02</th>\n",
       "      <td>3258.139893</td>\n",
       "      <td>3235.530029</td>\n",
       "      <td>3244.669922</td>\n",
       "      <td>3257.850098</td>\n",
       "      <td>3459930000</td>\n",
       "      <td>3257.850098</td>\n",
       "    </tr>\n",
       "    <tr>\n",
       "      <th>2020-01-03</th>\n",
       "      <td>3246.149902</td>\n",
       "      <td>3222.340088</td>\n",
       "      <td>3226.360107</td>\n",
       "      <td>3234.850098</td>\n",
       "      <td>3484700000</td>\n",
       "      <td>3234.850098</td>\n",
       "    </tr>\n",
       "    <tr>\n",
       "      <th>2020-01-06</th>\n",
       "      <td>3246.840088</td>\n",
       "      <td>3214.639893</td>\n",
       "      <td>3217.550049</td>\n",
       "      <td>3246.280029</td>\n",
       "      <td>3702460000</td>\n",
       "      <td>3246.280029</td>\n",
       "    </tr>\n",
       "    <tr>\n",
       "      <th>2020-01-07</th>\n",
       "      <td>3244.909912</td>\n",
       "      <td>3232.429932</td>\n",
       "      <td>3241.860107</td>\n",
       "      <td>3237.179932</td>\n",
       "      <td>3435910000</td>\n",
       "      <td>3237.179932</td>\n",
       "    </tr>\n",
       "    <tr>\n",
       "      <th>2020-01-08</th>\n",
       "      <td>3267.070068</td>\n",
       "      <td>3236.669922</td>\n",
       "      <td>3238.590088</td>\n",
       "      <td>3253.050049</td>\n",
       "      <td>3726840000</td>\n",
       "      <td>3253.050049</td>\n",
       "    </tr>\n",
       "    <tr>\n",
       "      <th>...</th>\n",
       "      <td>...</td>\n",
       "      <td>...</td>\n",
       "      <td>...</td>\n",
       "      <td>...</td>\n",
       "      <td>...</td>\n",
       "      <td>...</td>\n",
       "    </tr>\n",
       "    <tr>\n",
       "      <th>2022-12-07</th>\n",
       "      <td>3957.570068</td>\n",
       "      <td>3922.679932</td>\n",
       "      <td>3933.280029</td>\n",
       "      <td>3933.919922</td>\n",
       "      <td>4118050000</td>\n",
       "      <td>3933.919922</td>\n",
       "    </tr>\n",
       "    <tr>\n",
       "      <th>2022-12-08</th>\n",
       "      <td>3974.189941</td>\n",
       "      <td>3935.830078</td>\n",
       "      <td>3947.790039</td>\n",
       "      <td>3963.510010</td>\n",
       "      <td>4006900000</td>\n",
       "      <td>3963.510010</td>\n",
       "    </tr>\n",
       "    <tr>\n",
       "      <th>2022-12-09</th>\n",
       "      <td>3977.020020</td>\n",
       "      <td>3933.040039</td>\n",
       "      <td>3954.169922</td>\n",
       "      <td>3934.379883</td>\n",
       "      <td>3888260000</td>\n",
       "      <td>3934.379883</td>\n",
       "    </tr>\n",
       "    <tr>\n",
       "      <th>2022-12-12</th>\n",
       "      <td>3990.709961</td>\n",
       "      <td>3935.300049</td>\n",
       "      <td>3939.290039</td>\n",
       "      <td>3990.560059</td>\n",
       "      <td>3904130000</td>\n",
       "      <td>3990.560059</td>\n",
       "    </tr>\n",
       "    <tr>\n",
       "      <th>2022-12-13</th>\n",
       "      <td>4100.959961</td>\n",
       "      <td>3993.030029</td>\n",
       "      <td>4069.379883</td>\n",
       "      <td>4019.649902</td>\n",
       "      <td>3069418000</td>\n",
       "      <td>4019.649902</td>\n",
       "    </tr>\n",
       "  </tbody>\n",
       "</table>\n",
       "<p>744 rows × 6 columns</p>\n",
       "</div>"
      ],
      "text/plain": [
       "                   High          Low         Open        Close      Volume  \\\n",
       "Date                                                                         \n",
       "2020-01-02  3258.139893  3235.530029  3244.669922  3257.850098  3459930000   \n",
       "2020-01-03  3246.149902  3222.340088  3226.360107  3234.850098  3484700000   \n",
       "2020-01-06  3246.840088  3214.639893  3217.550049  3246.280029  3702460000   \n",
       "2020-01-07  3244.909912  3232.429932  3241.860107  3237.179932  3435910000   \n",
       "2020-01-08  3267.070068  3236.669922  3238.590088  3253.050049  3726840000   \n",
       "...                 ...          ...          ...          ...         ...   \n",
       "2022-12-07  3957.570068  3922.679932  3933.280029  3933.919922  4118050000   \n",
       "2022-12-08  3974.189941  3935.830078  3947.790039  3963.510010  4006900000   \n",
       "2022-12-09  3977.020020  3933.040039  3954.169922  3934.379883  3888260000   \n",
       "2022-12-12  3990.709961  3935.300049  3939.290039  3990.560059  3904130000   \n",
       "2022-12-13  4100.959961  3993.030029  4069.379883  4019.649902  3069418000   \n",
       "\n",
       "              Adj Close  \n",
       "Date                     \n",
       "2020-01-02  3257.850098  \n",
       "2020-01-03  3234.850098  \n",
       "2020-01-06  3246.280029  \n",
       "2020-01-07  3237.179932  \n",
       "2020-01-08  3253.050049  \n",
       "...                 ...  \n",
       "2022-12-07  3933.919922  \n",
       "2022-12-08  3963.510010  \n",
       "2022-12-09  3934.379883  \n",
       "2022-12-12  3990.560059  \n",
       "2022-12-13  4019.649902  \n",
       "\n",
       "[744 rows x 6 columns]"
      ]
     },
     "execution_count": 116,
     "metadata": {},
     "output_type": "execute_result"
    }
   ],
   "source": [
    "# S&P 500 index: standard or poor index that tracts the performance of 500 largest cap companies in US\n",
    "# ^GSPC\n",
    "sp500 = pdr.get_data_yahoo('^GSPC',start)\n",
    "sp500"
   ]
  },
  {
   "cell_type": "code",
   "execution_count": 117,
   "id": "edd60d18-a611-4244-b840-0b38f31e9b86",
   "metadata": {},
   "outputs": [
    {
     "data": {
      "text/plain": [
       "Date\n",
       "2017-12-14 00:00:00                                                  NaN\n",
       "2017-12-15 00:00:00                                             0.008934\n",
       "2017-12-18 00:00:00                                             0.005348\n",
       "2017-12-19 00:00:00                                            -0.003235\n",
       "2017-12-20 00:00:00                                            -0.000828\n",
       "                                             ...                        \n",
       "2022-12-08 00:00:00                                             0.007494\n",
       "2022-12-09 00:00:00                                            -0.007377\n",
       "2022-12-12 00:00:00                                             0.014178\n",
       "2022-12-13 00:00:00                                             0.007263\n",
       "SP500                  Date\n",
       "2020-01-02         NaN\n",
       "2020-01-03   -0.00...\n",
       "Name: Adj Close, Length: 1259, dtype: object"
      ]
     },
     "execution_count": 117,
     "metadata": {},
     "output_type": "execute_result"
    }
   ],
   "source": [
    "lrs['SP500'] = np.log(sp500['Adj Close']/sp500['Adj Close'].shift())\n",
    "lrs"
   ]
  },
  {
   "cell_type": "code",
   "execution_count": 119,
   "id": "50b6855f-4498-44a2-ba74-8000784a8615",
   "metadata": {},
   "outputs": [
    {
     "data": {
      "text/plain": [
       "<bound method Series.corr of Date\n",
       "2017-12-14 00:00:00                                                  NaN\n",
       "2017-12-15 00:00:00                                             0.008934\n",
       "2017-12-18 00:00:00                                             0.005348\n",
       "2017-12-19 00:00:00                                            -0.003235\n",
       "2017-12-20 00:00:00                                            -0.000828\n",
       "                                             ...                        \n",
       "2022-12-08 00:00:00                                             0.007494\n",
       "2022-12-09 00:00:00                                            -0.007377\n",
       "2022-12-12 00:00:00                                             0.014178\n",
       "2022-12-13 00:00:00                                             0.007263\n",
       "SP500                  Date\n",
       "2020-01-02         NaN\n",
       "2020-01-03   -0.00...\n",
       "Name: Adj Close, Length: 1259, dtype: object>"
      ]
     },
     "execution_count": 119,
     "metadata": {},
     "output_type": "execute_result"
    }
   ],
   "source": [
    "lrs.corr()"
   ]
  },
  {
   "cell_type": "code",
   "execution_count": 127,
   "id": "b0443b8b-5c57-41f7-b59f-db9aa5ee6289",
   "metadata": {},
   "outputs": [],
   "source": [
    "def test_correlation(ticker):\n",
    "    df = pdr.get_data_yahoo(ticker,start)\n",
    "    lr = lrs.copy()\n",
    "    lr[ticker] = np.log(df['Adj Close']/df['Adj Close'].shift())\n",
    "    return lr.corr"
   ]
  },
  {
   "cell_type": "code",
   "execution_count": 128,
   "id": "080804c0-45b5-4909-9f66-bafb82611ac8",
   "metadata": {},
   "outputs": [
    {
     "data": {
      "text/plain": [
       "<bound method Series.corr of Date\n",
       "2017-12-14 00:00:00                                                  NaN\n",
       "2017-12-15 00:00:00                                             0.008934\n",
       "2017-12-18 00:00:00                                             0.005348\n",
       "2017-12-19 00:00:00                                            -0.003235\n",
       "2017-12-20 00:00:00                                            -0.000828\n",
       "                                             ...                        \n",
       "2022-12-09 00:00:00                                            -0.007377\n",
       "2022-12-12 00:00:00                                             0.014178\n",
       "2022-12-13 00:00:00                                             0.007263\n",
       "SP500                  Date\n",
       "2020-01-02         NaN\n",
       "2020-01-03   -0.00...\n",
       "LQD                    Date\n",
       "2020-01-02         NaN\n",
       "2020-01-03    0.00...\n",
       "Name: Adj Close, Length: 1260, dtype: object>"
      ]
     },
     "execution_count": 128,
     "metadata": {},
     "output_type": "execute_result"
    }
   ],
   "source": [
    "# LQD as instance\n",
    "test_correlation('LQD')"
   ]
  },
  {
   "cell_type": "code",
   "execution_count": 129,
   "id": "2c005d0a-397c-4d04-b899-d360ddafcb2a",
   "metadata": {},
   "outputs": [
    {
     "data": {
      "text/plain": [
       "<bound method Series.corr of Date\n",
       "2017-12-14 00:00:00                                                  NaN\n",
       "2017-12-15 00:00:00                                             0.008934\n",
       "2017-12-18 00:00:00                                             0.005348\n",
       "2017-12-19 00:00:00                                            -0.003235\n",
       "2017-12-20 00:00:00                                            -0.000828\n",
       "                                             ...                        \n",
       "2022-12-09 00:00:00                                            -0.007377\n",
       "2022-12-12 00:00:00                                             0.014178\n",
       "2022-12-13 00:00:00                                             0.007263\n",
       "SP500                  Date\n",
       "2020-01-02         NaN\n",
       "2020-01-03   -0.00...\n",
       "TLT                    Date\n",
       "2020-01-02         NaN\n",
       "2020-01-03    0.01...\n",
       "Name: Adj Close, Length: 1260, dtype: object>"
      ]
     },
     "execution_count": 129,
     "metadata": {},
     "output_type": "execute_result"
    }
   ],
   "source": [
    "test_correlation('TLT')"
   ]
  },
  {
   "cell_type": "code",
   "execution_count": 130,
   "id": "6f4f44c7-ea2f-47fe-88d3-870661e9f541",
   "metadata": {},
   "outputs": [],
   "source": [
    "# visualization\n",
    "def vis_corr(tick1,tick2):\n",
    "    df = pdr.get_data_yahoo([tick1,tick2],start)\n",
    "    df = df['Adj Close']\n",
    "    df = df/df.iloc[0]\n",
    "    fig,ax = plt.subplots()\n",
    "    df.plot(ax=ax)"
   ]
  },
  {
   "cell_type": "code",
   "execution_count": 131,
   "id": "a395912f-d19c-4e6f-99c9-dd91432e4e89",
   "metadata": {},
   "outputs": [
    {
     "data": {
      "image/png": "[encoded data removed]",
      "text/plain": [
       "<Figure size 640x480 with 1 Axes>"
      ]
     },
     "metadata": {},
     "output_type": "display_data"
    }
   ],
   "source": [
    "vis_corr('^GSPC','TLT')"
   ]
  },
  {
   "cell_type": "code",
   "execution_count": null,
   "id": "8a05badb-0c6f-4d66-959a-5e5ec0742b87",
   "metadata": {},
   "outputs": [],
   "source": [
    "# significance of negative sign: identify how much the portofolio is at risk w/ negative correlation"
   ]
  },
  {
   "cell_type": "code",
   "execution_count": null,
   "id": "526eb1bf-786b-4f0d-b7ca-6de8d57f4615",
   "metadata": {},
   "outputs": [],
   "source": []
  }
 ],
 "metadata": {
  "kernelspec": {
   "display_name": "Python 3 (ipykernel)",
   "language": "python",
   "name": "python3"
  },
  "language_info": {
   "codemirror_mode": {
    "name": "ipython",
    "version": 3
   },
   "file_extension": ".py",
   "mimetype": "text/x-python",
   "name": "python",
   "nbconvert_exporter": "python",
   "pygments_lexer": "ipython3",
   "version": "3.9.13"
  }
 },
 "nbformat": 4,
 "nbformat_minor": 5
}
