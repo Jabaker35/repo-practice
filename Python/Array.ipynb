{
 "cells": [
  {
   "cell_type": "code",
   "execution_count": null,
   "id": "ee902dad-e0e5-4dd5-b9eb-dffba1867f4b",
   "metadata": {},
   "outputs": [],
   "source": [
    "# use for loop, make reservation\n",
    "# traveling = yes or no, if yes then\n",
    "# enter no of people traveling\n",
    "# enter name, age, gender = print()\n",
    "traveling = input('are you traveling')\n",
    "while traveling == 'yes':\n",
    "    num = int(input('number of people traveling'))\n",
    "    for num in range(1, num + 1):\n",
    "        name = input('Name:')\n",
    "        age = input('Age:')\n",
    "        gender = input('Male' or 'Female')\n",
    "        print(name, ' ', age, ' ', gender)\n",
    "    traveling = input('Oops! Forgot someone!')"
   ]
  },
  {
   "cell_type": "code",
   "execution_count": null,
   "id": "f9bd347b-494e-46cc-8128-0459af8cf51f",
   "metadata": {},
   "outputs": [],
   "source": [
    "# strings\n",
    "fruit = 'banana'\n",
    "letter = fruit[1]\n",
    "letter"
   ]
  },
  {
   "cell_type": "code",
   "execution_count": null,
   "id": "0e05c62a-31d2-4c83-85f9-c063d7473de1",
   "metadata": {},
   "outputs": [],
   "source": [
    "i = 1\n",
    "fruit[i]\n",
    "fruit[i+1]\n",
    "len(fruit)"
   ]
  },
  {
   "cell_type": "code",
   "execution_count": null,
   "id": "53fe278f-b381-476b-a974-d91a4c25a390",
   "metadata": {},
   "outputs": [],
   "source": [
    "# string indices must be integers only\n",
    "letter = fruit[1.5]"
   ]
  },
  {
   "cell_type": "code",
   "execution_count": null,
   "id": "06207391-e26d-43b8-b714-2f07b72a4a76",
   "metadata": {},
   "outputs": [],
   "source": [
    "length = len(fruit)\n",
    "last = fruit[length]"
   ]
  },
  {
   "cell_type": "code",
   "execution_count": null,
   "id": "f42344f3-6179-4ffc-b172-da49edb2af82",
   "metadata": {},
   "outputs": [],
   "source": [
    "fruit = 'banana'\n",
    "length = len(fruit)\n",
    "last = fruit[length-1]\n",
    "last"
   ]
  },
  {
   "cell_type": "code",
   "execution_count": null,
   "id": "5079fb7a-646d-4970-b996-3b60d008e29e",
   "metadata": {},
   "outputs": [],
   "source": [
    "# looping through strings\n",
    "index = 0\n",
    "while index < len(fruit):\n",
    "    letter = fruit[index]\n",
    "    print(letter)\n",
    "    index += 1"
   ]
  },
  {
   "cell_type": "code",
   "execution_count": null,
   "id": "a540b638-b6da-4312-b262-c95f36f87163",
   "metadata": {},
   "outputs": [],
   "source": [
    "for letter in fruit:\n",
    "    print(letter)"
   ]
  },
  {
   "cell_type": "code",
   "execution_count": null,
   "id": "232e810f-6279-46df-9f1f-775e1ed544d6",
   "metadata": {},
   "outputs": [],
   "source": [
    "prefixes = 'JKLMNOPQ'\n",
    "suffix = 'ack'\n",
    "for letter in prefixes:\n",
    "    print(letter + suffix)"
   ]
  },
  {
   "cell_type": "code",
   "execution_count": null,
   "id": "15823e71-a83c-4b25-8579-1fd691ea7277",
   "metadata": {},
   "outputs": [],
   "source": [
    "s = 'Monty Python'\n",
    "s [0:5]\n",
    "s [6:12]"
   ]
  },
  {
   "cell_type": "code",
   "execution_count": null,
   "id": "3b81f563-512a-4480-a76e-16c21fe62646",
   "metadata": {},
   "outputs": [],
   "source": [
    "fruit[3:]"
   ]
  },
  {
   "cell_type": "code",
   "execution_count": null,
   "id": "4f06ab28-d2c1-4ed9-b40f-f41dca1a5484",
   "metadata": {},
   "outputs": [],
   "source": [
    "fruit[:3]"
   ]
  },
  {
   "cell_type": "code",
   "execution_count": null,
   "id": "8412991f-afba-403a-a960-4ef2ff0880e6",
   "metadata": {},
   "outputs": [],
   "source": [
    "fruit[3:3]"
   ]
  },
  {
   "cell_type": "code",
   "execution_count": null,
   "id": "0d08c2c9-afa2-4621-8cb5-26dad72509f2",
   "metadata": {},
   "outputs": [],
   "source": [
    "fruit[:]"
   ]
  },
  {
   "cell_type": "code",
   "execution_count": null,
   "id": "06e5d03f-1c0a-4559-bbae-31a2fc496204",
   "metadata": {},
   "outputs": [],
   "source": [
    "# strings are immutable and cannot be changed\n",
    "greeting = 'Hello Class!'\n",
    "greeting[0] = 'J'"
   ]
  },
  {
   "cell_type": "code",
   "execution_count": null,
   "id": "6f40c6e4-bf12-4739-a993-62ade64ea75e",
   "metadata": {},
   "outputs": [],
   "source": [
    "greeting = 'Hello Class!'\n",
    "new_greeting = 'J' + greeting[1:]\n",
    "new_greeting"
   ]
  },
  {
   "cell_type": "code",
   "execution_count": null,
   "id": "8ea97e0b-001e-4cc4-9ca5-841c8d1ec886",
   "metadata": {},
   "outputs": [],
   "source": [
    "# counting the no. of times the letter appears in a string\n",
    "word = 'banana'\n",
    "count = 0\n",
    "for letter in word:\n",
    "    if letter == 'a':\n",
    "        count += 1\n",
    "    print(count)"
   ]
  },
  {
   "cell_type": "code",
   "execution_count": null,
   "id": "6decfe24-e421-4963-b82e-5e7d4d4cd182",
   "metadata": {},
   "outputs": [],
   "source": [
    "word = 'banana'\n",
    "new_word = word.upper()\n",
    "new_word"
   ]
  },
  {
   "cell_type": "code",
   "execution_count": null,
   "id": "01869d4a-5f34-4e3a-b5bd-7258424a08ae",
   "metadata": {},
   "outputs": [],
   "source": [
    "index = word.find(a)\n",
    "index"
   ]
  },
  {
   "cell_type": "code",
   "execution_count": null,
   "id": "e04c0352-5cb7-4627-ae4c-e8298c6296c8",
   "metadata": {},
   "outputs": [],
   "source": [
    "# boolean in strings\n",
    "'a' in 'banana'"
   ]
  },
  {
   "cell_type": "code",
   "execution_count": null,
   "id": "226a16f1-0c11-4690-958d-bfc5f0f33a09",
   "metadata": {},
   "outputs": [],
   "source": [
    "str1 = 'Science'\n",
    "str2 = 'Science'\n",
    "str3 = 'SCIENCE'\n",
    "print(id(str1))\n",
    "print(id(str2))\n",
    "print(id(str3))"
   ]
  },
  {
   "cell_type": "code",
   "execution_count": null,
   "id": "5dbef45c-0b3e-4e9d-9121-0b3426e4b098",
   "metadata": {},
   "outputs": [],
   "source": [
    "name = 'Science'\n",
    "name"
   ]
  },
  {
   "cell_type": "code",
   "execution_count": null,
   "id": "f9634da7-6043-42b3-9626-e8c2f6452406",
   "metadata": {},
   "outputs": [],
   "source": [
    "# exclude last vector\n",
    "name[-5:-1]\n",
    "name.capitalize()\n",
    "name.count('e')\n",
    "name.find('c')\n",
    "name.index('c')"
   ]
  },
  {
   "cell_type": "code",
   "execution_count": null,
   "id": "a332be77-d822-4f5f-9e47-7bb4c8e636ca",
   "metadata": {},
   "outputs": [],
   "source": [
    "name.islower()\n",
    "name.isupper()\n",
    "name.lower()"
   ]
  },
  {
   "cell_type": "code",
   "execution_count": null,
   "id": "1cb08efd-54a1-4b34-b403-a4df296e95e2",
   "metadata": {},
   "outputs": [],
   "source": [
    "# replace I with $\n",
    "name.replace('I','$')"
   ]
  },
  {
   "cell_type": "code",
   "execution_count": null,
   "id": "cddb8bd5-2b61-4941-ad4f-193714dfbdbd",
   "metadata": {},
   "outputs": [],
   "source": [
    "# clean version of string\n",
    "name.strip()"
   ]
  },
  {
   "cell_type": "code",
   "execution_count": null,
   "id": "1c0de58a-1eb5-4b98-bfd6-6f5a30dbde1b",
   "metadata": {},
   "outputs": [],
   "source": [
    "a = 'we have data analytics class'\n",
    "a.split('have')"
   ]
  },
  {
   "cell_type": "code",
   "execution_count": null,
   "id": "e7a8d3bf-84ca-4ca6-ad1f-de0f40140224",
   "metadata": {},
   "outputs": [],
   "source": [
    "a = 'python'\n",
    "b = 'cogent'\n",
    "a + b\n",
    "#a * 3\n",
    "#a + b * 2"
   ]
  },
  {
   "cell_type": "code",
   "execution_count": null,
   "id": "5e7d0ad1-9a8e-41db-9983-4112571bd143",
   "metadata": {},
   "outputs": [],
   "source": [
    "c = 'you can learn %s easily at %s' %(a,b)\n",
    "c"
   ]
  },
  {
   "cell_type": "code",
   "execution_count": null,
   "id": "25bff9f0-f7b6-48fc-936e-1090fb1a9b16",
   "metadata": {},
   "outputs": [],
   "source": [
    "c = f'you can learn {a} easily at {b}'\n",
    "c"
   ]
  },
  {
   "cell_type": "code",
   "execution_count": null,
   "id": "4513a982-9699-428b-8099-a3e432c21425",
   "metadata": {},
   "outputs": [],
   "source": [
    "c = ' you can learn {a} easily at {b}' .format(a=a,b=b)\n",
    "c"
   ]
  },
  {
   "cell_type": "code",
   "execution_count": null,
   "id": "e1c67c2b-ebdb-46b5-82c8-c77100e8d38b",
   "metadata": {},
   "outputs": [],
   "source": [
    "from string import Template\n",
    "c = Template('you can learn $a easily at $b')\n",
    "c.substitute(a=a,b=b)"
   ]
  },
  {
   "cell_type": "code",
   "execution_count": null,
   "id": "6accc2e7-2097-4022-9474-47d16d2d81a9",
   "metadata": {},
   "outputs": [],
   "source": [
    "str = input('enter a string')\n",
    "length = len(str)\n",
    "for a in range(-1,(-length),-1):\n",
    "    print(str[a])"
   ]
  },
  {
   "cell_type": "code",
   "execution_count": null,
   "id": "e64b1c34-1985-4da7-86a6-c54ef692bf9b",
   "metadata": {},
   "outputs": [],
   "source": [
    "x = 'Every' + 'Day'\n",
    "x"
   ]
  },
  {
   "cell_type": "code",
   "execution_count": null,
   "id": "b852779f-b70a-4051-912b-e5307eb779bf",
   "metadata": {},
   "outputs": [],
   "source": [
    "print(ord('A'))\n",
    "print(chr(65))"
   ]
  },
  {
   "cell_type": "code",
   "execution_count": null,
   "id": "1dbcd8c8-7fc7-4fe8-8b38-b4dd1396a497",
   "metadata": {},
   "outputs": [],
   "source": [
    "# palindrome: the word is the same forward and backward\n",
    "st = input()\n",
    "st2 = st[::-1]\n",
    "if(st == st2):\n",
    "    print('Palindrome')\n",
    "else:\n",
    "    print('Not Palindrome')"
   ]
  },
  {
   "cell_type": "code",
   "execution_count": null,
   "id": "32a1fcbc-a522-49e7-9abe-752ea30ba03d",
   "metadata": {},
   "outputs": [],
   "source": [
    "from datetime import datetime\n",
    "birthday = datetime(1990,1,1)\n",
    "sentence = f'Jonathan has a birthday on {birthday:%B %d, %Y}'\n",
    "print(sentence)"
   ]
  },
  {
   "cell_type": "code",
   "execution_count": null,
   "id": "6afeaa1a-35d3-49ea-b449-6ea808a01df2",
   "metadata": {},
   "outputs": [],
   "source": [
    "# count no. of vectors (with the highest frequency)\n",
    "from collections import Counter\n",
    "test = 'CogentInfo'\n",
    "rep = Counter(test)\n",
    "rep"
   ]
  },
  {
   "cell_type": "code",
   "execution_count": null,
   "id": "3980efc6-5e65-482a-b33d-6e7c1a9b7da5",
   "metadata": {},
   "outputs": [],
   "source": [
    "# with max frequency\n",
    "from collections import Counter\n",
    "test = 'CogentServices'\n",
    "rep = Counter(test)\n",
    "rep = max(rep,key=rep.get)\n",
    "rep"
   ]
  },
  {
   "cell_type": "code",
   "execution_count": null,
   "id": "12ed9435-020e-4f7c-84f8-01f731560c58",
   "metadata": {},
   "outputs": [],
   "source": [
    "# removing duplicates\n",
    "from collections import OrderedDict\n",
    "def remove_duplicate(s):\n",
    "    return\"\".join(OrderedDict.fromkeys(s))\n",
    "s = \"siodcawkemaosienfkawe\"\n",
    "print(s)\n",
    "print('after removing duplicates', remove_duplicate(s))"
   ]
  },
  {
   "cell_type": "code",
   "execution_count": null,
   "id": "3f6cc441-ec21-4494-9af6-3f790af8c132",
   "metadata": {},
   "outputs": [],
   "source": [
    "# list\n",
    "cheeses = ['Aman', 'Mandy', 'Guri']\n",
    "numbers = [42, 123]\n",
    "empty = []\n",
    "print(cheeses,numbers,empty)\n",
    "\n",
    "cheeses.insert(1,'Marko')\n",
    "cheeses\n",
    "\n",
    "print(cheeses[0])"
   ]
  },
  {
   "cell_type": "code",
   "execution_count": null,
   "id": "a1e475c9-67af-4b3d-8a02-496fe51b7c80",
   "metadata": {},
   "outputs": [],
   "source": [
    "# boolean\n",
    "cheeses = ['Aman', 'Mandy', 'Guri']\n",
    "'Mandy' in cheeses"
   ]
  },
  {
   "cell_type": "code",
   "execution_count": null,
   "id": "4f1daca8-85ea-4a58-a4c8-ccb4f99bd9ac",
   "metadata": {},
   "outputs": [],
   "source": [
    "# traversing list\n",
    "for cheese in cheeses:\n",
    "    print(cheese)"
   ]
  },
  {
   "cell_type": "code",
   "execution_count": null,
   "id": "68659a99-3257-4ccc-b306-27a7eb1e6315",
   "metadata": {},
   "outputs": [],
   "source": [
    "# looping in an empty string will never happen\n",
    "for x in []:\n",
    "    print('hello all')"
   ]
  },
  {
   "cell_type": "code",
   "execution_count": null,
   "id": "e7656129-d9fc-4d6c-b383-dc81cac91e91",
   "metadata": {},
   "outputs": [],
   "source": [
    "a = ['spam', 1, ['Brown','Red','Pink'],[1,2,3]]\n",
    "print(a)\n",
    "len(a)"
   ]
  },
  {
   "cell_type": "code",
   "execution_count": null,
   "id": "ead9661f-05c2-43cd-a333-835616a27f3b",
   "metadata": {},
   "outputs": [],
   "source": [
    "a = [1,2,3]\n",
    "b = [4,5,6]\n",
    "c = a + b\n",
    "print(c)"
   ]
  },
  {
   "cell_type": "code",
   "execution_count": null,
   "id": "ce542a50-9681-4d29-9556-46814add3219",
   "metadata": {},
   "outputs": [],
   "source": [
    "[0] * 4"
   ]
  },
  {
   "cell_type": "code",
   "execution_count": null,
   "id": "78e486ac-2d9a-47be-8722-7e6143ec3771",
   "metadata": {},
   "outputs": [],
   "source": [
    "# slice func\n",
    "t = ['a', 'b', 'c', 'd', 'e', 'f']\n",
    "t = [1:3]"
   ]
  },
  {
   "cell_type": "code",
   "execution_count": null,
   "id": "5cfcad9f-5933-4c29-ac56-2706087c7897",
   "metadata": {},
   "outputs": [],
   "source": [
    "# update elements\n",
    "t = ['a', 'b', 'c', 'd', 'e', 'f']\n",
    "t[1:3] = ['x','y']\n",
    "t"
   ]
  },
  {
   "cell_type": "code",
   "execution_count": null,
   "id": "1b5c0a2b-d5c3-4d37-9f00-e7e48baf8506",
   "metadata": {},
   "outputs": [],
   "source": [
    "# append: adding elements at the end of the list\n",
    "t = ['a', 'b', 'c']\n",
    "t.append('d')\n",
    "t"
   ]
  },
  {
   "cell_type": "code",
   "execution_count": null,
   "id": "604e3edc-a522-4930-9a64-cfb84af5c1bf",
   "metadata": {},
   "outputs": [],
   "source": [
    "# extend: also adds the elements at the end of the list\n",
    "t1 = ['a', 'b', 'c']\n",
    "t2 = ['d', 'e']\n",
    "t1.extend(t2)\n",
    "t1"
   ]
  },
  {
   "cell_type": "code",
   "execution_count": null,
   "id": "0211b587-9a00-494c-a3db-036af85a7bbf",
   "metadata": {},
   "outputs": [],
   "source": [
    "# sort\n",
    "t = ['d', 'c', 'e', 'a', 'b']\n",
    "t.sort()\n",
    "print(t)\n",
    "t.reverse()\n",
    "print(t)\n",
    "print(min(t))"
   ]
  },
  {
   "cell_type": "code",
   "execution_count": null,
   "id": "2421414c-fa12-4c34-9e63-abb0814ef3a3",
   "metadata": {},
   "outputs": [],
   "source": [
    "t = [1,2,3]\n",
    "sum(t)"
   ]
  },
  {
   "cell_type": "code",
   "execution_count": null,
   "id": "0f08ca1b-b67d-4ae1-8cb0-c2694e86e399",
   "metadata": {},
   "outputs": [],
   "source": [
    "# delete an element from a list: pop, del, remove\n",
    "t = ['a', 'b', 'c', 'd', 'e']\n",
    "x = t.pop(1)\n",
    "print(t)\n",
    "print(x)\n",
    "\n",
    "del t[1]\n",
    "print(t)\n",
    "\n",
    "t.remove('d')\n",
    "print(t)"
   ]
  },
  {
   "cell_type": "code",
   "execution_count": null,
   "id": "8b518f52-afc1-4469-a311-62f9033e9b00",
   "metadata": {},
   "outputs": [],
   "source": [
    "# removing duplicate elements\n",
    "l2 = ['a','b','c','d','d','e','d']\n",
    "while(l2.count('d')):\n",
    "    l2.remove('d')\n",
    "print(l2)"
   ]
  },
  {
   "cell_type": "code",
   "execution_count": null,
   "id": "f9994b9c-04d3-4ea4-a1f8-a1a0f1de5dad",
   "metadata": {},
   "outputs": [],
   "source": [
    "l2 = ['a','b','c','d','d','e','d']\n",
    "while 'd' in l2:\n",
    "    l2.remove('d')\n",
    "print(l2)"
   ]
  },
  {
   "cell_type": "code",
   "execution_count": null,
   "id": "aef5d1d6-887c-44fb-a325-fefe4fd44c8b",
   "metadata": {},
   "outputs": [],
   "source": [
    "# removing multiple elements\n",
    "t = ['a', 'b', 'c', 'd', 'e', 'f']\n",
    "del t [1:5]\n",
    "t"
   ]
  },
  {
   "cell_type": "code",
   "execution_count": null,
   "id": "392bc478-ac92-46a4-bdf3-7d30e6a59337",
   "metadata": {},
   "outputs": [],
   "source": [
    "s = 'spam'\n",
    "t = list(s)\n",
    "t"
   ]
  },
  {
   "cell_type": "code",
   "execution_count": null,
   "id": "4a69e204-6ea9-4909-8484-1dad37c2adf1",
   "metadata": {},
   "outputs": [],
   "source": [
    "s = 'this is data analytics class'\n",
    "t = s.split()\n",
    "t"
   ]
  },
  {
   "cell_type": "code",
   "execution_count": null,
   "id": "d0cff3c5-9330-4ef5-83a1-ee74d9b91ef9",
   "metadata": {},
   "outputs": [],
   "source": [
    "# delimiter specifies which character to use a word boundaries\n",
    "s = 'spam-spam-spam'\n",
    "delimiter = '-'\n",
    "t = s.split(delimiter)\n",
    "t"
   ]
  },
  {
   "cell_type": "code",
   "execution_count": null,
   "id": "c3d56312-f2ae-4759-ae33-d65388849c3e",
   "metadata": {},
   "outputs": [],
   "source": [
    "# join is inverse of split\n",
    "t = ['this', 'is', 'data', 'analytics', 'class']\n",
    "delimiter= ' '\n",
    "s = delimiter.join(t)\n",
    "s"
   ]
  },
  {
   "cell_type": "code",
   "execution_count": null,
   "id": "fd372986-5698-4b5f-84b9-3a1493246f2b",
   "metadata": {},
   "outputs": [],
   "source": [
    "t = ['this', 'is', 'data', 'analytics', 'class']\n",
    "delimiter = ''\n",
    "s = delimiter.join(t)\n",
    "s"
   ]
  },
  {
   "cell_type": "code",
   "execution_count": null,
   "id": "5b78d621-af5a-458d-b23a-18e79d479915",
   "metadata": {},
   "outputs": [],
   "source": [
    "# whether two variables referred to the same object\n",
    "a = 'banana'\n",
    "b = 'banana'\n",
    "a is b"
   ]
  },
  {
   "cell_type": "code",
   "execution_count": null,
   "id": "019d697a-d121-4454-a3eb-6f104a761a2c",
   "metadata": {},
   "outputs": [],
   "source": [
    "# in case of list, it refers to two different objects\n",
    "a = [1,2,3]\n",
    "b = [1,2,3]\n",
    "a is b"
   ]
  },
  {
   "cell_type": "code",
   "execution_count": null,
   "id": "7f3a771b-7397-44fd-87dc-47056115d69d",
   "metadata": {},
   "outputs": [],
   "source": [
    "# if the aliased object is mutable, changes made with on alias affect the other\n",
    "b[0] = 42\n",
    "a"
   ]
  },
  {
   "cell_type": "code",
   "execution_count": null,
   "id": "dd98c9b0-bf30-436e-b381-b6cdc6c73388",
   "metadata": {},
   "outputs": [],
   "source": [
    "t1 = [1,2]\n",
    "t2 = t1.append(3)\n",
    "t1"
   ]
  },
  {
   "cell_type": "code",
   "execution_count": null,
   "id": "e3893c25-17a1-4daf-8823-4d6b48174cfe",
   "metadata": {},
   "outputs": [],
   "source": [
    "t1 = [1,2]\n",
    "t2 = t1.append(3)\n",
    "t1"
   ]
  },
  {
   "cell_type": "code",
   "execution_count": null,
   "id": "ce3b7527-b1c2-475a-9b2c-9cd3de100c79",
   "metadata": {},
   "outputs": [],
   "source": [
    "# + operator create a new list\n",
    "t3 = t1 + [4]\n",
    "t1\n",
    "t3"
   ]
  },
  {
   "cell_type": "code",
   "execution_count": null,
   "id": "bb67e344-2f80-4c07-8b9a-4d1f927b921d",
   "metadata": {},
   "outputs": [],
   "source": [
    "def tail(t):\n",
    "    return t[1:]\n",
    "letters = ['a', 'b', 'c']\n",
    "rest = tail(letters)\n",
    "rest"
   ]
  },
  {
   "cell_type": "code",
   "execution_count": null,
   "id": "af8fc748-13df-4560-af04-e17e658d297c",
   "metadata": {},
   "outputs": [],
   "source": [
    "mystr = 'this is python'\n",
    "print(mystr.count('t'))\n",
    "print(mystr.capitalize())\n",
    "print(mystr.replace('this','that'))"
   ]
  },
  {
   "cell_type": "code",
   "execution_count": null,
   "id": "d857ae21-8bd5-4df0-900a-34f32d25789c",
   "metadata": {},
   "outputs": [],
   "source": [
    "# skips to the third element\n",
    "list = [1,2,3,4,5,6,7,8,9]\n",
    "print(list[::3])"
   ]
  },
  {
   "cell_type": "code",
   "execution_count": null,
   "id": "12ecdcb7-bf5d-413e-a80c-f27cdaae4415",
   "metadata": {},
   "outputs": [],
   "source": [
    "# evaluate func\n",
    "a = '20'\n",
    "b = '30'\n",
    "print(a + b)\n",
    "print(eval(a)+eval(b))"
   ]
  },
  {
   "cell_type": "code",
   "execution_count": null,
   "id": "ec4d69e8-3fc1-49dd-a958-0f0b1ce17f37",
   "metadata": {},
   "outputs": [],
   "source": [
    "# clone list: duplicating the same elements\n",
    "def Cloning(li1):\n",
    "    li_copy = li1[:]\n",
    "    return li_copy\n",
    "li1 = [4,8,2,10,15,18]\n",
    "li2 = Cloning(li1)\n",
    "print(li1)\n",
    "print(li2)"
   ]
  },
  {
   "cell_type": "code",
   "execution_count": null,
   "id": "a6c1258c-d62d-4626-ba57-31bc42da8c7d",
   "metadata": {},
   "outputs": [],
   "source": [
    "# extend\n",
    "def Cloning(li1):\n",
    "    li_copy = []\n",
    "    li.copy.extend(li1)\n",
    "    return li_copy\n",
    "li1 = [4,8,2,10,15,18]\n",
    "li2 = Cloning(li1)\n",
    "print(li1)\n",
    "print(li2)"
   ]
  },
  {
   "cell_type": "code",
   "execution_count": null,
   "id": "1ea4b479-a57e-4465-bcbe-15050c3e1ba6",
   "metadata": {},
   "outputs": [],
   "source": [
    "# appending\n",
    "def Cloning(li1):\n",
    "    li_copy = []\n",
    "    for item in li1: li_copy.append(item)\n",
    "    return li_copy\n",
    "li1 = [4,8,2,10,15,18]\n",
    "li2 = Cloning(li1)\n",
    "print(li1)\n",
    "print(li2)"
   ]
  },
  {
   "cell_type": "code",
   "execution_count": null,
   "id": "333ef300-5d3b-4816-ac11-4d97b0e60ce9",
   "metadata": {},
   "outputs": [],
   "source": [
    "# cloning\n",
    "def Cloning(li1):\n",
    "    li_copy = [i for i in li1]\n",
    "    return li_copy\n",
    "li1 = [4,8,2,10,15,18]\n",
    "li2 = Cloning(li1)\n",
    "print(li1)\n",
    "print(li2)"
   ]
  },
  {
   "cell_type": "code",
   "execution_count": null,
   "id": "14fe1bd9-5cf1-47dd-90ae-228ea8f16b6a",
   "metadata": {},
   "outputs": [],
   "source": [
    "# copy function\n",
    "def Cloning(li1):\n",
    "    li_copy = []\n",
    "    li_copy = li1.copy()\n",
    "    return li_copy\n",
    "li1 = [4,8,2,10,15,18]\n",
    "li2 = Cloning(li1)\n",
    "print(li1)\n",
    "print(li2)"
   ]
  },
  {
   "cell_type": "code",
   "execution_count": null,
   "id": "520f0a0b-8c58-41a2-8631-24247e3729dd",
   "metadata": {},
   "outputs": [],
   "source": [
    "original_list = [1,2,3]\n",
    "copy_list = list(original_list)\n",
    "copy_list"
   ]
  },
  {
   "cell_type": "code",
   "execution_count": null,
   "id": "5144d4da-9382-4902-bdda-89e438eaa458",
   "metadata": {},
   "outputs": [],
   "source": [
    "# changes the elements in the copy list\n",
    "copy_list[0] = 2"
   ]
  },
  {
   "cell_type": "code",
   "execution_count": null,
   "id": "4cdc280c-7ddc-4ba2-adab-97f0b93f2955",
   "metadata": {},
   "outputs": [],
   "source": [
    "# looping through the elements within a list\n",
    "a = [1, 2, 3, 4, 5]\n",
    "b = [num**2 for num in a]\n",
    "print(b)"
   ]
  },
  {
   "cell_type": "code",
   "execution_count": null,
   "id": "edcca95f-bbdd-4ac1-81f6-3436d68e0690",
   "metadata": {},
   "outputs": [],
   "source": [
    "# concat\n",
    "list1 = ['app', 'bo', 'co', 'doc']\n",
    "list2 = ['le', 'y', 'ol', 'tor']\n",
    "list3 = []\n",
    "for i in range(len(list1)):\n",
    "    list3.append(list1[i]+list2[i])\n",
    "print(list3)"
   ]
  },
  {
   "cell_type": "code",
   "execution_count": null,
   "id": "e8473ff8-8b99-437d-acc9-d64c66d4b53d",
   "metadata": {},
   "outputs": [],
   "source": [
    "# reverse order\n",
    "a = [1,2,3,4,5]\n",
    "b = [::-1]\n",
    "print(b)"
   ]
  },
  {
   "cell_type": "code",
   "execution_count": null,
   "id": "57f49114-f1d9-4498-b39e-49a9180a7805",
   "metadata": {},
   "outputs": [],
   "source": [
    "# dictionary\n",
    "eng2sp = {'one':'uno', 'two':'dos', 'three':'tres'}\n",
    "eng2sp"
   ]
  },
  {
   "cell_type": "code",
   "execution_count": null,
   "id": "c8cc6c8c-bfe6-4ef9-b726-09818de62dc1",
   "metadata": {},
   "outputs": [],
   "source": [
    "# get function\n",
    "eng2sp.get('one')"
   ]
  },
  {
   "cell_type": "code",
   "execution_count": null,
   "id": "49a4eaae-49a8-4aac-8096-8c92a0987e7b",
   "metadata": {},
   "outputs": [],
   "source": [
    "# zipping of keys and values\n",
    "keys = ['Jonathan', 'Chris', 'Sainath', 'Muafo']\n",
    "values = ['Python', 'Java', 'SQL', 'Rstudio']\n",
    "data = dict(zip(keys,values))\n",
    "data"
   ]
  },
  {
   "cell_type": "code",
   "execution_count": null,
   "id": "a2001f1d-525e-4dd8-aa9c-5a8553375293",
   "metadata": {},
   "outputs": [],
   "source": [
    "# adding on value\n",
    "data['Sao'] = 'Tableau'\n",
    "data"
   ]
  },
  {
   "cell_type": "code",
   "execution_count": null,
   "id": "10c96a75-a6e6-4d87-b467-c970d2f9a4d3",
   "metadata": {},
   "outputs": [],
   "source": [
    "del data['Sao']\n",
    "data"
   ]
  },
  {
   "cell_type": "code",
   "execution_count": null,
   "id": "f35cd015-3039-48a5-9e3d-fd0cbcd74689",
   "metadata": {},
   "outputs": [],
   "source": [
    "# update\n",
    "data.update({'Sainath':'Power BI'})\n",
    "print(data)"
   ]
  },
  {
   "cell_type": "code",
   "execution_count": null,
   "id": "316af28a-61a3-46bc-91f3-c7dbebd80111",
   "metadata": {},
   "outputs": [],
   "source": [
    "print(data.items())"
   ]
  },
  {
   "cell_type": "code",
   "execution_count": null,
   "id": "f1baf911-bc75-4348-9bb4-f5843a182e2b",
   "metadata": {},
   "outputs": [],
   "source": [
    "data.clear()\n",
    "print(data)"
   ]
  },
  {
   "cell_type": "code",
   "execution_count": null,
   "id": "97730486-756e-42f0-8b82-5b7408112fb6",
   "metadata": {},
   "outputs": [],
   "source": [
    "a = {1:'ABC', 2:'DEF', 3:'GHI'}\n",
    "b = a.copy()\n",
    "print(b)"
   ]
  },
  {
   "cell_type": "code",
   "execution_count": null,
   "id": "9fe24584-0727-48a0-9b47-43f543df386b",
   "metadata": {},
   "outputs": [],
   "source": [
    "print(a.values())"
   ]
  },
  {
   "cell_type": "code",
   "execution_count": null,
   "id": "1d6b7206-8e09-4db3-ae66-f2c595e7ad80",
   "metadata": {},
   "outputs": [],
   "source": [
    "# delete\n",
    "print(a.pop(2))\n",
    "print(a)"
   ]
  },
  {
   "cell_type": "code",
   "execution_count": null,
   "id": "47d6bb53-7775-4dfb-87f4-09fb8c58380c",
   "metadata": {},
   "outputs": [],
   "source": [
    "# create a dictionary whose keys are names of the month and values are number of days\n",
    "D = {'Jan':31, 'Feb':28, 'March':31, 'April':30, 'May':31, 'June':30, 'July':31, 'Aug':31, 'Sept':30, 'Oct':31, 'Nov':30, 'Dec':31}\n",
    "D"
   ]
  },
  {
   "cell_type": "code",
   "execution_count": null,
   "id": "9360031e-68a0-4bcc-8426-68490e39048e",
   "metadata": {},
   "outputs": [],
   "source": [
    "m = input()\n",
    "print(D[m])"
   ]
  },
  {
   "cell_type": "code",
   "execution_count": null,
   "id": "c5b46835-3c0a-4538-8c4f-726e2795b11c",
   "metadata": {},
   "outputs": [],
   "source": [
    "# print key value pair sorted by keys\n",
    "# print key value pair sorted by values\n",
    "for i in sorted(D.keys()):\n",
    "    print(i,D[i])\n",
    "    \n",
    "for i in sorted(D.keys=D.get):\n",
    "    print(i)"
   ]
  },
  {
   "cell_type": "code",
   "execution_count": null,
   "id": "4325c87c-3d4b-4738-b6b9-598de97df69d",
   "metadata": {},
   "outputs": [],
   "source": [
    "incomes = {'table':5600,'chair':3500, 'sofa':5000}\n",
    "total_income = sum([value for value in incomes.values()])\n",
    "total_income"
   ]
  },
  {
   "cell_type": "code",
   "execution_count": null,
   "id": "330f5941-63c4-4832-8f00-bd990d4e7d83",
   "metadata": {},
   "outputs": [],
   "source": [
    "# tuples: nothing more than a string with a comma\n",
    "t = tuple('lupins')\n",
    "t\n",
    "\n",
    "# accessing\n",
    "t[0]\n",
    "\n",
    "# slicing\n",
    "t[1:3]\n",
    "\n",
    "# can't be changed but it can be replaced\n",
    "t = ('L',) + t[1:]\n",
    "t\n",
    "\n",
    "(0,1,2) < (0,3,4)"
   ]
  },
  {
   "cell_type": "code",
   "execution_count": null,
   "id": "f32e0d04-82c6-4629-9b8d-dbf0830ae6d3",
   "metadata": {},
   "outputs": [],
   "source": [
    "t = divmod(7,3)\n",
    "t"
   ]
  },
  {
   "cell_type": "code",
   "execution_count": null,
   "id": "03d482d6-c499-40ee-95a2-dc17daecab9f",
   "metadata": {},
   "outputs": [],
   "source": [
    "mycars = ('ford', 'mercedes', 'audi')\n",
    "print(len(mycars))"
   ]
  },
  {
   "cell_type": "code",
   "execution_count": null,
   "id": "3eb33d9f-cb59-4564-81d6-8416692a7a97",
   "metadata": {},
   "outputs": [],
   "source": [
    "mycarstemp = list(mycars)\n",
    "mycarstemp"
   ]
  },
  {
   "cell_type": "code",
   "execution_count": null,
   "id": "639bfab4-6a93-47da-a2dd-7d5d7d49b924",
   "metadata": {},
   "outputs": [],
   "source": [
    "# update value in a new list\n",
    "mycarstemp[0] = 'Harry'\n",
    "\n",
    "# returning back to tuple\n",
    "mycars = tuple(mycarstemp)\n",
    "mycars"
   ]
  },
  {
   "cell_type": "code",
   "execution_count": null,
   "id": "354fa6ef-5716-4428-b403-8f9d41b57ae3",
   "metadata": {},
   "outputs": [],
   "source": [
    "b = (1,2,3,4,5,6,7,8,9,10)\n",
    "print(b)\n",
    "b[0:]"
   ]
  },
  {
   "cell_type": "code",
   "execution_count": null,
   "id": "81b099a4-3516-4f78-bb72-0fbaa23d81ab",
   "metadata": {},
   "outputs": [],
   "source": [
    "b[0:8]"
   ]
  },
  {
   "cell_type": "code",
   "execution_count": null,
   "id": "de1fa4cf-cc0a-4417-8fb5-9691e132caa8",
   "metadata": {},
   "outputs": [],
   "source": [
    "# concat tuples\n",
    "a = (11,12,13,14,15,16,17,18,19)\n",
    "print(a)\n",
    "c = b + a\n",
    "print(c)"
   ]
  },
  {
   "cell_type": "code",
   "execution_count": null,
   "id": "d53237d5-f211-481c-aced-f366d6cf6975",
   "metadata": {},
   "outputs": [],
   "source": [
    "m = (1,1,1,1,1,1,1,1,2,3,4,5)\n",
    "m.count(1)"
   ]
  },
  {
   "cell_type": "code",
   "execution_count": null,
   "id": "00b79563-52ae-47e1-b0cb-1749a33600b5",
   "metadata": {},
   "outputs": [],
   "source": [
    "# tuple constructor\n",
    "a = [1,2,3]\n",
    "print(a)\n",
    "b = tuple(a)\n",
    "print(b)"
   ]
  },
  {
   "cell_type": "code",
   "execution_count": null,
   "id": "0065cf86-f603-4bb9-9ed2-1c44701e3db1",
   "metadata": {},
   "outputs": [],
   "source": [
    "# iterating through tuple\n",
    "a = (1,2,3,4,5,6,7,8,9)\n",
    "for i in a:\n",
    "    print(i)"
   ]
  },
  {
   "cell_type": "code",
   "execution_count": null,
   "id": "7b8aa70c-4f3b-4c53-9b04-04f08c7a9afe",
   "metadata": {},
   "outputs": [],
   "source": [
    "# boolean for tuples\n",
    "print(9 in a)"
   ]
  },
  {
   "cell_type": "code",
   "execution_count": null,
   "id": "1d1ef8e1-ced7-4b73-b625-2cdade397ff7",
   "metadata": {},
   "outputs": [],
   "source": [
    "# accessing nested tuples\n",
    "a = (10,20,30,(50,60))\n",
    "b = (50,60)\n",
    "a = (10,20,30,b)\n",
    "print(a)\n",
    "print(b)\n",
    "print(a[0])"
   ]
  },
  {
   "cell_type": "code",
   "execution_count": null,
   "id": "b5274f49-4d96-490c-9195-ca4ec88913e5",
   "metadata": {},
   "outputs": [],
   "source": [
    "# replication operator\n",
    "t = [1,2,3]\n",
    "t*3"
   ]
  },
  {
   "cell_type": "code",
   "execution_count": null,
   "id": "a4c37c83-0081-465a-ad37-410e0dec58d4",
   "metadata": {},
   "outputs": [],
   "source": [
    "# sorting and reversing\n",
    "tup = (34,67,1,4,98,2,6,8)\n",
    "t = sorted(tup)\n",
    "print(t)\n",
    "\n",
    "t = sorted(tup, reverse=True)\n",
    "print(t)"
   ]
  },
  {
   "cell_type": "code",
   "execution_count": null,
   "id": "a818d3ab-4d14-4086-9e74-13b3a1752a42",
   "metadata": {},
   "outputs": [],
   "source": [
    "# unpacking values\n",
    "red, green, blue, yellow, black = mytuple\n",
    "\n",
    "# check item existence: yellow = orange, red = black, black = red\n",
    "if 'green' in mytyple and mytuple[1] == 'green':\n",
    "    yellow = 'orange'\n",
    "    red, black = black,red\n",
    "\n",
    "# pack values\n",
    "mytuple = (red,green,blue,yellow,black)\n",
    "mytuple"
   ]
  },
  {
   "cell_type": "code",
   "execution_count": null,
   "id": "eab89d09-2d25-4662-bb0f-1d94bf043029",
   "metadata": {},
   "outputs": [],
   "source": [
    "# Assignment: verify phone number is in the given format or not\n",
    "# 000-000-0000 correct format\n",
    "# len(st!=12) false, st[3]!= -, st[7]!= - false\n",
    "import re\n",
    "phone = input('Please write your phone number with hyphen: ')\n",
    "match = re.findall( r\"([2-3]-)(9|(1(?:0|1)))\", phone )\n",
    "matched = []\n",
    "for i in range( len(match) ):\n",
    "    matched.append( match[i][0] + match[i][1] )\n",
    "print( matched )"
   ]
  }
 ],
 "metadata": {
  "kernelspec": {
   "display_name": "Python 3 (ipykernel)",
   "language": "python",
   "name": "python3"
  },
  "language_info": {
   "codemirror_mode": {
    "name": "ipython",
    "version": 3
   },
   "file_extension": ".py",
   "mimetype": "text/x-python",
   "name": "python",
   "nbconvert_exporter": "python",
   "pygments_lexer": "ipython3",
   "version": "3.9.13"
  }
 },
 "nbformat": 4,
 "nbformat_minor": 5
}
