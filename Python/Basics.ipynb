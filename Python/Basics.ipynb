{
 "cells": [
  {
   "cell_type": "code",
   "execution_count": null,
   "id": "86a45765-5f34-44af-91b9-e9f687069738",
   "metadata": {},
   "outputs": [],
   "source": [
    "two_digit_number = input(\"type two digit number\")\n",
    "print(type(two_digit_number))"
   ]
  },
  {
   "cell_type": "code",
   "execution_count": null,
   "id": "958bb3bb-0435-451f-9f04-3d049aa5fd56",
   "metadata": {},
   "outputs": [],
   "source": [
    "two_digit_number = input(\"type two digit number \")\n",
    "print(type(two_digit_number))\n",
    "first_digit = int(two_digit_number[0])\n",
    "second_digit = int(two_digit_number[1])\n",
    "two_digit_number = second_digit + first_digit\n",
    "print(two_digit_number)"
   ]
  },
  {
   "cell_type": "code",
   "execution_count": null,
   "id": "bfdfdbde-136b-4e54-88ef-ddb41508233f",
   "metadata": {},
   "outputs": [],
   "source": [
    "print('enter first number')\n",
    "n1 = input()\n",
    "print('enter second number')\n",
    "n2 = input()\n",
    "print('sum of these numbers are ', int(n1)+int(n2))"
   ]
  },
  {
   "cell_type": "code",
   "execution_count": null,
   "id": "c4ecf762-bc3e-4367-a3d1-0fd0a0076cd9",
   "metadata": {},
   "outputs": [],
   "source": [
    "# declaring a list and accessing its elements\n",
    "mylist = [10,20,30,'pink','brown']\n",
    "mylist\n",
    "mylist[2]\n",
    "\n",
    "# updating elements of list\n",
    "mylist[2] = 40\n",
    "mylist\n",
    "\n",
    "# append add value at the end of the list\n",
    "mylist.append(20)\n",
    "mylist\n",
    "\n",
    "# insert add value in a specific index position\n",
    "mylist.insert(4,90)\n",
    "mylist\n",
    "\n",
    "# reverse func reverses the index order of values\n",
    "mylist.reverse()\n",
    "mylist"
   ]
  },
  {
   "cell_type": "code",
   "execution_count": null,
   "id": "7bcb7cd3-46df-4e91-ba01-4d3d65546bb1",
   "metadata": {},
   "outputs": [],
   "source": [
    "# declaring dictionaries\n",
    "subjects = {1:'physics', 2:'chemistry', 3:'biology'}\n",
    "subjects\n",
    "\n",
    "#accessing elements/get\n",
    "subjects[2]\n",
    "subjects.get(3)\n",
    "\n",
    "# updating values\n",
    "subjects[3] = 'mathematics'\n",
    "subjects\n",
    "\n",
    "# add\n",
    "subjects[4] = 'zoology'\n",
    "subjects"
   ]
  },
  {
   "cell_type": "code",
   "execution_count": null,
   "id": "c0b73bef-e74b-4330-b6f4-ba81ff4156e8",
   "metadata": {},
   "outputs": [],
   "source": [
    "# functions for tuples\n",
    "colors = (1, 2, 3, 'pink', 'green', 'blue', 'green')\n",
    "colors[2]\n",
    "colors.count('green')"
   ]
  },
  {
   "cell_type": "code",
   "execution_count": null,
   "id": "fa0497a1-4f1c-443c-90da-48de5663c3a2",
   "metadata": {},
   "outputs": [],
   "source": [
    "list(range(11))\n",
    "list(range(2,10,2))"
   ]
  },
  {
   "cell_type": "code",
   "execution_count": null,
   "id": "4d19b7a3-62ba-456d-afa2-650a56cda7ae",
   "metadata": {},
   "outputs": [],
   "source": [
    "# scope of variable\n",
    "def myfunc():\n",
    "  y=10\n",
    "  print(y)\n",
    "myfunc()\n",
    "\n",
    "# scope of variable, using variable outside the function\n",
    "def myfunc():\n",
    "  y=10\n",
    "  print(y)\n",
    "myfunc()\n",
    "print(y)"
   ]
  },
  {
   "cell_type": "code",
   "execution_count": null,
   "id": "9b480856-4289-45e0-a1ff-6a97cc39e50c",
   "metadata": {},
   "outputs": [],
   "source": [
    "# local scope: variable created inside a func belonging to the func only to be used inside the func itself\n",
    "def myfunc():\n",
    "  x = 100\n",
    "  print(x)\n",
    "myfunc()\n",
    "\n",
    "# func within a func\n",
    "def myfunc():\n",
    "  x = 100\n",
    "  def myinnerfunc():\n",
    "    print(x)\n",
    "  myinnerfunc()\n",
    "myfunc()\n",
    "\n",
    "# global scope: variable created outsed of a func which can be reused or reiterated\n",
    "x = 100\n",
    "def myfunc():\n",
    "  print(x)\n",
    "myfunc()\n",
    "print(x)"
   ]
  },
  {
   "cell_type": "code",
   "execution_count": null,
   "id": "0955674a-3c9b-484a-8236-b1f6fe3d363d",
   "metadata": {},
   "outputs": [],
   "source": [
    "type(50)\n",
    "int(32.5)\n",
    "num = 67.9\n",
    "\n",
    "#check and print type num variable\n",
    "print(type(num))\n",
    "\n",
    "converted_num = int(num)\n",
    "print(type(converted_num))"
   ]
  },
  {
   "cell_type": "code",
   "execution_count": null,
   "id": "e75f2029-36f5-4f3c-928f-7dc774e7a6d7",
   "metadata": {},
   "outputs": [],
   "source": [
    "float(30)\n",
    "float('3.14159')"
   ]
  },
  {
   "cell_type": "code",
   "execution_count": 1,
   "id": "ca190975-0eef-491e-b218-652a582353b7",
   "metadata": {},
   "outputs": [
    {
     "data": {
      "text/plain": [
       "'32'"
      ]
     },
     "execution_count": 1,
     "metadata": {},
     "output_type": "execute_result"
    }
   ],
   "source": [
    "str(32)"
   ]
  },
  {
   "cell_type": "code",
   "execution_count": 3,
   "id": "2abc30c5-bad9-4ac2-aa82-7c029c760004",
   "metadata": {},
   "outputs": [
    {
     "name": "stdout",
     "output_type": "stream",
     "text": [
      "type of variable <class 'int'>\n",
      "type of variable <class 'str'>\n"
     ]
    }
   ],
   "source": [
    "num = 10\n",
    "print('type of variable', type(num))\n",
    "\n",
    "converted_num = str(num)\n",
    "print('type of variable', type(converted_num))"
   ]
  },
  {
   "cell_type": "code",
   "execution_count": 4,
   "id": "ad3a5fb4-9c38-42ad-9455-9d1f319ed13a",
   "metadata": {},
   "outputs": [
    {
     "data": {
      "text/plain": [
       "5.0"
      ]
     },
     "execution_count": 4,
     "metadata": {},
     "output_type": "execute_result"
    }
   ],
   "source": [
    "# creating an alias for import funcs\n",
    "import math as m\n",
    "math.sqrt(25)\n",
    "m.sqrt(25)"
   ]
  },
  {
   "cell_type": "code",
   "execution_count": 5,
   "id": "950170e1-9101-4d8d-8432-7b2f2a799687",
   "metadata": {},
   "outputs": [
    {
     "name": "stdout",
     "output_type": "stream",
     "text": [
      "120\n",
      "2.5\n",
      "6.5\n",
      "4\n",
      "2.718281828459045\n",
      "24\n",
      "3.3219280948873626\n",
      "1.0\n",
      "-0.5440211108893698\n",
      "11013.232874703393\n"
     ]
    }
   ],
   "source": [
    "from math import *\n",
    "print(factorial(5))\n",
    "print(math.fabs(-2.5))\n",
    "print(math.fsum([1,2.5,3]))\n",
    "print(math.gcd(8,12))\n",
    "print(math.exp(1))\n",
    "print(math.lcm(8,12))\n",
    "print(math.log(10,2))\n",
    "print(math.log(5,5))\n",
    "print(math.sin(10))\n",
    "print(math.sinh(10))"
   ]
  },
  {
   "cell_type": "code",
   "execution_count": 6,
   "id": "51b08868-d3e8-4d27-ac1b-b7dc2ffae6a5",
   "metadata": {},
   "outputs": [
    {
     "data": {
      "text/plain": [
       "12.5"
      ]
     },
     "execution_count": 6,
     "metadata": {},
     "output_type": "execute_result"
    }
   ],
   "source": [
    "# math.log10 signal to noise ratio in decimals\n",
    "from math import *\n",
    "signal_power = 100\n",
    "noise_power = 80\n",
    "ratio = signal_power/noise_power\n",
    "math.log10(ratio)\n",
    "decibels = 10 * ratio\n",
    "decibels"
   ]
  },
  {
   "cell_type": "code",
   "execution_count": 9,
   "id": "3ee119e9-140d-430c-bfda-fd1d7ce83c56",
   "metadata": {},
   "outputs": [
    {
     "data": {
      "text/plain": [
       "0.644217687237691"
      ]
     },
     "execution_count": 9,
     "metadata": {},
     "output_type": "execute_result"
    }
   ],
   "source": [
    "# findin the sine of radians\n",
    "from math import *\n",
    "radians = 0.7\n",
    "height = math.sin(radians)\n",
    "height"
   ]
  },
  {
   "cell_type": "code",
   "execution_count": 17,
   "id": "f09845d7-f124-49bb-9e66-8083d43f2313",
   "metadata": {},
   "outputs": [
    {
     "name": "stdout",
     "output_type": "stream",
     "text": [
      "I go to office, and I am OK\n",
      "I sleep all night and I work all day\n"
     ]
    }
   ],
   "source": [
    "def print_schedule():\n",
    "    print('I go to office, and I am OK')\n",
    "    print('I sleep all night and I work all day')\n",
    "print_schedule()"
   ]
  },
  {
   "cell_type": "code",
   "execution_count": 18,
   "id": "898e1354-0f2f-47d2-b821-39e4e6b3e642",
   "metadata": {},
   "outputs": [
    {
     "name": "stdout",
     "output_type": "stream",
     "text": [
      "<function print_schedule at 0x000001B2E1BB0EE0>\n"
     ]
    },
    {
     "data": {
      "text/plain": [
       "function"
      ]
     },
     "execution_count": 18,
     "metadata": {},
     "output_type": "execute_result"
    }
   ],
   "source": [
    "print(print_schedule)\n",
    "type(print_schedule)"
   ]
  },
  {
   "cell_type": "code",
   "execution_count": 19,
   "id": "3ede47e1-3c81-4099-b8bb-c97ef8244af8",
   "metadata": {},
   "outputs": [
    {
     "name": "stdout",
     "output_type": "stream",
     "text": [
      "I go to office, and I am OK\n",
      "I sleep all night and I work all day\n",
      "I go to office, and I am OK\n",
      "I sleep all night and I work all day\n"
     ]
    }
   ],
   "source": [
    "def print_schedule():\n",
    "    print('I go to office, and I am OK')\n",
    "    print('I sleep all night and I work all day')\n",
    "def repeat_schedule():\n",
    "    print_schedule()\n",
    "    print_schedule()\n",
    "repeat_schedule()"
   ]
  },
  {
   "cell_type": "code",
   "execution_count": 2,
   "id": "709d8c80-9d70-4860-b143-8bc0208a01dd",
   "metadata": {},
   "outputs": [
    {
     "name": "stdout",
     "output_type": "stream",
     "text": [
      "2\n",
      "3\n",
      "9.0\n",
      "3.141592653589793\n",
      "2.718281828459045\n"
     ]
    }
   ],
   "source": [
    "import math\n",
    "print(math.floor(2.9))\n",
    "print(math.ceil(2.2))\n",
    "print(math.pow(3,2))\n",
    "print(math.pi)\n",
    "print(math.e)"
   ]
  },
  {
   "cell_type": "code",
   "execution_count": 15,
   "id": "b1f0e36b-98b5-4c08-8400-cf8a3e1ccca5",
   "metadata": {},
   "outputs": [
    {
     "name": "stdin",
     "output_type": "stream",
     "text": [
      "Enter your name jabaker\n",
      "Enter your password base1234\n"
     ]
    },
    {
     "name": "stdout",
     "output_type": "stream",
     "text": [
      "Access Granted\n"
     ]
    }
   ],
   "source": [
    "# func to verify if user has access to system or not\n",
    "username = input('Enter your name')\n",
    "password = input('Enter your password')\n",
    "def has_access(usr, pwd):\n",
    "    if usr == 'jabaker' and pwd == 'base1234':\n",
    "        return True\n",
    "    else:\n",
    "        return False\n",
    "verified = has_access(username, password)\n",
    "if verified == True:\n",
    "    print('Access Granted')\n",
    "else:\n",
    "    print('Access Denied')"
   ]
  },
  {
   "cell_type": "code",
   "execution_count": 19,
   "id": "b8484911-8f7f-4c65-91cb-600ca6b6dfe2",
   "metadata": {},
   "outputs": [
    {
     "name": "stdout",
     "output_type": "stream",
     "text": [
      "30 10\n"
     ]
    }
   ],
   "source": [
    "# function for addition and subtraction\n",
    "def math(a,b):\n",
    "    add = a + b\n",
    "    sub = a - b\n",
    "    return add, sub\n",
    "add_result, sub_result = math(20,10)\n",
    "print(add_result, sub_result)"
   ]
  },
  {
   "cell_type": "code",
   "execution_count": null,
   "id": "c8a06398-36fc-4021-9a96-edd1bc4680b5",
   "metadata": {},
   "outputs": [],
   "source": [
    "# division\n",
    "minutes = 105\n",
    "minutes/60\n",
    "\n",
    "# floor division\n",
    "minutes = 105\n",
    "hours = minutes//100\n",
    "hours\n",
    "\n",
    "remainder = minutes%60\n",
    "remainder"
   ]
  },
  {
   "cell_type": "code",
   "execution_count": 22,
   "id": "9326ea99-f3f6-4c9a-aa69-cdb657a545b8",
   "metadata": {},
   "outputs": [
    {
     "name": "stdout",
     "output_type": "stream",
     "text": [
      "x is positive\n",
      "x is even\n",
      "x is less than y\n",
      "x and y are equal\n"
     ]
    }
   ],
   "source": [
    "# operators\n",
    "if x > 0:\n",
    "    print('x is positive')\n",
    "if x < 0:\n",
    "    pass\n",
    "\n",
    "if x % 2 == 0:\n",
    "    print('x is even')\n",
    "else:\n",
    "    print('x is odd')\n",
    "    \n",
    "if x < y:\n",
    "    print('x is less than y')\n",
    "elif x > y:\n",
    "    print('x is greater than y')\n",
    "else:\n",
    "    print('x and y are equal')\n",
    "    \n",
    "if x == y:\n",
    "    print('x is less than y')\n",
    "elif x > y:\n",
    "    print('x is greater than y')\n",
    "else:\n",
    "    print('x and y are equal')"
   ]
  },
  {
   "cell_type": "code",
   "execution_count": 24,
   "id": "05d6e889-b5ad-4d75-9a75-a9c2a01fe6fb",
   "metadata": {},
   "outputs": [
    {
     "name": "stdin",
     "output_type": "stream",
     "text": [
      " name\n"
     ]
    },
    {
     "name": "stdout",
     "output_type": "stream",
     "text": [
      "OK\n"
     ]
    }
   ],
   "source": [
    "n = input()\n",
    "if 'name' in n:\n",
    "    print('OK')\n",
    "else:\n",
    "    print('NO')"
   ]
  },
  {
   "cell_type": "code",
   "execution_count": null,
   "id": "c9d174f0-e214-4881-b870-506a9004fba3",
   "metadata": {},
   "outputs": [],
   "source": [
    "gears = int(input('enter no. of gears'))\n",
    "if (gears >= 4):\n",
    "    print('This is a vehicle with more than 4 gears')"
   ]
  },
  {
   "cell_type": "code",
   "execution_count": 25,
   "id": "93daffd2-6126-49b1-af08-59cf2fee18a0",
   "metadata": {},
   "outputs": [
    {
     "name": "stdin",
     "output_type": "stream",
     "text": [
      "enter your age 40\n"
     ]
    },
    {
     "name": "stdout",
     "output_type": "stream",
     "text": [
      "you are an adult\n"
     ]
    }
   ],
   "source": [
    "age = int(input('enter your age'))\n",
    "if (age >= 18):\n",
    "    print('you are an adult')\n",
    "else:\n",
    "    print('child')"
   ]
  },
  {
   "cell_type": "code",
   "execution_count": 39,
   "id": "84556e9f-f7c4-481a-8076-1231e50420e2",
   "metadata": {},
   "outputs": [
    {
     "name": "stdout",
     "output_type": "stream",
     "text": [
      "Please pick a major: Computers, Physics, Chemistry, Math, French, German\n"
     ]
    },
    {
     "name": "stdin",
     "output_type": "stream",
     "text": [
      " English\n"
     ]
    },
    {
     "name": "stdout",
     "output_type": "stream",
     "text": [
      "Congrats, you will be awarded Applied Science\n",
      "Congrats, you will be added to an internship in Research Labs\n"
     ]
    }
   ],
   "source": [
    "# fix this to give you an error when a input != major\n",
    "print('Please pick a major: Computers, Physics, Chemistry, Math, French, German')\n",
    "major = input()\n",
    "if (major == 'Computers'):\n",
    "    degree = 'Software Systems'\n",
    "    print('Congrats, you will be awarded', degree)\n",
    "elif (major == 'Physics' or 'Chemistry' or 'Math'):\n",
    "    degree = 'Applied Science'\n",
    "    print('Congrats, you will be awarded', degree)\n",
    "elif(major == 'French' or 'German'):\n",
    "    degree = 'Languages'\n",
    "    print('Congrats, you will be awarded', degree)\n",
    "elif (major != ):\n",
    "    print('Please choose a major from the options given')\n",
    "if(degree == 'Software Systems'):\n",
    "    print('Congrats, you will be added to an internship in Tech Companies')\n",
    "elif (degree == 'Applied Science'):\n",
    "    print('Congrats, you will be added to an internship in Research Labs')\n",
    "elif(degree == 'Languages'):\n",
    "    print('Congrats, you will be added to an internship in Foriegn Offices')\n",
    "else:\n",
    "    print('Please choose a major from the options given')"
   ]
  },
  {
   "cell_type": "code",
   "execution_count": null,
   "id": "0db0c8e3-041f-456f-8d01-22a1841c178e",
   "metadata": {},
   "outputs": [],
   "source": [
    "# sum of natural no using recursive func\n",
    "def recur_sum(n):\n",
    "    if n <= 1:\n",
    "        return n\n",
    "    else:\n",
    "        return n + recur_sum(n-1)\n",
    "num = 20\n",
    "if num < 0:\n",
    "    print('enter positive number')\n",
    "else:\n",
    "    print('sum is', recur_sum(num))\n",
    "    "
   ]
  },
  {
   "cell_type": "code",
   "execution_count": 1,
   "id": "73b5fe8e-846f-4826-a95f-85c0a717a25b",
   "metadata": {},
   "outputs": [
    {
     "name": "stdout",
     "output_type": "stream",
     "text": [
      "3000\n"
     ]
    }
   ],
   "source": [
    "# find the recursion limit by default\n",
    "import sys\n",
    "print(sys.getrecursionlimit())"
   ]
  },
  {
   "cell_type": "code",
   "execution_count": null,
   "id": "34b7f52e-4821-4b91-ba86-f35051d2ae00",
   "metadata": {},
   "outputs": [],
   "source": [
    "# change the recursion limit\n",
    "import sys\n",
    "sys.getrecursionlimit(4000)\n",
    "print(sys.getrecursionlimit())"
   ]
  },
  {
   "cell_type": "code",
   "execution_count": 3,
   "id": "a5d99f67-7320-48e7-97d6-fc6960f8c84d",
   "metadata": {},
   "outputs": [
    {
     "name": "stdout",
     "output_type": "stream",
     "text": [
      "15\n"
     ]
    },
    {
     "data": {
      "text/plain": [
       "5"
      ]
     },
     "execution_count": 3,
     "metadata": {},
     "output_type": "execute_result"
    }
   ],
   "source": [
    "def sum():\n",
    "    a = 5\n",
    "    b = 10\n",
    "    c = a + b\n",
    "    print(c)\n",
    "sum()\n",
    "\n",
    "def sum(a,b):\n",
    "    c = a + b\n",
    "    return c\n",
    "sum(2,3)"
   ]
  },
  {
   "cell_type": "code",
   "execution_count": 2,
   "id": "c58d5b70-060c-48d3-80f9-f88bab1ffed2",
   "metadata": {},
   "outputs": [
    {
     "data": {
      "text/plain": [
       "24"
      ]
     },
     "execution_count": 2,
     "metadata": {},
     "output_type": "execute_result"
    }
   ],
   "source": [
    "# factorial recursion\n",
    "def factorial(n):\n",
    "    if n == 1:\n",
    "        return 1\n",
    "    else:\n",
    "        recurse = factorial(n-1)\n",
    "        result = n * recurse\n",
    "        return result\n",
    "factorial(4)"
   ]
  },
  {
   "cell_type": "code",
   "execution_count": 6,
   "id": "2c784cc6-2b62-4e62-80e9-a0be5e5cbbe7",
   "metadata": {},
   "outputs": [
    {
     "data": {
      "text/plain": [
       "16"
      ]
     },
     "execution_count": 6,
     "metadata": {},
     "output_type": "execute_result"
    }
   ],
   "source": [
    "def area(side):\n",
    "    temp = side ** 2\n",
    "    return temp\n",
    "area(4)"
   ]
  },
  {
   "cell_type": "code",
   "execution_count": 8,
   "id": "7f501853-af6b-431d-8f29-f0430325bde4",
   "metadata": {},
   "outputs": [
    {
     "data": {
      "text/plain": [
       "12.566370614359172"
      ]
     },
     "execution_count": 8,
     "metadata": {},
     "output_type": "execute_result"
    }
   ],
   "source": [
    "from math import *\n",
    "import math\n",
    "def area(radius):\n",
    "    a = math.pi * radius**2\n",
    "    return a\n",
    "area(2)"
   ]
  },
  {
   "cell_type": "code",
   "execution_count": 40,
   "id": "e9144efe-2c20-4952-868c-060d8e5ed198",
   "metadata": {},
   "outputs": [
    {
     "name": "stdout",
     "output_type": "stream",
     "text": [
      "7\n"
     ]
    }
   ],
   "source": [
    "# absolute_value (x)\n",
    "x = abs(-7)\n",
    "def myfunc():\n",
    "    if x < 0:\n",
    "        return x * -1\n",
    "    else:\n",
    "        return x\n",
    "print(x)"
   ]
  },
  {
   "cell_type": "code",
   "execution_count": 32,
   "id": "8b2eb634-c45b-4a7a-8b08-82420983a40b",
   "metadata": {},
   "outputs": [
    {
     "name": "stdout",
     "output_type": "stream",
     "text": [
      "3.14\n"
     ]
    }
   ],
   "source": [
    "# calculating distance function\n",
    "from math import *\n",
    "import math as m\n",
    "def distance(x1,y1,x2,y2):\n",
    "    return m.sqrt(((x1-x2)**2) + ((y1-y2)**2))\n",
    "def area (r):\n",
    "    return 3.14 * r**2\n",
    "print(area(distance(3,0,4,0)))"
   ]
  },
  {
   "cell_type": "code",
   "execution_count": 31,
   "id": "fcde4a90-14fb-4c39-995f-606f1ddac9c7",
   "metadata": {},
   "outputs": [
    {
     "name": "stdout",
     "output_type": "stream",
     "text": [
      "Future Investment in $ 154500.0\n"
     ]
    }
   ],
   "source": [
    "def profit(prof_rate, principal_amt):\n",
    "    return prof_rate * 0.01 * principal_amt\n",
    "def future_investment(profit_amt):\n",
    "    return profit_amt + 150000\n",
    "print('Future Investment in $',future_investment(profit(9,50000)))"
   ]
  },
  {
   "cell_type": "code",
   "execution_count": 35,
   "id": "4b54d1cd-c13e-4b67-93da-079e2f96dae6",
   "metadata": {},
   "outputs": [
    {
     "name": "stdin",
     "output_type": "stream",
     "text": [
      "enter width of rect 2\n",
      "enter length of rect 3\n"
     ]
    },
    {
     "name": "stdout",
     "output_type": "stream",
     "text": [
      "area of rect is <function area_rec at 0x00000224069FF160>\n",
      "area of rect 6\n"
     ]
    }
   ],
   "source": [
    "# increment\n",
    "width = int(input('enter width of rect'))\n",
    "length = int(input('enter length of rect'))\n",
    "\n",
    "# increment2\n",
    "def area_rec():\n",
    "    area = width * length\n",
    "print('area of rect is', area)\n",
    "area_rec()\n",
    "\n",
    "# increment3\n",
    "def area_rec(width,length):\n",
    "    area = width * length\n",
    "    return area\n",
    "print('area of rect', area_rec(width,length))"
   ]
  },
  {
   "cell_type": "code",
   "execution_count": 40,
   "id": "4bd89ab6-ba5a-4853-9ad2-da1e24d4fa31",
   "metadata": {},
   "outputs": [
    {
     "name": "stdin",
     "output_type": "stream",
     "text": [
      "Enter your name:  Jonathan\n",
      "Enter your weight:  59\n",
      "Enter your height:  1.83\n"
     ]
    },
    {
     "name": "stdout",
     "output_type": "stream",
     "text": [
      "name is not overweight\n"
     ]
    }
   ],
   "source": [
    "# Assignment: name1, height1, weight1; name2, height2, weight2; name3, height3, weight3\n",
    "# bmi_calculator(name, height, weight) = weight/(height**2)\n",
    "# if bmi < 25 name + not overweight else: name + is overweight\n",
    "name = input('Enter your name: ')\n",
    "weight = float(input('Enter your weight: '))\n",
    "height = float(input('Enter your height: '))\n",
    "\n",
    "bmi = weight/(height**2)\n",
    "print('Your BMI calculation is', bmi)\n",
    "if (bmi < 25):\n",
    "    print('name is not overweight')\n",
    "else:\n",
    "    print('name is overweight')"
   ]
  },
  {
   "cell_type": "code",
   "execution_count": null,
   "id": "07611fad-e13d-4894-a84d-aeffc87f8819",
   "metadata": {},
   "outputs": [],
   "source": [
    "num = 0\n",
    "while num < 5:\n",
    "    num += 1\n",
    "    print('num',num)"
   ]
  },
  {
   "cell_type": "code",
   "execution_count": null,
   "id": "bed9401c-f892-4192-893b-6f5b45306410",
   "metadata": {},
   "outputs": [],
   "source": [
    "# breaking in while loop\n",
    "num = 0\n",
    "while num < 5 :\n",
    "    num += 1\n",
    "    if num > 3:\n",
    "        continue\n",
    "    print('num', num)"
   ]
  },
  {
   "cell_type": "code",
   "execution_count": null,
   "id": "0726e91b-cbd2-4c57-86d8-7bca2786b55b",
   "metadata": {},
   "outputs": [],
   "source": [
    "# while loop with else block\n",
    "num = 0\n",
    "while num < 3 :\n",
    "    num += 1\n",
    "    print ('num', num)\n",
    "else:\n",
    "    print('else block executed')"
   ]
  },
  {
   "cell_type": "code",
   "execution_count": 2,
   "id": "f7264155-637c-4a20-ad0d-268df91657ae",
   "metadata": {},
   "outputs": [
    {
     "name": "stdout",
     "output_type": "stream",
     "text": [
      "Value of count1\n",
      "Value of count2\n",
      "Value of count3\n",
      "Value of count4\n"
     ]
    }
   ],
   "source": [
    "count = 0\n",
    "while count < 10 :\n",
    "    count += 1;\n",
    "    if (count == 5): break\n",
    "    print('Value of count ' + str(count))"
   ]
  },
  {
   "cell_type": "code",
   "execution_count": 31,
   "id": "1b83460a-005a-414a-944e-a155bf51269a",
   "metadata": {},
   "outputs": [
    {
     "name": "stdout",
     "output_type": "stream",
     "text": [
      "num 1\n",
      "num 2\n",
      "Found\n"
     ]
    }
   ],
   "source": [
    "# break\n",
    "nums = [1, 2, 3, 4, 5]\n",
    "for num in nums:\n",
    "    if num == 3:\n",
    "        print('Found')\n",
    "        break\n",
    "    print('num',num)"
   ]
  },
  {
   "cell_type": "code",
   "execution_count": 32,
   "id": "abe5b357-e29f-49d5-9b87-dd6055ac484e",
   "metadata": {},
   "outputs": [
    {
     "name": "stdout",
     "output_type": "stream",
     "text": [
      "num 1\n",
      "num 2\n",
      "Found\n",
      "num 4\n",
      "num 5\n"
     ]
    }
   ],
   "source": [
    "# continue\n",
    "nums = [1, 2, 3, 4, 5]\n",
    "for num in nums:\n",
    "    if num == 3:\n",
    "        print('Found')\n",
    "        continue\n",
    "    print('num',num)"
   ]
  },
  {
   "cell_type": "code",
   "execution_count": 6,
   "id": "9a0fc57e-8c52-4c3b-998c-4869beadd131",
   "metadata": {},
   "outputs": [
    {
     "name": "stdout",
     "output_type": "stream",
     "text": [
      "0\n",
      "1\n",
      "2\n",
      "3\n",
      "4\n",
      "5\n",
      "6\n",
      "7\n",
      "8\n",
      "9\n"
     ]
    }
   ],
   "source": [
    "# example\n",
    "x = 0\n",
    "while x < 10:\n",
    "    print(x)\n",
    "    x += 1"
   ]
  },
  {
   "cell_type": "code",
   "execution_count": null,
   "id": "e211fd4c-0072-4588-8542-c71b5aa321c2",
   "metadata": {},
   "outputs": [],
   "source": [
    "# example\n",
    "x = 0\n",
    "while x < 10:\n",
    "    if x == 5;\n",
    "        break\n",
    "    print(x)\n",
    "    x += 1"
   ]
  },
  {
   "cell_type": "code",
   "execution_count": 10,
   "id": "0f4f17ba-b491-4cc7-8ca9-b331c783a25e",
   "metadata": {},
   "outputs": [
    {
     "name": "stdout",
     "output_type": "stream",
     "text": [
      "movies\n",
      "travel\n",
      "cooking\n"
     ]
    }
   ],
   "source": [
    "# iteration func\n",
    "my_object = ['movies', 'travel', 'cooking']\n",
    "iter_obj = iter(my_object)\n",
    "print(next(iter_obj))\n",
    "print(next(iter_obj))\n",
    "print(next(iter_obj))"
   ]
  },
  {
   "cell_type": "code",
   "execution_count": 11,
   "id": "3f7eadc1-2c5d-47df-8f17-8516c3466b3e",
   "metadata": {},
   "outputs": [
    {
     "name": "stdout",
     "output_type": "stream",
     "text": [
      "movies\n",
      "travel\n",
      "cooking\n"
     ]
    }
   ],
   "source": [
    "# iterator for sets\n",
    "my_object = {'movies', 'travel', 'cooking'}\n",
    "iter_obj = iter(my_object)\n",
    "print(next(iter_obj))\n",
    "print(next(iter_obj))\n",
    "print(next(iter_obj))"
   ]
  },
  {
   "cell_type": "code",
   "execution_count": 12,
   "id": "8a37f212-9300-4db8-a4d2-d14dc251d6d1",
   "metadata": {},
   "outputs": [
    {
     "name": "stdout",
     "output_type": "stream",
     "text": [
      "apple\n",
      "orange\n",
      "guava\n"
     ]
    }
   ],
   "source": [
    "my_object = {'orange', 'guava', 'apple'}\n",
    "iter_obj = iter(my_object)\n",
    "print(next(iter_obj))\n",
    "print(next(iter_obj))\n",
    "print(next(iter_obj))"
   ]
  },
  {
   "cell_type": "code",
   "execution_count": null,
   "id": "e054688a-320c-4a53-81aa-fae215a55cea",
   "metadata": {},
   "outputs": [],
   "source": [
    "# iterator for strings\n",
    "my_object = 'movies'\n",
    "iter_obj = iter(my_object)\n",
    "print(next(iter_obj))\n",
    "print(next(iter_obj))\n",
    "print(next(iter_obj))"
   ]
  },
  {
   "cell_type": "code",
   "execution_count": null,
   "id": "d569f095-46de-425f-b44a-94a21b07b986",
   "metadata": {},
   "outputs": [],
   "source": [
    "my_object = [1, 2, 3, 4, 5, 6, 7, 8]\n",
    "for i in my_object:\n",
    "    print(i)"
   ]
  },
  {
   "cell_type": "code",
   "execution_count": null,
   "id": "d752956b-56c5-4298-8438-8d61588e7bf1",
   "metadata": {},
   "outputs": [],
   "source": [
    "# another method\n",
    "my_obj = [1, 2, 3, 4, 5, 6, 7, 8]\n",
    "iter_obj = iter(my_obj)\n",
    "while True:\n",
    "    try:\n",
    "        element = next(iter_obj)\n",
    "        print(element)\n",
    "    except StopIteration:\n",
    "        break"
   ]
  },
  {
   "cell_type": "code",
   "execution_count": 19,
   "id": "a882e790-7ab3-405d-b334-a10045c3cf24",
   "metadata": {},
   "outputs": [],
   "source": [
    "# using while loop take sum of all elements\n",
    "given_list = [5, 4, 4, 3, 1, -2, -3, -5]\n",
    "a = 0\n",
    "i = 0\n",
    "while given_list[i] > 0:\n",
    "    a += given_list[i]\n",
    "    i += 1\n",
    "print(a)"
   ]
  },
  {
   "cell_type": "code",
   "execution_count": 29,
   "id": "2d84f724-a06c-463f-b128-11b283bf6d6a",
   "metadata": {},
   "outputs": [
    {
     "name": "stdout",
     "output_type": "stream",
     "text": [
      "5\n",
      "9\n",
      "13\n",
      "16\n",
      "17\n"
     ]
    }
   ],
   "source": [
    "# using for and break\n",
    "given_list = [5, 4, 4, 3, 1, -2, -3, -5]\n",
    "a = 0\n",
    "for i in given_list :\n",
    "    if i <= 0:\n",
    "        break\n",
    "    a += i\n",
    "    print(a)"
   ]
  },
  {
   "cell_type": "code",
   "execution_count": 35,
   "id": "31a8ecd8-ab52-4292-a3d0-12ccd60c7b22",
   "metadata": {},
   "outputs": [
    {
     "name": "stdout",
     "output_type": "stream",
     "text": [
      "85\n"
     ]
    }
   ],
   "source": [
    "# while true loop\n",
    "i = 0\n",
    "while True :\n",
    "    a += given_list[i]\n",
    "    i += 1\n",
    "    if given_list[i] <= 0:\n",
    "        break\n",
    "print(a)"
   ]
  },
  {
   "cell_type": "code",
   "execution_count": null,
   "id": "c58f85fb-c101-471d-9f24-94f9041941a4",
   "metadata": {},
   "outputs": [],
   "source": [
    "count = 0\n",
    "while count < 9:\n",
    "    print('Number:', count)\n",
    "    count += 1\n",
    "print('Hey Sianath')"
   ]
  },
  {
   "cell_type": "code",
   "execution_count": 37,
   "id": "19968e6c-e7f6-489c-bf2a-bffaffe58a85",
   "metadata": {},
   "outputs": [
    {
     "name": "stdin",
     "output_type": "stream",
     "text": [
      "number -5\n"
     ]
    },
    {
     "name": "stdout",
     "output_type": "stream",
     "text": [
      "120\n"
     ]
    }
   ],
   "source": [
    "numn = int(input('number'))\n",
    "factorial = 1\n",
    "if num < 0:\n",
    "    print('must be positive')\n",
    "elif num == 0:\n",
    "    print('factorial = 1')\n",
    "else:\n",
    "    for i in range(1, num + 1):\n",
    "        factorial *= i\n",
    "print(factorial)"
   ]
  },
  {
   "cell_type": "code",
   "execution_count": 25,
   "id": "8347463e-bac5-4512-b076-b592e69e2f38",
   "metadata": {},
   "outputs": [
    {
     "name": "stdin",
     "output_type": "stream",
     "text": [
      "maximal number: 18\n"
     ]
    },
    {
     "name": "stdout",
     "output_type": "stream",
     "text": [
      "3 4 5\n",
      "5 12 13\n",
      "6 8 10\n",
      "8 15 17\n",
      "9 12 15\n",
      "12 16 20\n"
     ]
    }
   ],
   "source": [
    "# pathagoreon numbers\n",
    "# (3,4,5) (5,12,13) (6,8,10) (8,15,17) (9,12,15) (12,16,20)\n",
    "from math import sqrt\n",
    "n = int(input('maximal number:'))\n",
    "for a in range(1, n + 1):\n",
    "    for b in range(a, n):\n",
    "        c_square = a**2 + b**2\n",
    "        c = int(sqrt(c_square))\n",
    "        if ((c_square - c **2) == 0):\n",
    "            print(a,b,c)"
   ]
  }
 ],
 "metadata": {
  "kernelspec": {
   "display_name": "Python 3 (ipykernel)",
   "language": "python",
   "name": "python3"
  },
  "language_info": {
   "codemirror_mode": {
    "name": "ipython",
    "version": 3
   },
   "file_extension": ".py",
   "mimetype": "text/x-python",
   "name": "python",
   "nbconvert_exporter": "python",
   "pygments_lexer": "ipython3",
   "version": "3.9.13"
  }
 },
 "nbformat": 4,
 "nbformat_minor": 5
}
