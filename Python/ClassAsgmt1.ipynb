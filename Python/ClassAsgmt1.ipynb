{
 "cells": [
  {
   "cell_type": "code",
   "execution_count": 1,
   "metadata": {},
   "outputs": [],
   "source": [
    "import math as m\n",
    "import re\n",
    "import random"
   ]
  },
  {
   "cell_type": "code",
   "execution_count": 2,
   "metadata": {},
   "outputs": [
    {
     "name": "stdout",
     "output_type": "stream",
     "text": [
      "[2002, 2009, 2016, 2023, 2037, 2044, 2051, 2058, 2072, 2079, 2086, 2093, 2107, 2114, 2121, 2128, 2142, 2149, 2156, 2163, 2177, 2184, 2191, 2198, 2212, 2219, 2226, 2233, 2247, 2254, 2261, 2268, 2282, 2289, 2296, 2303, 2317, 2324, 2331, 2338, 2352, 2359, 2366, 2373, 2387, 2394, 2401, 2408, 2422, 2429, 2436, 2443, 2457, 2464, 2471, 2478, 2492, 2499, 2506, 2513, 2527, 2534, 2541, 2548, 2562, 2569, 2576, 2583, 2597, 2604, 2611, 2618, 2632, 2639, 2646, 2653, 2667, 2674, 2681, 2688, 2702, 2709, 2716, 2723, 2737, 2744, 2751, 2758, 2772, 2779, 2786, 2793, 2807, 2814, 2821, 2828, 2842, 2849, 2856, 2863, 2877, 2884, 2891, 2898, 2912, 2919, 2926, 2933, 2947, 2954, 2961, 2968, 2982, 2989, 2996]\n"
     ]
    }
   ],
   "source": [
    "def display(n1,n2):\n",
    "    results = []\n",
    "    for i in range(2000,3000):\n",
    "        if (i%7==0) & (i%5!=0):\n",
    "            results.append(i)\n",
    "    return results\n",
    "n1 = 2000\n",
    "n2 = 3000\n",
    "print(display(n1,n2))"
   ]
  },
  {
   "cell_type": "code",
   "execution_count": 3,
   "metadata": {},
   "outputs": [
    {
     "name": "stdout",
     "output_type": "stream",
     "text": [
      "40320\n"
     ]
    }
   ],
   "source": [
    "def fact(n):\n",
    "    if n == 0:\n",
    "        return 1\n",
    "    return n * fact(n-1)\n",
    "\n",
    "num = 8\n",
    "print(fact(num))"
   ]
  },
  {
   "cell_type": "code",
   "execution_count": 5,
   "metadata": {},
   "outputs": [
    {
     "name": "stdout",
     "output_type": "stream",
     "text": [
      "{1: 1, 2: 4, 3: 9, 4: 16, 5: 25, 6: 36, 7: 49, 8: 64}\n"
     ]
    }
   ],
   "source": [
    "n = int(input('Enter number of choice:'))\n",
    "d = dict()\n",
    "\n",
    "for i in range(1, n+1):\n",
    "    d[i] = i * i\n",
    "print(d)"
   ]
  },
  {
   "cell_type": "code",
   "execution_count": 9,
   "metadata": {},
   "outputs": [
    {
     "name": "stdout",
     "output_type": "stream",
     "text": [
      "['34', '67', '55', '33', '12', '98']\n",
      "('34', '67', '55', '33', '12', '98')\n"
     ]
    }
   ],
   "source": [
    "values = input('Input som comma separated numbers: ')\n",
    "l = values.split(',')\n",
    "t = tuple(l)\n",
    "print(l)\n",
    "print(t)"
   ]
  },
  {
   "cell_type": "code",
   "execution_count": 12,
   "metadata": {},
   "outputs": [
    {
     "name": "stdout",
     "output_type": "stream",
     "text": [
      "18,22,24\n"
     ]
    }
   ],
   "source": [
    "c = 50\n",
    "h = 30\n",
    "value = []\n",
    "items = [x for x in input().split(',')]\n",
    "\n",
    "for d in items:\n",
    "    value.append(str(int(round(m.sqrt(2*c*float(d)/h)))))\n",
    "\n",
    "print(','.join(value))"
   ]
  },
  {
   "cell_type": "code",
   "execution_count": 13,
   "metadata": {},
   "outputs": [
    {
     "name": "stdout",
     "output_type": "stream",
     "text": [
      "[[0, 0, 0, 0, 0], [0, 1, 2, 3, 4], [0, 2, 4, 6, 8]]\n"
     ]
    }
   ],
   "source": [
    "input_str = input()\n",
    "dim = [int(x) for x in input_str.split(',')]\n",
    "rowNum = dim[0]\n",
    "colNum = dim[1]\n",
    "multil = [[0 for col in range(colNum)] for row in range(rowNum)]\n",
    "\n",
    "for row in range(rowNum):\n",
    "    for col in range(colNum):\n",
    "        multil[row][col] = row * col\n",
    "\n",
    "print(multil)"
   ]
  },
  {
   "cell_type": "code",
   "execution_count": 14,
   "metadata": {},
   "outputs": [
    {
     "name": "stdout",
     "output_type": "stream",
     "text": [
      "2000,2002,2004,2006,2008,2010,2012,2014,2016,2018,2020,2022,2024,2026,2028,2030,2032,2034,2036,2038,2040,2042,2044,2046,2048,2050,2052,2054,2056,2058,2060,2062,2064,2066,2068,2070,2072,2074,2076,2078,2080,2082,2084,2086,2088,2090,2092,2094,2096,2098,2200,2202,2204,2206,2208,2210,2212,2214,2216,2218,2220,2222,2224,2226,2228,2230,2232,2234,2236,2238,2240,2242,2244,2246,2248,2250,2252,2254,2256,2258,2260,2262,2264,2266,2268,2270,2272,2274,2276,2278,2280,2282,2284,2286,2288,2290,2292,2294,2296,2298,2400,2402,2404,2406,2408,2410,2412,2414,2416,2418,2420,2422,2424,2426,2428,2430,2432,2434,2436,2438,2440,2442,2444,2446,2448,2450,2452,2454,2456,2458,2460,2462,2464,2466,2468,2470,2472,2474,2476,2478,2480,2482,2484,2486,2488,2490,2492,2494,2496,2498,2600,2602,2604,2606,2608,2610,2612,2614,2616,2618,2620,2622,2624,2626,2628,2630,2632,2634,2636,2638,2640,2642,2644,2646,2648,2650,2652,2654,2656,2658,2660,2662,2664,2666,2668,2670,2672,2674,2676,2678,2680,2682,2684,2686,2688,2690,2692,2694,2696,2698,2800,2802,2804,2806,2808,2810,2812,2814,2816,2818,2820,2822,2824,2826,2828,2830,2832,2834,2836,2838,2840,2842,2844,2846,2848,2850,2852,2854,2856,2858,2860,2862,2864,2866,2868,2870,2872,2874,2876,2878,2880,2882,2884,2886,2888,2890,2892,2894,2896,2898\n"
     ]
    }
   ],
   "source": [
    "values = []\n",
    "\n",
    "for i in range(1000,3001):\n",
    "    s = str(i)\n",
    "    if (int(s[0]) %2 == 0) & (int(s[1]) %2 == 0) & (int(s[3]) %2 == 0):\n",
    "        values.append(s)\n",
    "\n",
    "print(','.join(values))"
   ]
  },
  {
   "cell_type": "code",
   "execution_count": 15,
   "metadata": {},
   "outputs": [
    {
     "name": "stdout",
     "output_type": "stream",
     "text": [
      "UPPER CASE 1\n",
      "LOWER CASE 9\n"
     ]
    }
   ],
   "source": [
    "s = input()\n",
    "d = {'UPPER CASE':0, 'LOWER CASE':0}\n",
    "\n",
    "for c in s:\n",
    "    if c.isupper():\n",
    "        d['UPPER CASE'] += 1\n",
    "    elif c.islower():\n",
    "        d['LOWER CASE'] += 1\n",
    "    else:\n",
    "        pass\n",
    "\n",
    "print('UPPER CASE', d['UPPER CASE'])\n",
    "print('LOWER CASE', d['LOWER CASE'])"
   ]
  },
  {
   "cell_type": "code",
   "execution_count": 16,
   "metadata": {},
   "outputs": [
    {
     "name": "stdout",
     "output_type": "stream",
     "text": [
      "11106\n"
     ]
    }
   ],
   "source": [
    "a = input()\n",
    "n1 = int('%s' % a)\n",
    "n2 = int('%s%s' % (a,a,))\n",
    "n3 = int('%s%s%s' % (a,a,a))\n",
    "n4 = int('%s%s%s%s' % (a,a,a,a))\n",
    "\n",
    "print(n1+n2+n3+n4)"
   ]
  },
  {
   "cell_type": "code",
   "execution_count": 18,
   "metadata": {},
   "outputs": [
    {
     "name": "stdout",
     "output_type": "stream",
     "text": [
      "\n"
     ]
    }
   ],
   "source": [
    "value = []\n",
    "items = [x for x in input().split(',')]\n",
    "\n",
    "for p in items:\n",
    "    if len(p) < 6 | len(p) > 12:\n",
    "        continue    \n",
    "    else:\n",
    "        pass\n",
    "    if not re.search('[a-z]',p):\n",
    "        continue\n",
    "    elif not re.search('[0-9]',p):\n",
    "        continue\n",
    "    elif not re.search('[A-Z]',p):\n",
    "        continue\n",
    "    elif not re.search('[$#@]',p):\n",
    "        continue\n",
    "    elif re.search('\\s',p):\n",
    "        continue\n",
    "    else:\n",
    "        pass\n",
    "    value.append(p)\n",
    "\n",
    "print(','.join(value))"
   ]
  },
  {
   "cell_type": "code",
   "execution_count": 22,
   "metadata": {},
   "outputs": [
    {
     "name": "stdout",
     "output_type": "stream",
     "text": [
      "0\n",
      "7\n",
      "14\n",
      "21\n",
      "28\n",
      "35\n",
      "42\n",
      "49\n",
      "56\n",
      "63\n",
      "70\n",
      "77\n",
      "84\n",
      "91\n",
      "98\n"
     ]
    }
   ],
   "source": [
    "def numbs(n):\n",
    "    i = 0\n",
    "    while i < n:\n",
    "        j = i\n",
    "        i += 1\n",
    "        if j % 7 == 0:\n",
    "            yield j\n",
    "    \n",
    "for i in numbs(100):\n",
    "    print(i)"
   ]
  },
  {
   "cell_type": "code",
   "execution_count": 12,
   "metadata": {},
   "outputs": [
    {
     "name": "stdout",
     "output_type": "stream",
     "text": [
      "2\n"
     ]
    }
   ],
   "source": [
    "pos = [0,0]\n",
    "\n",
    "while True:\n",
    "    s = input()\n",
    "    if not s:\n",
    "        break\n",
    "    movement = s.split(' ')\n",
    "    direction = movement[0]\n",
    "    steps = int(movement[1])\n",
    "    if direction == 'Up':\n",
    "        pos[0] += steps\n",
    "    elif direction == 'Down':\n",
    "        pos[0] -= steps\n",
    "    elif direction == 'Right':\n",
    "        pos[1] += steps\n",
    "    elif direction == 'Left':\n",
    "        pos[1] -= steps\n",
    "    else:\n",
    "        pass\n",
    "\n",
    "print(int(round(m.sqrt(pos[1]**2 + pos[0]**2))))"
   ]
  },
  {
   "cell_type": "code",
   "execution_count": 25,
   "metadata": {},
   "outputs": [
    {
     "name": "stdout",
     "output_type": "stream",
     "text": [
      "[1, 4, 9, 16, 25, 36, 49, 64, 81, 100, 121, 144, 169, 196, 225, 256, 289, 324, 361, 400]\n"
     ]
    }
   ],
   "source": [
    "\n",
    "def printTuple():\n",
    "    li = list()\n",
    "    for i in range(1,21):\n",
    "        li.append(i**2)\n",
    "    print(li)\n",
    "printTuple()"
   ]
  },
  {
   "cell_type": "code",
   "execution_count": 13,
   "metadata": {},
   "outputs": [
    {
     "name": "stdout",
     "output_type": "stream",
     "text": [
      "[4, 16, 36, 64, 100]\n"
     ]
    }
   ],
   "source": [
    "def even(item):\n",
    "    if item %2 == 0:\n",
    "        return item**2\n",
    "    \n",
    "l = [i for i in range(1,11)]\n",
    "print(list(filter(lambda j: j is not None, list(map(even, l)))))"
   ]
  },
  {
   "cell_type": "code",
   "execution_count": 35,
   "metadata": {},
   "outputs": [
    {
     "name": "stdout",
     "output_type": "stream",
     "text": [
      "I am an American\n",
      "I am an American\n"
     ]
    }
   ],
   "source": [
    "class American():\n",
    "    @staticmethod\n",
    "    def printNationality():\n",
    "        print('I am an American')\n",
    "\n",
    "american = American()\n",
    "american.printNationality()\n",
    "American.printNationality()"
   ]
  },
  {
   "cell_type": "code",
   "execution_count": 38,
   "metadata": {},
   "outputs": [
    {
     "name": "stdout",
     "output_type": "stream",
     "text": [
      "goggle\n"
     ]
    }
   ],
   "source": [
    "emailAdd = 'john@goggle.com'\n",
    "pat2 = '(\\w+)@(\\w+).com'\n",
    "r2 = re.match(pat2,emailAdd)\n",
    "print(r2.group(2))"
   ]
  },
  {
   "cell_type": "code",
   "execution_count": 3,
   "metadata": {},
   "outputs": [
    {
     "name": "stdout",
     "output_type": "stream",
     "text": [
      "4\n"
     ]
    }
   ],
   "source": [
    "def bin_search(l, element):\n",
    "    low = 0\n",
    "    high = len(l) - 1\n",
    "    index = -1\n",
    "\n",
    "    while high >= low and index == -1:\n",
    "        mid = int(m.floor((high+low)/2.0))\n",
    "        if l[mid] == element:\n",
    "            index = mid\n",
    "        elif l[mid] > element:\n",
    "            high = mid - 1\n",
    "        else:\n",
    "            low = mid + 1\n",
    "    return index\n",
    "\n",
    "l = [1,5,7,3,11,45,132]\n",
    "print(bin_search(l,11))"
   ]
  },
  {
   "cell_type": "code",
   "execution_count": 31,
   "metadata": {},
   "outputs": [
    {
     "name": "stdout",
     "output_type": "stream",
     "text": [
      "[200, 150, 105, 165, 125, 195, 115, 170, 160, 180]\n"
     ]
    }
   ],
   "source": [
    "l = []\n",
    "\n",
    "for i in range(100,201):\n",
    "    for j in range(5, i):\n",
    "        if (i % j == 0):\n",
    "            l.append(i)\n",
    "        else:\n",
    "            break\n",
    "\n",
    "num = random.sample(l,10)\n",
    "print(num)"
   ]
  },
  {
   "cell_type": "code",
   "execution_count": 33,
   "metadata": {},
   "outputs": [
    {
     "name": "stdout",
     "output_type": "stream",
     "text": [
      "[12, 24, 35, 88, 120, 155]\n"
     ]
    }
   ],
   "source": [
    "l = [12,24,35,24,88,120,155,88,120,155]\n",
    "\n",
    "def removeDup(l):\n",
    "    newL = []\n",
    "    seen = set()\n",
    "    for item in l:\n",
    "        if item not in seen:\n",
    "            seen.add(item)\n",
    "            newL.append(item)\n",
    "    return newL\n",
    "\n",
    "print(removeDup(l))"
   ]
  },
  {
   "cell_type": "code",
   "execution_count": 35,
   "metadata": {},
   "outputs": [
    {
     "name": "stdout",
     "output_type": "stream",
     "text": [
      "Number of Rabbits are:12.0\n",
      "Number of Chickens are:23.0\n"
     ]
    }
   ],
   "source": [
    "heads = 35\n",
    "legs = 94\n",
    "\n",
    "rab = (legs - (2 * heads)) / 2\n",
    "chicks = heads - rab\n",
    "\n",
    "print('Number of Rabbits are:' + str(rab))\n",
    "print('Number of Chickens are:' + str(chicks))"
   ]
  }
 ],
 "metadata": {
  "kernelspec": {
   "display_name": "Python 3 (ipykernel)",
   "language": "python",
   "name": "python3"
  },
  "language_info": {
   "codemirror_mode": {
    "name": "ipython",
    "version": 3
   },
   "file_extension": ".py",
   "mimetype": "text/x-python",
   "name": "python",
   "nbconvert_exporter": "python",
   "pygments_lexer": "ipython3",
   "version": "3.9.13"
  },
  "vscode": {
   "interpreter": {
    "hash": "9fac946a9e2f4d4890ba7ce90b629a4dd426c9d15d36d397f8c18ee482009090"
   }
  }
 },
 "nbformat": 4,
 "nbformat_minor": 4
}
