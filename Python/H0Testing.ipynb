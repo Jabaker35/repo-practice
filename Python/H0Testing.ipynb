{
 "cells": [
  {
   "cell_type": "code",
   "execution_count": 1,
   "id": "a3723265-1fb2-441e-8292-c23eba0b59ee",
   "metadata": {},
   "outputs": [],
   "source": [
    "import pandas as pd\n",
    "import numpy as np\n",
    "import math\n",
    "import scipy.stats as st\n",
    "import matplotlib\n",
    "import seaborn as sb\n",
    "import statsmodels.api as sm\n",
    "import itertools\n",
    "import matplotlib.pyplot as plt\n",
    "import matplotlib_venn as venn\n",
    "from matplotlib import pyplot\n",
    "from scipy.stats import shapiro\n",
    "from numpy.random import randn\n",
    "from scipy.stats import normaltest\n",
    "from scipy.stats import spearmanr\n",
    "from scipy.stats import pearsonr\n",
    "from scipy.stats import chi2\n",
    "from statsmodels.tsa.stattools import adfuller"
   ]
  },
  {
   "cell_type": "code",
   "execution_count": 3,
   "id": "ab457b2e-967d-4523-bf88-2f9206abb0b3",
   "metadata": {},
   "outputs": [
    {
     "name": "stdout",
     "output_type": "stream",
     "text": [
      "Collecting matplotlib_venn\n",
      "  Downloading matplotlib-venn-0.11.7.tar.gz (29 kB)\n",
      "  Preparing metadata (setup.py): started\n",
      "  Preparing metadata (setup.py): finished with status 'done'\n",
      "Requirement already satisfied: matplotlib in c:\\users\\judie baker\\anaconda3\\lib\\site-packages (from matplotlib_venn) (3.5.2)\n",
      "Requirement already satisfied: numpy in c:\\users\\judie baker\\anaconda3\\lib\\site-packages (from matplotlib_venn) (1.21.5)\n",
      "Requirement already satisfied: scipy in c:\\users\\judie baker\\anaconda3\\lib\\site-packages (from matplotlib_venn) (1.9.1)\n",
      "Requirement already satisfied: python-dateutil>=2.7 in c:\\users\\judie baker\\anaconda3\\lib\\site-packages (from matplotlib->matplotlib_venn) (2.8.2)\n",
      "Requirement already satisfied: fonttools>=4.22.0 in c:\\users\\judie baker\\anaconda3\\lib\\site-packages (from matplotlib->matplotlib_venn) (4.25.0)\n",
      "Requirement already satisfied: pillow>=6.2.0 in c:\\users\\judie baker\\anaconda3\\lib\\site-packages (from matplotlib->matplotlib_venn) (9.2.0)\n",
      "Requirement already satisfied: cycler>=0.10 in c:\\users\\judie baker\\anaconda3\\lib\\site-packages (from matplotlib->matplotlib_venn) (0.11.0)\n",
      "Requirement already satisfied: pyparsing>=2.2.1 in c:\\users\\judie baker\\anaconda3\\lib\\site-packages (from matplotlib->matplotlib_venn) (3.0.9)\n",
      "Requirement already satisfied: kiwisolver>=1.0.1 in c:\\users\\judie baker\\anaconda3\\lib\\site-packages (from matplotlib->matplotlib_venn) (1.4.2)\n",
      "Requirement already satisfied: packaging>=20.0 in c:\\users\\judie baker\\anaconda3\\lib\\site-packages (from matplotlib->matplotlib_venn) (21.3)\n",
      "Requirement already satisfied: six>=1.5 in c:\\users\\judie baker\\anaconda3\\lib\\site-packages (from python-dateutil>=2.7->matplotlib->matplotlib_venn) (1.16.0)\n",
      "Building wheels for collected packages: matplotlib_venn\n",
      "  Building wheel for matplotlib_venn (setup.py): started\n",
      "  Building wheel for matplotlib_venn (setup.py): finished with status 'done'\n",
      "  Created wheel for matplotlib_venn: filename=matplotlib_venn-0.11.7-py3-none-any.whl size=32155 sha256=75e94df13a130e1120a46442437ad7432aaa100fb77fc0d338b8864070968b7d\n",
      "  Stored in directory: c:\\users\\judie baker\\appdata\\local\\pip\\cache\\wheels\\32\\41\\5f\\d0f29cd092d042d8e8a87d7bbe42193166aa555ff38b377343\n",
      "Successfully built matplotlib_venn\n",
      "Installing collected packages: matplotlib_venn\n",
      "Successfully installed matplotlib_venn-0.11.7\n",
      "Note: you may need to restart the kernel to use updated packages.\n"
     ]
    }
   ],
   "source": [
    "pip install matplotlib_venn"
   ]
  },
  {
   "cell_type": "code",
   "execution_count": 2,
   "id": "489daccc-c56d-45c1-a0d6-d8bb5c106f1e",
   "metadata": {},
   "outputs": [
    {
     "data": {
      "text/html": [
       "<div>\n",
       "<style scoped>\n",
       "    .dataframe tbody tr th:only-of-type {\n",
       "        vertical-align: middle;\n",
       "    }\n",
       "\n",
       "    .dataframe tbody tr th {\n",
       "        vertical-align: top;\n",
       "    }\n",
       "\n",
       "    .dataframe thead th {\n",
       "        text-align: right;\n",
       "    }\n",
       "</style>\n",
       "<table border=\"1\" class=\"dataframe\">\n",
       "  <thead>\n",
       "    <tr style=\"text-align: right;\">\n",
       "      <th></th>\n",
       "      <th>Heights</th>\n",
       "      <th>Gender</th>\n",
       "    </tr>\n",
       "  </thead>\n",
       "  <tbody>\n",
       "    <tr>\n",
       "      <th>0</th>\n",
       "      <td>160.377337</td>\n",
       "      <td>Male</td>\n",
       "    </tr>\n",
       "    <tr>\n",
       "      <th>1</th>\n",
       "      <td>177.637818</td>\n",
       "      <td>Male</td>\n",
       "    </tr>\n",
       "    <tr>\n",
       "      <th>2</th>\n",
       "      <td>166.258270</td>\n",
       "      <td>Male</td>\n",
       "    </tr>\n",
       "    <tr>\n",
       "      <th>3</th>\n",
       "      <td>182.467287</td>\n",
       "      <td>Male</td>\n",
       "    </tr>\n",
       "    <tr>\n",
       "      <th>4</th>\n",
       "      <td>182.368534</td>\n",
       "      <td>Male</td>\n",
       "    </tr>\n",
       "    <tr>\n",
       "      <th>...</th>\n",
       "      <td>...</td>\n",
       "      <td>...</td>\n",
       "    </tr>\n",
       "    <tr>\n",
       "      <th>995</th>\n",
       "      <td>170.081594</td>\n",
       "      <td>Female</td>\n",
       "    </tr>\n",
       "    <tr>\n",
       "      <th>996</th>\n",
       "      <td>159.978178</td>\n",
       "      <td>Female</td>\n",
       "    </tr>\n",
       "    <tr>\n",
       "      <th>997</th>\n",
       "      <td>150.668404</td>\n",
       "      <td>Female</td>\n",
       "    </tr>\n",
       "    <tr>\n",
       "      <th>998</th>\n",
       "      <td>163.985544</td>\n",
       "      <td>Female</td>\n",
       "    </tr>\n",
       "    <tr>\n",
       "      <th>999</th>\n",
       "      <td>160.411138</td>\n",
       "      <td>Female</td>\n",
       "    </tr>\n",
       "  </tbody>\n",
       "</table>\n",
       "<p>1000 rows × 2 columns</p>\n",
       "</div>"
      ],
      "text/plain": [
       "        Heights  Gender\n",
       "0    160.377337    Male\n",
       "1    177.637818    Male\n",
       "2    166.258270    Male\n",
       "3    182.467287    Male\n",
       "4    182.368534    Male\n",
       "..          ...     ...\n",
       "995  170.081594  Female\n",
       "996  159.978178  Female\n",
       "997  150.668404  Female\n",
       "998  163.985544  Female\n",
       "999  160.411138  Female\n",
       "\n",
       "[1000 rows x 2 columns]"
      ]
     },
     "execution_count": 2,
     "metadata": {},
     "output_type": "execute_result"
    }
   ],
   "source": [
    "# Hypothesis Testing: helps proving or disapproving the claims which are being tested\n",
    "# creates the structure of problem statement\n",
    "# H0 = NULL conditional exist, nothing new happening, old beliefs are true\n",
    "# h1 = new theory is true, something new is happening, old beliefes are false\n",
    "data = pd.read_csv('documents/SetOfHeights.txt')\n",
    "data.to_csv('documents/SetOfHeights.csv')\n",
    "data"
   ]
  },
  {
   "cell_type": "code",
   "execution_count": null,
   "id": "98f5049e-21b7-4edc-b37a-b68051649901",
   "metadata": {},
   "outputs": [],
   "source": [
    "# steps of HT:\n",
    "    # 1. create a null hypothesis (null & alt)\n",
    "    # 2. set alpha = 0.05\n",
    "    # 3. get data\n",
    "    # 4. analyze\n",
    "    # 5. state the decision, H0 = 170 & H1 != 170"
   ]
  },
  {
   "cell_type": "code",
   "execution_count": 6,
   "id": "8138b6f4-fb02-4146-988f-531910c724c0",
   "metadata": {},
   "outputs": [
    {
     "data": {
      "text/plain": [
       "168.30635473929416"
      ]
     },
     "execution_count": 6,
     "metadata": {},
     "output_type": "execute_result"
    }
   ],
   "source": [
    "data['Heights'].mean()"
   ]
  },
  {
   "cell_type": "code",
   "execution_count": 7,
   "id": "c4deb532-ab27-4987-b711-44406962801c",
   "metadata": {},
   "outputs": [
    {
     "data": {
      "text/plain": [
       "36    163.681258\n",
       "58    172.188947\n",
       "24    169.216574\n",
       "26    179.537652\n",
       "64    181.824515\n",
       "         ...    \n",
       "33    175.179213\n",
       "17    180.573097\n",
       "57    174.290963\n",
       "54    182.397064\n",
       "43    176.503942\n",
       "Name: Heights, Length: 70, dtype: float64"
      ]
     },
     "execution_count": 7,
     "metadata": {},
     "output_type": "execute_result"
    }
   ],
   "source": [
    "sampdata = data['Heights'][np.argsort(np.random.random(1000)[:70])]\n",
    "sampdata"
   ]
  },
  {
   "cell_type": "code",
   "execution_count": 8,
   "id": "1880cee5-8d56-4af2-87d0-90cfc77e1a74",
   "metadata": {},
   "outputs": [
    {
     "data": {
      "text/plain": [
       "9.807998879179232"
      ]
     },
     "execution_count": 8,
     "metadata": {},
     "output_type": "execute_result"
    }
   ],
   "source": [
    "# mean of sample data\n",
    "mean = sampdata.mean()\n",
    "hypm = 170\n",
    "n = 70\n",
    "\n",
    "# std deviation of population data\n",
    "stdpop = np.std(data['Heights'])\n",
    "stdpop"
   ]
  },
  {
   "cell_type": "code",
   "execution_count": 9,
   "id": "7e965a13-3236-41db-9f6e-eed10cac83e0",
   "metadata": {},
   "outputs": [
    {
     "data": {
      "text/plain": [
       "3.7145225383559084"
      ]
     },
     "execution_count": 9,
     "metadata": {},
     "output_type": "execute_result"
    }
   ],
   "source": [
    "# value of z score: two sided test, 0.05/2 = 0.25 for two sided z-table +- 1.96\n",
    "(mean - hypm)/(stdpop/math.sqrt(n))"
   ]
  },
  {
   "cell_type": "code",
   "execution_count": null,
   "id": "e5276cc1-070d-4c7d-8ac9-576932a7b9e8",
   "metadata": {},
   "outputs": [],
   "source": [
    "# obs 3.7 > critical 1.96: we do not reject the H0\n",
    "# z value = 0.68\n",
    "# p value = 1 - 0.68"
   ]
  },
  {
   "cell_type": "code",
   "execution_count": 10,
   "id": "99b127a8-4c8a-4a88-8cca-c35dd0fad9f7",
   "metadata": {},
   "outputs": [
    {
     "data": {
      "text/plain": [
       "0.31999999999999995"
      ]
     },
     "execution_count": 10,
     "metadata": {},
     "output_type": "execute_result"
    }
   ],
   "source": [
    "1 - 0.68\n",
    "# 0.3 > 0.05, fail to reject the H0"
   ]
  },
  {
   "cell_type": "code",
   "execution_count": 12,
   "id": "e720d96e-5798-41db-a3a5-ef5f987381fd",
   "metadata": {},
   "outputs": [
    {
     "data": {
      "text/plain": [
       "Ttest_1sampResult(statistic=4.745097937928107, pvalue=1.0889323529797857e-05)"
      ]
     },
     "execution_count": 12,
     "metadata": {},
     "output_type": "execute_result"
    }
   ],
   "source": [
    "st.ttest_1samp(sampdata,170)"
   ]
  },
  {
   "cell_type": "code",
   "execution_count": 13,
   "id": "1865e1db-070a-49ab-ab1d-445f6631bc22",
   "metadata": {},
   "outputs": [
    {
     "data": {
      "text/plain": [
       "False"
      ]
     },
     "execution_count": 13,
     "metadata": {},
     "output_type": "execute_result"
    }
   ],
   "source": [
    "# we reject H0\n",
    "1.0889323529797857e-05 > 0.05"
   ]
  },
  {
   "cell_type": "code",
   "execution_count": 14,
   "id": "5db2bc86-d916-42f3-aaf7-4f1086c6986e",
   "metadata": {},
   "outputs": [
    {
     "data": {
      "text/html": [
       "<div>\n",
       "<style scoped>\n",
       "    .dataframe tbody tr th:only-of-type {\n",
       "        vertical-align: middle;\n",
       "    }\n",
       "\n",
       "    .dataframe tbody tr th {\n",
       "        vertical-align: top;\n",
       "    }\n",
       "\n",
       "    .dataframe thead th {\n",
       "        text-align: right;\n",
       "    }\n",
       "</style>\n",
       "<table border=\"1\" class=\"dataframe\">\n",
       "  <thead>\n",
       "    <tr style=\"text-align: right;\">\n",
       "      <th></th>\n",
       "      <th>fixed acidity</th>\n",
       "      <th>volatile acidity</th>\n",
       "      <th>citric acid</th>\n",
       "      <th>residual sugar</th>\n",
       "      <th>chlorides</th>\n",
       "      <th>free sulfur dioxide</th>\n",
       "      <th>total sulfur dioxide</th>\n",
       "      <th>density</th>\n",
       "      <th>pH</th>\n",
       "      <th>sulphates</th>\n",
       "      <th>alcohol</th>\n",
       "      <th>quality</th>\n",
       "    </tr>\n",
       "  </thead>\n",
       "  <tbody>\n",
       "    <tr>\n",
       "      <th>0</th>\n",
       "      <td>7.4</td>\n",
       "      <td>0.700</td>\n",
       "      <td>0.00</td>\n",
       "      <td>1.9</td>\n",
       "      <td>0.076</td>\n",
       "      <td>11.0</td>\n",
       "      <td>34.0</td>\n",
       "      <td>0.99780</td>\n",
       "      <td>3.51</td>\n",
       "      <td>0.56</td>\n",
       "      <td>9.4</td>\n",
       "      <td>5</td>\n",
       "    </tr>\n",
       "    <tr>\n",
       "      <th>1</th>\n",
       "      <td>7.8</td>\n",
       "      <td>0.880</td>\n",
       "      <td>0.00</td>\n",
       "      <td>2.6</td>\n",
       "      <td>0.098</td>\n",
       "      <td>25.0</td>\n",
       "      <td>67.0</td>\n",
       "      <td>0.99680</td>\n",
       "      <td>3.20</td>\n",
       "      <td>0.68</td>\n",
       "      <td>9.8</td>\n",
       "      <td>5</td>\n",
       "    </tr>\n",
       "    <tr>\n",
       "      <th>2</th>\n",
       "      <td>7.8</td>\n",
       "      <td>0.760</td>\n",
       "      <td>0.04</td>\n",
       "      <td>2.3</td>\n",
       "      <td>0.092</td>\n",
       "      <td>15.0</td>\n",
       "      <td>54.0</td>\n",
       "      <td>0.99700</td>\n",
       "      <td>3.26</td>\n",
       "      <td>0.65</td>\n",
       "      <td>9.8</td>\n",
       "      <td>5</td>\n",
       "    </tr>\n",
       "    <tr>\n",
       "      <th>3</th>\n",
       "      <td>11.2</td>\n",
       "      <td>0.280</td>\n",
       "      <td>0.56</td>\n",
       "      <td>1.9</td>\n",
       "      <td>0.075</td>\n",
       "      <td>17.0</td>\n",
       "      <td>60.0</td>\n",
       "      <td>0.99800</td>\n",
       "      <td>3.16</td>\n",
       "      <td>0.58</td>\n",
       "      <td>9.8</td>\n",
       "      <td>6</td>\n",
       "    </tr>\n",
       "    <tr>\n",
       "      <th>4</th>\n",
       "      <td>7.4</td>\n",
       "      <td>0.700</td>\n",
       "      <td>0.00</td>\n",
       "      <td>1.9</td>\n",
       "      <td>0.076</td>\n",
       "      <td>11.0</td>\n",
       "      <td>34.0</td>\n",
       "      <td>0.99780</td>\n",
       "      <td>3.51</td>\n",
       "      <td>0.56</td>\n",
       "      <td>9.4</td>\n",
       "      <td>5</td>\n",
       "    </tr>\n",
       "    <tr>\n",
       "      <th>...</th>\n",
       "      <td>...</td>\n",
       "      <td>...</td>\n",
       "      <td>...</td>\n",
       "      <td>...</td>\n",
       "      <td>...</td>\n",
       "      <td>...</td>\n",
       "      <td>...</td>\n",
       "      <td>...</td>\n",
       "      <td>...</td>\n",
       "      <td>...</td>\n",
       "      <td>...</td>\n",
       "      <td>...</td>\n",
       "    </tr>\n",
       "    <tr>\n",
       "      <th>1594</th>\n",
       "      <td>6.2</td>\n",
       "      <td>0.600</td>\n",
       "      <td>0.08</td>\n",
       "      <td>2.0</td>\n",
       "      <td>0.090</td>\n",
       "      <td>32.0</td>\n",
       "      <td>44.0</td>\n",
       "      <td>0.99490</td>\n",
       "      <td>3.45</td>\n",
       "      <td>0.58</td>\n",
       "      <td>10.5</td>\n",
       "      <td>5</td>\n",
       "    </tr>\n",
       "    <tr>\n",
       "      <th>1595</th>\n",
       "      <td>5.9</td>\n",
       "      <td>0.550</td>\n",
       "      <td>0.10</td>\n",
       "      <td>2.2</td>\n",
       "      <td>0.062</td>\n",
       "      <td>39.0</td>\n",
       "      <td>51.0</td>\n",
       "      <td>0.99512</td>\n",
       "      <td>3.52</td>\n",
       "      <td>0.76</td>\n",
       "      <td>11.2</td>\n",
       "      <td>6</td>\n",
       "    </tr>\n",
       "    <tr>\n",
       "      <th>1596</th>\n",
       "      <td>6.3</td>\n",
       "      <td>0.510</td>\n",
       "      <td>0.13</td>\n",
       "      <td>2.3</td>\n",
       "      <td>0.076</td>\n",
       "      <td>29.0</td>\n",
       "      <td>40.0</td>\n",
       "      <td>0.99574</td>\n",
       "      <td>3.42</td>\n",
       "      <td>0.75</td>\n",
       "      <td>11.0</td>\n",
       "      <td>6</td>\n",
       "    </tr>\n",
       "    <tr>\n",
       "      <th>1597</th>\n",
       "      <td>5.9</td>\n",
       "      <td>0.645</td>\n",
       "      <td>0.12</td>\n",
       "      <td>2.0</td>\n",
       "      <td>0.075</td>\n",
       "      <td>32.0</td>\n",
       "      <td>44.0</td>\n",
       "      <td>0.99547</td>\n",
       "      <td>3.57</td>\n",
       "      <td>0.71</td>\n",
       "      <td>10.2</td>\n",
       "      <td>5</td>\n",
       "    </tr>\n",
       "    <tr>\n",
       "      <th>1598</th>\n",
       "      <td>6.0</td>\n",
       "      <td>0.310</td>\n",
       "      <td>0.47</td>\n",
       "      <td>3.6</td>\n",
       "      <td>0.067</td>\n",
       "      <td>18.0</td>\n",
       "      <td>42.0</td>\n",
       "      <td>0.99549</td>\n",
       "      <td>3.39</td>\n",
       "      <td>0.66</td>\n",
       "      <td>11.0</td>\n",
       "      <td>6</td>\n",
       "    </tr>\n",
       "  </tbody>\n",
       "</table>\n",
       "<p>1599 rows × 12 columns</p>\n",
       "</div>"
      ],
      "text/plain": [
       "      fixed acidity  volatile acidity  citric acid  residual sugar  chlorides  \\\n",
       "0               7.4             0.700         0.00             1.9      0.076   \n",
       "1               7.8             0.880         0.00             2.6      0.098   \n",
       "2               7.8             0.760         0.04             2.3      0.092   \n",
       "3              11.2             0.280         0.56             1.9      0.075   \n",
       "4               7.4             0.700         0.00             1.9      0.076   \n",
       "...             ...               ...          ...             ...        ...   \n",
       "1594            6.2             0.600         0.08             2.0      0.090   \n",
       "1595            5.9             0.550         0.10             2.2      0.062   \n",
       "1596            6.3             0.510         0.13             2.3      0.076   \n",
       "1597            5.9             0.645         0.12             2.0      0.075   \n",
       "1598            6.0             0.310         0.47             3.6      0.067   \n",
       "\n",
       "      free sulfur dioxide  total sulfur dioxide  density    pH  sulphates  \\\n",
       "0                    11.0                  34.0  0.99780  3.51       0.56   \n",
       "1                    25.0                  67.0  0.99680  3.20       0.68   \n",
       "2                    15.0                  54.0  0.99700  3.26       0.65   \n",
       "3                    17.0                  60.0  0.99800  3.16       0.58   \n",
       "4                    11.0                  34.0  0.99780  3.51       0.56   \n",
       "...                   ...                   ...      ...   ...        ...   \n",
       "1594                 32.0                  44.0  0.99490  3.45       0.58   \n",
       "1595                 39.0                  51.0  0.99512  3.52       0.76   \n",
       "1596                 29.0                  40.0  0.99574  3.42       0.75   \n",
       "1597                 32.0                  44.0  0.99547  3.57       0.71   \n",
       "1598                 18.0                  42.0  0.99549  3.39       0.66   \n",
       "\n",
       "      alcohol  quality  \n",
       "0         9.4        5  \n",
       "1         9.8        5  \n",
       "2         9.8        5  \n",
       "3         9.8        6  \n",
       "4         9.4        5  \n",
       "...       ...      ...  \n",
       "1594     10.5        5  \n",
       "1595     11.2        6  \n",
       "1596     11.0        6  \n",
       "1597     10.2        5  \n",
       "1598     11.0        6  \n",
       "\n",
       "[1599 rows x 12 columns]"
      ]
     },
     "execution_count": 14,
     "metadata": {},
     "output_type": "execute_result"
    }
   ],
   "source": [
    "wine = pd.read_csv('documents/winequality-red.csv')\n",
    "wine"
   ]
  },
  {
   "cell_type": "code",
   "execution_count": 16,
   "id": "5ae3dc63-e2c7-4580-9285-84f31f5939be",
   "metadata": {},
   "outputs": [
    {
     "data": {
      "image/png": "[encoded data removed]",
      "text/plain": [
       "<Figure size 1600x600 with 1 Axes>"
      ]
     },
     "metadata": {},
     "output_type": "display_data"
    }
   ],
   "source": [
    "pyplot.figure(figsize=(16,6))\n",
    "pyplot.hist(wine['volatile acidity'])\n",
    "pyplot.show()"
   ]
  },
  {
   "cell_type": "code",
   "execution_count": 30,
   "id": "bcea9152-7e47-41bc-93a8-337254f5ed24",
   "metadata": {},
   "outputs": [
    {
     "name": "stdout",
     "output_type": "stream",
     "text": [
      "stat-0.97,p-0.000000000000000268638537394731\n",
      "Unnormal Distribution\n"
     ]
    }
   ],
   "source": [
    "datatest = wine['volatile acidity']\n",
    "stat,p = shapiro(datatest)\n",
    "print('stat-%0.2F,p-%0.30f'% (stat,p))\n",
    "if p > 0.05:\n",
    "    print('Normal Distribution')\n",
    "else:\n",
    "    print('Unnormal Distribution')"
   ]
  },
  {
   "cell_type": "code",
   "execution_count": 35,
   "id": "6be10083-9606-474f-be83-4a58a43c09d3",
   "metadata": {},
   "outputs": [
    {
     "data": {
      "text/plain": [
       "array([-1.25150558,  1.96161442,  1.27769641,  0.99460148, -0.33507405,\n",
       "       -0.03146989,  0.63435367, -0.44124303,  0.6754903 ,  1.20580718,\n",
       "        0.78280828, -0.35679995,  0.92013427, -1.05983258,  0.1871329 ,\n",
       "        0.63760347, -0.28426457,  0.12621009,  0.94896126,  0.77220891,\n",
       "        1.01894312,  1.10835417,  0.35139985,  0.89484782, -0.73206243,\n",
       "       -1.2353759 , -0.01368999,  1.64906779,  0.45888928, -0.32838847,\n",
       "        1.52496634,  1.21195768,  0.19824089, -0.95696504,  1.75226797,\n",
       "        1.54901771,  0.18557178, -0.29086912, -0.58196957,  0.04667366,\n",
       "        0.74917257, -1.48849892,  0.80554892,  2.00936985,  1.17879078,\n",
       "       -0.27816731,  0.57950277,  0.09950269, -1.08396837,  0.40656585,\n",
       "        1.05132565,  0.52862374,  1.36571857, -0.22470189,  0.40078352,\n",
       "        0.24663161, -0.15460551,  0.98527423,  0.85071686,  0.72254248,\n",
       "        0.27158348,  1.67115192, -0.19546381,  0.50599042, -1.2927468 ,\n",
       "        0.08696835, -0.24875297,  0.73133602, -0.94629179,  1.13242874,\n",
       "       -1.74251032,  1.51363768, -0.10688982, -1.83919676,  0.86906195,\n",
       "        0.50311533,  0.98636114, -1.49740352, -0.3399798 ,  0.65569192,\n",
       "       -1.38624209, -0.72251904,  1.34534265,  0.48282143,  0.32224951,\n",
       "       -1.11025305, -0.30683211,  0.18784066, -0.81312672,  0.67851028,\n",
       "       -0.09598785, -0.24703164,  0.13179375,  0.14200913,  0.81487023,\n",
       "        0.29937978,  0.04945506,  1.19811036,  0.01579974, -0.70261295])"
      ]
     },
     "execution_count": 35,
     "metadata": {},
     "output_type": "execute_result"
    }
   ],
   "source": [
    "# generate normal dist data using randn func\n",
    "datatest = randn(100)\n",
    "datatest"
   ]
  },
  {
   "cell_type": "code",
   "execution_count": 36,
   "id": "2b37abd2-49cb-4cb5-af25-6d1e29e7c920",
   "metadata": {},
   "outputs": [
    {
     "name": "stdout",
     "output_type": "stream",
     "text": [
      "stat-0.98,p-0.237687587738037109375000000000\n",
      "Normal Distribution\n"
     ]
    }
   ],
   "source": [
    "stat,p = shapiro(datatest)\n",
    "print('stat-%0.2F,p-%0.30f'% (stat,p))\n",
    "if p > 0.05:\n",
    "    print('Normal Distribution')\n",
    "else:\n",
    "    print('Unnormal Distribution')"
   ]
  },
  {
   "cell_type": "code",
   "execution_count": 39,
   "id": "76e8eb2f-9df8-478c-833c-cf6d1123a0c3",
   "metadata": {},
   "outputs": [
    {
     "name": "stdout",
     "output_type": "stream",
     "text": [
      "stat-143.42,p-0.0000000000\n",
      "Unnormal Distribution\n"
     ]
    }
   ],
   "source": [
    "# Normality Test using k**2\n",
    "# identically dist: all elements have equal probability to occur\n",
    "data = wine['volatile acidity']\n",
    "stat,p = normaltest(data)\n",
    "print('stat-%0.2F,p-%0.10f'% (stat,p))\n",
    "if p > 0.05:\n",
    "    print('Normal Distribution')\n",
    "else:\n",
    "    print('Unnormal Distribution')"
   ]
  },
  {
   "cell_type": "code",
   "execution_count": 40,
   "id": "54b3f842-9d73-48a6-aa0b-41eed30d1cef",
   "metadata": {},
   "outputs": [
    {
     "data": {
      "text/html": [
       "<div>\n",
       "<style scoped>\n",
       "    .dataframe tbody tr th:only-of-type {\n",
       "        vertical-align: middle;\n",
       "    }\n",
       "\n",
       "    .dataframe tbody tr th {\n",
       "        vertical-align: top;\n",
       "    }\n",
       "\n",
       "    .dataframe thead th {\n",
       "        text-align: right;\n",
       "    }\n",
       "</style>\n",
       "<table border=\"1\" class=\"dataframe\">\n",
       "  <thead>\n",
       "    <tr style=\"text-align: right;\">\n",
       "      <th></th>\n",
       "      <th>fixed acidity</th>\n",
       "      <th>volatile acidity</th>\n",
       "      <th>citric acid</th>\n",
       "      <th>residual sugar</th>\n",
       "      <th>chlorides</th>\n",
       "      <th>free sulfur dioxide</th>\n",
       "      <th>total sulfur dioxide</th>\n",
       "      <th>density</th>\n",
       "      <th>pH</th>\n",
       "      <th>sulphates</th>\n",
       "      <th>alcohol</th>\n",
       "      <th>quality</th>\n",
       "    </tr>\n",
       "  </thead>\n",
       "  <tbody>\n",
       "    <tr>\n",
       "      <th>0</th>\n",
       "      <td>7.4</td>\n",
       "      <td>0.700</td>\n",
       "      <td>0.00</td>\n",
       "      <td>1.9</td>\n",
       "      <td>0.076</td>\n",
       "      <td>11.0</td>\n",
       "      <td>34.0</td>\n",
       "      <td>0.99780</td>\n",
       "      <td>3.51</td>\n",
       "      <td>0.56</td>\n",
       "      <td>9.4</td>\n",
       "      <td>5</td>\n",
       "    </tr>\n",
       "    <tr>\n",
       "      <th>1</th>\n",
       "      <td>7.8</td>\n",
       "      <td>0.880</td>\n",
       "      <td>0.00</td>\n",
       "      <td>2.6</td>\n",
       "      <td>0.098</td>\n",
       "      <td>25.0</td>\n",
       "      <td>67.0</td>\n",
       "      <td>0.99680</td>\n",
       "      <td>3.20</td>\n",
       "      <td>0.68</td>\n",
       "      <td>9.8</td>\n",
       "      <td>5</td>\n",
       "    </tr>\n",
       "    <tr>\n",
       "      <th>2</th>\n",
       "      <td>7.8</td>\n",
       "      <td>0.760</td>\n",
       "      <td>0.04</td>\n",
       "      <td>2.3</td>\n",
       "      <td>0.092</td>\n",
       "      <td>15.0</td>\n",
       "      <td>54.0</td>\n",
       "      <td>0.99700</td>\n",
       "      <td>3.26</td>\n",
       "      <td>0.65</td>\n",
       "      <td>9.8</td>\n",
       "      <td>5</td>\n",
       "    </tr>\n",
       "    <tr>\n",
       "      <th>3</th>\n",
       "      <td>11.2</td>\n",
       "      <td>0.280</td>\n",
       "      <td>0.56</td>\n",
       "      <td>1.9</td>\n",
       "      <td>0.075</td>\n",
       "      <td>17.0</td>\n",
       "      <td>60.0</td>\n",
       "      <td>0.99800</td>\n",
       "      <td>3.16</td>\n",
       "      <td>0.58</td>\n",
       "      <td>9.8</td>\n",
       "      <td>6</td>\n",
       "    </tr>\n",
       "    <tr>\n",
       "      <th>4</th>\n",
       "      <td>7.4</td>\n",
       "      <td>0.700</td>\n",
       "      <td>0.00</td>\n",
       "      <td>1.9</td>\n",
       "      <td>0.076</td>\n",
       "      <td>11.0</td>\n",
       "      <td>34.0</td>\n",
       "      <td>0.99780</td>\n",
       "      <td>3.51</td>\n",
       "      <td>0.56</td>\n",
       "      <td>9.4</td>\n",
       "      <td>5</td>\n",
       "    </tr>\n",
       "    <tr>\n",
       "      <th>...</th>\n",
       "      <td>...</td>\n",
       "      <td>...</td>\n",
       "      <td>...</td>\n",
       "      <td>...</td>\n",
       "      <td>...</td>\n",
       "      <td>...</td>\n",
       "      <td>...</td>\n",
       "      <td>...</td>\n",
       "      <td>...</td>\n",
       "      <td>...</td>\n",
       "      <td>...</td>\n",
       "      <td>...</td>\n",
       "    </tr>\n",
       "    <tr>\n",
       "      <th>1594</th>\n",
       "      <td>6.2</td>\n",
       "      <td>0.600</td>\n",
       "      <td>0.08</td>\n",
       "      <td>2.0</td>\n",
       "      <td>0.090</td>\n",
       "      <td>32.0</td>\n",
       "      <td>44.0</td>\n",
       "      <td>0.99490</td>\n",
       "      <td>3.45</td>\n",
       "      <td>0.58</td>\n",
       "      <td>10.5</td>\n",
       "      <td>5</td>\n",
       "    </tr>\n",
       "    <tr>\n",
       "      <th>1595</th>\n",
       "      <td>5.9</td>\n",
       "      <td>0.550</td>\n",
       "      <td>0.10</td>\n",
       "      <td>2.2</td>\n",
       "      <td>0.062</td>\n",
       "      <td>39.0</td>\n",
       "      <td>51.0</td>\n",
       "      <td>0.99512</td>\n",
       "      <td>3.52</td>\n",
       "      <td>0.76</td>\n",
       "      <td>11.2</td>\n",
       "      <td>6</td>\n",
       "    </tr>\n",
       "    <tr>\n",
       "      <th>1596</th>\n",
       "      <td>6.3</td>\n",
       "      <td>0.510</td>\n",
       "      <td>0.13</td>\n",
       "      <td>2.3</td>\n",
       "      <td>0.076</td>\n",
       "      <td>29.0</td>\n",
       "      <td>40.0</td>\n",
       "      <td>0.99574</td>\n",
       "      <td>3.42</td>\n",
       "      <td>0.75</td>\n",
       "      <td>11.0</td>\n",
       "      <td>6</td>\n",
       "    </tr>\n",
       "    <tr>\n",
       "      <th>1597</th>\n",
       "      <td>5.9</td>\n",
       "      <td>0.645</td>\n",
       "      <td>0.12</td>\n",
       "      <td>2.0</td>\n",
       "      <td>0.075</td>\n",
       "      <td>32.0</td>\n",
       "      <td>44.0</td>\n",
       "      <td>0.99547</td>\n",
       "      <td>3.57</td>\n",
       "      <td>0.71</td>\n",
       "      <td>10.2</td>\n",
       "      <td>5</td>\n",
       "    </tr>\n",
       "    <tr>\n",
       "      <th>1598</th>\n",
       "      <td>6.0</td>\n",
       "      <td>0.310</td>\n",
       "      <td>0.47</td>\n",
       "      <td>3.6</td>\n",
       "      <td>0.067</td>\n",
       "      <td>18.0</td>\n",
       "      <td>42.0</td>\n",
       "      <td>0.99549</td>\n",
       "      <td>3.39</td>\n",
       "      <td>0.66</td>\n",
       "      <td>11.0</td>\n",
       "      <td>6</td>\n",
       "    </tr>\n",
       "  </tbody>\n",
       "</table>\n",
       "<p>1599 rows × 12 columns</p>\n",
       "</div>"
      ],
      "text/plain": [
       "      fixed acidity  volatile acidity  citric acid  residual sugar  chlorides  \\\n",
       "0               7.4             0.700         0.00             1.9      0.076   \n",
       "1               7.8             0.880         0.00             2.6      0.098   \n",
       "2               7.8             0.760         0.04             2.3      0.092   \n",
       "3              11.2             0.280         0.56             1.9      0.075   \n",
       "4               7.4             0.700         0.00             1.9      0.076   \n",
       "...             ...               ...          ...             ...        ...   \n",
       "1594            6.2             0.600         0.08             2.0      0.090   \n",
       "1595            5.9             0.550         0.10             2.2      0.062   \n",
       "1596            6.3             0.510         0.13             2.3      0.076   \n",
       "1597            5.9             0.645         0.12             2.0      0.075   \n",
       "1598            6.0             0.310         0.47             3.6      0.067   \n",
       "\n",
       "      free sulfur dioxide  total sulfur dioxide  density    pH  sulphates  \\\n",
       "0                    11.0                  34.0  0.99780  3.51       0.56   \n",
       "1                    25.0                  67.0  0.99680  3.20       0.68   \n",
       "2                    15.0                  54.0  0.99700  3.26       0.65   \n",
       "3                    17.0                  60.0  0.99800  3.16       0.58   \n",
       "4                    11.0                  34.0  0.99780  3.51       0.56   \n",
       "...                   ...                   ...      ...   ...        ...   \n",
       "1594                 32.0                  44.0  0.99490  3.45       0.58   \n",
       "1595                 39.0                  51.0  0.99512  3.52       0.76   \n",
       "1596                 29.0                  40.0  0.99574  3.42       0.75   \n",
       "1597                 32.0                  44.0  0.99547  3.57       0.71   \n",
       "1598                 18.0                  42.0  0.99549  3.39       0.66   \n",
       "\n",
       "      alcohol  quality  \n",
       "0         9.4        5  \n",
       "1         9.8        5  \n",
       "2         9.8        5  \n",
       "3         9.8        6  \n",
       "4         9.4        5  \n",
       "...       ...      ...  \n",
       "1594     10.5        5  \n",
       "1595     11.2        6  \n",
       "1596     11.0        6  \n",
       "1597     10.2        5  \n",
       "1598     11.0        6  \n",
       "\n",
       "[1599 rows x 12 columns]"
      ]
     },
     "execution_count": 40,
     "metadata": {},
     "output_type": "execute_result"
    }
   ],
   "source": [
    "# Corr Test - Pearson and Spearman's rank\n",
    "# assumption: identical and normal dist data\n",
    "wine "
   ]
  },
  {
   "cell_type": "code",
   "execution_count": 46,
   "id": "d847fbc6-07e7-4de1-b164-b1379580f2b8",
   "metadata": {},
   "outputs": [
    {
     "data": {
      "image/png": "[encoded data removed]",
      "text/plain": [
       "<Figure size 640x480 with 1 Axes>"
      ]
     },
     "metadata": {},
     "output_type": "display_data"
    }
   ],
   "source": [
    "sampone = wine[1:30]['volatile acidity']\n",
    "samptwo = wine[1:30]['pH']\n",
    "pyplot.plot(sampone,samptwo)\n",
    "pyplot.show()\n",
    "# no correlation"
   ]
  },
  {
   "cell_type": "code",
   "execution_count": 47,
   "id": "b57175a1-d0be-4e5c-844a-b14da28bcc7a",
   "metadata": {},
   "outputs": [
    {
     "name": "stdout",
     "output_type": "stream",
     "text": [
      "stat-0.20,p-0.30136\n",
      "Independent Samples\n"
     ]
    }
   ],
   "source": [
    "# Spearman Rank\n",
    "stat,p = spearmanr(sampone,samptwo)\n",
    "print('stat-%0.2F,p-%0.5f'% (stat,p))\n",
    "if p > 0.05:\n",
    "    print('Independent Samples')\n",
    "else:\n",
    "    print('Dependent Samples')"
   ]
  },
  {
   "cell_type": "code",
   "execution_count": 49,
   "id": "03736c3a-07a4-49d8-abee-975b791b2c7e",
   "metadata": {},
   "outputs": [
    {
     "name": "stdout",
     "output_type": "stream",
     "text": [
      "stat-0.18,p-0.36047\n",
      "Independent Samples\n"
     ]
    }
   ],
   "source": [
    "# Pearson \n",
    "stat,p = pearsonr(sampone,samptwo)\n",
    "print('stat-%0.2F,p-%0.5f'% (stat,p))\n",
    "if p > 0.05:\n",
    "    print('Independent Samples')\n",
    "else:\n",
    "    print('Dependent Samples')"
   ]
  },
  {
   "cell_type": "code",
   "execution_count": 50,
   "id": "d8b1fefe-9d88-47bc-a06f-65c82a54b7a3",
   "metadata": {},
   "outputs": [
    {
     "data": {
      "image/png": "[encoded data removed]",
      "text/plain": [
       "<Figure size 640x480 with 1 Axes>"
      ]
     },
     "metadata": {},
     "output_type": "display_data"
    }
   ],
   "source": [
    "sampone = wine[1:30]['total sulfur dioxide']\n",
    "samptwo = wine[1:30]['free sulfur dioxide']\n",
    "pyplot.plot(sampone,samptwo)\n",
    "pyplot.show()"
   ]
  },
  {
   "cell_type": "code",
   "execution_count": 51,
   "id": "5e0509af-f360-4dd7-ba86-40c97be71134",
   "metadata": {},
   "outputs": [
    {
     "data": {
      "text/plain": [
       "Ttest_1sampResult(statistic=1.7053136360191492, pvalue=0.14885362711300268)"
      ]
     },
     "execution_count": 51,
     "metadata": {},
     "output_type": "execute_result"
    }
   ],
   "source": [
    "# six students were chosen at random from a class given a math test\n",
    "# teacher H0: class should pass by 70%\n",
    "# scores of six students: 62, 92, 75, 68, 83, 95\n",
    "# teacher confidence is 95% the mean score = 70%\n",
    "# H0 = 70, H1 != 70, p-value = 0.05\n",
    "scores=[62, 92, 75, 68, 83, 95]\n",
    "st.ttest_1samp(scores,70)"
   ]
  },
  {
   "cell_type": "code",
   "execution_count": 52,
   "id": "6ad6b57a-d2f2-44da-ba5a-a8a753370702",
   "metadata": {},
   "outputs": [
    {
     "data": {
      "text/plain": [
       "True"
      ]
     },
     "execution_count": 52,
     "metadata": {},
     "output_type": "execute_result"
    }
   ],
   "source": [
    "0.14885362711300268 > 0.05"
   ]
  },
  {
   "cell_type": "code",
   "execution_count": 54,
   "id": "3dac9b07-ce53-43a8-9985-5badd09e5824",
   "metadata": {},
   "outputs": [],
   "source": [
    "jon_score = [23,21,31,20,19,35,26,22,21,19]\n",
    "chris_score = [46,42,62,40,38,70,52,44,42,38]"
   ]
  },
  {
   "cell_type": "code",
   "execution_count": 56,
   "id": "191dd173-bd82-4578-896d-46bdf3a102a7",
   "metadata": {},
   "outputs": [
    {
     "name": "stdout",
     "output_type": "stream",
     "text": [
      "23.7\n",
      "47.4\n"
     ]
    }
   ],
   "source": [
    "print(np.mean(jon_score))\n",
    "print(np.mean(chris_score))"
   ]
  },
  {
   "cell_type": "code",
   "execution_count": 61,
   "id": "28064b34-3d37-4515-8240-f8a75403c1bd",
   "metadata": {},
   "outputs": [
    {
     "data": {
      "text/plain": [
       "Ttest_1sampResult(statistic=13.88788431654638, pvalue=2.1983272300073563e-07)"
      ]
     },
     "execution_count": 61,
     "metadata": {},
     "output_type": "execute_result"
    }
   ],
   "source": [
    "st.ttest_1samp(jon_score,0)"
   ]
  },
  {
   "cell_type": "code",
   "execution_count": 62,
   "id": "4e814ea0-064d-4b57-968a-0f283319083f",
   "metadata": {},
   "outputs": [
    {
     "data": {
      "text/plain": [
       "Ttest_1sampResult(statistic=5.098084116200569, pvalue=0.0006468242923305229)"
      ]
     },
     "execution_count": 62,
     "metadata": {},
     "output_type": "execute_result"
    }
   ],
   "source": [
    "st.ttest_1samp(jon_score,15)"
   ]
  },
  {
   "cell_type": "code",
   "execution_count": 64,
   "id": "5a006f7e-d137-4f77-805c-c1926e6c4535",
   "metadata": {},
   "outputs": [
    {
     "data": {
      "text/plain": [
       "Ttest_1sampResult(statistic=2.1681507160852993, pvalue=0.058288767709368715)"
      ]
     },
     "execution_count": 64,
     "metadata": {},
     "output_type": "execute_result"
    }
   ],
   "source": [
    "st.ttest_1samp(jon_score,20)"
   ]
  },
  {
   "cell_type": "code",
   "execution_count": 65,
   "id": "3e11cf33-33b0-4c9e-b609-49ee4ea597be",
   "metadata": {},
   "outputs": [
    {
     "data": {
      "text/plain": [
       "Ttest_indResult(statistic=-6.210850679090182, pvalue=7.3390410384768156e-06)"
      ]
     },
     "execution_count": 65,
     "metadata": {},
     "output_type": "execute_result"
    }
   ],
   "source": [
    "# independent two sample t-test: samples are taken from independent sources\n",
    "# assuming both means are equal\n",
    "st.ttest_ind(jon_score,chris_score)\n",
    "# reject H0"
   ]
  },
  {
   "cell_type": "code",
   "execution_count": 66,
   "id": "2bdf8db6-8ed9-4d5a-8fef-ad14f63ca01d",
   "metadata": {},
   "outputs": [
    {
     "data": {
      "text/plain": [
       "Ttest_relResult(statistic=-13.88788431654638, pvalue=2.1983272300073563e-07)"
      ]
     },
     "execution_count": 66,
     "metadata": {},
     "output_type": "execute_result"
    }
   ],
   "source": [
    "# T-test: one test, independent test, paired test\n",
    "# rel: related \n",
    "jon_score = [23,21,31,20,19,35,26,22,21,19]\n",
    "jon_score2 = [46,42,62,40,38,70,52,44,42,38]\n",
    "st.ttest_rel(jon_score,jon_score2)"
   ]
  },
  {
   "cell_type": "code",
   "execution_count": 67,
   "id": "c52feb8b-3e91-4db7-b7ea-050076091948",
   "metadata": {},
   "outputs": [
    {
     "data": {
      "text/plain": [
       "False"
      ]
     },
     "execution_count": 67,
     "metadata": {},
     "output_type": "execute_result"
    }
   ],
   "source": [
    "2.1983272300073563e-07 > 0.05"
   ]
  },
  {
   "cell_type": "code",
   "execution_count": 68,
   "id": "7d38544c-2965-4e40-a71e-2c1c4acbce03",
   "metadata": {},
   "outputs": [
    {
     "name": "stdout",
     "output_type": "stream",
     "text": [
      "[40, 44, 60, 50, 48, 55, 46, 44, 54]\n",
      "[23, 21, 31, 20, 19, 35, 26, 22, 21, 19]\n",
      "[46, 42, 62, 40, 38, 70, 52, 44, 42, 38]\n"
     ]
    }
   ],
   "source": [
    "avgscore = [40,44,60,50,48,55,46,44,54]\n",
    "print(avgscore)\n",
    "print(jon_score)\n",
    "print(chris_score)"
   ]
  },
  {
   "cell_type": "code",
   "execution_count": 69,
   "id": "612d0e1c-832e-4130-b4c8-99897449f496",
   "metadata": {},
   "outputs": [
    {
     "name": "stdout",
     "output_type": "stream",
     "text": [
      "stat-0.18,p-0.00000\n",
      "Different Distribution of Score\n"
     ]
    }
   ],
   "source": [
    "# One Way Anova Test\n",
    "tstat,p = st.f_oneway(jon_score,avgscore,chris_score)\n",
    "print('stat-%0.2F,p-%0.5f'% (stat,p))\n",
    "if p > 0.05:\n",
    "    print('Same Distribution of Score')\n",
    "else:\n",
    "    print('Different Distribution of Score')"
   ]
  },
  {
   "cell_type": "code",
   "execution_count": 74,
   "id": "dfb02ccc-8f16-4d74-8430-a9f968424b9a",
   "metadata": {},
   "outputs": [
    {
     "name": "stdout",
     "output_type": "stream",
     "text": [
      "stat-0.18,p-0.69048\n",
      "Same Distribution of Score\n"
     ]
    }
   ],
   "source": [
    "# mannwhitneyu: dist of two or more samples are equal or not\n",
    "# assumptions identical dist\n",
    "class1_score=[91,90,81,80,76]\n",
    "class2_score=[88,86,85,84,83]\n",
    "tstat,p = st.mannwhitneyu(class1_score,class2_score)\n",
    "print('stat-%0.2F,p-%0.5f'% (stat,p))\n",
    "if p > 0.05:\n",
    "    print('Same Distribution of Score')\n",
    "else:\n",
    "    print('Different Distribution of Score')"
   ]
  },
  {
   "cell_type": "code",
   "execution_count": 77,
   "id": "c73ca666-ac08-43e0-a2c1-6634906d89f4",
   "metadata": {},
   "outputs": [
    {
     "name": "stdout",
     "output_type": "stream",
     "text": [
      "stat--0.95,p-0.77158\n",
      "Series is not stationary\n"
     ]
    }
   ],
   "source": [
    "# Augmented Dickey Fuller Test: test for stationarity important for time series analyses\n",
    "# stationary time series: having constant mean and variance\n",
    "stock_price = [121,131,142,138,139,142,156,168,165]\n",
    "stat,p,lags,obs,crit,t=adfuller(stock_price)\n",
    "print('stat-%0.2F,p-%0.5f'% (stat,p))\n",
    "if p > 0.05:\n",
    "    print('Series is not stationary')\n",
    "else:\n",
    "    print('Series is stationary')"
   ]
  },
  {
   "cell_type": "code",
   "execution_count": 80,
   "id": "55414132-dc60-412d-a4c4-7042042ab995",
   "metadata": {},
   "outputs": [
    {
     "name": "stdout",
     "output_type": "stream",
     "text": [
      "stat--704683169833.00,p-0.000\n",
      "Series is stationary\n"
     ]
    }
   ],
   "source": [
    "stock_price = [121,131,142,121,131,142,121,131,142]\n",
    "stat,p,lags,obs,crit,t = adfuller(stock_price)\n",
    "print('stat-%0.2F,p-%0.3f'% (stat,p))\n",
    "if p > 0.05:\n",
    "    print('Series is not stationary')\n",
    "else:\n",
    "    print('Series is stationary')"
   ]
  },
  {
   "cell_type": "code",
   "execution_count": 82,
   "id": "4a383578-a867-4608-93d6-66540f4d14b9",
   "metadata": {},
   "outputs": [
    {
     "data": {
      "text/plain": [
       "31"
      ]
     },
     "execution_count": 82,
     "metadata": {},
     "output_type": "execute_result"
    }
   ],
   "source": [
    "ages = [10,20,35,50,28,40,55,18,16,55,30,25,43,18,30,28,14,24,16,17,32,35,26,27,65,18,43,23,21,20,19,70]\n",
    "len(ages)"
   ]
  },
  {
   "cell_type": "code",
   "execution_count": 83,
   "id": "09b2d5c5-7e1e-46c0-ae7c-9e426af88d45",
   "metadata": {},
   "outputs": [
    {
     "data": {
      "text/plain": [
       "30.419354838709676"
      ]
     },
     "execution_count": 83,
     "metadata": {},
     "output_type": "execute_result"
    }
   ],
   "source": [
    "age_mean = np.mean(ages)\n",
    "age_mean"
   ]
  },
  {
   "cell_type": "code",
   "execution_count": 84,
   "id": "a6e9553e-59d3-4482-8630-5c8e814d6984",
   "metadata": {},
   "outputs": [
    {
     "data": {
      "text/plain": [
       "array([20, 20, 18, 25, 18, 55, 30, 26, 25, 25])"
      ]
     },
     "execution_count": 84,
     "metadata": {},
     "output_type": "execute_result"
    }
   ],
   "source": [
    "# sample data = 10 values\n",
    "sample_size = 10\n",
    "age_sample = np.random.choice(ages,sample_size)\n",
    "age_sample"
   ]
  },
  {
   "cell_type": "code",
   "execution_count": 87,
   "id": "fd4def85-04c4-4841-8875-5335f5587eab",
   "metadata": {},
   "outputs": [
    {
     "name": "stdout",
     "output_type": "stream",
     "text": [
      "Rejecting H0\n"
     ]
    }
   ],
   "source": [
    "# H0 = there is no diff in mean, 30\n",
    "# H1 = ther is diff in mean\n",
    "ttest,p_value = st.ttest_1samp(age_sample,30)\n",
    "if p < 0.05:\n",
    "    print('Rejecting H0')\n",
    "else:\n",
    "    print('Accepting H0')"
   ]
  },
  {
   "cell_type": "code",
   "execution_count": 88,
   "id": "cce7f6af-2db1-4081-91a2-7fb49e5e5bdd",
   "metadata": {},
   "outputs": [
    {
     "name": "stdout",
     "output_type": "stream",
     "text": [
      "[25, 30, 28, 35, 28, 34, 26, 29, 30, 26, 28, 32, 31, 30, 45]\n",
      "[26.35854116 34.68659296 34.99286246 33.31701694 32.59681161 36.40427931\n",
      " 22.36374202 33.14039739 27.02132676 27.91356899 43.12517794 29.04323938\n",
      " 31.93861179 25.46893266 43.36054764]\n"
     ]
    }
   ],
   "source": [
    "# paired t-test\n",
    "weight1 = [25,30,28,35,28,34,26,29,30,26,28,32,31,30,45]\n",
    "weight2 = weight1 + st.norm.rvs(scale = 5,loc = 1.25, size = 15)\n",
    "print(weight1)\n",
    "print(weight2)"
   ]
  },
  {
   "cell_type": "code",
   "execution_count": 90,
   "id": "32b2b408-31bb-4e39-a296-f8471b54c2bb",
   "metadata": {},
   "outputs": [
    {
     "data": {
      "text/html": [
       "<div>\n",
       "<style scoped>\n",
       "    .dataframe tbody tr th:only-of-type {\n",
       "        vertical-align: middle;\n",
       "    }\n",
       "\n",
       "    .dataframe tbody tr th {\n",
       "        vertical-align: top;\n",
       "    }\n",
       "\n",
       "    .dataframe thead th {\n",
       "        text-align: right;\n",
       "    }\n",
       "</style>\n",
       "<table border=\"1\" class=\"dataframe\">\n",
       "  <thead>\n",
       "    <tr style=\"text-align: right;\">\n",
       "      <th></th>\n",
       "      <th>weight_10</th>\n",
       "      <th>weight_20</th>\n",
       "      <th>weight_change</th>\n",
       "    </tr>\n",
       "  </thead>\n",
       "  <tbody>\n",
       "    <tr>\n",
       "      <th>0</th>\n",
       "      <td>25</td>\n",
       "      <td>26.358541</td>\n",
       "      <td>1.358541</td>\n",
       "    </tr>\n",
       "    <tr>\n",
       "      <th>1</th>\n",
       "      <td>30</td>\n",
       "      <td>34.686593</td>\n",
       "      <td>4.686593</td>\n",
       "    </tr>\n",
       "    <tr>\n",
       "      <th>2</th>\n",
       "      <td>28</td>\n",
       "      <td>34.992862</td>\n",
       "      <td>6.992862</td>\n",
       "    </tr>\n",
       "    <tr>\n",
       "      <th>3</th>\n",
       "      <td>35</td>\n",
       "      <td>33.317017</td>\n",
       "      <td>-1.682983</td>\n",
       "    </tr>\n",
       "    <tr>\n",
       "      <th>4</th>\n",
       "      <td>28</td>\n",
       "      <td>32.596812</td>\n",
       "      <td>4.596812</td>\n",
       "    </tr>\n",
       "    <tr>\n",
       "      <th>5</th>\n",
       "      <td>34</td>\n",
       "      <td>36.404279</td>\n",
       "      <td>2.404279</td>\n",
       "    </tr>\n",
       "    <tr>\n",
       "      <th>6</th>\n",
       "      <td>26</td>\n",
       "      <td>22.363742</td>\n",
       "      <td>-3.636258</td>\n",
       "    </tr>\n",
       "    <tr>\n",
       "      <th>7</th>\n",
       "      <td>29</td>\n",
       "      <td>33.140397</td>\n",
       "      <td>4.140397</td>\n",
       "    </tr>\n",
       "    <tr>\n",
       "      <th>8</th>\n",
       "      <td>30</td>\n",
       "      <td>27.021327</td>\n",
       "      <td>-2.978673</td>\n",
       "    </tr>\n",
       "    <tr>\n",
       "      <th>9</th>\n",
       "      <td>26</td>\n",
       "      <td>27.913569</td>\n",
       "      <td>1.913569</td>\n",
       "    </tr>\n",
       "    <tr>\n",
       "      <th>10</th>\n",
       "      <td>28</td>\n",
       "      <td>43.125178</td>\n",
       "      <td>15.125178</td>\n",
       "    </tr>\n",
       "    <tr>\n",
       "      <th>11</th>\n",
       "      <td>32</td>\n",
       "      <td>29.043239</td>\n",
       "      <td>-2.956761</td>\n",
       "    </tr>\n",
       "    <tr>\n",
       "      <th>12</th>\n",
       "      <td>31</td>\n",
       "      <td>31.938612</td>\n",
       "      <td>0.938612</td>\n",
       "    </tr>\n",
       "    <tr>\n",
       "      <th>13</th>\n",
       "      <td>30</td>\n",
       "      <td>25.468933</td>\n",
       "      <td>-4.531067</td>\n",
       "    </tr>\n",
       "    <tr>\n",
       "      <th>14</th>\n",
       "      <td>45</td>\n",
       "      <td>43.360548</td>\n",
       "      <td>-1.639452</td>\n",
       "    </tr>\n",
       "  </tbody>\n",
       "</table>\n",
       "</div>"
      ],
      "text/plain": [
       "    weight_10  weight_20  weight_change\n",
       "0          25  26.358541       1.358541\n",
       "1          30  34.686593       4.686593\n",
       "2          28  34.992862       6.992862\n",
       "3          35  33.317017      -1.682983\n",
       "4          28  32.596812       4.596812\n",
       "5          34  36.404279       2.404279\n",
       "6          26  22.363742      -3.636258\n",
       "7          29  33.140397       4.140397\n",
       "8          30  27.021327      -2.978673\n",
       "9          26  27.913569       1.913569\n",
       "10         28  43.125178      15.125178\n",
       "11         32  29.043239      -2.956761\n",
       "12         31  31.938612       0.938612\n",
       "13         30  25.468933      -4.531067\n",
       "14         45  43.360548      -1.639452"
      ]
     },
     "execution_count": 90,
     "metadata": {},
     "output_type": "execute_result"
    }
   ],
   "source": [
    "weight_df = pd.DataFrame({'weight_10':np.array(weight1),'weight_20':np.array(weight2),'weight_change':np.array(weight2)-np.array(weight1)})\n",
    "weight_df"
   ]
  },
  {
   "cell_type": "code",
   "execution_count": 91,
   "id": "3e06d9a5-391d-4cc3-bc7c-19181d61c03e",
   "metadata": {},
   "outputs": [
    {
     "name": "stdout",
     "output_type": "stream",
     "text": [
      "0.23229271362179993\n"
     ]
    }
   ],
   "source": [
    "_,p_value = st.ttest_rel(a=weight1,b=weight2)\n",
    "print(p_value)"
   ]
  },
  {
   "cell_type": "code",
   "execution_count": 92,
   "id": "c93863e7-0ade-4785-9047-77cce79742cd",
   "metadata": {},
   "outputs": [
    {
     "name": "stdout",
     "output_type": "stream",
     "text": [
      "Accept H0\n"
     ]
    }
   ],
   "source": [
    "if p_value < 0.05:\n",
    "    print('Reject H0')\n",
    "else:\n",
    "    print('Accept H0')"
   ]
  },
  {
   "cell_type": "code",
   "execution_count": 94,
   "id": "a73d18fd-d4cd-4e31-b8fd-7cdf9366dc60",
   "metadata": {},
   "outputs": [
    {
     "data": {
      "text/html": [
       "<div>\n",
       "<style scoped>\n",
       "    .dataframe tbody tr th:only-of-type {\n",
       "        vertical-align: middle;\n",
       "    }\n",
       "\n",
       "    .dataframe tbody tr th {\n",
       "        vertical-align: top;\n",
       "    }\n",
       "\n",
       "    .dataframe thead th {\n",
       "        text-align: right;\n",
       "    }\n",
       "</style>\n",
       "<table border=\"1\" class=\"dataframe\">\n",
       "  <thead>\n",
       "    <tr style=\"text-align: right;\">\n",
       "      <th></th>\n",
       "      <th>sepal_length</th>\n",
       "      <th>sepal_width</th>\n",
       "      <th>petal_length</th>\n",
       "      <th>petal_width</th>\n",
       "      <th>species</th>\n",
       "    </tr>\n",
       "  </thead>\n",
       "  <tbody>\n",
       "    <tr>\n",
       "      <th>0</th>\n",
       "      <td>5.1</td>\n",
       "      <td>3.5</td>\n",
       "      <td>1.4</td>\n",
       "      <td>0.2</td>\n",
       "      <td>setosa</td>\n",
       "    </tr>\n",
       "    <tr>\n",
       "      <th>1</th>\n",
       "      <td>4.9</td>\n",
       "      <td>3.0</td>\n",
       "      <td>1.4</td>\n",
       "      <td>0.2</td>\n",
       "      <td>setosa</td>\n",
       "    </tr>\n",
       "    <tr>\n",
       "      <th>2</th>\n",
       "      <td>4.7</td>\n",
       "      <td>3.2</td>\n",
       "      <td>1.3</td>\n",
       "      <td>0.2</td>\n",
       "      <td>setosa</td>\n",
       "    </tr>\n",
       "    <tr>\n",
       "      <th>3</th>\n",
       "      <td>4.6</td>\n",
       "      <td>3.1</td>\n",
       "      <td>1.5</td>\n",
       "      <td>0.2</td>\n",
       "      <td>setosa</td>\n",
       "    </tr>\n",
       "    <tr>\n",
       "      <th>4</th>\n",
       "      <td>5.0</td>\n",
       "      <td>3.6</td>\n",
       "      <td>1.4</td>\n",
       "      <td>0.2</td>\n",
       "      <td>setosa</td>\n",
       "    </tr>\n",
       "    <tr>\n",
       "      <th>...</th>\n",
       "      <td>...</td>\n",
       "      <td>...</td>\n",
       "      <td>...</td>\n",
       "      <td>...</td>\n",
       "      <td>...</td>\n",
       "    </tr>\n",
       "    <tr>\n",
       "      <th>145</th>\n",
       "      <td>6.7</td>\n",
       "      <td>3.0</td>\n",
       "      <td>5.2</td>\n",
       "      <td>2.3</td>\n",
       "      <td>virginica</td>\n",
       "    </tr>\n",
       "    <tr>\n",
       "      <th>146</th>\n",
       "      <td>6.3</td>\n",
       "      <td>2.5</td>\n",
       "      <td>5.0</td>\n",
       "      <td>1.9</td>\n",
       "      <td>virginica</td>\n",
       "    </tr>\n",
       "    <tr>\n",
       "      <th>147</th>\n",
       "      <td>6.5</td>\n",
       "      <td>3.0</td>\n",
       "      <td>5.2</td>\n",
       "      <td>2.0</td>\n",
       "      <td>virginica</td>\n",
       "    </tr>\n",
       "    <tr>\n",
       "      <th>148</th>\n",
       "      <td>6.2</td>\n",
       "      <td>3.4</td>\n",
       "      <td>5.4</td>\n",
       "      <td>2.3</td>\n",
       "      <td>virginica</td>\n",
       "    </tr>\n",
       "    <tr>\n",
       "      <th>149</th>\n",
       "      <td>5.9</td>\n",
       "      <td>3.0</td>\n",
       "      <td>5.1</td>\n",
       "      <td>1.8</td>\n",
       "      <td>virginica</td>\n",
       "    </tr>\n",
       "  </tbody>\n",
       "</table>\n",
       "<p>150 rows × 5 columns</p>\n",
       "</div>"
      ],
      "text/plain": [
       "     sepal_length  sepal_width  petal_length  petal_width    species\n",
       "0             5.1          3.5           1.4          0.2     setosa\n",
       "1             4.9          3.0           1.4          0.2     setosa\n",
       "2             4.7          3.2           1.3          0.2     setosa\n",
       "3             4.6          3.1           1.5          0.2     setosa\n",
       "4             5.0          3.6           1.4          0.2     setosa\n",
       "..            ...          ...           ...          ...        ...\n",
       "145           6.7          3.0           5.2          2.3  virginica\n",
       "146           6.3          2.5           5.0          1.9  virginica\n",
       "147           6.5          3.0           5.2          2.0  virginica\n",
       "148           6.2          3.4           5.4          2.3  virginica\n",
       "149           5.9          3.0           5.1          1.8  virginica\n",
       "\n",
       "[150 rows x 5 columns]"
      ]
     },
     "execution_count": 94,
     "metadata": {},
     "output_type": "execute_result"
    }
   ],
   "source": [
    "df = sb.load_dataset('iris')\n",
    "df"
   ]
  },
  {
   "cell_type": "code",
   "execution_count": null,
   "id": "6c98adba-980d-4e78-b710-a8a52283f41c",
   "metadata": {},
   "outputs": [],
   "source": [
    "df.shape"
   ]
  },
  {
   "cell_type": "code",
   "execution_count": 95,
   "id": "58006a4f-1ba9-41cf-89ff-bb2806bd5442",
   "metadata": {},
   "outputs": [
    {
     "data": {
      "text/html": [
       "<div>\n",
       "<style scoped>\n",
       "    .dataframe tbody tr th:only-of-type {\n",
       "        vertical-align: middle;\n",
       "    }\n",
       "\n",
       "    .dataframe tbody tr th {\n",
       "        vertical-align: top;\n",
       "    }\n",
       "\n",
       "    .dataframe thead th {\n",
       "        text-align: right;\n",
       "    }\n",
       "</style>\n",
       "<table border=\"1\" class=\"dataframe\">\n",
       "  <thead>\n",
       "    <tr style=\"text-align: right;\">\n",
       "      <th></th>\n",
       "      <th>sepal_length</th>\n",
       "      <th>sepal_width</th>\n",
       "      <th>petal_length</th>\n",
       "      <th>petal_width</th>\n",
       "    </tr>\n",
       "  </thead>\n",
       "  <tbody>\n",
       "    <tr>\n",
       "      <th>sepal_length</th>\n",
       "      <td>1.000000</td>\n",
       "      <td>-0.117570</td>\n",
       "      <td>0.871754</td>\n",
       "      <td>0.817941</td>\n",
       "    </tr>\n",
       "    <tr>\n",
       "      <th>sepal_width</th>\n",
       "      <td>-0.117570</td>\n",
       "      <td>1.000000</td>\n",
       "      <td>-0.428440</td>\n",
       "      <td>-0.366126</td>\n",
       "    </tr>\n",
       "    <tr>\n",
       "      <th>petal_length</th>\n",
       "      <td>0.871754</td>\n",
       "      <td>-0.428440</td>\n",
       "      <td>1.000000</td>\n",
       "      <td>0.962865</td>\n",
       "    </tr>\n",
       "    <tr>\n",
       "      <th>petal_width</th>\n",
       "      <td>0.817941</td>\n",
       "      <td>-0.366126</td>\n",
       "      <td>0.962865</td>\n",
       "      <td>1.000000</td>\n",
       "    </tr>\n",
       "  </tbody>\n",
       "</table>\n",
       "</div>"
      ],
      "text/plain": [
       "              sepal_length  sepal_width  petal_length  petal_width\n",
       "sepal_length      1.000000    -0.117570      0.871754     0.817941\n",
       "sepal_width      -0.117570     1.000000     -0.428440    -0.366126\n",
       "petal_length      0.871754    -0.428440      1.000000     0.962865\n",
       "petal_width       0.817941    -0.366126      0.962865     1.000000"
      ]
     },
     "execution_count": 95,
     "metadata": {},
     "output_type": "execute_result"
    }
   ],
   "source": [
    "df.corr()"
   ]
  },
  {
   "cell_type": "code",
   "execution_count": 96,
   "id": "02fc88cc-045b-48b4-8c25-901320c471ba",
   "metadata": {},
   "outputs": [
    {
     "data": {
      "text/plain": [
       "<seaborn.axisgrid.PairGrid at 0x1ac1ff32910>"
      ]
     },
     "execution_count": 96,
     "metadata": {},
     "output_type": "execute_result"
    },
    {
     "data": {
      "image/png": "[encoded data removed]",
      "text/plain": [
       "<Figure size 1000x1000 with 20 Axes>"
      ]
     },
     "metadata": {},
     "output_type": "display_data"
    }
   ],
   "source": [
    "sb.pairplot(df)"
   ]
  },
  {
   "cell_type": "code",
   "execution_count": 98,
   "id": "936f1d37-3f02-4e76-a895-106ccc751201",
   "metadata": {},
   "outputs": [
    {
     "data": {
      "text/html": [
       "<div>\n",
       "<style scoped>\n",
       "    .dataframe tbody tr th:only-of-type {\n",
       "        vertical-align: middle;\n",
       "    }\n",
       "\n",
       "    .dataframe tbody tr th {\n",
       "        vertical-align: top;\n",
       "    }\n",
       "\n",
       "    .dataframe thead th {\n",
       "        text-align: right;\n",
       "    }\n",
       "</style>\n",
       "<table border=\"1\" class=\"dataframe\">\n",
       "  <thead>\n",
       "    <tr style=\"text-align: right;\">\n",
       "      <th></th>\n",
       "      <th>total_bill</th>\n",
       "      <th>tip</th>\n",
       "      <th>sex</th>\n",
       "      <th>smoker</th>\n",
       "      <th>day</th>\n",
       "      <th>time</th>\n",
       "      <th>size</th>\n",
       "    </tr>\n",
       "  </thead>\n",
       "  <tbody>\n",
       "    <tr>\n",
       "      <th>0</th>\n",
       "      <td>16.99</td>\n",
       "      <td>1.01</td>\n",
       "      <td>Female</td>\n",
       "      <td>No</td>\n",
       "      <td>Sun</td>\n",
       "      <td>Dinner</td>\n",
       "      <td>2</td>\n",
       "    </tr>\n",
       "    <tr>\n",
       "      <th>1</th>\n",
       "      <td>10.34</td>\n",
       "      <td>1.66</td>\n",
       "      <td>Male</td>\n",
       "      <td>No</td>\n",
       "      <td>Sun</td>\n",
       "      <td>Dinner</td>\n",
       "      <td>3</td>\n",
       "    </tr>\n",
       "    <tr>\n",
       "      <th>2</th>\n",
       "      <td>21.01</td>\n",
       "      <td>3.50</td>\n",
       "      <td>Male</td>\n",
       "      <td>No</td>\n",
       "      <td>Sun</td>\n",
       "      <td>Dinner</td>\n",
       "      <td>3</td>\n",
       "    </tr>\n",
       "    <tr>\n",
       "      <th>3</th>\n",
       "      <td>23.68</td>\n",
       "      <td>3.31</td>\n",
       "      <td>Male</td>\n",
       "      <td>No</td>\n",
       "      <td>Sun</td>\n",
       "      <td>Dinner</td>\n",
       "      <td>2</td>\n",
       "    </tr>\n",
       "    <tr>\n",
       "      <th>4</th>\n",
       "      <td>24.59</td>\n",
       "      <td>3.61</td>\n",
       "      <td>Female</td>\n",
       "      <td>No</td>\n",
       "      <td>Sun</td>\n",
       "      <td>Dinner</td>\n",
       "      <td>4</td>\n",
       "    </tr>\n",
       "    <tr>\n",
       "      <th>...</th>\n",
       "      <td>...</td>\n",
       "      <td>...</td>\n",
       "      <td>...</td>\n",
       "      <td>...</td>\n",
       "      <td>...</td>\n",
       "      <td>...</td>\n",
       "      <td>...</td>\n",
       "    </tr>\n",
       "    <tr>\n",
       "      <th>239</th>\n",
       "      <td>29.03</td>\n",
       "      <td>5.92</td>\n",
       "      <td>Male</td>\n",
       "      <td>No</td>\n",
       "      <td>Sat</td>\n",
       "      <td>Dinner</td>\n",
       "      <td>3</td>\n",
       "    </tr>\n",
       "    <tr>\n",
       "      <th>240</th>\n",
       "      <td>27.18</td>\n",
       "      <td>2.00</td>\n",
       "      <td>Female</td>\n",
       "      <td>Yes</td>\n",
       "      <td>Sat</td>\n",
       "      <td>Dinner</td>\n",
       "      <td>2</td>\n",
       "    </tr>\n",
       "    <tr>\n",
       "      <th>241</th>\n",
       "      <td>22.67</td>\n",
       "      <td>2.00</td>\n",
       "      <td>Male</td>\n",
       "      <td>Yes</td>\n",
       "      <td>Sat</td>\n",
       "      <td>Dinner</td>\n",
       "      <td>2</td>\n",
       "    </tr>\n",
       "    <tr>\n",
       "      <th>242</th>\n",
       "      <td>17.82</td>\n",
       "      <td>1.75</td>\n",
       "      <td>Male</td>\n",
       "      <td>No</td>\n",
       "      <td>Sat</td>\n",
       "      <td>Dinner</td>\n",
       "      <td>2</td>\n",
       "    </tr>\n",
       "    <tr>\n",
       "      <th>243</th>\n",
       "      <td>18.78</td>\n",
       "      <td>3.00</td>\n",
       "      <td>Female</td>\n",
       "      <td>No</td>\n",
       "      <td>Thur</td>\n",
       "      <td>Dinner</td>\n",
       "      <td>2</td>\n",
       "    </tr>\n",
       "  </tbody>\n",
       "</table>\n",
       "<p>244 rows × 7 columns</p>\n",
       "</div>"
      ],
      "text/plain": [
       "     total_bill   tip     sex smoker   day    time  size\n",
       "0         16.99  1.01  Female     No   Sun  Dinner     2\n",
       "1         10.34  1.66    Male     No   Sun  Dinner     3\n",
       "2         21.01  3.50    Male     No   Sun  Dinner     3\n",
       "3         23.68  3.31    Male     No   Sun  Dinner     2\n",
       "4         24.59  3.61  Female     No   Sun  Dinner     4\n",
       "..          ...   ...     ...    ...   ...     ...   ...\n",
       "239       29.03  5.92    Male     No   Sat  Dinner     3\n",
       "240       27.18  2.00  Female    Yes   Sat  Dinner     2\n",
       "241       22.67  2.00    Male    Yes   Sat  Dinner     2\n",
       "242       17.82  1.75    Male     No   Sat  Dinner     2\n",
       "243       18.78  3.00  Female     No  Thur  Dinner     2\n",
       "\n",
       "[244 rows x 7 columns]"
      ]
     },
     "execution_count": 98,
     "metadata": {},
     "output_type": "execute_result"
    }
   ],
   "source": [
    "dataset = sb.load_dataset('tips')\n",
    "dataset"
   ]
  },
  {
   "cell_type": "code",
   "execution_count": 99,
   "id": "4a5ff759-e223-4858-81d6-4f984bb10a2f",
   "metadata": {},
   "outputs": [
    {
     "data": {
      "text/html": [
       "<div>\n",
       "<style scoped>\n",
       "    .dataframe tbody tr th:only-of-type {\n",
       "        vertical-align: middle;\n",
       "    }\n",
       "\n",
       "    .dataframe tbody tr th {\n",
       "        vertical-align: top;\n",
       "    }\n",
       "\n",
       "    .dataframe thead th {\n",
       "        text-align: right;\n",
       "    }\n",
       "</style>\n",
       "<table border=\"1\" class=\"dataframe\">\n",
       "  <thead>\n",
       "    <tr style=\"text-align: right;\">\n",
       "      <th>smoker</th>\n",
       "      <th>Yes</th>\n",
       "      <th>No</th>\n",
       "    </tr>\n",
       "    <tr>\n",
       "      <th>sex</th>\n",
       "      <th></th>\n",
       "      <th></th>\n",
       "    </tr>\n",
       "  </thead>\n",
       "  <tbody>\n",
       "    <tr>\n",
       "      <th>Male</th>\n",
       "      <td>60</td>\n",
       "      <td>97</td>\n",
       "    </tr>\n",
       "    <tr>\n",
       "      <th>Female</th>\n",
       "      <td>33</td>\n",
       "      <td>54</td>\n",
       "    </tr>\n",
       "  </tbody>\n",
       "</table>\n",
       "</div>"
      ],
      "text/plain": [
       "smoker  Yes  No\n",
       "sex            \n",
       "Male     60  97\n",
       "Female   33  54"
      ]
     },
     "execution_count": 99,
     "metadata": {},
     "output_type": "execute_result"
    }
   ],
   "source": [
    "# chi sq test: find the association b/w gender smoker\n",
    "table = pd.crosstab(dataset['sex'],dataset['smoker'])\n",
    "table"
   ]
  },
  {
   "cell_type": "code",
   "execution_count": 100,
   "id": "2bd06e8a-b880-4984-b3d6-82a0ec7305b9",
   "metadata": {},
   "outputs": [
    {
     "name": "stdout",
     "output_type": "stream",
     "text": [
      "[[60 97]\n",
      " [33 54]]\n"
     ]
    }
   ],
   "source": [
    "# name these to odserved values\n",
    "obs_val = table.values\n",
    "print(obs_val)"
   ]
  },
  {
   "cell_type": "code",
   "execution_count": 101,
   "id": "8db9b2ce-df09-4a97-9708-02508263e333",
   "metadata": {},
   "outputs": [
    {
     "data": {
      "text/plain": [
       "(0.0,\n",
       " 1.0,\n",
       " 1,\n",
       " array([[59.84016393, 97.15983607],\n",
       "        [33.15983607, 53.84016393]]))"
      ]
     },
     "execution_count": 101,
     "metadata": {},
     "output_type": "execute_result"
    }
   ],
   "source": [
    "# chi^2 contingency func\n",
    "val = st.chi2_contingency(table)\n",
    "val"
   ]
  },
  {
   "cell_type": "code",
   "execution_count": 102,
   "id": "648a1254-4a7d-4f89-af31-61e6933f7322",
   "metadata": {},
   "outputs": [],
   "source": [
    "expected = val[3]"
   ]
  },
  {
   "cell_type": "code",
   "execution_count": 119,
   "id": "4f4656d8-a872-4098-9618-ec0c31d01847",
   "metadata": {},
   "outputs": [
    {
     "name": "stdout",
     "output_type": "stream",
     "text": [
      "1\n"
     ]
    }
   ],
   "source": [
    "# degree of freedom (dof) = (rows-1) * (col-1)\n",
    "# alpha = 0.5, learning rate\n",
    "no_of_r = len(table.iloc[0:2,0])\n",
    "no_of_c = len(table.iloc[0,0:2])\n",
    "dof = (no_of_r-1) * (no_of_c-1)\n",
    "print(dof)\n",
    "alpha = 0.05"
   ]
  },
  {
   "cell_type": "code",
   "execution_count": 120,
   "id": "e6666ef1-d4ca-4784-a41c-018fa39fe42d",
   "metadata": {},
   "outputs": [
    {
     "name": "stdout",
     "output_type": "stream",
     "text": [
      "chi_sq_stat: 0.001934818536627623\n"
     ]
    }
   ],
   "source": [
    "# chi2: x = summation(obs-expected)**2/expected\n",
    "chi_square = sum([(o-e)**2/e for o,e in zip(obs_val,expected)])\n",
    "chi_square_stats = chi_square[0] + chi_square[1]\n",
    "print('chi_sq_stat:', chi_square_stats)"
   ]
  },
  {
   "cell_type": "code",
   "execution_count": 121,
   "id": "add5e870-4527-4380-ba1d-38a69314e50a",
   "metadata": {},
   "outputs": [
    {
     "name": "stdout",
     "output_type": "stream",
     "text": [
      "3.841458820694124\n"
     ]
    }
   ],
   "source": [
    "# critical value\n",
    "# ppf is percent point func and inverse of cdf (cummulative density func)\n",
    "critical_val = chi2.ppf(q=1-alpha,df=dof)\n",
    "print(critical_val)"
   ]
  },
  {
   "cell_type": "code",
   "execution_count": 122,
   "id": "8e99b241-edf3-4cad-95e0-8b0a1d039683",
   "metadata": {},
   "outputs": [
    {
     "name": "stdout",
     "output_type": "stream",
     "text": [
      "0.964915107315732\n",
      "0.05\n",
      "1\n"
     ]
    }
   ],
   "source": [
    "# p-value\n",
    "p_value = 1 - chi2.cdf(x=chi_square_stats,df=dof)\n",
    "print(p_value)\n",
    "print(alpha)\n",
    "print(dof)"
   ]
  },
  {
   "cell_type": "code",
   "execution_count": 132,
   "id": "9475968e-9ae4-4547-ac89-4d61e84c8c4e",
   "metadata": {},
   "outputs": [
    {
     "name": "stdout",
     "output_type": "stream",
     "text": [
      "Accept H0, No assocation b/w two variables\n",
      "Accept H0, No assocation b/w two variables\n"
     ]
    }
   ],
   "source": [
    "# chi_square_stats >= critical_val reject H0(association) else accept(no association)\n",
    "# alpha >= p_value reject H0 else accept\n",
    "if chi_square_stats >= critical_val:\n",
    "    print('Reject H0, Association b/w two variables')\n",
    "else:\n",
    "    print('Accept H0, No assocation b/w two variables')\n",
    "    \n",
    "if alpha >= p_value:\n",
    "    print('Reject H0, Association b/w two variables')\n",
    "else:\n",
    "    print('Accept H0, No assocation b/w two variables')"
   ]
  },
  {
   "cell_type": "code",
   "execution_count": 10,
   "id": "3a1ecf51-5e7e-406f-af23-ae2eb9fdaff1",
   "metadata": {},
   "outputs": [
    {
     "data": {
      "text/html": [
       "<div>\n",
       "<style scoped>\n",
       "    .dataframe tbody tr th:only-of-type {\n",
       "        vertical-align: middle;\n",
       "    }\n",
       "\n",
       "    .dataframe tbody tr th {\n",
       "        vertical-align: top;\n",
       "    }\n",
       "\n",
       "    .dataframe thead th {\n",
       "        text-align: right;\n",
       "    }\n",
       "</style>\n",
       "<table border=\"1\" class=\"dataframe\">\n",
       "  <thead>\n",
       "    <tr style=\"text-align: right;\">\n",
       "      <th></th>\n",
       "      <th>minority</th>\n",
       "      <th>age</th>\n",
       "      <th>gender</th>\n",
       "      <th>credits</th>\n",
       "      <th>beauty</th>\n",
       "      <th>eval</th>\n",
       "      <th>division</th>\n",
       "      <th>native</th>\n",
       "      <th>tenure</th>\n",
       "      <th>students</th>\n",
       "      <th>allstudents</th>\n",
       "      <th>prof</th>\n",
       "      <th>PrimaryLast</th>\n",
       "      <th>vismin</th>\n",
       "      <th>female</th>\n",
       "      <th>single_credit</th>\n",
       "      <th>upper_division</th>\n",
       "      <th>English_speaker</th>\n",
       "      <th>tenured_prof</th>\n",
       "    </tr>\n",
       "  </thead>\n",
       "  <tbody>\n",
       "    <tr>\n",
       "      <th>0</th>\n",
       "      <td>yes</td>\n",
       "      <td>36</td>\n",
       "      <td>female</td>\n",
       "      <td>more</td>\n",
       "      <td>0.289916</td>\n",
       "      <td>4.3</td>\n",
       "      <td>upper</td>\n",
       "      <td>yes</td>\n",
       "      <td>yes</td>\n",
       "      <td>24</td>\n",
       "      <td>43</td>\n",
       "      <td>1</td>\n",
       "      <td>0</td>\n",
       "      <td>1</td>\n",
       "      <td>1</td>\n",
       "      <td>0</td>\n",
       "      <td>1</td>\n",
       "      <td>1</td>\n",
       "      <td>1</td>\n",
       "    </tr>\n",
       "    <tr>\n",
       "      <th>1</th>\n",
       "      <td>yes</td>\n",
       "      <td>36</td>\n",
       "      <td>female</td>\n",
       "      <td>more</td>\n",
       "      <td>0.289916</td>\n",
       "      <td>3.7</td>\n",
       "      <td>upper</td>\n",
       "      <td>yes</td>\n",
       "      <td>yes</td>\n",
       "      <td>86</td>\n",
       "      <td>125</td>\n",
       "      <td>1</td>\n",
       "      <td>0</td>\n",
       "      <td>1</td>\n",
       "      <td>1</td>\n",
       "      <td>0</td>\n",
       "      <td>1</td>\n",
       "      <td>1</td>\n",
       "      <td>1</td>\n",
       "    </tr>\n",
       "    <tr>\n",
       "      <th>2</th>\n",
       "      <td>yes</td>\n",
       "      <td>36</td>\n",
       "      <td>female</td>\n",
       "      <td>more</td>\n",
       "      <td>0.289916</td>\n",
       "      <td>3.6</td>\n",
       "      <td>upper</td>\n",
       "      <td>yes</td>\n",
       "      <td>yes</td>\n",
       "      <td>76</td>\n",
       "      <td>125</td>\n",
       "      <td>1</td>\n",
       "      <td>0</td>\n",
       "      <td>1</td>\n",
       "      <td>1</td>\n",
       "      <td>0</td>\n",
       "      <td>1</td>\n",
       "      <td>1</td>\n",
       "      <td>1</td>\n",
       "    </tr>\n",
       "    <tr>\n",
       "      <th>3</th>\n",
       "      <td>yes</td>\n",
       "      <td>36</td>\n",
       "      <td>female</td>\n",
       "      <td>more</td>\n",
       "      <td>0.289916</td>\n",
       "      <td>4.4</td>\n",
       "      <td>upper</td>\n",
       "      <td>yes</td>\n",
       "      <td>yes</td>\n",
       "      <td>77</td>\n",
       "      <td>123</td>\n",
       "      <td>1</td>\n",
       "      <td>1</td>\n",
       "      <td>1</td>\n",
       "      <td>1</td>\n",
       "      <td>0</td>\n",
       "      <td>1</td>\n",
       "      <td>1</td>\n",
       "      <td>1</td>\n",
       "    </tr>\n",
       "    <tr>\n",
       "      <th>4</th>\n",
       "      <td>no</td>\n",
       "      <td>59</td>\n",
       "      <td>male</td>\n",
       "      <td>more</td>\n",
       "      <td>-0.737732</td>\n",
       "      <td>4.5</td>\n",
       "      <td>upper</td>\n",
       "      <td>yes</td>\n",
       "      <td>yes</td>\n",
       "      <td>17</td>\n",
       "      <td>20</td>\n",
       "      <td>2</td>\n",
       "      <td>0</td>\n",
       "      <td>0</td>\n",
       "      <td>0</td>\n",
       "      <td>0</td>\n",
       "      <td>1</td>\n",
       "      <td>1</td>\n",
       "      <td>1</td>\n",
       "    </tr>\n",
       "    <tr>\n",
       "      <th>...</th>\n",
       "      <td>...</td>\n",
       "      <td>...</td>\n",
       "      <td>...</td>\n",
       "      <td>...</td>\n",
       "      <td>...</td>\n",
       "      <td>...</td>\n",
       "      <td>...</td>\n",
       "      <td>...</td>\n",
       "      <td>...</td>\n",
       "      <td>...</td>\n",
       "      <td>...</td>\n",
       "      <td>...</td>\n",
       "      <td>...</td>\n",
       "      <td>...</td>\n",
       "      <td>...</td>\n",
       "      <td>...</td>\n",
       "      <td>...</td>\n",
       "      <td>...</td>\n",
       "      <td>...</td>\n",
       "    </tr>\n",
       "    <tr>\n",
       "      <th>458</th>\n",
       "      <td>no</td>\n",
       "      <td>37</td>\n",
       "      <td>male</td>\n",
       "      <td>more</td>\n",
       "      <td>0.933396</td>\n",
       "      <td>3.5</td>\n",
       "      <td>upper</td>\n",
       "      <td>yes</td>\n",
       "      <td>yes</td>\n",
       "      <td>15</td>\n",
       "      <td>17</td>\n",
       "      <td>40</td>\n",
       "      <td>1</td>\n",
       "      <td>0</td>\n",
       "      <td>0</td>\n",
       "      <td>0</td>\n",
       "      <td>1</td>\n",
       "      <td>1</td>\n",
       "      <td>1</td>\n",
       "    </tr>\n",
       "    <tr>\n",
       "      <th>459</th>\n",
       "      <td>no</td>\n",
       "      <td>58</td>\n",
       "      <td>female</td>\n",
       "      <td>more</td>\n",
       "      <td>0.111563</td>\n",
       "      <td>3.5</td>\n",
       "      <td>upper</td>\n",
       "      <td>yes</td>\n",
       "      <td>yes</td>\n",
       "      <td>26</td>\n",
       "      <td>34</td>\n",
       "      <td>47</td>\n",
       "      <td>1</td>\n",
       "      <td>0</td>\n",
       "      <td>1</td>\n",
       "      <td>0</td>\n",
       "      <td>1</td>\n",
       "      <td>1</td>\n",
       "      <td>1</td>\n",
       "    </tr>\n",
       "    <tr>\n",
       "      <th>460</th>\n",
       "      <td>no</td>\n",
       "      <td>42</td>\n",
       "      <td>male</td>\n",
       "      <td>more</td>\n",
       "      <td>-0.900580</td>\n",
       "      <td>4.0</td>\n",
       "      <td>upper</td>\n",
       "      <td>yes</td>\n",
       "      <td>yes</td>\n",
       "      <td>45</td>\n",
       "      <td>86</td>\n",
       "      <td>61</td>\n",
       "      <td>1</td>\n",
       "      <td>0</td>\n",
       "      <td>0</td>\n",
       "      <td>0</td>\n",
       "      <td>1</td>\n",
       "      <td>1</td>\n",
       "      <td>1</td>\n",
       "    </tr>\n",
       "    <tr>\n",
       "      <th>461</th>\n",
       "      <td>no</td>\n",
       "      <td>39</td>\n",
       "      <td>male</td>\n",
       "      <td>more</td>\n",
       "      <td>0.643014</td>\n",
       "      <td>4.3</td>\n",
       "      <td>upper</td>\n",
       "      <td>yes</td>\n",
       "      <td>yes</td>\n",
       "      <td>22</td>\n",
       "      <td>29</td>\n",
       "      <td>62</td>\n",
       "      <td>1</td>\n",
       "      <td>0</td>\n",
       "      <td>0</td>\n",
       "      <td>0</td>\n",
       "      <td>1</td>\n",
       "      <td>1</td>\n",
       "      <td>1</td>\n",
       "    </tr>\n",
       "    <tr>\n",
       "      <th>462</th>\n",
       "      <td>no</td>\n",
       "      <td>51</td>\n",
       "      <td>female</td>\n",
       "      <td>more</td>\n",
       "      <td>0.391822</td>\n",
       "      <td>3.0</td>\n",
       "      <td>upper</td>\n",
       "      <td>yes</td>\n",
       "      <td>yes</td>\n",
       "      <td>47</td>\n",
       "      <td>67</td>\n",
       "      <td>69</td>\n",
       "      <td>1</td>\n",
       "      <td>0</td>\n",
       "      <td>1</td>\n",
       "      <td>0</td>\n",
       "      <td>1</td>\n",
       "      <td>1</td>\n",
       "      <td>1</td>\n",
       "    </tr>\n",
       "  </tbody>\n",
       "</table>\n",
       "<p>463 rows × 19 columns</p>\n",
       "</div>"
      ],
      "text/plain": [
       "    minority  age  gender credits    beauty  eval division native tenure  \\\n",
       "0        yes   36  female    more  0.289916   4.3    upper    yes    yes   \n",
       "1        yes   36  female    more  0.289916   3.7    upper    yes    yes   \n",
       "2        yes   36  female    more  0.289916   3.6    upper    yes    yes   \n",
       "3        yes   36  female    more  0.289916   4.4    upper    yes    yes   \n",
       "4         no   59    male    more -0.737732   4.5    upper    yes    yes   \n",
       "..       ...  ...     ...     ...       ...   ...      ...    ...    ...   \n",
       "458       no   37    male    more  0.933396   3.5    upper    yes    yes   \n",
       "459       no   58  female    more  0.111563   3.5    upper    yes    yes   \n",
       "460       no   42    male    more -0.900580   4.0    upper    yes    yes   \n",
       "461       no   39    male    more  0.643014   4.3    upper    yes    yes   \n",
       "462       no   51  female    more  0.391822   3.0    upper    yes    yes   \n",
       "\n",
       "     students  allstudents  prof  PrimaryLast  vismin  female  single_credit  \\\n",
       "0          24           43     1            0       1       1              0   \n",
       "1          86          125     1            0       1       1              0   \n",
       "2          76          125     1            0       1       1              0   \n",
       "3          77          123     1            1       1       1              0   \n",
       "4          17           20     2            0       0       0              0   \n",
       "..        ...          ...   ...          ...     ...     ...            ...   \n",
       "458        15           17    40            1       0       0              0   \n",
       "459        26           34    47            1       0       1              0   \n",
       "460        45           86    61            1       0       0              0   \n",
       "461        22           29    62            1       0       0              0   \n",
       "462        47           67    69            1       0       1              0   \n",
       "\n",
       "     upper_division  English_speaker  tenured_prof  \n",
       "0                 1                1             1  \n",
       "1                 1                1             1  \n",
       "2                 1                1             1  \n",
       "3                 1                1             1  \n",
       "4                 1                1             1  \n",
       "..              ...              ...           ...  \n",
       "458               1                1             1  \n",
       "459               1                1             1  \n",
       "460               1                1             1  \n",
       "461               1                1             1  \n",
       "462               1                1             1  \n",
       "\n",
       "[463 rows x 19 columns]"
      ]
     },
     "execution_count": 10,
     "metadata": {},
     "output_type": "execute_result"
    }
   ],
   "source": [
    "ratings_url = 'documents/teachingratings.csv'\n",
    "ratings = pd.read_csv(ratings_url)\n",
    "ratings"
   ]
  },
  {
   "cell_type": "code",
   "execution_count": null,
   "id": "ed4ce65e-daef-47b3-a8c3-77cf2d60e708",
   "metadata": {},
   "outputs": [],
   "source": [
    "ratings.info\n",
    "ratings.shape"
   ]
  },
  {
   "cell_type": "code",
   "execution_count": 134,
   "id": "38490702-cc82-4f3a-a511-f6340a05faa1",
   "metadata": {},
   "outputs": [
    {
     "data": {
      "text/plain": [
       "36.62419006479482"
      ]
     },
     "execution_count": 134,
     "metadata": {},
     "output_type": "execute_result"
    }
   ],
   "source": [
    "ratings['students'].mean()"
   ]
  },
  {
   "cell_type": "code",
   "execution_count": 135,
   "id": "73eb9cda-fdce-47cc-9408-529f818e4605",
   "metadata": {},
   "outputs": [
    {
     "data": {
      "text/plain": [
       "23.0"
      ]
     },
     "execution_count": 135,
     "metadata": {},
     "output_type": "execute_result"
    }
   ],
   "source": [
    "ratings['students'].median()"
   ]
  },
  {
   "cell_type": "code",
   "execution_count": 136,
   "id": "342b3179-3f75-4e96-83bb-13570e96dadb",
   "metadata": {},
   "outputs": [
    {
     "data": {
      "text/plain": [
       "5"
      ]
     },
     "execution_count": 136,
     "metadata": {},
     "output_type": "execute_result"
    }
   ],
   "source": [
    "ratings['students'].min()"
   ]
  },
  {
   "cell_type": "code",
   "execution_count": 137,
   "id": "27aa1dd5-b492-411d-b23f-8b6602bbbadd",
   "metadata": {},
   "outputs": [
    {
     "data": {
      "text/plain": [
       "380"
      ]
     },
     "execution_count": 137,
     "metadata": {},
     "output_type": "execute_result"
    }
   ],
   "source": [
    "ratings['students'].max()"
   ]
  },
  {
   "cell_type": "code",
   "execution_count": 138,
   "id": "50d3216e-ba48-443b-b54a-bc8199cffe8d",
   "metadata": {},
   "outputs": [
    {
     "data": {
      "text/html": [
       "<div>\n",
       "<style scoped>\n",
       "    .dataframe tbody tr th:only-of-type {\n",
       "        vertical-align: middle;\n",
       "    }\n",
       "\n",
       "    .dataframe tbody tr th {\n",
       "        vertical-align: top;\n",
       "    }\n",
       "\n",
       "    .dataframe thead th {\n",
       "        text-align: right;\n",
       "    }\n",
       "</style>\n",
       "<table border=\"1\" class=\"dataframe\">\n",
       "  <thead>\n",
       "    <tr style=\"text-align: right;\">\n",
       "      <th></th>\n",
       "      <th>age</th>\n",
       "      <th>beauty</th>\n",
       "      <th>eval</th>\n",
       "      <th>students</th>\n",
       "      <th>allstudents</th>\n",
       "      <th>prof</th>\n",
       "      <th>PrimaryLast</th>\n",
       "      <th>vismin</th>\n",
       "      <th>female</th>\n",
       "      <th>single_credit</th>\n",
       "      <th>upper_division</th>\n",
       "      <th>English_speaker</th>\n",
       "      <th>tenured_prof</th>\n",
       "    </tr>\n",
       "  </thead>\n",
       "  <tbody>\n",
       "    <tr>\n",
       "      <th>count</th>\n",
       "      <td>463.000000</td>\n",
       "      <td>4.630000e+02</td>\n",
       "      <td>463.000000</td>\n",
       "      <td>463.000000</td>\n",
       "      <td>463.000000</td>\n",
       "      <td>463.000000</td>\n",
       "      <td>463.000000</td>\n",
       "      <td>463.000000</td>\n",
       "      <td>463.000000</td>\n",
       "      <td>463.000000</td>\n",
       "      <td>463.000000</td>\n",
       "      <td>463.000000</td>\n",
       "      <td>463.000000</td>\n",
       "    </tr>\n",
       "    <tr>\n",
       "      <th>mean</th>\n",
       "      <td>48.365011</td>\n",
       "      <td>6.271140e-08</td>\n",
       "      <td>3.998272</td>\n",
       "      <td>36.624190</td>\n",
       "      <td>55.177106</td>\n",
       "      <td>45.434125</td>\n",
       "      <td>0.203024</td>\n",
       "      <td>0.138229</td>\n",
       "      <td>0.421166</td>\n",
       "      <td>0.058315</td>\n",
       "      <td>0.660907</td>\n",
       "      <td>0.939525</td>\n",
       "      <td>0.779698</td>\n",
       "    </tr>\n",
       "    <tr>\n",
       "      <th>std</th>\n",
       "      <td>9.802742</td>\n",
       "      <td>7.886477e-01</td>\n",
       "      <td>0.554866</td>\n",
       "      <td>45.018481</td>\n",
       "      <td>75.072800</td>\n",
       "      <td>27.508902</td>\n",
       "      <td>0.402685</td>\n",
       "      <td>0.345513</td>\n",
       "      <td>0.494280</td>\n",
       "      <td>0.234592</td>\n",
       "      <td>0.473913</td>\n",
       "      <td>0.238623</td>\n",
       "      <td>0.414899</td>\n",
       "    </tr>\n",
       "    <tr>\n",
       "      <th>min</th>\n",
       "      <td>29.000000</td>\n",
       "      <td>-1.450494e+00</td>\n",
       "      <td>2.100000</td>\n",
       "      <td>5.000000</td>\n",
       "      <td>8.000000</td>\n",
       "      <td>1.000000</td>\n",
       "      <td>0.000000</td>\n",
       "      <td>0.000000</td>\n",
       "      <td>0.000000</td>\n",
       "      <td>0.000000</td>\n",
       "      <td>0.000000</td>\n",
       "      <td>0.000000</td>\n",
       "      <td>0.000000</td>\n",
       "    </tr>\n",
       "    <tr>\n",
       "      <th>25%</th>\n",
       "      <td>42.000000</td>\n",
       "      <td>-6.562689e-01</td>\n",
       "      <td>3.600000</td>\n",
       "      <td>15.000000</td>\n",
       "      <td>19.000000</td>\n",
       "      <td>20.000000</td>\n",
       "      <td>0.000000</td>\n",
       "      <td>0.000000</td>\n",
       "      <td>0.000000</td>\n",
       "      <td>0.000000</td>\n",
       "      <td>0.000000</td>\n",
       "      <td>1.000000</td>\n",
       "      <td>1.000000</td>\n",
       "    </tr>\n",
       "    <tr>\n",
       "      <th>50%</th>\n",
       "      <td>48.000000</td>\n",
       "      <td>-6.801430e-02</td>\n",
       "      <td>4.000000</td>\n",
       "      <td>23.000000</td>\n",
       "      <td>29.000000</td>\n",
       "      <td>44.000000</td>\n",
       "      <td>0.000000</td>\n",
       "      <td>0.000000</td>\n",
       "      <td>0.000000</td>\n",
       "      <td>0.000000</td>\n",
       "      <td>1.000000</td>\n",
       "      <td>1.000000</td>\n",
       "      <td>1.000000</td>\n",
       "    </tr>\n",
       "    <tr>\n",
       "      <th>75%</th>\n",
       "      <td>57.000000</td>\n",
       "      <td>5.456024e-01</td>\n",
       "      <td>4.400000</td>\n",
       "      <td>40.000000</td>\n",
       "      <td>60.000000</td>\n",
       "      <td>70.500000</td>\n",
       "      <td>0.000000</td>\n",
       "      <td>0.000000</td>\n",
       "      <td>1.000000</td>\n",
       "      <td>0.000000</td>\n",
       "      <td>1.000000</td>\n",
       "      <td>1.000000</td>\n",
       "      <td>1.000000</td>\n",
       "    </tr>\n",
       "    <tr>\n",
       "      <th>max</th>\n",
       "      <td>73.000000</td>\n",
       "      <td>1.970023e+00</td>\n",
       "      <td>5.000000</td>\n",
       "      <td>380.000000</td>\n",
       "      <td>581.000000</td>\n",
       "      <td>94.000000</td>\n",
       "      <td>1.000000</td>\n",
       "      <td>1.000000</td>\n",
       "      <td>1.000000</td>\n",
       "      <td>1.000000</td>\n",
       "      <td>1.000000</td>\n",
       "      <td>1.000000</td>\n",
       "      <td>1.000000</td>\n",
       "    </tr>\n",
       "  </tbody>\n",
       "</table>\n",
       "</div>"
      ],
      "text/plain": [
       "              age        beauty        eval    students  allstudents  \\\n",
       "count  463.000000  4.630000e+02  463.000000  463.000000   463.000000   \n",
       "mean    48.365011  6.271140e-08    3.998272   36.624190    55.177106   \n",
       "std      9.802742  7.886477e-01    0.554866   45.018481    75.072800   \n",
       "min     29.000000 -1.450494e+00    2.100000    5.000000     8.000000   \n",
       "25%     42.000000 -6.562689e-01    3.600000   15.000000    19.000000   \n",
       "50%     48.000000 -6.801430e-02    4.000000   23.000000    29.000000   \n",
       "75%     57.000000  5.456024e-01    4.400000   40.000000    60.000000   \n",
       "max     73.000000  1.970023e+00    5.000000  380.000000   581.000000   \n",
       "\n",
       "             prof  PrimaryLast      vismin      female  single_credit  \\\n",
       "count  463.000000   463.000000  463.000000  463.000000     463.000000   \n",
       "mean    45.434125     0.203024    0.138229    0.421166       0.058315   \n",
       "std     27.508902     0.402685    0.345513    0.494280       0.234592   \n",
       "min      1.000000     0.000000    0.000000    0.000000       0.000000   \n",
       "25%     20.000000     0.000000    0.000000    0.000000       0.000000   \n",
       "50%     44.000000     0.000000    0.000000    0.000000       0.000000   \n",
       "75%     70.500000     0.000000    0.000000    1.000000       0.000000   \n",
       "max     94.000000     1.000000    1.000000    1.000000       1.000000   \n",
       "\n",
       "       upper_division  English_speaker  tenured_prof  \n",
       "count      463.000000       463.000000    463.000000  \n",
       "mean         0.660907         0.939525      0.779698  \n",
       "std          0.473913         0.238623      0.414899  \n",
       "min          0.000000         0.000000      0.000000  \n",
       "25%          0.000000         1.000000      1.000000  \n",
       "50%          1.000000         1.000000      1.000000  \n",
       "75%          1.000000         1.000000      1.000000  \n",
       "max          1.000000         1.000000      1.000000  "
      ]
     },
     "execution_count": 138,
     "metadata": {},
     "output_type": "execute_result"
    }
   ],
   "source": [
    "ratings.describe()"
   ]
  },
  {
   "cell_type": "code",
   "execution_count": 139,
   "id": "1b75eebf-fafc-4691-bd35-9224ee622acf",
   "metadata": {},
   "outputs": [
    {
     "data": {
      "text/plain": [
       "(array([16., 51., 94., 66., 94., 42., 29., 40., 11., 20.]),\n",
       " array([-1.45049405, -1.10844234, -0.76639063, -0.42433892, -0.08228722,\n",
       "         0.25976449,  0.6018162 ,  0.94386791,  1.28591962,  1.62797133,\n",
       "         1.97002304]),\n",
       " <BarContainer object of 10 artists>)"
      ]
     },
     "execution_count": 139,
     "metadata": {},
     "output_type": "execute_result"
    },
    {
     "data": {
      "image/png": "[encoded data removed]",
      "text/plain": [
       "<Figure size 640x480 with 1 Axes>"
      ]
     },
     "metadata": {},
     "output_type": "display_data"
    }
   ],
   "source": [
    "# histogram on beauty col\n",
    "pyplot.hist(ratings['beauty'])"
   ]
  },
  {
   "cell_type": "code",
   "execution_count": 141,
   "id": "c476a5a1-ce2e-46f3-ad1e-34eb93f5172a",
   "metadata": {},
   "outputs": [
    {
     "data": {
      "text/html": [
       "<div>\n",
       "<style scoped>\n",
       "    .dataframe tbody tr th:only-of-type {\n",
       "        vertical-align: middle;\n",
       "    }\n",
       "\n",
       "    .dataframe tbody tr th {\n",
       "        vertical-align: top;\n",
       "    }\n",
       "\n",
       "    .dataframe thead tr th {\n",
       "        text-align: left;\n",
       "    }\n",
       "</style>\n",
       "<table border=\"1\" class=\"dataframe\">\n",
       "  <thead>\n",
       "    <tr>\n",
       "      <th></th>\n",
       "      <th>gender</th>\n",
       "      <th colspan=\"3\" halign=\"left\">beauty</th>\n",
       "    </tr>\n",
       "    <tr>\n",
       "      <th></th>\n",
       "      <th></th>\n",
       "      <th>mean</th>\n",
       "      <th>std</th>\n",
       "      <th>var</th>\n",
       "    </tr>\n",
       "  </thead>\n",
       "  <tbody>\n",
       "    <tr>\n",
       "      <th>0</th>\n",
       "      <td>female</td>\n",
       "      <td>0.116109</td>\n",
       "      <td>0.81781</td>\n",
       "      <td>0.668813</td>\n",
       "    </tr>\n",
       "    <tr>\n",
       "      <th>1</th>\n",
       "      <td>male</td>\n",
       "      <td>-0.084482</td>\n",
       "      <td>0.75713</td>\n",
       "      <td>0.573246</td>\n",
       "    </tr>\n",
       "  </tbody>\n",
       "</table>\n",
       "</div>"
      ],
      "text/plain": [
       "   gender    beauty                   \n",
       "               mean      std       var\n",
       "0  female  0.116109  0.81781  0.668813\n",
       "1    male -0.084482  0.75713  0.573246"
      ]
     },
     "execution_count": 141,
     "metadata": {},
     "output_type": "execute_result"
    }
   ],
   "source": [
    "# avg beauty score differ by gender: find the mean, std and variance for both male and female instructors\n",
    "# mean beauty score for women is higher than men\n",
    "ratings.groupby('gender').agg({'beauty':['mean','std','var']}).reset_index()"
   ]
  },
  {
   "cell_type": "code",
   "execution_count": 143,
   "id": "0ac0bf5c-a5b6-4c63-82f9-d320775737b2",
   "metadata": {},
   "outputs": [
    {
     "data": {
      "text/html": [
       "<div>\n",
       "<style scoped>\n",
       "    .dataframe tbody tr th:only-of-type {\n",
       "        vertical-align: middle;\n",
       "    }\n",
       "\n",
       "    .dataframe tbody tr th {\n",
       "        vertical-align: top;\n",
       "    }\n",
       "\n",
       "    .dataframe thead th {\n",
       "        text-align: right;\n",
       "    }\n",
       "</style>\n",
       "<table border=\"1\" class=\"dataframe\">\n",
       "  <thead>\n",
       "    <tr style=\"text-align: right;\">\n",
       "      <th></th>\n",
       "      <th>minority</th>\n",
       "      <th>tenure</th>\n",
       "      <th>percentage</th>\n",
       "    </tr>\n",
       "  </thead>\n",
       "  <tbody>\n",
       "    <tr>\n",
       "      <th>0</th>\n",
       "      <td>no</td>\n",
       "      <td>399</td>\n",
       "      <td>86.177106</td>\n",
       "    </tr>\n",
       "    <tr>\n",
       "      <th>1</th>\n",
       "      <td>yes</td>\n",
       "      <td>64</td>\n",
       "      <td>13.822894</td>\n",
       "    </tr>\n",
       "  </tbody>\n",
       "</table>\n",
       "</div>"
      ],
      "text/plain": [
       "  minority  tenure  percentage\n",
       "0       no     399   86.177106\n",
       "1      yes      64   13.822894"
      ]
     },
     "execution_count": 143,
     "metadata": {},
     "output_type": "execute_result"
    }
   ],
   "source": [
    "# calculate the percentage of visible minorities of tenure professors\n",
    "tenure_count = ratings.groupby('minority').agg({'tenure':'count'}).reset_index()\n",
    "tenure_count\n",
    "\n",
    "# find percentage\n",
    "tenure_count['percentage'] = 100 * tenure_count.tenure/tenure_count.tenure.sum()\n",
    "tenure_count"
   ]
  },
  {
   "cell_type": "code",
   "execution_count": 145,
   "id": "a5c3e431-8187-4142-9d97-7717b646eecc",
   "metadata": {},
   "outputs": [
    {
     "data": {
      "text/html": [
       "<div>\n",
       "<style scoped>\n",
       "    .dataframe tbody tr th:only-of-type {\n",
       "        vertical-align: middle;\n",
       "    }\n",
       "\n",
       "    .dataframe tbody tr th {\n",
       "        vertical-align: top;\n",
       "    }\n",
       "\n",
       "    .dataframe thead tr th {\n",
       "        text-align: left;\n",
       "    }\n",
       "</style>\n",
       "<table border=\"1\" class=\"dataframe\">\n",
       "  <thead>\n",
       "    <tr>\n",
       "      <th></th>\n",
       "      <th>tenure</th>\n",
       "      <th colspan=\"2\" halign=\"left\">age</th>\n",
       "    </tr>\n",
       "    <tr>\n",
       "      <th></th>\n",
       "      <th></th>\n",
       "      <th>mean</th>\n",
       "      <th>std</th>\n",
       "    </tr>\n",
       "  </thead>\n",
       "  <tbody>\n",
       "    <tr>\n",
       "      <th>0</th>\n",
       "      <td>no</td>\n",
       "      <td>50.186275</td>\n",
       "      <td>6.946372</td>\n",
       "    </tr>\n",
       "    <tr>\n",
       "      <th>1</th>\n",
       "      <td>yes</td>\n",
       "      <td>47.850416</td>\n",
       "      <td>10.420056</td>\n",
       "    </tr>\n",
       "  </tbody>\n",
       "</table>\n",
       "</div>"
      ],
      "text/plain": [
       "  tenure        age           \n",
       "               mean        std\n",
       "0     no  50.186275   6.946372\n",
       "1    yes  47.850416  10.420056"
      ]
     },
     "execution_count": 145,
     "metadata": {},
     "output_type": "execute_result"
    }
   ],
   "source": [
    "# mean and std for both tenured and untenured prof\n",
    "# groupby of tenure and agg(age : mean, std)\n",
    "ratings.groupby('tenure').agg({'age':['mean','std']}).reset_index()"
   ]
  },
  {
   "cell_type": "code",
   "execution_count": 146,
   "id": "00ef51b2-0a23-43e2-b6df-6c85caaca8b9",
   "metadata": {},
   "outputs": [
    {
     "data": {
      "text/plain": [
       "(array([41., 37., 58., 48., 75., 74., 53., 69.,  0.,  8.]),\n",
       " array([29. , 33.4, 37.8, 42.2, 46.6, 51. , 55.4, 59.8, 64.2, 68.6, 73. ]),\n",
       " <BarContainer object of 10 artists>)"
      ]
     },
     "execution_count": 146,
     "metadata": {},
     "output_type": "execute_result"
    },
    {
     "data": {
      "image/png": "[encoded data removed]",
      "text/plain": [
       "<Figure size 640x480 with 1 Axes>"
      ]
     },
     "metadata": {},
     "output_type": "display_data"
    }
   ],
   "source": [
    "pyplot.hist(ratings['age'])"
   ]
  },
  {
   "cell_type": "code",
   "execution_count": 155,
   "id": "fd9bd844-a64e-49a2-a847-f8315cb928ac",
   "metadata": {},
   "outputs": [
    {
     "data": {
      "text/plain": [
       "4.0"
      ]
     },
     "execution_count": 155,
     "metadata": {},
     "output_type": "execute_result"
    }
   ],
   "source": [
    "# median evaluation score for tenured prof\n",
    "ratings[ratings['tenure']=='yes']['eval'].median()"
   ]
  },
  {
   "cell_type": "code",
   "execution_count": 160,
   "id": "94d3e2f1-5ae1-4e8a-a699-205b9efeb836",
   "metadata": {},
   "outputs": [
    {
     "name": "stderr",
     "output_type": "stream",
     "text": [
      "C:\\Users\\Judie Baker\\anaconda3\\lib\\site-packages\\seaborn\\distributions.py:2619: FutureWarning: `distplot` is a deprecated function and will be removed in a future version. Please adapt your code to use either `displot` (a figure-level function with similar flexibility) or `histplot` (an axes-level function for histograms).\n",
      "  warnings.warn(msg, FutureWarning)\n"
     ]
    },
    {
     "data": {
      "text/plain": [
       "[Text(0.5, 0, 'Normal Dist'), Text(0, 0.5, 'Frequency')]"
      ]
     },
     "execution_count": 160,
     "metadata": {},
     "output_type": "execute_result"
    },
    {
     "data": {
      "image/png": "[encoded data removed]",
      "text/plain": [
       "<Figure size 640x480 with 1 Axes>"
      ]
     },
     "metadata": {},
     "output_type": "display_data"
    }
   ],
   "source": [
    "# t-test: gender affect teaching evaluation score\n",
    "# H0: mu1 = mu2, no diff in evaluation score b/w male and female\n",
    "# H1: mu1 != mu2, diff exist\n",
    "ax = sb.distplot(ratings['eval'],bins=20,kde=True,color='purple',hist_kws={'linewidth':15, 'alpha':1})\n",
    "ax.set(xlabel='Normal Dist',ylabel='Frequency')"
   ]
  },
  {
   "cell_type": "code",
   "execution_count": 161,
   "id": "5a69426a-73b6-4deb-bdce-b0ca11c2760e",
   "metadata": {},
   "outputs": [
    {
     "data": {
      "text/plain": [
       "LeveneResult(statistic=0.19032922435292574, pvalue=0.6628469836244741)"
      ]
     },
     "execution_count": 161,
     "metadata": {},
     "output_type": "execute_result"
    }
   ],
   "source": [
    "st.levene(ratings[ratings['gender']=='female']['eval'],ratings[ratings['gender']=='male']['eval'],center='mean')"
   ]
  },
  {
   "cell_type": "code",
   "execution_count": 168,
   "id": "73c2f2bb-1420-405b-abe2-443c6b2f71cc",
   "metadata": {},
   "outputs": [
    {
     "data": {
      "text/html": [
       "<table class=\"simpletable\">\n",
       "<caption>OLS Regression Results</caption>\n",
       "<tr>\n",
       "  <th>Dep. Variable:</th>          <td>eval</td>       <th>  R-squared:         </th> <td>   0.022</td>\n",
       "</tr>\n",
       "<tr>\n",
       "  <th>Model:</th>                   <td>OLS</td>       <th>  Adj. R-squared:    </th> <td>   0.020</td>\n",
       "</tr>\n",
       "<tr>\n",
       "  <th>Method:</th>             <td>Least Squares</td>  <th>  F-statistic:       </th> <td>   10.56</td>\n",
       "</tr>\n",
       "<tr>\n",
       "  <th>Date:</th>             <td>Mon, 12 Dec 2022</td> <th>  Prob (F-statistic):</th>  <td>0.00124</td>\n",
       "</tr>\n",
       "<tr>\n",
       "  <th>Time:</th>                 <td>15:23:15</td>     <th>  Log-Likelihood:    </th> <td> -378.50</td>\n",
       "</tr>\n",
       "<tr>\n",
       "  <th>No. Observations:</th>      <td>   463</td>      <th>  AIC:               </th> <td>   761.0</td>\n",
       "</tr>\n",
       "<tr>\n",
       "  <th>Df Residuals:</th>          <td>   461</td>      <th>  BIC:               </th> <td>   769.3</td>\n",
       "</tr>\n",
       "<tr>\n",
       "  <th>Df Model:</th>              <td>     1</td>      <th>                     </th>     <td> </td>   \n",
       "</tr>\n",
       "<tr>\n",
       "  <th>Covariance Type:</th>      <td>nonrobust</td>    <th>                     </th>     <td> </td>   \n",
       "</tr>\n",
       "</table>\n",
       "<table class=\"simpletable\">\n",
       "<tr>\n",
       "     <td></td>       <th>coef</th>     <th>std err</th>      <th>t</th>      <th>P>|t|</th>  <th>[0.025</th>    <th>0.975]</th>  \n",
       "</tr>\n",
       "<tr>\n",
       "  <th>const</th>  <td>    4.0690</td> <td>    0.034</td> <td>  121.288</td> <td> 0.000</td> <td>    4.003</td> <td>    4.135</td>\n",
       "</tr>\n",
       "<tr>\n",
       "  <th>female</th> <td>   -0.1680</td> <td>    0.052</td> <td>   -3.250</td> <td> 0.001</td> <td>   -0.270</td> <td>   -0.066</td>\n",
       "</tr>\n",
       "</table>\n",
       "<table class=\"simpletable\">\n",
       "<tr>\n",
       "  <th>Omnibus:</th>       <td>17.625</td> <th>  Durbin-Watson:     </th> <td>   1.209</td>\n",
       "</tr>\n",
       "<tr>\n",
       "  <th>Prob(Omnibus):</th> <td> 0.000</td> <th>  Jarque-Bera (JB):  </th> <td>  18.970</td>\n",
       "</tr>\n",
       "<tr>\n",
       "  <th>Skew:</th>          <td>-0.496</td> <th>  Prob(JB):          </th> <td>7.60e-05</td>\n",
       "</tr>\n",
       "<tr>\n",
       "  <th>Kurtosis:</th>      <td> 2.981</td> <th>  Cond. No.          </th> <td>    2.47</td>\n",
       "</tr>\n",
       "</table><br/><br/>Notes:<br/>[1] Standard Errors assume that the covariance matrix of the errors is correctly specified."
      ],
      "text/plain": [
       "<class 'statsmodels.iolib.summary.Summary'>\n",
       "\"\"\"\n",
       "                            OLS Regression Results                            \n",
       "==============================================================================\n",
       "Dep. Variable:                   eval   R-squared:                       0.022\n",
       "Model:                            OLS   Adj. R-squared:                  0.020\n",
       "Method:                 Least Squares   F-statistic:                     10.56\n",
       "Date:                Mon, 12 Dec 2022   Prob (F-statistic):            0.00124\n",
       "Time:                        15:23:15   Log-Likelihood:                -378.50\n",
       "No. Observations:                 463   AIC:                             761.0\n",
       "Df Residuals:                     461   BIC:                             769.3\n",
       "Df Model:                           1                                         \n",
       "Covariance Type:            nonrobust                                         \n",
       "==============================================================================\n",
       "                 coef    std err          t      P>|t|      [0.025      0.975]\n",
       "------------------------------------------------------------------------------\n",
       "const          4.0690      0.034    121.288      0.000       4.003       4.135\n",
       "female        -0.1680      0.052     -3.250      0.001      -0.270      -0.066\n",
       "==============================================================================\n",
       "Omnibus:                       17.625   Durbin-Watson:                   1.209\n",
       "Prob(Omnibus):                  0.000   Jarque-Bera (JB):               18.970\n",
       "Skew:                          -0.496   Prob(JB):                     7.60e-05\n",
       "Kurtosis:                       2.981   Cond. No.                         2.47\n",
       "==============================================================================\n",
       "\n",
       "Notes:\n",
       "[1] Standard Errors assume that the covariance matrix of the errors is correctly specified.\n",
       "\"\"\""
      ]
     },
     "execution_count": 168,
     "metadata": {},
     "output_type": "execute_result"
    }
   ],
   "source": [
    "# regression analysis: gender affected teaching evaluation score\n",
    "# H0: if beta = 0 no affect\n",
    "# H1: if beta != 0 effect (female = 1, male = 0)\n",
    "x = ratings['female']\n",
    "y = ratings['eval']\n",
    "\n",
    "# add an intercept val = beta0 to our model\n",
    "x = sm.add_constant(x)\n",
    "\n",
    "model = sm.OLS(y,x).fit()\n",
    "predictions = model.predict(x)\n",
    "\n",
    "model.summary()"
   ]
  },
  {
   "cell_type": "code",
   "execution_count": 170,
   "id": "5812f94d-ad1c-4163-a879-3753094e6375",
   "metadata": {},
   "outputs": [
    {
     "name": "stdout",
     "output_type": "stream",
     "text": [
      "probability: 0.08\n"
     ]
    }
   ],
   "source": [
    "# probability\n",
    "\n",
    "# sample space\n",
    "cards = 52\n",
    "\n",
    "# outcome\n",
    "aces = 4\n",
    "\n",
    "# divide possible outcome/sample set\n",
    "ace_prob = aces/cards\n",
    "print('probability:', round(ace_prob,2))"
   ]
  },
  {
   "cell_type": "code",
   "execution_count": 8,
   "id": "9b6e5904-ebab-40f0-b44b-e9af91d7ea8e",
   "metadata": {},
   "outputs": [
    {
     "name": "stdout",
     "output_type": "stream",
     "text": [
      "probability: 0.25\n"
     ]
    }
   ],
   "source": [
    "# prob of hearts\n",
    "\n",
    "# sample space\n",
    "cards = 52\n",
    "\n",
    "# outcome\n",
    "hearts = 13\n",
    "\n",
    "# divide possible outcome/sample set\n",
    "heart_prob = hearts/cards\n",
    "print('probability:', heart_prob)"
   ]
  },
  {
   "cell_type": "code",
   "execution_count": 172,
   "id": "dc4df5cb-b7f9-46bb-85c3-eb348db59e39",
   "metadata": {},
   "outputs": [
    {
     "name": "stdout",
     "output_type": "stream",
     "text": [
      "{1, 2}\n",
      "<class 'set'>\n"
     ]
    }
   ],
   "source": [
    "set1 = {1,2}\n",
    "print(set1)\n",
    "print(type(set1))"
   ]
  },
  {
   "cell_type": "code",
   "execution_count": 173,
   "id": "27234bde-277b-4256-9405-8c0b57c0b3ce",
   "metadata": {},
   "outputs": [
    {
     "name": "stdout",
     "output_type": "stream",
     "text": [
      "{1, 2, 3, 4}\n"
     ]
    }
   ],
   "source": [
    "my_list = [1,2,3,4]\n",
    "my_set = set(my_list)\n",
    "print(my_set)"
   ]
  },
  {
   "cell_type": "code",
   "execution_count": null,
   "id": "2b01f187-9c31-4fb1-99bf-8e11b8c97598",
   "metadata": {},
   "outputs": [],
   "source": [
    "# membership testing with in and not in\n",
    "my_set1 = set([1,3,5])\n",
    "print('1 is in the set:', 1 in my_set1)"
   ]
  },
  {
   "cell_type": "code",
   "execution_count": 175,
   "id": "30d6c678-3601-4687-83bb-6fdabbb75198",
   "metadata": {},
   "outputs": [
    {
     "name": "stdout",
     "output_type": "stream",
     "text": [
      "s1 and s2 are equal False\n"
     ]
    }
   ],
   "source": [
    "s1 = {1,2,3,4,5,6}\n",
    "s2 = {1,2,3,4,0,6}\n",
    "print('s1 and s2 are equal', s1 == s2)"
   ]
  },
  {
   "cell_type": "code",
   "execution_count": 176,
   "id": "7f8be254-9fe0-4219-8aa1-7a829ddaa6fe",
   "metadata": {},
   "outputs": [
    {
     "data": {
      "text/plain": [
       "{1, 2, 3, 4, 6}"
      ]
     },
     "execution_count": 176,
     "metadata": {},
     "output_type": "execute_result"
    }
   ],
   "source": [
    "s_inter = s1.intersection(s2)\n",
    "s_inter"
   ]
  },
  {
   "cell_type": "code",
   "execution_count": 177,
   "id": "f33c4695-5cee-4356-a3d8-42f2e58a9812",
   "metadata": {},
   "outputs": [],
   "source": [
    "def cartesian_product(s1,s2):\n",
    "    result = set()\n",
    "    for i in s1:\n",
    "        for j in s2:\n",
    "            result.add(tuple([i,j]))\n",
    "    return(result)"
   ]
  },
  {
   "cell_type": "code",
   "execution_count": 178,
   "id": "c4b42e0a-8d79-4002-9da5-2e1cadcdaf90",
   "metadata": {},
   "outputs": [
    {
     "name": "stdout",
     "output_type": "stream",
     "text": [
      "cartesian product \n",
      "{'a', 'c', 'b'} X {1, 2, 3} :{('a', 1), ('c', 2), ('b', 1), ('a', 3), ('b', 3), ('c', 1), ('a', 2), ('c', 3), ('b', 2)}\n"
     ]
    }
   ],
   "source": [
    "# cartesian product\n",
    "a = set(['a','b','c'])\n",
    "s = {1,2,3}\n",
    "c = cartesian_product(a,s)\n",
    "print('cartesian product \\n{} X {} :{}'.format(a,s,c))"
   ]
  },
  {
   "cell_type": "code",
   "execution_count": 2,
   "id": "49f3ea43-900a-4bba-a52f-f5bcab441eff",
   "metadata": {},
   "outputs": [
    {
     "name": "stdout",
     "output_type": "stream",
     "text": [
      "A B C\n",
      "A C B\n",
      "B A C\n",
      "B C A\n",
      "C A B\n",
      "C B A\n"
     ]
    }
   ],
   "source": [
    "st=\"ABC\"\n",
    "values=[1,2,3]\n",
    "per=itertools.permutations(st)\n",
    "for val in per:\n",
    "    print(*val)"
   ]
  },
  {
   "cell_type": "code",
   "execution_count": 4,
   "id": "378adbdd-cf49-4623-83e8-e4a0e681930c",
   "metadata": {},
   "outputs": [
    {
     "data": {
      "image/png": "[encoded data removed]",
      "text/plain": [
       "<Figure size 640x480 with 1 Axes>"
      ]
     },
     "metadata": {},
     "output_type": "display_data"
    }
   ],
   "source": [
    "set1=set(['A','B','C'])\n",
    "set2=set(['A','B','D'])\n",
    "set3=set(['A','E','F'])\n",
    "\n",
    "venn.venn3([set1,set2,set3],('G1','G2','G3'))\n",
    "plt.show()"
   ]
  },
  {
   "cell_type": "code",
   "execution_count": null,
   "id": "2ec45e5a-00b4-4cc9-9562-8490c73ee127",
   "metadata": {},
   "outputs": [],
   "source": [
    "# chi square for tenure prof to find any association b/w tenure and gender using chi square test\n",
    "# H0 = tenure is independent of gender\n",
    "# H1 =  tenure is associated with gender\n"
   ]
  },
  {
   "cell_type": "code",
   "execution_count": 12,
   "id": "049ff703-844c-4124-9122-a82cdfcdf622",
   "metadata": {},
   "outputs": [
    {
     "data": {
      "text/html": [
       "<div>\n",
       "<style scoped>\n",
       "    .dataframe tbody tr th:only-of-type {\n",
       "        vertical-align: middle;\n",
       "    }\n",
       "\n",
       "    .dataframe tbody tr th {\n",
       "        vertical-align: top;\n",
       "    }\n",
       "\n",
       "    .dataframe thead th {\n",
       "        text-align: right;\n",
       "    }\n",
       "</style>\n",
       "<table border=\"1\" class=\"dataframe\">\n",
       "  <thead>\n",
       "    <tr style=\"text-align: right;\">\n",
       "      <th>tenure</th>\n",
       "      <th>no</th>\n",
       "      <th>yes</th>\n",
       "    </tr>\n",
       "    <tr>\n",
       "      <th>gender</th>\n",
       "      <th></th>\n",
       "      <th></th>\n",
       "    </tr>\n",
       "  </thead>\n",
       "  <tbody>\n",
       "    <tr>\n",
       "      <th>female</th>\n",
       "      <td>50</td>\n",
       "      <td>145</td>\n",
       "    </tr>\n",
       "    <tr>\n",
       "      <th>male</th>\n",
       "      <td>52</td>\n",
       "      <td>216</td>\n",
       "    </tr>\n",
       "  </tbody>\n",
       "</table>\n",
       "</div>"
      ],
      "text/plain": [
       "tenure  no  yes\n",
       "gender         \n",
       "female  50  145\n",
       "male    52  216"
      ]
     },
     "execution_count": 12,
     "metadata": {},
     "output_type": "execute_result"
    }
   ],
   "source": [
    "table = pd.crosstab(ratings['gender'],ratings['tenure'])\n",
    "table"
   ]
  },
  {
   "cell_type": "code",
   "execution_count": 13,
   "id": "a8674e99-9609-4517-9ce8-3211fcc54eb6",
   "metadata": {},
   "outputs": [
    {
     "name": "stdout",
     "output_type": "stream",
     "text": [
      "[[ 50 145]\n",
      " [ 52 216]]\n"
     ]
    }
   ],
   "source": [
    "obs_val = table.values\n",
    "print(obs_val)"
   ]
  },
  {
   "cell_type": "code",
   "execution_count": 14,
   "id": "b7e8542a-0b80-4f44-a92f-b14b466be62f",
   "metadata": {},
   "outputs": [
    {
     "data": {
      "text/plain": [
       "(2.20678166999886,\n",
       " 0.1374050603563787,\n",
       " 1,\n",
       " array([[ 42.95896328, 152.04103672],\n",
       "        [ 59.04103672, 208.95896328]]))"
      ]
     },
     "execution_count": 14,
     "metadata": {},
     "output_type": "execute_result"
    }
   ],
   "source": [
    "val = st.chi2_contingency(table)\n",
    "val"
   ]
  },
  {
   "cell_type": "code",
   "execution_count": 15,
   "id": "0aebcaf3-f211-4c09-a2a3-c898e19faa63",
   "metadata": {},
   "outputs": [],
   "source": [
    "expected = val[3]"
   ]
  },
  {
   "cell_type": "code",
   "execution_count": 16,
   "id": "003769eb-5db4-4e59-bbc0-fbef8fca6657",
   "metadata": {},
   "outputs": [
    {
     "name": "stdout",
     "output_type": "stream",
     "text": [
      "1\n"
     ]
    }
   ],
   "source": [
    "no_of_r = len(table.iloc[0:2,0])\n",
    "no_of_c = len(table.iloc[0,0:2])\n",
    "dof = (no_of_r-1) * (no_of_c-1)\n",
    "print(dof)\n",
    "alpha = 0.05"
   ]
  },
  {
   "cell_type": "code",
   "execution_count": 17,
   "id": "375c3e61-91e0-416f-b900-5c2317261c93",
   "metadata": {},
   "outputs": [
    {
     "name": "stdout",
     "output_type": "stream",
     "text": [
      "chi_sq_stat: 2.557051129789522\n"
     ]
    }
   ],
   "source": [
    "chi_square = sum([(o-e)**2/e for o,e in zip(obs_val,expected)])\n",
    "chi_square_stats = chi_square[0] + chi_square[1]\n",
    "print('chi_sq_stat:', chi_square_stats)"
   ]
  },
  {
   "cell_type": "code",
   "execution_count": 18,
   "id": "7e8f39ba-28b7-458e-8a7f-3768fe7edb73",
   "metadata": {},
   "outputs": [
    {
     "name": "stdout",
     "output_type": "stream",
     "text": [
      "3.841458820694124\n"
     ]
    }
   ],
   "source": [
    "critical_val = chi2.ppf(q=1-alpha,df=dof)\n",
    "print(critical_val)"
   ]
  },
  {
   "cell_type": "code",
   "execution_count": 19,
   "id": "32d12c30-c608-45b1-98f5-c444a0b27dd1",
   "metadata": {},
   "outputs": [
    {
     "name": "stdout",
     "output_type": "stream",
     "text": [
      "0.10980322511302842\n",
      "0.05\n",
      "1\n"
     ]
    }
   ],
   "source": [
    "p_value = 1 - chi2.cdf(x=chi_square_stats,df=dof)\n",
    "print(p_value)\n",
    "print(alpha)\n",
    "print(dof)"
   ]
  },
  {
   "cell_type": "code",
   "execution_count": 20,
   "id": "a8c57117-c9e2-4a03-9840-7da2adbd1285",
   "metadata": {},
   "outputs": [
    {
     "name": "stdout",
     "output_type": "stream",
     "text": [
      "Accept H0, No assocation b/w two variables\n",
      "Accept H0, No assocation b/w two variables\n"
     ]
    }
   ],
   "source": [
    "if chi_square_stats >= critical_val:\n",
    "    print('Reject H0, Association b/w two variables')\n",
    "else:\n",
    "    print('Accept H0, No assocation b/w two variables')\n",
    "    \n",
    "if alpha >= p_value:\n",
    "    print('Reject H0, Association b/w two variables')\n",
    "else:\n",
    "    print('Accept H0, No assocation b/w two variables')"
   ]
  },
  {
   "cell_type": "code",
   "execution_count": null,
   "id": "da4c78a6-5967-4338-9f0e-35b8c679cac4",
   "metadata": {},
   "outputs": [],
   "source": []
  }
 ],
 "metadata": {
  "kernelspec": {
   "display_name": "Python 3 (ipykernel)",
   "language": "python",
   "name": "python3"
  },
  "language_info": {
   "codemirror_mode": {
    "name": "ipython",
    "version": 3
   },
   "file_extension": ".py",
   "mimetype": "text/x-python",
   "name": "python",
   "nbconvert_exporter": "python",
   "pygments_lexer": "ipython3",
   "version": "3.9.13"
  }
 },
 "nbformat": 4,
 "nbformat_minor": 5
}
