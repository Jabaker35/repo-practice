{
 "cells": [
  {
   "cell_type": "code",
   "execution_count": 1,
   "id": "bf7a768f-c460-4011-858c-effb12e329a2",
   "metadata": {},
   "outputs": [],
   "source": [
    "import numpy as np"
   ]
  },
  {
   "cell_type": "code",
   "execution_count": null,
   "id": "fd79dacf-7715-485b-9de9-33f179888524",
   "metadata": {},
   "outputs": [],
   "source": [
    "import numpy as np\n",
    "# creating numpy array from python list\n",
    "myarr = np.array([3,6,32,7])\n",
    "print(myarr)"
   ]
  },
  {
   "cell_type": "code",
   "execution_count": null,
   "id": "6a2f0bf7-c9c0-4fb4-af2e-27fc81512c0a",
   "metadata": {},
   "outputs": [],
   "source": [
    "# accessing help function\n",
    "help(np.linalg.inv)"
   ]
  },
  {
   "cell_type": "code",
   "execution_count": null,
   "id": "a4249f74-e4d0-4b1f-9d6b-ea7d6a6ff66e",
   "metadata": {},
   "outputs": [],
   "source": [
    "# character functions in numpy\n",
    "print(np.char.capitalize('hello all'))\n",
    "print(np.char.title('hello all'))\n",
    "print(np.char.lower('HELLO ALL'))\n",
    "print(np.char.upper('hello all'))\n",
    "print(np.char.split('hello all'))"
   ]
  },
  {
   "cell_type": "code",
   "execution_count": null,
   "id": "dae7fb42-4fb0-4c93-a07b-46c0cb83436d",
   "metadata": {},
   "outputs": [],
   "source": [
    "# for memory management, creating numpy elements of bits\n",
    "myarr = np.array([3,6,32,7],np.int64)\n",
    "print(myarr)"
   ]
  },
  {
   "cell_type": "code",
   "execution_count": null,
   "id": "3c2cbb21-1307-4c88-9651-c2db5b236c9a",
   "metadata": {},
   "outputs": [],
   "source": [
    "# creating 2D array\n",
    "myarr = np.array([[3,6,32,7]],np.int64)\n",
    "print(myarr)\n",
    "print(myarr[0,1])\n",
    "\n",
    "# shape\n",
    "print(myarr.shape)\n",
    "\n",
    "# type\n",
    "print(myarr.dtype)\n",
    "\n",
    "# updating\n",
    "myarr[0,0] = 45\n",
    "print(myarr)"
   ]
  },
  {
   "cell_type": "code",
   "execution_count": null,
   "id": "df235923-2ebf-4dfe-b78d-46706176f02d",
   "metadata": {},
   "outputs": [],
   "source": [
    "# array creation: conversion from python structures\n",
    "listarray = np.array([[1,2,3],[5,8,5],[0,3,1]])\n",
    "print(listarray)\n",
    "print(listarray.dtype) # default by 32\n",
    "listarray.shape\n",
    "listarray.size\n",
    "\n",
    "np.array({34,23,23})"
   ]
  },
  {
   "cell_type": "code",
   "execution_count": null,
   "id": "d1d82919-c9a0-4804-802d-3f4fb90dd86f",
   "metadata": {},
   "outputs": [],
   "source": [
    "# 2 rows, 5 col, all = 0\n",
    "zeros = np.zeros((2,5))\n",
    "print(zeros)\n",
    "print(zeros.shape)"
   ]
  },
  {
   "cell_type": "code",
   "execution_count": null,
   "id": "c8ecab78-f9db-4bc4-9749-7b2da044ce65",
   "metadata": {},
   "outputs": [],
   "source": [
    "# arrange used for creation of numpy arrays\n",
    "rng = np.arrange(15)\n",
    "print(rng)"
   ]
  },
  {
   "cell_type": "code",
   "execution_count": null,
   "id": "0f472b80-09df-413c-8a6f-9f629dc207b4",
   "metadata": {},
   "outputs": [],
   "source": [
    "# creating equally linearly spaced 10 elements from 1 to 50\n",
    "lspace = np.linspace(1,50,10)\n",
    "print(lspace)\n",
    "\n",
    "lspace = np.linspace(1,4,4)\n",
    "print(lspace)"
   ]
  },
  {
   "cell_type": "code",
   "execution_count": null,
   "id": "c4c9d5a3-d1aa-48ac-b940-5b2afa1c4abd",
   "metadata": {},
   "outputs": [],
   "source": [
    "# arry of random numbers\n",
    "emp = np.empty((4,6))\n",
    "print(emp)\n",
    "\n",
    "emp_like = np.empty_like(lspace)\n",
    "print(emp_like)"
   ]
  },
  {
   "cell_type": "code",
   "execution_count": null,
   "id": "24ce87c0-4137-4368-b816-d132aa98086c",
   "metadata": {},
   "outputs": [],
   "source": [
    "# identity matrix of 45 by 45\n",
    "ide = np.identity(45)\n",
    "print(ide)\n",
    "print(ide.shape)"
   ]
  },
  {
   "cell_type": "code",
   "execution_count": null,
   "id": "40c81e92-ec1b-4245-bf5a-48156d1b1d2b",
   "metadata": {},
   "outputs": [],
   "source": [
    "arr = np.arange(99)\n",
    "arr\n",
    "arr.shape"
   ]
  },
  {
   "cell_type": "code",
   "execution_count": null,
   "id": "4e7a5c0e-c30c-4d05-abb7-91bf7f0d1998",
   "metadata": {},
   "outputs": [],
   "source": [
    "# reshape changes the shape of the numpy array\n",
    "# it can only be the same size as the elements\n",
    "# it is only divided by the element factors between rows and columns\n",
    "arr = arr.reshape(3,33)\n",
    "print(arr)\n",
    "print(arr.shape)\n",
    "\n",
    "# ravel: bring the elements into a 1D array\n",
    "arr = arr.ravel()\n",
    "print(arr)\n",
    "print(arr.shape)"
   ]
  },
  {
   "cell_type": "code",
   "execution_count": null,
   "id": "afb02ca7-8ca1-484b-802a-946081626d29",
   "metadata": {},
   "outputs": [],
   "source": [
    "x = [[1,2,3],[4,5,6],[7,1,0]]\n",
    "ar = np.array(x)\n",
    "print(ar)\n",
    "print(ar.shape)"
   ]
  },
  {
   "cell_type": "code",
   "execution_count": null,
   "id": "a49c5d77-90fd-4292-80fd-91888f96d281",
   "metadata": {},
   "outputs": [],
   "source": [
    "# 1D arry has 1 axis = 0, 2D arrays (axis=0,axis=1)\n",
    "# colum wise sum(axis=0), row wise sum(axis=1)\n",
    "\n",
    "# column wise sum\n",
    "print(ar.sum(axis=0))\n",
    "\n",
    "# rise wise sum\n",
    "print(ar.sum(axis=1))\n",
    "\n",
    "# transposing an array\n",
    "print(ar.T)"
   ]
  },
  {
   "cell_type": "code",
   "execution_count": null,
   "id": "6276c7e4-70bc-4bb0-ad27-0655a5bbc475",
   "metadata": {},
   "outputs": [],
   "source": [
    "# retreiving the elements within an array\n",
    "ar.flat\n",
    "for item in ar.flat:\n",
    "    print(item)"
   ]
  },
  {
   "cell_type": "code",
   "execution_count": null,
   "id": "12791199-e653-4b8f-afa7-36644e2651e0",
   "metadata": {},
   "outputs": [],
   "source": [
    "# no. of dimensions\n",
    "print(ar.ndim)\n",
    "print(ar.size)\n",
    "\n",
    "# array elements consuming bits\n",
    "print(ar.nbytes)"
   ]
  },
  {
   "cell_type": "code",
   "execution_count": null,
   "id": "2fe02638-eb5b-4916-8179-6fb2e2daff47",
   "metadata": {},
   "outputs": [],
   "source": [
    "one = np.array([1,2,3,634,2])\n",
    "print(one)\n",
    "\n",
    "# position of max and min element\n",
    "print(one.argmax())\n",
    "print(one.argmin())\n",
    "\n",
    "# sorting indices of array\n",
    "print(one.argsort())"
   ]
  },
  {
   "cell_type": "code",
   "execution_count": null,
   "id": "87b4b20f-d839-4d01-a80a-e690c05572b4",
   "metadata": {},
   "outputs": [],
   "source": [
    "print(ar)\n",
    "\n",
    "# column wise position\n",
    "print(ar.argmax(axis=0))\n",
    "\n",
    "# row wise position\n",
    "print(ar.argmax(axis=1))\n",
    "\n",
    "# column wise sorting\n",
    "print(ar.argsort(axis=0))\n",
    "\n",
    "# row wise sorting\n",
    "print(ar.argsort(axis=1))"
   ]
  },
  {
   "cell_type": "code",
   "execution_count": null,
   "id": "46030e52-de18-4802-9f40-4aa681c3b231",
   "metadata": {},
   "outputs": [],
   "source": [
    "ar2 = np.array([[1,2,1],[8,5,12],[15,2,0]])\n",
    "print(ar2)\n",
    "\n",
    "# concatinating arrays\n",
    "print(ar + ar2)\n",
    "\n",
    "# element wise multiplication\n",
    "print(ar * ar2)\n",
    "\n",
    "# sqrt of arrays\n",
    "print(np.sqrt(ar))\n",
    "\n",
    "# sum\n",
    "print(ar.sum)\n",
    "\n",
    "# max\n",
    "print(ar.max)\n",
    "\n",
    "# min\n",
    "print(ar.min)\n",
    "\n",
    "print(np.where(ar>5))\n",
    "\n",
    "# count\n",
    "print(np.count_nonzero(ar))\n",
    "\n",
    "# elements that are nonzero\n",
    "print(np.nonzero(ar))\n",
    "\n",
    "# changing elements within an array\n",
    "ar[1,2] = 0\n",
    "print(ar)"
   ]
  },
  {
   "cell_type": "code",
   "execution_count": null,
   "id": "0e41fcea-5975-44fe-a0e1-f4b7283e5309",
   "metadata": {},
   "outputs": [],
   "source": [
    "# concatinating is not possible in list, it only extends\n",
    "[324,34]+[34,546]"
   ]
  },
  {
   "cell_type": "code",
   "execution_count": null,
   "id": "c80ff115-8d08-4d03-87d8-870b8770faa2",
   "metadata": {},
   "outputs": [],
   "source": [
    "import sys\n",
    "\n",
    "# python array\n",
    "py_ar = [0,4,55,2]\n",
    "print(py_ar)\n",
    "\n",
    "# convert to numpy array\n",
    "np_ar = np.array(py_arr)\n",
    "print(np_ar)\n",
    "\n",
    "# size of python array\n",
    "lng = sys.getsizeof(1) * len(py_ar)\n",
    "print(lng)\n",
    "\n",
    "# size of numpy size\n",
    "size = np_ar.itemssize * np_ar.size\n",
    "print(size)"
   ]
  },
  {
   "cell_type": "code",
   "execution_count": null,
   "id": "680cd0b5-704e-4259-87ac-71a3ba4a18f4",
   "metadata": {},
   "outputs": [],
   "source": [
    "import sys\n",
    "\n",
    "#creating arrays from tuples\n",
    "b = np.array((2,4,3))\n",
    "print(b)"
   ]
  },
  {
   "cell_type": "code",
   "execution_count": null,
   "id": "f96b7be1-faa0-4e2d-9b1b-651892a8f329",
   "metadata": {},
   "outputs": [],
   "source": [
    "# creating 3 x 4 array with all zeros\n",
    "c = np.zeros((3,4))\n",
    "print(c)"
   ]
  },
  {
   "cell_type": "code",
   "execution_count": null,
   "id": "3c02719b-b307-486b-bb34-1f78eca7a5f7",
   "metadata": {},
   "outputs": [],
   "source": [
    "# constant value array of complex type, 3x3 value = 7\n",
    "d = np.full((3,3),7,dtype='complex')\n",
    "print(d)"
   ]
  },
  {
   "cell_type": "code",
   "execution_count": null,
   "id": "ef499fe8-960d-4f0d-835c-a101fde4780f",
   "metadata": {},
   "outputs": [],
   "source": [
    "arr = np.array([[-1,2,0,4],[4,-0.5,6,0],[2.6,0,7,8],[3,-7,4,2]])\n",
    "print(arr)"
   ]
  },
  {
   "cell_type": "code",
   "execution_count": null,
   "id": "c0d319cb-fb99-4dac-b1ea-048b90132c2e",
   "metadata": {},
   "outputs": [],
   "source": [
    "# slicing arrays, skipping first two rows and alt col\n",
    "# : rep rows, :: rep columns\n",
    "print(arr[:2,::2])"
   ]
  },
  {
   "cell_type": "code",
   "execution_count": null,
   "id": "245b75c6-2208-4479-861a-f69a44fab514",
   "metadata": {},
   "outputs": [],
   "source": [
    "temp = arr[[0,1,2,3],[3,2,1,0]]\n",
    "print('\\n elements at indices (0,3),(1,2),(2,1),' '(3,0):\\n',temp)"
   ]
  },
  {
   "cell_type": "code",
   "execution_count": null,
   "id": "cc2108e8-81c4-41ed-ae3b-5e57f1b52437",
   "metadata": {},
   "outputs": [],
   "source": [
    "# boolean array indexing\n",
    "cond = arr > 0\n",
    "temp = arr[cond]\n",
    "print('\\n elements greater than 0\\n', temp)"
   ]
  },
  {
   "cell_type": "code",
   "execution_count": null,
   "id": "e7068ecf-d6e7-49cf-adb2-60b74b78016a",
   "metadata": {},
   "outputs": [],
   "source": [
    "# operations on single array\n",
    "a = np.array([1,2,3,4,5])\n",
    "print(a + 1) # increments by 1\n",
    "print(a - 1)\n",
    "print(a * 10)\n",
    "print(a**2) # squared\n",
    "print(a *= 2) # multiply then add\n",
    "print(a.T)"
   ]
  },
  {
   "cell_type": "code",
   "execution_count": null,
   "id": "e8a74e33-b0cd-45a6-8424-c2b6acc15a8c",
   "metadata": {},
   "outputs": [],
   "source": [
    "arr = np.array([[1,5,6],[4,7,2],[3,1,9]])\n",
    "\n",
    "# get max rows\n",
    "print(arr.max(1))\n",
    "\n",
    "# get min col\n",
    "print(arr.min(0))\n",
    "\n",
    "# sum of all elements\n",
    "print(arr.sum())\n",
    "\n",
    "# cumulative sum (arr.cumsum for each row)\n",
    "arsum = arr.cumsum(1)\n",
    "print(arsum)"
   ]
  },
  {
   "cell_type": "code",
   "execution_count": null,
   "id": "28508675-903a-4b27-a55f-f4cd1f71ff5a",
   "metadata": {},
   "outputs": [],
   "source": [
    "# binary operators\n",
    "a = np.array([[1,2],[3,4]])\n",
    "b = np.array([[4,3],[2,1]])\n",
    "print(a + b)\n",
    "print(a * b)\n",
    "\n",
    "# matrix multiplication: the rows and columns has to match the second match betweens rows and columns\n",
    "mult = a.dot(b)\n",
    "print(mult)"
   ]
  },
  {
   "cell_type": "code",
   "execution_count": null,
   "id": "06a6f526-54be-4187-b765-28f3039af3c1",
   "metadata": {},
   "outputs": [],
   "source": [
    "# universal function\n",
    "a = np.array([0,np.pi/2,np.pi])\n",
    "print(a)\n",
    "\n",
    "# sin\n",
    "print(np.sin(a))\n",
    "\n",
    "# exponent of array elements\n",
    "a = np.array([0,1,2,3])\n",
    "print(np.exp(a))\n",
    "\n",
    "# square root\n",
    "print(np.sqrt(a))\n",
    "\n",
    "# dtype\n",
    "print(np.dtype(np.int16))\n",
    "\n",
    "# integer of 4 bytes\n",
    "dt = np.dtype('>14')\n",
    "print(dt)\n",
    "\n",
    "print(dt.byteorder)\n",
    "print(dt.itemsize)\n",
    "print(dt.name)"
   ]
  },
  {
   "cell_type": "code",
   "execution_count": null,
   "id": "9d1e4072-f260-4e6d-9f9b-db7abb5c9c36",
   "metadata": {},
   "outputs": [],
   "source": [
    "# create a list using array\n",
    "arr = [1,2,3,4,5]\n",
    "for i in arr:\n",
    "    print(i)"
   ]
  },
  {
   "cell_type": "code",
   "execution_count": null,
   "id": "d5e42eaa-c59c-4235-82b2-6b2659326a2f",
   "metadata": {},
   "outputs": [],
   "source": [
    "# empty, zeros, reshape, arange, linspace, flat, ravel dtype\n",
    "list1 = [1,2,3,4,5,6]\n",
    "list2 = [10,9,8,7,6,5]\n",
    "\n",
    "# converting to numpy arrays\n",
    "a1 = np.array(list1)\n",
    "a2 = np.array(list2)\n",
    "print(a1 * a2)"
   ]
  },
  {
   "cell_type": "code",
   "execution_count": null,
   "id": "270323b9-ee81-44f9-8f6c-64d2e549c1ea",
   "metadata": {},
   "outputs": [],
   "source": [
    "# arange\n",
    "a = np.arange(20)\n",
    "print(a)\n",
    "\n",
    "# arange [start:stop:step]\n",
    "print(a[-8:17:1])"
   ]
  },
  {
   "cell_type": "code",
   "execution_count": null,
   "id": "8f1bb0a3-a153-4a46-990b-12fa6b36ac96",
   "metadata": {},
   "outputs": [],
   "source": [
    "a = np.array([[1,2],[3,4],[5,6]])\n",
    "print(a[[0,1,2],[0,0,1]])"
   ]
  },
  {
   "cell_type": "code",
   "execution_count": null,
   "id": "fc1d58c7-08ff-456c-9d96-3c2db43af0fa",
   "metadata": {},
   "outputs": [],
   "source": [
    "a = np.array([10,40,80,50,100])\n",
    "print(a[a>50])"
   ]
  },
  {
   "cell_type": "code",
   "execution_count": null,
   "id": "23e1ac97-09ec-40b3-bc36-d1f1c3e2275e",
   "metadata": {},
   "outputs": [],
   "source": [
    "# squares of multiples of 40\n",
    "a = np.array([10,40,80,50,100])\n",
    "print(a[a % 40 == 0]**2)"
   ]
  },
  {
   "cell_type": "code",
   "execution_count": null,
   "id": "2f257c7b-1bb7-4699-9a3b-3b14d06c3570",
   "metadata": {},
   "outputs": [],
   "source": [
    "num1 = 10\n",
    "num2 = 11\n",
    "result = np.bitwise_and(num1,num2)\n",
    "print(result)"
   ]
  },
  {
   "cell_type": "code",
   "execution_count": null,
   "id": "bb8738a0-a313-4587-b04d-87b7696c4710",
   "metadata": {},
   "outputs": [],
   "source": [
    "num = 10\n",
    "result = np.invert(num)\n",
    "print(result)"
   ]
  },
  {
   "cell_type": "code",
   "execution_count": null,
   "id": "b3bc6a19-4691-4b4a-a075-9527b074ca07",
   "metadata": {},
   "outputs": [],
   "source": [
    "num = 10\n",
    "bit_shift = 2\n",
    "result = np.left_shift(num,bit_shift)\n",
    "print(result)\n",
    "\n",
    "result = np.right_shift(num,bit_shift)\n",
    "print(result)"
   ]
  },
  {
   "cell_type": "code",
   "execution_count": null,
   "id": "dff5206f-ebdf-48ca-b927-66b4a125ed31",
   "metadata": {},
   "outputs": [],
   "source": [
    "num = 10\n",
    "result = np.binary_repr(num)\n",
    "print(result)"
   ]
  },
  {
   "cell_type": "code",
   "execution_count": null,
   "id": "70b4a694-3a33-44c1-b87b-4bb955b80101",
   "metadata": {},
   "outputs": [],
   "source": [
    "num1 = 10\n",
    "num2 = 11\n",
    "result = np.bitwise_and(num1,num2)\n",
    "print(result)\n",
    "\n",
    "result = np.bitwise_or(num1,num2)\n",
    "print(result)\n",
    "\n",
    "result = np.bitwise_not(num1,num2)\n",
    "print(result)\n",
    "\n",
    "result = np.bitwise_xor(num1,num2)\n",
    "print(result)"
   ]
  },
  {
   "cell_type": "code",
   "execution_count": null,
   "id": "0b065033-0208-4d9e-a203-67a952872e74",
   "metadata": {},
   "outputs": [],
   "source": [
    "n1 = np.array([10,20,30])\n",
    "n2 = np.array([40,50,60])\n",
    "# vertical\n",
    "stackv = np.vstack((n1,n2))\n",
    "print(stackv)\n",
    "\n",
    "# horizontal\n",
    "stackh = np.hstack((n1,n2))\n",
    "print(stackh)\n",
    "\n",
    "# column\n",
    "stackc = np.column_stack((n1,n2))\n",
    "print(stackc)"
   ]
  },
  {
   "cell_type": "code",
   "execution_count": null,
   "id": "aa0b7dc3-7c58-409b-a91b-524807fdf16b",
   "metadata": {},
   "outputs": [],
   "source": [
    "# intersection\n",
    "n1 = np.array([10,20,30,40,50,60])\n",
    "n2 = np.array([50,60,70,80,90])\n",
    "inter = np.intersect1d(n1,n2)\n",
    "print(inter)"
   ]
  },
  {
   "cell_type": "code",
   "execution_count": null,
   "id": "b6a1dc78-2339-49ef-8992-3680c18216e1",
   "metadata": {},
   "outputs": [],
   "source": [
    "# step difference\n",
    "n1 = np.array([10,20,30,40,50,60])\n",
    "n2 = np.array([50,60,70,80,90])\n",
    "dif = np.stepdiff1d(n1,n2)\n",
    "print(dif)"
   ]
  },
  {
   "cell_type": "code",
   "execution_count": null,
   "id": "4df1ace1-d5df-4fb8-8b3a-08a6bec6a60b",
   "metadata": {},
   "outputs": [],
   "source": [
    "# union\n",
    "n1 = np.array([10,20,30,40,50,60])\n",
    "n2 = np.array([50,60,70,80,90])\n",
    "union = np.union1d(n1,n2)\n",
    "print(union)"
   ]
  },
  {
   "cell_type": "code",
   "execution_count": null,
   "id": "adb493e8-5d67-4f2c-ac3e-6373373f073e",
   "metadata": {},
   "outputs": [],
   "source": [
    "# mean\n",
    "n1 = np.array([10,20,30,40,50,60])\n",
    "mean = np.mean(n1)\n",
    "print(mean)\n",
    "\n",
    "# standard deviation\n",
    "std = np.std(n1)\n",
    "print(n1)\n",
    "\n",
    "# median\n",
    "median = np.median(n1)\n",
    "print(median)\n",
    "\n",
    "# cosine\n",
    "cos = np.cos(n1)\n",
    "print(cos)"
   ]
  },
  {
   "cell_type": "code",
   "execution_count": null,
   "id": "78d0a0ab-f120-44ef-871f-162c2b30ee12",
   "metadata": {},
   "outputs": [],
   "source": [
    "# linear algebra function\n",
    "# 3x + y = 9, x + 2y = 8 find x and y\n",
    "a = np.array([[3,1],[1,2]])\n",
    "b = np.array([9,8])\n",
    "lin = np.linalg.solve(a,b)\n",
    "print(lin)"
   ]
  },
  {
   "cell_type": "code",
   "execution_count": null,
   "id": "165333ab-75b5-49df-b849-87a33a404274",
   "metadata": {},
   "outputs": [],
   "source": [
    "# 6x + 2y - 5z = 13, 3x + 3y - 2z = 13, 7x + 5y - 3z = 26\n",
    "x = np.array([[6,5,-5],[3,3,-2],[7,5,-3]])\n",
    "y = np.array([13,13,26])\n",
    "lin = np.linalg.solve(x,y)\n",
    "print(lin)"
   ]
  },
  {
   "cell_type": "code",
   "execution_count": null,
   "id": "ff57f5a3-7db0-4327-b391-1ed04661e52a",
   "metadata": {},
   "outputs": [],
   "source": [
    "# inverse linear algebra\n",
    "a = np.array([[1,2],[3,4]])\n",
    "b = np.linalg.inv(a)\n",
    "print(b)\n",
    "\n",
    "# determinate\n",
    "det = np.linalg.det(a)\n",
    "print(det)\n",
    "\n",
    "# rounding determinate\n",
    "rnd = round(np.linalg.det(a))\n",
    "print(rnd)"
   ]
  },
  {
   "cell_type": "code",
   "execution_count": null,
   "id": "1386ee31-a5a1-44e6-9d1e-cb9ae324de38",
   "metadata": {},
   "outputs": [],
   "source": [
    "array = [[23,45,43,23,45],[45,67,54,32,45],[89,90,87,65,44],[23,45,67,32,10]]\n",
    "print(array)\n",
    "\n",
    "# update 3 row\n",
    "array[2] = [0,3,5,6,7]\n",
    "print(array)\n",
    "\n",
    "# updating row and column\n",
    "array[0][2] = [100]\n",
    "print(array)"
   ]
  },
  {
   "cell_type": "code",
   "execution_count": null,
   "id": "f7b5c48a-6991-4ae9-bd51-8e4d99b5bbb4",
   "metadata": {},
   "outputs": [],
   "source": [
    "arr = np.array([1,8,5,7,9])\n",
    "print(arr)\n",
    "\n",
    "dim = arr.ndim\n",
    "print(dim)"
   ]
  },
  {
   "cell_type": "code",
   "execution_count": null,
   "id": "64f83508-398f-4e7d-911a-9273aaffcc20",
   "metadata": {},
   "outputs": [],
   "source": [
    "from scipy.stats import rankdata\n",
    "rank = rankdata(arr)\n",
    "print(rank)\n",
    "\n",
    "rank = rankdata([0,2,3,2])\n",
    "print(rank)\n",
    "\n",
    "minr = rankdata([0,2,3,2],method='min')\n",
    "print(rank)\n",
    "\n",
    "maxr = rankdata([0,2,3,2],method='max')\n",
    "print(maxr)\n",
    "\n",
    "dense = rankdata([0,2,3,2],method='dense')\n",
    "print(dense)\n",
    "\n",
    "ordr = rankdata([0,2,3,2],method='ordinal')\n",
    "print(ordr)"
   ]
  },
  {
   "cell_type": "code",
   "execution_count": null,
   "id": "84735670-959a-428a-8e73-d3905b998c06",
   "metadata": {},
   "outputs": [],
   "source": [
    "reshape = rankdata([[0,2],[3,2]]).reshape(2,2)\n",
    "print(reshape)\n",
    "\n",
    "axis = rankdata([[0,2],[3,2]],axis=1)\n",
    "print(axis)"
   ]
  },
  {
   "cell_type": "code",
   "execution_count": null,
   "id": "01fa3b60-d228-47e4-b8f4-b1957f047fa0",
   "metadata": {},
   "outputs": [],
   "source": [
    "# create an array using arange 20 to 40\n",
    "arr2 = np.arange(20,41)\n",
    "print(arr2)"
   ]
  },
  {
   "cell_type": "code",
   "execution_count": null,
   "id": "32264642-5824-4693-9698-f965fa3bccfc",
   "metadata": {},
   "outputs": [],
   "source": [
    "# create array with 10 elements and every element is 5\n",
    "five = np.ones(10)*5\n",
    "print(five)"
   ]
  },
  {
   "cell_type": "code",
   "execution_count": null,
   "id": "772a0b66-62c0-49ab-9987-920b9ae8b212",
   "metadata": {},
   "outputs": [],
   "source": [
    "arr3 = np.random.randint(1,50,24)\n",
    "print(arr3)\n",
    "\n",
    "# converting 1D into 3D array\n",
    "# factor the last int to distribute elements evenly\n",
    "res = arr3.reshape(3,4,2)\n",
    "print(res)"
   ]
  },
  {
   "cell_type": "code",
   "execution_count": null,
   "id": "8d479ae6-aa5a-42c9-937b-212c0909d916",
   "metadata": {},
   "outputs": [],
   "source": [
    "# replace every even number with -1\n",
    "arr5 = np.random.randint(1,50,20)\n",
    "arr5[arr5 % 2 == 0]=-1\n",
    "arr5"
   ]
  },
  {
   "cell_type": "code",
   "execution_count": null,
   "id": "ffe064bc-4e59-4e7f-892c-381fa9f8326b",
   "metadata": {},
   "outputs": [],
   "source": [
    "# keeping the random results the same\n",
    "np.randon.seed(123)\n",
    "arr5 = np.random.randint(1,50,20)\n",
    "arr5[arr5 % 2 == 0]=-1\n",
    "arr5"
   ]
  },
  {
   "cell_type": "code",
   "execution_count": null,
   "id": "a73c55f8-be5c-4337-888a-21df9da71b62",
   "metadata": {},
   "outputs": [],
   "source": [
    "# retrieving elements by row and columns\n",
    "matrix = np.array([[5,10,15,20,25],[30,35,40,45,50],[55,60,65,70,75],[80,85,90,95,100]])\n",
    "val = matrix[1:3,0:3]\n",
    "print(val)"
   ]
  },
  {
   "cell_type": "code",
   "execution_count": null,
   "id": "06704f9f-9ace-4ad0-8d43-ec3e18b52584",
   "metadata": {},
   "outputs": [],
   "source": [
    "data = np.loadtxt('documents/even_numbers.txt')\n",
    "print(data)"
   ]
  },
  {
   "cell_type": "code",
   "execution_count": null,
   "id": "020e492e-c7a4-4b47-9cad-216ae8c70a06",
   "metadata": {},
   "outputs": [],
   "source": [
    "print(type(data))\n",
    "dtype = data.dtype\n",
    "print(dtype)"
   ]
  },
  {
   "cell_type": "code",
   "execution_count": null,
   "id": "855c3fcd-eef0-4819-b2cd-63a704b9ac63",
   "metadata": {},
   "outputs": [],
   "source": [
    "data = np.loadtxt('documents/even_numbers.txt', dtype=int)\n",
    "print(data)\n",
    "\n",
    "# displaying specific rows and columns\n",
    "data = np.loadtxt('documents/even_numbers.txt', dtype=int, skiprows=1, usecols=(1,3))\n",
    "print(data)\n",
    "\n",
    "# use 1st col as row\n",
    "data = np.loadtxt('documents/even_numbers.txt', dtype=int, usecols=(0))\n",
    "print(data)\n",
    "\n",
    "# using 1st col as row in string form\n",
    "data = np.loadtxt('documents/even_numbers.txt', dtype=np.str_, usecols=(0))\n",
    "print(data)"
   ]
  },
  {
   "cell_type": "code",
   "execution_count": null,
   "id": "f899235e-7517-4020-87a1-238f82707d1b",
   "metadata": {},
   "outputs": [],
   "source": [
    "data = np.loadtxt('documents/glass.csv',delimiter=',')\n",
    "print(data)\n",
    "\n",
    "# shape\n",
    "print(data.shape)\n",
    "\n",
    "# type\n",
    "print(data.dtype)"
   ]
  },
  {
   "cell_type": "code",
   "execution_count": null,
   "id": "02e598fa-efe5-42e4-9e96-da8ac0914063",
   "metadata": {},
   "outputs": [],
   "source": [
    "# skip 1st column\n",
    "print(data[:,1:])"
   ]
  },
  {
   "cell_type": "code",
   "execution_count": null,
   "id": "6e0bf126-4b6c-40ca-a198-6de84aad7ef2",
   "metadata": {},
   "outputs": [],
   "source": [
    "# importing files with missing values\n",
    "data = np.genfromtxt('documents/odd_numbers.txt',invalid_raise=False)\n",
    "print(data)"
   ]
  },
  {
   "cell_type": "code",
   "execution_count": null,
   "id": "30291b8a-3754-42cf-98a6-e93277ec8b25",
   "metadata": {},
   "outputs": [],
   "source": [
    "data = np.genfromtxt('documents/odd_numbers.csv',delimiter=',')\n",
    "print(data)"
   ]
  },
  {
   "cell_type": "code",
   "execution_count": null,
   "id": "5857aeab-a371-41f1-888f-1b1852354205",
   "metadata": {},
   "outputs": [],
   "source": [
    "data = np.genfromtxt('documents/highway.csv',delimiter=',',dtype=np.str_)\n",
    "data\n",
    "\n",
    "# replacing all missing values with unknown\n",
    "data[data == '?']='Unknown'\n",
    "print(data)"
   ]
  },
  {
   "cell_type": "code",
   "execution_count": null,
   "id": "feab2d67-e38e-4192-83eb-92cb2c8043e1",
   "metadata": {},
   "outputs": [],
   "source": [
    "# finding the frequency of elements in specific columns\n",
    "dat = data[:,1]\n",
    "print(dat)"
   ]
  },
  {
   "cell_type": "code",
   "execution_count": null,
   "id": "a2069ae4-68d5-4847-be28-181d5ddc0b9a",
   "metadata": {},
   "outputs": [],
   "source": [
    "# count no of M\n",
    "M = 0\n",
    "for i in dat:\n",
    "    if(i == 'M'):\n",
    "        M += 1\n",
    "print(M)"
   ]
  },
  {
   "cell_type": "code",
   "execution_count": 37,
   "id": "6094f6e7-b882-4d88-9fd9-cfb64d2611f4",
   "metadata": {},
   "outputs": [
    {
     "data": {
      "text/plain": [
       "array([[2.016e+03, 1.000e+00, 1.000e+00, ..., 1.165e+01, 6.999e+01,\n",
       "        1.000e+00],\n",
       "       [2.016e+03, 1.000e+00, 1.000e+00, ..., 8.000e+00, 5.430e+01,\n",
       "        1.000e+00],\n",
       "       [2.016e+03, 1.000e+00, 1.000e+00, ..., 0.000e+00, 3.780e+01,\n",
       "        2.000e+00],\n",
       "       ...,\n",
       "       [2.016e+03, 6.000e+00, 3.000e+01, ..., 5.000e+00, 6.334e+01,\n",
       "        1.000e+00],\n",
       "       [2.016e+03, 6.000e+00, 3.000e+01, ..., 8.950e+00, 4.475e+01,\n",
       "        1.000e+00],\n",
       "       [2.016e+03, 6.000e+00, 3.000e+01, ..., 0.000e+00, 5.484e+01,\n",
       "        2.000e+00]])"
      ]
     },
     "execution_count": 37,
     "metadata": {},
     "output_type": "execute_result"
    }
   ],
   "source": [
    "# importing csv file without header\n",
    "taxi = np.genfromtxt('documents/nyc_taxis.csv',delimiter=',',skip_header=True)\n",
    "taxi"
   ]
  },
  {
   "cell_type": "code",
   "execution_count": 38,
   "id": "96ccb856-e2ac-4501-aebc-77f4ab33c5e6",
   "metadata": {},
   "outputs": [
    {
     "name": "stdout",
     "output_type": "stream",
     "text": [
      "13333\n",
      "11832\n"
     ]
    }
   ],
   "source": [
    "# find the mean speed of all rides miles per hr: speed = distance/time; trip_dis = col8 and trip_length = col9\n",
    "# speed = [:,7]/([:,8]/3600)\n",
    "speed = taxi[:,7]/(taxi[:,8]/3600)\n",
    "mean = speed.mean()\n",
    "print(mean)    \n",
    "\n",
    "# no. of rides in February\n",
    "# pickup_month col: feb = 2; [:,1] == 2\n",
    "rides = np.count_nonzero(taxi[:,1] == 2)\n",
    "print(rides)\n",
    "\n",
    "# no. of rides where destination was JFK\n",
    "# dropoff_location col7 [:,6] == 2\n",
    "drop = np.count_nonzero(taxi[:,6] == 2)\n",
    "print(drop)"
   ]
  },
  {
   "cell_type": "code",
   "execution_count": 41,
   "id": "c2805bac-d4a2-47e8-90ab-c29792719406",
   "metadata": {},
   "outputs": [
    {
     "name": "stdout",
     "output_type": "stream",
     "text": [
      "32.24258580925573\n",
      "13333\n",
      "11832\n"
     ]
    }
   ],
   "source": [
    "# Solution\n",
    "speed = taxi[:,7]/(taxi[:,8]/3600)\n",
    "mean = speed.mean()\n",
    "print(mean)\n",
    "\n",
    "# 2\n",
    "feb = taxi[taxi[:,1]==2,1]\n",
    "print(feb.shape[0])\n",
    "\n",
    "# 3\n",
    "jfk = taxi[taxi[:,6]==2,1]\n",
    "print(jfk.shape[0])"
   ]
  },
  {
   "cell_type": "code",
   "execution_count": 30,
   "id": "14031ff4-c15f-415f-aa19-2557a889bbb5",
   "metadata": {},
   "outputs": [
    {
     "name": "stdout",
     "output_type": "stream",
     "text": [
      "[0. 0. 0. 0. 1. 0. 0. 0. 0. 0.]\n"
     ]
    }
   ],
   "source": [
    "# create a null vector of size 10 with 5th value = 1\n",
    "z = np.zeros(10)\n",
    "z[4] = 1\n",
    "print(z)"
   ]
  },
  {
   "cell_type": "code",
   "execution_count": 32,
   "id": "2a9758db-a43c-4dee-a201-a30333d1594a",
   "metadata": {},
   "outputs": [
    {
     "name": "stdout",
     "output_type": "stream",
     "text": [
      "[49 48 47 46 45 44 43 42 41 40 39 38 37 36 35 34 33 32 31 30 29 28 27 26\n",
      " 25 24 23 22 21 20 19 18 17 16 15 14 13 12 11 10  9  8  7  6  5  4  3  2\n",
      "  1  0]\n"
     ]
    }
   ],
   "source": [
    "# reversing\n",
    "z = np.arange(50)\n",
    "z = z[::-1]\n",
    "print(z)"
   ]
  },
  {
   "cell_type": "code",
   "execution_count": null,
   "id": "94322573-5a9a-4a41-b635-498b694a6886",
   "metadata": {},
   "outputs": [],
   "source": [
    "# 3 x 3 identity matrix\n",
    "z = np.eye(3)\n",
    "print(z)"
   ]
  },
  {
   "cell_type": "code",
   "execution_count": 42,
   "id": "4558d9e8-048a-486c-90c8-401df771a5d2",
   "metadata": {},
   "outputs": [
    {
     "name": "stdout",
     "output_type": "stream",
     "text": [
      "0.012511724504793764 0.9658414629385087\n"
     ]
    }
   ],
   "source": [
    "# create 10 x 10 array with random values find max and min\n",
    "z = np.random.random((10,10))\n",
    "zmin, zmax = z.min(), z.max()\n",
    "print(zmin, zmax)"
   ]
  },
  {
   "cell_type": "code",
   "execution_count": 45,
   "id": "3c5d7a7b-0682-445d-a158-beb150be0f34",
   "metadata": {},
   "outputs": [
    {
     "name": "stdout",
     "output_type": "stream",
     "text": [
      "[[-1.77070149 -0.05545574  0.2571187   0.74410482  0.63812951]\n",
      " [-1.50367301 -1.67454586  0.33919767  1.25345246 -0.54186421]\n",
      " [ 0.06543192  0.25357341  0.31194748 -0.49469831  1.41113568]\n",
      " [ 0.72847168 -1.766485    1.10128984 -0.06361733  0.65295661]\n",
      " [-1.4719963  -0.77790005 -0.16467229  1.04434973  1.48445006]]\n"
     ]
    }
   ],
   "source": [
    "# normalize 5 x 5 matrix (z - mean)/std\n",
    "z = np.random.random((5,5))\n",
    "norm = (z - np.mean(z))/np.std(z)\n",
    "print(norm)"
   ]
  },
  {
   "cell_type": "code",
   "execution_count": 49,
   "id": "fa5eed14-973f-4b3e-a4d1-5fc29870aa91",
   "metadata": {},
   "outputs": [
    {
     "name": "stdout",
     "output_type": "stream",
     "text": [
      "[ 0  1  2  3 -4 -5 -6 -7  8  9 10]\n"
     ]
    }
   ],
   "source": [
    "# negate all elements which are between 3 - 8\n",
    "z = np.arange(11)\n",
    "z[(3 < z) & (z < 8)] *= -1\n",
    "print(z)"
   ]
  },
  {
   "cell_type": "code",
   "execution_count": 51,
   "id": "b87fcd43-7872-457b-875e-d78d4d400639",
   "metadata": {},
   "outputs": [
    {
     "name": "stdout",
     "output_type": "stream",
     "text": [
      "2022-12-06\n",
      "2022-12-07\n",
      "2022-12-08\n"
     ]
    }
   ],
   "source": [
    "# dates of yesterday, today and tomorrow\n",
    "yest = np.datetime64('today') - np.timedelta64(1)\n",
    "print(yest)\n",
    "\n",
    "today = np.datetime64('today') \n",
    "print(today)\n",
    "\n",
    "tom = np.datetime64('today') + np.timedelta64(1)\n",
    "print(tom)"
   ]
  },
  {
   "cell_type": "code",
   "execution_count": 53,
   "id": "7e87c2c4-cb6b-4c44-bfe5-a9f3bcad7944",
   "metadata": {},
   "outputs": [
    {
     "data": {
      "text/plain": [
       "array([-1.5, -1.5, -1.5])"
      ]
     },
     "execution_count": 53,
     "metadata": {},
     "output_type": "execute_result"
    }
   ],
   "source": [
    "# compute (( a + b) * (-a / 2)) without copy\n",
    "a = np.ones(3)*1\n",
    "b = np.ones(3)*2\n",
    "\n",
    "np.add(a,b,out=b)\n",
    "np.divide(a,2,out=a)\n",
    "np.negative(a,out=a)\n",
    "np.multiply(a,b,out=a)"
   ]
  },
  {
   "cell_type": "code",
   "execution_count": 54,
   "id": "31e75263-c612-4234-bdd0-8d12132bd638",
   "metadata": {},
   "outputs": [
    {
     "name": "stdout",
     "output_type": "stream",
     "text": [
      "[1.78438193 3.92447188 5.60050325 1.23436355 9.93465881 3.94721597\n",
      " 3.30076875 4.83317524 3.31633533 0.89635132]\n"
     ]
    }
   ],
   "source": [
    "# extract int from a random array of positive numbs using diff approach\n",
    "# uniform() returns random floating numbers b/w specified numbs included\n",
    "z = np.random.uniform(0,10,10)\n",
    "print(z)\n",
    "\n",
    "# truncation\n",
    "print(z - z%1)\n",
    "\n",
    "print(z//1)\n",
    "\n",
    "print(np.floor(z))\n",
    "\n",
    "print(z.astype(int))\n",
    "\n",
    "# trunc 2\n",
    "print(np.trunc(z))"
   ]
  },
  {
   "cell_type": "code",
   "execution_count": 55,
   "id": "6ca830a3-a064-4e60-b1bf-381235589d9c",
   "metadata": {},
   "outputs": [
    {
     "name": "stdout",
     "output_type": "stream",
     "text": [
      "False\n"
     ]
    }
   ],
   "source": [
    "# check the equality for two random arrays\n",
    "a = np.random.randint(0,2,5)\n",
    "b = np.random.randint(0,2,5)\n",
    "\n",
    "# assuming identical shape of arrays and tolerance for comparison values\n",
    "equal = np.allclose(a,b)\n",
    "print(equal)\n",
    "\n",
    "# check for shape and element values, no tolerance(values are exactly equal)\n",
    "equal = np.array_equal(a,b)\n",
    "print(equal)"
   ]
  },
  {
   "cell_type": "code",
   "execution_count": null,
   "id": "ed14b311-2bfd-4b87-9f98-844dda6c00a4",
   "metadata": {},
   "outputs": [],
   "source": [
    "# swappin two rows of an array\n",
    "a = np.arange(25.reshape(5,5))\n",
    "a[[0,1]] = a[[1,0]]\n",
    "print(a)"
   ]
  },
  {
   "cell_type": "code",
   "execution_count": 57,
   "id": "c88e1dc0-60ad-42a3-9fde-a96b666e0815",
   "metadata": {},
   "outputs": [
    {
     "name": "stdout",
     "output_type": "stream",
     "text": [
      "[0 1 2 3 4 5 6 7 8 9]\n"
     ]
    },
    {
     "data": {
      "text/plain": [
       "array([1, 6, 5, 9, 0, 4, 2, 3, 8, 7])"
      ]
     },
     "execution_count": 57,
     "metadata": {},
     "output_type": "execute_result"
    }
   ],
   "source": [
    "# shuffling numbs b/w 0 - 10 incl lower and upper bound\n",
    "x = np.arange(10)\n",
    "print(x)\n",
    "\n",
    "np.random.shuffle(x)\n",
    "x"
   ]
  },
  {
   "cell_type": "code",
   "execution_count": 58,
   "id": "96b27e81-1b1c-4c6f-9903-dc45d89a33a5",
   "metadata": {},
   "outputs": [
    {
     "name": "stdout",
     "output_type": "stream",
     "text": [
      "[0, 1, 2, 3, 4, 5, 6, 7, 8, 9]\n",
      "[10, 11, 12, 13, 14, 15, 16, 17, 18, 19]\n",
      "[20, 21, 22, 23, 24, 25, 26, 27, 28, 29]\n",
      "[[0, 1, 2, 3, 4, 5, 6, 7, 8, 9], [10, 11, 12, 13, 14, 15, 16, 17, 18, 19], [20, 21, 22, 23, 24, 25, 26, 27, 28, 29]]\n",
      "[45, 145, 245]\n"
     ]
    }
   ],
   "source": [
    "varA = list(range(10))\n",
    "print(varA)\n",
    "varB = list(range(10,20))\n",
    "print(varB)\n",
    "varC = list(range(20,30))\n",
    "print(varC)\n",
    "\n",
    "# concatination\n",
    "DataInAll = [varA,varB,varC]\n",
    "print(DataInAll)\n",
    "\n",
    "# sum\n",
    "add = [sum(i) for i in DataInAll]\n",
    "print(add)"
   ]
  },
  {
   "cell_type": "code",
   "execution_count": null,
   "id": "5eb4f6d8-e242-432d-8b7d-9f449a4e5ac7",
   "metadata": {},
   "outputs": [],
   "source": [
    "# convrting to np array\n",
    "SampleData = np.array(DataInAll)\n",
    "print('size:', SampleData.size)"
   ]
  },
  {
   "cell_type": "code",
   "execution_count": null,
   "id": "eac07689-9c80-4981-a751-c313f27ef657",
   "metadata": {},
   "outputs": [],
   "source": [
    "SampleTrueCopy = SampleData.copy()\n",
    "SampleTrueCopy[1][3] = 20\n",
    "print(SampleTrueCopy)"
   ]
  },
  {
   "cell_type": "code",
   "execution_count": 63,
   "id": "dbcc667c-fdc0-4fcc-82f9-438a4607664a",
   "metadata": {},
   "outputs": [
    {
     "name": "stdout",
     "output_type": "stream",
     "text": [
      "[[0.39708813 0.24816426 0.29761053 0.41387464]\n",
      " [0.17119712 0.43694708 0.82926975 0.12211767]\n",
      " [0.73046507 0.02974596 0.28325889 0.06038362]\n",
      " [0.69847843 0.68817384 0.08937979 0.67267236]\n",
      " [0.78757378 0.11178577 0.14908524 0.22150484]\n",
      " [0.36423099 0.57279524 0.82466764 0.00639234]\n",
      " [0.08785756 0.36755168 0.19135326 0.91030943]] \n",
      "\n",
      "[[1.98544066 1.24082128 1.48805264 2.06937319]\n",
      " [0.8559856  2.1847354  4.14634877 0.61058836]\n",
      " [3.65232535 0.14872979 1.41629444 0.3019181 ]\n",
      " [3.49239217 3.44086918 0.44689894 3.36336178]\n",
      " [3.93786891 0.55892885 0.74542622 1.1075242 ]\n",
      " [1.82115497 2.86397622 4.12333822 0.03196171]\n",
      " [0.43928779 1.8377584  0.95676631 4.55154717]] \n",
      "\n",
      "[[1.39708813 2.24816426 3.29761053 4.41387464]\n",
      " [1.17119712 2.43694708 3.82926975 4.12211767]\n",
      " [1.73046507 2.02974596 3.28325889 4.06038362]\n",
      " [1.69847843 2.68817384 3.08937979 4.67267236]\n",
      " [1.78757378 2.11178577 3.14908524 4.22150484]\n",
      " [1.36423099 2.57279524 3.82466764 4.00639234]\n",
      " [1.08785756 2.36755168 3.19135326 4.91030943]] \n",
      "\n",
      "[[1.39708813 1.24816426 1.29761053 1.41387464]\n",
      " [2.17119712 2.43694708 2.82926975 2.12211767]\n",
      " [3.73046507 3.02974596 3.28325889 3.06038362]\n",
      " [4.69847843 4.68817384 4.08937979 4.67267236]\n",
      " [5.78757378 5.11178577 5.14908524 5.22150484]\n",
      " [6.36423099 6.57279524 6.82466764 6.00639234]\n",
      " [7.08785756 7.36755168 7.19135326 7.91030943]]\n"
     ]
    }
   ],
   "source": [
    "# Broadcasting: method numpy uses to effect all elements within an array with diff sizes and shapes\n",
    "# it is only possible with the same number of columns\n",
    "sampdata = np.random.random(28).reshape(7,4)\n",
    "print(sampdata,'\\n')\n",
    "\n",
    "# multiplies to all elements\n",
    "print(sampdata*5,'\\n')\n",
    "\n",
    "# add to rows\n",
    "add = sampdata + np.array([1,2,3,4])\n",
    "print(add,'\\n')\n",
    "\n",
    "# add to columns\n",
    "out = sampdata + np.array([[1],[2],[3],[4],[5],[6],[7]])\n",
    "print(out)"
   ]
  },
  {
   "cell_type": "code",
   "execution_count": null,
   "id": "e1dc22d6-7853-4945-b4ae-7a2fcf321047",
   "metadata": {},
   "outputs": [],
   "source": [
    "np.array([[1].[2],[3],[4],[5],[6],[7]]).shape"
   ]
  }
 ],
 "metadata": {
  "kernelspec": {
   "display_name": "Python 3 (ipykernel)",
   "language": "python",
   "name": "python3"
  },
  "language_info": {
   "codemirror_mode": {
    "name": "ipython",
    "version": 3
   },
   "file_extension": ".py",
   "mimetype": "text/x-python",
   "name": "python",
   "nbconvert_exporter": "python",
   "pygments_lexer": "ipython3",
   "version": "3.9.13"
  }
 },
 "nbformat": 4,
 "nbformat_minor": 5
}
