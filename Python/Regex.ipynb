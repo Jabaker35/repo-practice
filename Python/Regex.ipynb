{
 "cells": [
  {
   "cell_type": "code",
   "execution_count": null,
   "id": "0b98116c-697e-4dad-9b53-75ebe1afc4e7",
   "metadata": {},
   "outputs": [],
   "source": [
    "# special sequence of characters that uses search pattern to find a string or set of strings\n",
    "# can split patterns into one or more subpatterns\n",
    "# import re\n",
    "\n",
    "# \\ = drops a special meaning to character\n",
    "# [] = complete character class\n",
    "# ^ = matches the beginning of the string\n",
    "# . = matched any character except \\n\n",
    "# | = OR operator\n",
    "# ? = matches zero or one occurrences\n",
    "# * = any number of occurrences\n",
    "# + = one or more occurrences\n",
    "# {} = num of occurrences preceding regex\n",
    "# () = encloses group of regex\n",
    "\n",
    "# Special Sequences:\n",
    "    # \\A = matches if string begins with the given character\n",
    "    # \\b(string) = check the beginning of the word; (string)\\b = check for the ending of the word\n",
    "    # \\B = should not start or end with given regex\n",
    "    # \\d = any decimal digits\n",
    "    # \\D = non-digit character\n",
    "    # \\s = matches any whitespace character\n",
    "    # \\S = non whitespace character\n",
    "    # \\w = any alphanumerical character\n",
    "    # \\W = non alphanumerical character\n",
    "    # \\Z = matches if string ends with given regex\n",
    "    # \\n = creates a new line\n",
    "    # r = raw string\n",
    "    \n",
    "# Functions in regex:\n",
    "    # re.findall()\n",
    "    # re.compile() = regex will compiled to pattern objs\n",
    "    # re.split()\n",
    "    # re.sub()\n",
    "    # re.subn()\n",
    "    # re.escape()\n",
    "    # re.search()\n",
    "    # Match Object\n",
    "    \n",
    "# Regex Sets: []\n",
    "    # [atx]\n",
    "    # [a-h]\n",
    "    # [^atx]\n",
    "    # [0123] = match of numerical presence\n",
    "    # [0-9]\n",
    "    # [0-7][0-9]\n",
    "    # [a-z][A-Z]"
   ]
  },
  {
   "cell_type": "code",
   "execution_count": 2,
   "id": "a0a8b669-88d9-48e6-baf7-84b38b6a8756",
   "metadata": {},
   "outputs": [],
   "source": [
    "import re"
   ]
  },
  {
   "cell_type": "code",
   "execution_count": 3,
   "id": "b8f6d441-457c-412f-a8e5-37ced5c494c7",
   "metadata": {},
   "outputs": [
    {
     "data": {
      "text/plain": [
       "<re.Match object; span=(22, 27), match='term1'>"
      ]
     },
     "execution_count": 3,
     "metadata": {},
     "output_type": "execute_result"
    }
   ],
   "source": [
    "pattern = 'term1'\n",
    "\n",
    "# text to parse\n",
    "text = 'This is a string with term1, but it does not have the other tern'\n",
    "match = re.search(pattern, text)\n",
    "\n",
    "match"
   ]
  },
  {
   "cell_type": "code",
   "execution_count": 4,
   "id": "d4590770-7393-426e-be4b-49a691545c15",
   "metadata": {},
   "outputs": [
    {
     "data": {
      "text/plain": [
       "re.Match"
      ]
     },
     "execution_count": 4,
     "metadata": {},
     "output_type": "execute_result"
    }
   ],
   "source": [
    "type(match)"
   ]
  },
  {
   "cell_type": "code",
   "execution_count": 5,
   "id": "6ab19d76-975a-4754-96e6-fc5ac3e13398",
   "metadata": {},
   "outputs": [
    {
     "data": {
      "text/plain": [
       "22"
      ]
     },
     "execution_count": 5,
     "metadata": {},
     "output_type": "execute_result"
    }
   ],
   "source": [
    "match.start()"
   ]
  },
  {
   "cell_type": "code",
   "execution_count": 6,
   "id": "5466c140-8422-47cd-b982-73c8ff65dad6",
   "metadata": {},
   "outputs": [
    {
     "data": {
      "text/plain": [
       "27"
      ]
     },
     "execution_count": 6,
     "metadata": {},
     "output_type": "execute_result"
    }
   ],
   "source": [
    "match.end()"
   ]
  },
  {
   "cell_type": "code",
   "execution_count": 7,
   "id": "4e412732-5f80-4938-9f48-f9e88f8de4a0",
   "metadata": {},
   "outputs": [
    {
     "data": {
      "text/plain": [
       "['what is the domain name of someone with email: hello', 'gmail.com']"
      ]
     },
     "execution_count": 7,
     "metadata": {},
     "output_type": "execute_result"
    }
   ],
   "source": [
    "# re.split\n",
    "\n",
    "split_term = '@'\n",
    "\n",
    "phrase = 'what is the domain name of someone with email: hello@gmail.com'\n",
    "re.split(split_term,phrase)"
   ]
  },
  {
   "cell_type": "code",
   "execution_count": 8,
   "id": "74c019cb-767b-4565-a593-aaedf53088ad",
   "metadata": {},
   "outputs": [
    {
     "data": {
      "text/plain": [
       "['match']"
      ]
     },
     "execution_count": 8,
     "metadata": {},
     "output_type": "execute_result"
    }
   ],
   "source": [
    "# findall\n",
    "\n",
    "re.findall('match','test phrase match is in middle')"
   ]
  },
  {
   "cell_type": "code",
   "execution_count": 9,
   "id": "cc03417c-ba5b-40c6-a0f3-859adc2bc7b9",
   "metadata": {},
   "outputs": [],
   "source": [
    "def multi_re_find(patterns,phrase):\n",
    "    '''\n",
    "    Takes in a list of regex patterns\n",
    "    Prints a list of all matches\n",
    "    '''\n",
    "    \n",
    "    for pattern in patterns:\n",
    "        print('Searching the phrase using recheck: %r' %pattern)\n",
    "        print(re.findall(pattern,phrase))\n",
    "        print('\\n')"
   ]
  },
  {
   "cell_type": "code",
   "execution_count": 10,
   "id": "f9fe317f-163e-417e-9fa4-d2b3e64e223d",
   "metadata": {},
   "outputs": [
    {
     "name": "stdout",
     "output_type": "stream",
     "text": [
      "Searching the phrase using recheck: 'sd*'\n",
      "['sd', 'sd', 's', 's', 'sddd', 'sddd', 'sddd', 'sd', 's', 's', 's', 's', 's', 's', 'sdddd']\n",
      "\n",
      "\n",
      "Searching the phrase using recheck: 'sd+'\n",
      "['sd', 'sd', 'sddd', 'sddd', 'sddd', 'sd', 'sdddd']\n",
      "\n",
      "\n",
      "Searching the phrase using recheck: 'sd?'\n",
      "['sd', 'sd', 's', 's', 'sd', 'sd', 'sd', 'sd', 's', 's', 's', 's', 's', 's', 'sd']\n",
      "\n",
      "\n",
      "Searching the phrase using recheck: 'sd{3}'\n",
      "['sddd', 'sddd', 'sddd', 'sddd']\n",
      "\n",
      "\n",
      "Searching the phrase using recheck: 'sd{2,3}'\n",
      "['sddd', 'sddd', 'sddd', 'sddd']\n",
      "\n",
      "\n"
     ]
    }
   ],
   "source": [
    "# test phrase\n",
    "tph = 'sdsd..sssddd...sdddsddd...dsds...dsssss...sdddd'\n",
    "# test patterns\n",
    "tpt = ['sd*', # s followed by zero or more d's\n",
    "       'sd+', # s followed by one or more d's\n",
    "       'sd?', # s followed by 0 or 1 d\n",
    "       'sd{3}', # s followed by 3 d's\n",
    "       'sd{2,3}' # s followed by 2 to 3 d's\n",
    "      ]\n",
    "\n",
    "multi_re_find(tpt,tph)"
   ]
  },
  {
   "cell_type": "code",
   "execution_count": 11,
   "id": "5f98d21c-8fb8-4c71-abde-dac592e17279",
   "metadata": {},
   "outputs": [
    {
     "name": "stdout",
     "output_type": "stream",
     "text": [
      "Searching the phrase using recheck: '[sd]'\n",
      "['s', 'd', 's', 'd', 's', 's', 's', 'd', 'd', 'd', 's', 'd', 'd', 'd', 's', 'd', 'd', 'd', 'd', 's', 'd', 's', 'd', 's', 's', 's', 's', 's', 's', 'd', 'd', 'd', 'd']\n",
      "\n",
      "\n",
      "Searching the phrase using recheck: 's[sd]+'\n",
      "['sdsd', 'sssddd', 'sdddsddd', 'sds', 'sssss', 'sdddd']\n",
      "\n",
      "\n"
     ]
    }
   ],
   "source": [
    "# character sets: check occurrences of either character like an OR operator w/n []\n",
    "# test phrase\n",
    "tph = 'sdsd..sssddd...sdddsddd...dsds...dsssss...sdddd'\n",
    "tpt = ['[sd]', # either s or d\n",
    "       's[sd]+' # s followed by one or more s or d\n",
    "      ]\n",
    "\n",
    "multi_re_find(tpt,tph)"
   ]
  },
  {
   "cell_type": "code",
   "execution_count": 12,
   "id": "f5e9ca69-b10f-4ebb-bdb4-c0713da42090",
   "metadata": {},
   "outputs": [
    {
     "data": {
      "text/plain": [
       "['This is a string', ' But it has punctuation', ' How can we remove it']"
      ]
     },
     "execution_count": 12,
     "metadata": {},
     "output_type": "execute_result"
    }
   ],
   "source": [
    "# exclusion (^): match any single character not in []\n",
    "tph = 'This is a string! But it has punctuation. How can we remove it?'\n",
    "re.findall('[^!.?]+',tph)"
   ]
  },
  {
   "cell_type": "code",
   "execution_count": 13,
   "id": "b93b4650-5131-474d-9efd-bb01fde88361",
   "metadata": {},
   "outputs": [
    {
     "name": "stdout",
     "output_type": "stream",
     "text": [
      "Searching the phrase using recheck: '[a-z]+'\n",
      "['his', 'an', 'example', 'sentence', 'ets', 'see', 'if', 'we', 'can', 'find', 'some', 'letters']\n",
      "\n",
      "\n",
      "Searching the phrase using recheck: '[A-Z]+'\n",
      "['T', 'L']\n",
      "\n",
      "\n",
      "Searching the phrase using recheck: '[a-zA-Z]+'\n",
      "['This', 'an', 'example', 'sentence', 'Lets', 'see', 'if', 'we', 'can', 'find', 'some', 'letters']\n",
      "\n",
      "\n",
      "Searching the phrase using recheck: '[A-Z][a-z]+'\n",
      "['This', 'Lets']\n",
      "\n",
      "\n"
     ]
    }
   ],
   "source": [
    "# character ranges [start-end]: [a-f] return instances of letters b/w a and f\n",
    "tph = 'This an example sentence. Lets see if we can find some letters.'\n",
    "tpt = [ '[a-z]+', # sequence of lower case letters\n",
    "        '[A-Z]+', # sequence of upper case letters\n",
    "        '[a-zA-Z]+', # sequence of lower and upper case letters\n",
    "        '[A-Z][a-z]+' # one upper case followed by lower case letters\n",
    "      ]\n",
    "\n",
    "multi_re_find(tpt,tph)"
   ]
  },
  {
   "cell_type": "code",
   "execution_count": 14,
   "id": "92877218-eb8a-4c88-9db6-57bd91db6566",
   "metadata": {},
   "outputs": [
    {
     "name": "stdout",
     "output_type": "stream",
     "text": [
      "Searching the phrase using recheck: '\\\\d+'\n",
      "['1233']\n",
      "\n",
      "\n",
      "Searching the phrase using recheck: '\\\\D+'\n",
      "['This is a string with some numbers ', ' and a symbol #hashtag']\n",
      "\n",
      "\n",
      "Searching the phrase using recheck: '\\\\s'\n",
      "[' ', ' ', ' ', ' ', ' ', ' ', ' ', ' ', ' ', ' ', ' ']\n",
      "\n",
      "\n",
      "Searching the phrase using recheck: '\\\\S+'\n",
      "['This', 'is', 'a', 'string', 'with', 'some', 'numbers', '1233', 'and', 'a', 'symbol', '#hashtag']\n",
      "\n",
      "\n",
      "Searching the phrase using recheck: '\\\\w+'\n",
      "['This', 'is', 'a', 'string', 'with', 'some', 'numbers', '1233', 'and', 'a', 'symbol', 'hashtag']\n",
      "\n",
      "\n",
      "Searching the phrase using recheck: '\\\\W+'\n",
      "[' ', ' ', ' ', ' ', ' ', ' ', ' ', ' ', ' ', ' ', ' #']\n",
      "\n",
      "\n"
     ]
    }
   ],
   "source": [
    "# Escape codes find specific types of patterns such as digits, non-digits, whitespace\n",
    "tph = 'This is a string with some numbers 1233 and a symbol #hashtag'\n",
    "tpt = [r'\\d+', # sequence of digits\n",
    "       r'\\D+', # sequence of non digits\n",
    "       r'\\s', # sequence of whitespace\n",
    "       r'\\S+', # sequence of non whitespace\n",
    "       r'\\w+', # sequence of alphanumeric \n",
    "       r'\\W+', # sequence of non alphanumeric\n",
    "    ]\n",
    "\n",
    "multi_re_find(tpt,tph)"
   ]
  },
  {
   "cell_type": "code",
   "execution_count": 15,
   "id": "c01b8957-b986-4b72-b355-2d16fd327d04",
   "metadata": {},
   "outputs": [
    {
     "name": "stdout",
     "output_type": "stream",
     "text": [
      "Search Successful\n"
     ]
    }
   ],
   "source": [
    "pattern = '^a...s$'\n",
    "test_string = 'abyss'\n",
    "result = re.match(pattern, test_string)\n",
    "\n",
    "if result:\n",
    "    print('Search Successful')\n",
    "else:\n",
    "    print('Search Unsuccessful')"
   ]
  },
  {
   "cell_type": "code",
   "execution_count": 16,
   "id": "ea716bcc",
   "metadata": {},
   "outputs": [
    {
     "name": "stdout",
     "output_type": "stream",
     "text": [
      "['12', '89', '34']\n"
     ]
    }
   ],
   "source": [
    "#re.findall(): extract nums from string\n",
    "string = 'Hello 12 hi 89. Dear 34'\n",
    "pattern = '\\d+'\n",
    "result = re.findall(pattern, string)\n",
    "print(result)"
   ]
  },
  {
   "cell_type": "code",
   "execution_count": 17,
   "id": "a7716022",
   "metadata": {},
   "outputs": [
    {
     "name": "stdout",
     "output_type": "stream",
     "text": [
      "['language', 'language']\n"
     ]
    }
   ],
   "source": [
    "txt = '''Python is the most beautiful language that a human being has ever created.\n",
    "         I recommend Python for a first programming language.'''\n",
    "\n",
    "matches = re.findall('language', txt, re.I)\n",
    "print(matches)"
   ]
  },
  {
   "cell_type": "code",
   "execution_count": 18,
   "id": "c41e8fa9",
   "metadata": {},
   "outputs": [
    {
     "name": "stdout",
     "output_type": "stream",
     "text": [
      "['Python', 'Python']\n"
     ]
    }
   ],
   "source": [
    "txt = '''Python is the most beautiful language that a human being has ever created.\n",
    "         I recommend Python for a first programming language.'''\n",
    "\n",
    "matches = re.findall('Python', txt, re.I)\n",
    "print(matches)"
   ]
  },
  {
   "cell_type": "code",
   "execution_count": 19,
   "id": "d3f616b3",
   "metadata": {},
   "outputs": [
    {
     "name": "stdout",
     "output_type": "stream",
     "text": [
      "['Python', 'python']\n",
      "['Python', 'python']\n"
     ]
    }
   ],
   "source": [
    "txt = '''Python is the most beautiful language that a human being has ever created.\n",
    "         I recommend python for a first programming language.'''\n",
    "\n",
    "matches = re.findall('Python|python', txt)\n",
    "print(matches)\n",
    "\n",
    "matches = re.findall('[Pp]ython', txt)\n",
    "print(matches)"
   ]
  },
  {
   "cell_type": "code",
   "execution_count": 20,
   "id": "f7f72459",
   "metadata": {},
   "outputs": [
    {
     "name": "stdout",
     "output_type": "stream",
     "text": [
      "['I am a teacher and I love teaching. There is nothing as rewarding as educating and empowering people.', '         I found teaching more interesting than any other job. Does this motivate you to be a teacher?']\n"
     ]
    }
   ],
   "source": [
    "# re.split(): splits where there is a match and returns a list of strings where the splits have occurred\n",
    "txt = '''I am a teacher and I love teaching. There is nothing as rewarding as educating and empowering people.\n",
    "         I found teaching more interesting than any other job. Does this motivate you to be a teacher?'''\n",
    "\n",
    "print(re.split('\\n',txt))"
   ]
  },
  {
   "cell_type": "code",
   "execution_count": 21,
   "id": "830f23db",
   "metadata": {},
   "outputs": [
    {
     "name": "stdout",
     "output_type": "stream",
     "text": [
      "['Twelve:', ' Eighty nine: ', '.']\n"
     ]
    }
   ],
   "source": [
    "string = 'Twelve:12 Eighty nine: 89.'\n",
    "pattern = '\\d+'\n",
    "result = re.split(pattern, string)\n",
    "print(result)"
   ]
  },
  {
   "cell_type": "code",
   "execution_count": 22,
   "id": "a1cc7398",
   "metadata": {},
   "outputs": [
    {
     "name": "stdout",
     "output_type": "stream",
     "text": [
      "['Twelve:', ' Eighty nine: 89.']\n"
     ]
    }
   ],
   "source": [
    "# 1 rep maximum num of splits that will occur, default of max split = 0 which displays all possible splits\n",
    "string = 'Twelve:12 Eighty nine: 89.'\n",
    "pattern = '\\d+'\n",
    "result = re.split(pattern, string, 1)\n",
    "print(result)"
   ]
  },
  {
   "cell_type": "code",
   "execution_count": 23,
   "id": "56272fa9",
   "metadata": {},
   "outputs": [
    {
     "name": "stdout",
     "output_type": "stream",
     "text": [
      "abc12\\de23f456\n"
     ]
    }
   ],
   "source": [
    "# re.sub(pattern, replace, string, count): if pattern is not found it will return original string else replaces\n",
    "# if count is omitted it will results to 0 and replace all occurrences\n",
    "\n",
    "string = 'abc 12\\ de 23 \\n f45 6'\n",
    "\n",
    "# matching all whitespace characters\n",
    "pattern = '\\s+'\n",
    "\n",
    "# empty string\n",
    "replace = ''\n",
    "new_string = re.sub(pattern,replace,string)\n",
    "print(new_string)"
   ]
  },
  {
   "cell_type": "code",
   "execution_count": 24,
   "id": "5eb3b36f",
   "metadata": {},
   "outputs": [
    {
     "name": "stdout",
     "output_type": "stream",
     "text": [
      "abc12\\ de 23 \n",
      " f45 6\n"
     ]
    }
   ],
   "source": [
    "string = 'abc 12\\ de 23 \\n f45 6'\n",
    "\n",
    "# matching all whitespace characters\n",
    "pattern = '\\s+'\n",
    "\n",
    "# empty string\n",
    "replace = ''\n",
    "\n",
    "new_string = re.sub(r'\\s+',replace,string,1)\n",
    "print(new_string)"
   ]
  },
  {
   "cell_type": "code",
   "execution_count": 25,
   "id": "10e64f38",
   "metadata": {},
   "outputs": [
    {
     "name": "stdout",
     "output_type": "stream",
     "text": [
      "I am a teacher and I love teaching. There is nothing as rewarding as educating and empowering people.\n",
      "         I found teaching more interesting than any other job. Does this motivate you to be a teacher?\n",
      "I am a teacher and I love teaching. There is nothing as rewarding as educating and empowering people.\n",
      "         I found teaching more interesting than any other job. Does this motivate you to be a teacher?\n"
     ]
    }
   ],
   "source": [
    "txt = '''I am a teacher and I love teaching. There is nothing as rewarding as educating and empowering people.\n",
    "         I found teaching more interesting than any other job. Does this motivate you to be a teacher?'''\n",
    "\n",
    "match_replaced = re.sub('Python|python','Javascript', txt, re.I)\n",
    "print(match_replaced)\n",
    "\n",
    "match_replaced = re.sub('[Pp]ython','Javascript', txt, re.I)\n",
    "print(match_replaced)"
   ]
  },
  {
   "cell_type": "code",
   "execution_count": 26,
   "id": "45fd3d79",
   "metadata": {},
   "outputs": [
    {
     "name": "stdout",
     "output_type": "stream",
     "text": [
      "I am a teacher and  I love teaching. There is nothing as rewarding as educating and empowering people.\n",
      "         I found teaching more interesting than any other job. Does this motivate you to be a teacher?\n"
     ]
    }
   ],
   "source": [
    "txt = '''%I a%m a te%%a%che%r% a%n%d %% I l%o%ve te%ach%ing. T%he%re i%s n%o%th%ing as r%ewarding a%s e%duc%at%i%ng a%n%d e%m%p%ow%er%ing p%e%o%ple.\n",
    "         I found te%a%ching m%ore i%n%t%er%es%ting t%h%an any other %job. D%o%es thi%s m%o%t%iv%a%te %y%o%u to b%e a t%e%a%cher?'''\n",
    "\n",
    "matches = re.sub('%','',txt)\n",
    "print(matches)"
   ]
  },
  {
   "cell_type": "code",
   "execution_count": 27,
   "id": "d8cea948",
   "metadata": {},
   "outputs": [
    {
     "name": "stdout",
     "output_type": "stream",
     "text": [
      "('abc12de23f456', 5)\n"
     ]
    }
   ],
   "source": [
    "# re.subn(): similar to re.sub but it returns a tuple of 2 items containing the new string and num of sub made\n",
    "string = 'abc 12\\n de 23 \\n f45 6'\n",
    "\n",
    "# matching all whitespace characters\n",
    "pattern = '\\s+'\n",
    "\n",
    "# empty string\n",
    "replace = ''\n",
    "\n",
    "new_string = re.subn(pattern,replace,string)\n",
    "print(new_string)"
   ]
  },
  {
   "cell_type": "code",
   "execution_count": 28,
   "id": "68bd51aa",
   "metadata": {},
   "outputs": [
    {
     "name": "stdout",
     "output_type": "stream",
     "text": [
      "Pattern found inside the string\n"
     ]
    }
   ],
   "source": [
    "# re.search(): if there is no match it will give none\n",
    "# match = re.search(pattern, str)\n",
    "\n",
    "string = 'Python is fun'\n",
    "\n",
    "# check if Python is at beginning\n",
    "match = re.search('\\APython', string)\n",
    "\n",
    "if match:\n",
    "    print('Pattern found inside the string')\n",
    "else:\n",
    "    print('Pattern not found')"
   ]
  },
  {
   "cell_type": "code",
   "execution_count": 29,
   "id": "78eb7b91",
   "metadata": {},
   "outputs": [
    {
     "name": "stdout",
     "output_type": "stream",
     "text": [
      "<re.Match object; span=(109, 114), match='first'>\n",
      "(109, 114)\n",
      "109 114\n",
      "first\n"
     ]
    }
   ],
   "source": [
    "txt = '''Python is the most beautiful language that a human being has ever created.\n",
    "         I recommend python for a first programming language.'''\n",
    "\n",
    "# returns an object with span and match\n",
    "match = re.search('first',txt,re.I)\n",
    "print(match)\n",
    "\n",
    "span = match.span()\n",
    "print(span)\n",
    "\n",
    "start,end = span\n",
    "print(start,end)\n",
    "\n",
    "substring = txt[start:end]\n",
    "print(substring)"
   ]
  },
  {
   "cell_type": "code",
   "execution_count": 30,
   "id": "59efb638",
   "metadata": {},
   "outputs": [
    {
     "name": "stdout",
     "output_type": "stream",
     "text": [
      "<re.Match object; span=(0, 15), match='I love to teach'>\n",
      "(0, 15)\n",
      "0 15\n",
      "I love to teach\n"
     ]
    }
   ],
   "source": [
    "txt = 'I love to teach python and javascript'\n",
    "\n",
    "match = re.match('I love to teach', txt, re.I)\n",
    "print(match)\n",
    "\n",
    "span = match.span()\n",
    "print(span)\n",
    "\n",
    "start,end = span\n",
    "print(start,end)\n",
    "\n",
    "substring = txt[start:end]\n",
    "print(substring)"
   ]
  },
  {
   "cell_type": "code",
   "execution_count": 31,
   "id": "80714059",
   "metadata": {},
   "outputs": [
    {
     "name": "stdout",
     "output_type": "stream",
     "text": [
      "None\n"
     ]
    }
   ],
   "source": [
    "txt = 'I love to teach python and javascript'\n",
    "\n",
    "match = re.match('I like to teach', txt, re.I)\n",
    "print(match)"
   ]
  },
  {
   "cell_type": "code",
   "execution_count": 32,
   "id": "f75e4b40",
   "metadata": {},
   "outputs": [
    {
     "name": "stdout",
     "output_type": "stream",
     "text": [
      "801 35\n"
     ]
    }
   ],
   "source": [
    "string = '39801 356 2102 1111'\n",
    "\n",
    "# output: 801 35\n",
    "# pattern = '[0-9]{3} [0-9]{2}'\n",
    "pattern = '(\\d{3}) (\\d{2})'\n",
    "match = re.search(pattern, string)\n",
    "\n",
    "print(match.group())"
   ]
  },
  {
   "cell_type": "code",
   "execution_count": 33,
   "id": "0efec617",
   "metadata": {},
   "outputs": [
    {
     "data": {
      "text/plain": [
       "('801', '35')"
      ]
     },
     "execution_count": 33,
     "metadata": {},
     "output_type": "execute_result"
    }
   ],
   "source": [
    "match.group(1,2)"
   ]
  },
  {
   "cell_type": "code",
   "execution_count": 34,
   "id": "6b619c52",
   "metadata": {},
   "outputs": [
    {
     "data": {
      "text/plain": [
       "('801', '35')"
      ]
     },
     "execution_count": 34,
     "metadata": {},
     "output_type": "execute_result"
    }
   ],
   "source": [
    "match.groups()"
   ]
  },
  {
   "cell_type": "code",
   "execution_count": 35,
   "id": "7b3eb0b2",
   "metadata": {},
   "outputs": [
    {
     "data": {
      "text/plain": [
       "2"
      ]
     },
     "execution_count": 35,
     "metadata": {},
     "output_type": "execute_result"
    }
   ],
   "source": [
    "match.start()"
   ]
  },
  {
   "cell_type": "code",
   "execution_count": 36,
   "id": "3b3d3132",
   "metadata": {},
   "outputs": [
    {
     "data": {
      "text/plain": [
       "8"
      ]
     },
     "execution_count": 36,
     "metadata": {},
     "output_type": "execute_result"
    }
   ],
   "source": [
    "match.end()"
   ]
  },
  {
   "cell_type": "code",
   "execution_count": 37,
   "id": "b20cd061",
   "metadata": {},
   "outputs": [
    {
     "data": {
      "text/plain": [
       "(2, 8)"
      ]
     },
     "execution_count": 37,
     "metadata": {},
     "output_type": "execute_result"
    }
   ],
   "source": [
    "match.span()"
   ]
  },
  {
   "cell_type": "code",
   "execution_count": 38,
   "id": "8475fac6",
   "metadata": {},
   "outputs": [
    {
     "data": {
      "text/plain": [
       "'39801 356 2102 1111'"
      ]
     },
     "execution_count": 38,
     "metadata": {},
     "output_type": "execute_result"
    }
   ],
   "source": [
    "match.string"
   ]
  },
  {
   "cell_type": "code",
   "execution_count": 39,
   "id": "adbeffeb",
   "metadata": {},
   "outputs": [
    {
     "name": "stdout",
     "output_type": "stream",
     "text": [
      "['\\n', '\\r']\n"
     ]
    }
   ],
   "source": [
    "string = '\\n  and \\r are escape sequences'\n",
    "result = re.findall(r'[\\n\\r]',string)\n",
    "print(result)"
   ]
  },
  {
   "cell_type": "code",
   "execution_count": 40,
   "id": "7f8a7aea",
   "metadata": {},
   "outputs": [
    {
     "name": "stdout",
     "output_type": "stream",
     "text": [
      "['Apple', 'apple']\n"
     ]
    }
   ],
   "source": [
    "regex_pattern = r'[Aa]pple'\n",
    "txt = 'Apple and banana are fruits. An old cliche says that an apple a day keeps the doctor away has been replaced by banana a day keeps the doctor far far away.'\n",
    "\n",
    "matches = re.findall(regex_pattern, txt)\n",
    "print(matches)"
   ]
  },
  {
   "cell_type": "code",
   "execution_count": 41,
   "id": "8265790f",
   "metadata": {},
   "outputs": [
    {
     "name": "stdout",
     "output_type": "stream",
     "text": [
      "['Apple ', ' banana', 'apple ', ' banana']\n"
     ]
    }
   ],
   "source": [
    "regex_pattern = r'[Aa]pple | [Bb]anana'\n",
    "txt = 'Apple and banana are fruits. An old cliche says that an apple a day keeps the doctor away has been replaced by banana a day keeps the doctor far far away.'\n",
    "\n",
    "matches = re.findall(regex_pattern, txt)\n",
    "print(matches)"
   ]
  },
  {
   "cell_type": "code",
   "execution_count": 42,
   "id": "ec465757",
   "metadata": {},
   "outputs": [
    {
     "name": "stdout",
     "output_type": "stream",
     "text": [
      "Hawking born on 8 January 1942 and died on 14 March 2018 Einstein's Birth Anniversary (Pi-Day) and both died at 76.\n",
      "['8', '1', '9', '4', '2', '1', '4', '2', '0', '1', '8', '7', '6']\n"
     ]
    }
   ],
   "source": [
    "regex_pattern = r'\\d'\n",
    "txt = 'Hawking born on 8 January 1942 and died on 14 March 2018 Einstein\\'s Birth Anniversary (Pi-Day) and both died at 76.'\n",
    "print(txt)\n",
    "matches = re.findall(regex_pattern, txt)\n",
    "print(matches)"
   ]
  },
  {
   "cell_type": "code",
   "execution_count": 43,
   "id": "fdf97e56",
   "metadata": {},
   "outputs": [
    {
     "name": "stdout",
     "output_type": "stream",
     "text": [
      "['8', '1942', '14', '2018', '76']\n"
     ]
    }
   ],
   "source": [
    "regex_pattern = r'\\d+'\n",
    "txt = 'Hawking born on 8 January 1942 and died on 14 March 2018 Einstein\\'s Birth Anniversary (Pi-Day) and both died at 76.'\n",
    "\n",
    "matches = re.findall(regex_pattern, txt)\n",
    "print(matches)"
   ]
  },
  {
   "cell_type": "code",
   "execution_count": 44,
   "id": "d76d3dbf",
   "metadata": {},
   "outputs": [
    {
     "name": "stdout",
     "output_type": "stream",
     "text": [
      "['an', 'an', 'an', 'as', 'ar']\n"
     ]
    }
   ],
   "source": [
    "# . reps any character except new line\n",
    "regex_pattern = r'[a].'\n",
    "txt = '''Apples and Bananas are fruits.'''\n",
    "\n",
    "matches = re.findall(regex_pattern, txt)\n",
    "print(matches)"
   ]
  },
  {
   "cell_type": "code",
   "execution_count": 45,
   "id": "bd8ca0c5",
   "metadata": {},
   "outputs": [
    {
     "name": "stdout",
     "output_type": "stream",
     "text": [
      "['and Bananas are fruits.']\n"
     ]
    }
   ],
   "source": [
    "regex_pattern = r'[a].+' # any char with + results any char one or more times\n",
    "txt = '''Apples and Bananas are fruits.'''\n",
    "\n",
    "matches = re.findall(regex_pattern, txt)\n",
    "print(matches)"
   ]
  },
  {
   "cell_type": "code",
   "execution_count": 46,
   "id": "747cfeae",
   "metadata": {},
   "outputs": [
    {
     "name": "stdout",
     "output_type": "stream",
     "text": [
      "['and Bananas are fruits.']\n"
     ]
    }
   ],
   "source": [
    "regex_pattern = r'[a].*' # any char zero or more times\n",
    "txt = '''Apples and Bananas are fruits.'''\n",
    "\n",
    "matches = re.findall(regex_pattern, txt)\n",
    "print(matches)"
   ]
  },
  {
   "cell_type": "code",
   "execution_count": 47,
   "id": "d3a93ea5",
   "metadata": {},
   "outputs": [
    {
     "name": "stdout",
     "output_type": "stream",
     "text": [
      "['email', 'email', 'Email', 'E-mail']\n"
     ]
    }
   ],
   "source": [
    "txt = '''I am not sure if there is a convention how to write the word email.\n",
    "         Some people write it as email others may write it as Email or E-mail.'''\n",
    "\n",
    "regex_pattern = r'[Ee]-?mail' # ? means - is optional\n",
    "matches = re.findall(regex_pattern, txt)\n",
    "print(matches)"
   ]
  },
  {
   "cell_type": "code",
   "execution_count": 48,
   "id": "d934bd22",
   "metadata": {},
   "outputs": [
    {
     "name": "stdout",
     "output_type": "stream",
     "text": [
      "['1942', '2018']\n"
     ]
    }
   ],
   "source": [
    "regex_pattern = r'\\d{4}'\n",
    "txt = 'Hawking born on 8 January 1942 and died on 14 March 2018 Einstein\\'s Birth Anniversary (Pi-Day) and both died at 76.'\n",
    "\n",
    "matches = re.findall(regex_pattern, txt)\n",
    "print(matches)"
   ]
  },
  {
   "cell_type": "code",
   "execution_count": 49,
   "id": "376c2853",
   "metadata": {},
   "outputs": [
    {
     "name": "stdout",
     "output_type": "stream",
     "text": [
      "['8', '1942', '14', '2018', '76']\n"
     ]
    }
   ],
   "source": [
    "regex_pattern = r'\\d{1,4}'\n",
    "txt = 'Hawking born on 8 January 1942 and died on 14 March 2018 Einstein\\'s Birth Anniversary (Pi-Day) and both died at 76.'\n",
    "\n",
    "matches = re.findall(regex_pattern, txt)\n",
    "print(matches)"
   ]
  },
  {
   "cell_type": "code",
   "execution_count": 50,
   "id": "07c7a352",
   "metadata": {},
   "outputs": [
    {
     "name": "stdout",
     "output_type": "stream",
     "text": [
      "['Hawking']\n"
     ]
    }
   ],
   "source": [
    "regex_pattern = r'^Hawking'\n",
    "txt = 'Hawking born on 8 January 1942 and died on 14 March 2018 Einstein\\'s Birth Anniversary (Pi-Day) and both died at 76.'\n",
    "\n",
    "matches = re.findall(regex_pattern, txt)\n",
    "print(matches)"
   ]
  },
  {
   "cell_type": "code",
   "execution_count": 51,
   "id": "57a3e2ab",
   "metadata": {},
   "outputs": [
    {
     "name": "stdout",
     "output_type": "stream",
     "text": [
      "['8', '1942', '14', '2018', \"'\", '(', '-', ')', '76.']\n"
     ]
    }
   ],
   "source": [
    "regex_pattern = r'[^A-Za-z ]+'\n",
    "txt = 'Hawking born on 8 January 1942 and died on 14 March 2018 Einstein\\'s Birth Anniversary (Pi-Day) and both died at 76.'\n",
    "\n",
    "matches = re.findall(regex_pattern, txt)\n",
    "print(matches)"
   ]
  }
 ],
 "metadata": {
  "kernelspec": {
   "display_name": "Python 3",
   "language": "python",
   "name": "python3"
  },
  "language_info": {
   "codemirror_mode": {
    "name": "ipython",
    "version": 3
   },
   "file_extension": ".py",
   "mimetype": "text/x-python",
   "name": "python",
   "nbconvert_exporter": "python",
   "pygments_lexer": "ipython3",
   "version": "3.9.13 (main, Aug 25 2022, 23:51:50) [MSC v.1916 64 bit (AMD64)]"
  },
  "vscode": {
   "interpreter": {
    "hash": "9fac946a9e2f4d4890ba7ce90b629a4dd426c9d15d36d397f8c18ee482009090"
   }
  }
 },
 "nbformat": 4,
 "nbformat_minor": 5
}
