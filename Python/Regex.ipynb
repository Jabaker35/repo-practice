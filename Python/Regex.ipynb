{
 "cells": [
  {
   "cell_type": "code",
   "execution_count": null,
   "id": "0b98116c-697e-4dad-9b53-75ebe1afc4e7",
   "metadata": {},
   "outputs": [],
   "source": [
    "# special sequence of characters that uses search pattern to find a string or set of strings\n",
    "# can split patterns into one or more subpatterns\n",
    "# import re\n",
    "\n",
    "# \\ = drps a special meaning to character\n",
    "# [] = complete character class\n",
    "# ^ = matches the beginning of the string\n",
    "# . = matched any character except \\n\n",
    "# | = OR operator\n",
    "# ? = matches zero or oned occurances\n",
    "# * = any number of occurances\n",
    "# + = one or more occurances\n",
    "# {} = num of occurances preceeding regex\n",
    "# () = encloses group of regex\n",
    "\n",
    "# Special Sequences:\n",
    "    # \\A = matches if string begins with the given character\n",
    "    # \\b(string) = check the beginning of the word; (string)\\b = check for the ending of the word\n",
    "    # \\B = should not start or end with given regex\n",
    "    # \\d = any decimal digits\n",
    "    # \\D = non-digit character\n",
    "    # \\s = matches any whitespace character\n",
    "    # \\S = non whitespace character\n",
    "    # \\w = any alphanumerical character\n",
    "    # \\W = non alphanumerical character\n",
    "    # \\Z = matches if string ends with given regex\n",
    "    \n",
    "# Functions in regex:\n",
    "    # re.findall()\n",
    "    # re.compile() = regex will compiled to pattern objs\n",
    "    # re.split()\n",
    "    # re.sub()\n",
    "    # re.subn()\n",
    "    # re.escape()\n",
    "    # re.search()\n",
    "    # Match Object\n",
    "    \n",
    "# Regex Sets: []\n",
    "    # [atx]\n",
    "    # [a-h]\n",
    "    # [^atx]\n",
    "    # [0123] = match of numerical presence\n",
    "    # [0-9]\n",
    "    # [0-7][0-9]\n",
    "    # [a-z][A-Z]"
   ]
  },
  {
   "cell_type": "code",
   "execution_count": 1,
   "id": "a0a8b669-88d9-48e6-baf7-84b38b6a8756",
   "metadata": {},
   "outputs": [],
   "source": [
    "import re"
   ]
  },
  {
   "cell_type": "code",
   "execution_count": 2,
   "id": "b8f6d441-457c-412f-a8e5-37ced5c494c7",
   "metadata": {},
   "outputs": [
    {
     "data": {
      "text/plain": [
       "<re.Match object; span=(22, 27), match='term1'>"
      ]
     },
     "execution_count": 2,
     "metadata": {},
     "output_type": "execute_result"
    }
   ],
   "source": [
    "pattern = 'term1'\n",
    "\n",
    "# text to parse\n",
    "text = 'This is a string with term1, but it does not have the other tern'\n",
    "match = re.search(pattern, text)\n",
    "\n",
    "match"
   ]
  },
  {
   "cell_type": "code",
   "execution_count": 3,
   "id": "d4590770-7393-426e-be4b-49a691545c15",
   "metadata": {},
   "outputs": [
    {
     "data": {
      "text/plain": [
       "re.Match"
      ]
     },
     "execution_count": 3,
     "metadata": {},
     "output_type": "execute_result"
    }
   ],
   "source": [
    "type(match)"
   ]
  },
  {
   "cell_type": "code",
   "execution_count": 4,
   "id": "6ab19d76-975a-4754-96e6-fc5ac3e13398",
   "metadata": {},
   "outputs": [
    {
     "data": {
      "text/plain": [
       "22"
      ]
     },
     "execution_count": 4,
     "metadata": {},
     "output_type": "execute_result"
    }
   ],
   "source": [
    "match.start()"
   ]
  },
  {
   "cell_type": "code",
   "execution_count": 5,
   "id": "5466c140-8422-47cd-b982-73c8ff65dad6",
   "metadata": {},
   "outputs": [
    {
     "data": {
      "text/plain": [
       "27"
      ]
     },
     "execution_count": 5,
     "metadata": {},
     "output_type": "execute_result"
    }
   ],
   "source": [
    "match.end()"
   ]
  },
  {
   "cell_type": "code",
   "execution_count": 6,
   "id": "4e412732-5f80-4938-9f48-f9e88f8de4a0",
   "metadata": {},
   "outputs": [
    {
     "data": {
      "text/plain": [
       "['what is the domain name of someone with email: hello', 'gmail.com']"
      ]
     },
     "execution_count": 6,
     "metadata": {},
     "output_type": "execute_result"
    }
   ],
   "source": [
    "# re.split\n",
    "\n",
    "split_term = '@'\n",
    "\n",
    "phrase = 'what is the domain name of someone with email: hello@gmail.com'\n",
    "re.split(split_term,phrase)"
   ]
  },
  {
   "cell_type": "code",
   "execution_count": 7,
   "id": "74c019cb-767b-4565-a593-aaedf53088ad",
   "metadata": {},
   "outputs": [
    {
     "data": {
      "text/plain": [
       "['match']"
      ]
     },
     "execution_count": 7,
     "metadata": {},
     "output_type": "execute_result"
    }
   ],
   "source": [
    "# findall\n",
    "\n",
    "re.findall('match','test phrase match is in middle')"
   ]
  },
  {
   "cell_type": "code",
   "execution_count": 8,
   "id": "cc03417c-ba5b-40c6-a0f3-859adc2bc7b9",
   "metadata": {},
   "outputs": [],
   "source": [
    "def multi_re_find(patterns,phrase):\n",
    "    '''\n",
    "    Takes in a list of regex patterns\n",
    "    Prints a list of all matches\n",
    "    '''\n",
    "    \n",
    "    for pattern in patterns:\n",
    "        print('Searchin the phrase using recheck: %r' %pattern)\n",
    "        print(re.findall(pattern,phrase))\n",
    "        print('\\n')"
   ]
  },
  {
   "cell_type": "code",
   "execution_count": 9,
   "id": "f9fe317f-163e-417e-9fa4-d2b3e64e223d",
   "metadata": {},
   "outputs": [
    {
     "name": "stdout",
     "output_type": "stream",
     "text": [
      "Searchin the phrase using recheck: 'sd*'\n",
      "['sd', 'sd', 's', 's', 'sddd', 'sddd', 'sddd', 'sd', 's', 's', 's', 's', 's', 's', 'sdddd']\n",
      "\n",
      "\n",
      "Searchin the phrase using recheck: 'sd+'\n",
      "['sd', 'sd', 'sddd', 'sddd', 'sddd', 'sd', 'sdddd']\n",
      "\n",
      "\n",
      "Searchin the phrase using recheck: 'sd?'\n",
      "['sd', 'sd', 's', 's', 'sd', 'sd', 'sd', 'sd', 's', 's', 's', 's', 's', 's', 'sd']\n",
      "\n",
      "\n",
      "Searchin the phrase using recheck: 'sd{3}'\n",
      "['sddd', 'sddd', 'sddd', 'sddd']\n",
      "\n",
      "\n",
      "Searchin the phrase using recheck: 'sd{2,3}'\n",
      "['sddd', 'sddd', 'sddd', 'sddd']\n",
      "\n",
      "\n"
     ]
    }
   ],
   "source": [
    "# test phrase\n",
    "tph = 'sdsd..sssddd...sdddsddd...dsds...dsssss...sdddd'\n",
    "# test patterns\n",
    "tpt = ['sd*', # s followed by zero or more d's\n",
    "       'sd+', # s followed by one or more d's\n",
    "       'sd?', # s followed by 0 or 1 d\n",
    "       'sd{3}', # s followed by 3 d's\n",
    "       'sd{2,3}' # s followed by 2 to 3 d's\n",
    "      ]\n",
    "\n",
    "multi_re_find(tpt,tph)"
   ]
  },
  {
   "cell_type": "code",
   "execution_count": 10,
   "id": "5f98d21c-8fb8-4c71-abde-dac592e17279",
   "metadata": {},
   "outputs": [
    {
     "name": "stdout",
     "output_type": "stream",
     "text": [
      "Searchin the phrase using recheck: '[sd]'\n",
      "['s', 'd', 's', 'd', 's', 's', 's', 'd', 'd', 'd', 's', 'd', 'd', 'd', 's', 'd', 'd', 'd', 'd', 's', 'd', 's', 'd', 's', 's', 's', 's', 's', 's', 'd', 'd', 'd', 'd']\n",
      "\n",
      "\n",
      "Searchin the phrase using recheck: 's[sd]+'\n",
      "['sdsd', 'sssddd', 'sdddsddd', 'sds', 'sssss', 'sdddd']\n",
      "\n",
      "\n"
     ]
    }
   ],
   "source": [
    "# character sets: check occurances of either character like an OR operator w/n []\n",
    "# test phrase\n",
    "tph = 'sdsd..sssddd...sdddsddd...dsds...dsssss...sdddd'\n",
    "tpt = ['[sd]', # either s or d\n",
    "       's[sd]+' # s followed by one or more s or d\n",
    "      ]\n",
    "\n",
    "multi_re_find(tpt,tph)"
   ]
  },
  {
   "cell_type": "code",
   "execution_count": 11,
   "id": "f5e9ca69-b10f-4ebb-bdb4-c0713da42090",
   "metadata": {},
   "outputs": [
    {
     "data": {
      "text/plain": [
       "['This is a string', ' But it has punctuation', ' How can we remove it']"
      ]
     },
     "execution_count": 11,
     "metadata": {},
     "output_type": "execute_result"
    }
   ],
   "source": [
    "# exclusion (^): match any single character not in []\n",
    "tph = 'This is a string! But it has punctuation. How can we remove it?'\n",
    "re.findall('[^!.?]+',tph)"
   ]
  },
  {
   "cell_type": "code",
   "execution_count": 12,
   "id": "b93b4650-5131-474d-9efd-bb01fde88361",
   "metadata": {},
   "outputs": [
    {
     "name": "stdout",
     "output_type": "stream",
     "text": [
      "Searchin the phrase using recheck: '[a-z]+'\n",
      "['his', 'an', 'example', 'sentence', 'ets', 'see', 'if', 'we', 'can', 'find', 'some', 'letters']\n",
      "\n",
      "\n",
      "Searchin the phrase using recheck: '[A-Z]+'\n",
      "['T', 'L']\n",
      "\n",
      "\n",
      "Searchin the phrase using recheck: '[a-zA-Z]+'\n",
      "['This', 'an', 'example', 'sentence', 'Lets', 'see', 'if', 'we', 'can', 'find', 'some', 'letters']\n",
      "\n",
      "\n",
      "Searchin the phrase using recheck: '[A-Z][a-z]+'\n",
      "['This', 'Lets']\n",
      "\n",
      "\n"
     ]
    }
   ],
   "source": [
    "# character ranges [start-end]: [a-f] return instances of letters b/w a and f\n",
    "tph = 'This an example sentence. Lets see if we can find some letters.'\n",
    "tpt = [ '[a-z]+', # sequence of lower case letters\n",
    "        '[A-Z]+', # sequence of upper case letters\n",
    "        '[a-zA-Z]+', # sequence of lower and upper case letters\n",
    "        '[A-Z][a-z]+' # one upper case followed by lower case letters\n",
    "      ]\n",
    "\n",
    "multi_re_find(tpt,tph)"
   ]
  },
  {
   "cell_type": "code",
   "execution_count": 14,
   "id": "92877218-eb8a-4c88-9db6-57bd91db6566",
   "metadata": {},
   "outputs": [
    {
     "name": "stdout",
     "output_type": "stream",
     "text": [
      "Searchin the phrase using recheck: '\\\\d+'\n",
      "['1233']\n",
      "\n",
      "\n",
      "Searchin the phrase using recheck: '\\\\D+'\n",
      "['This is a string with some numbers ', ' and a symbol #hashtag']\n",
      "\n",
      "\n",
      "Searchin the phrase using recheck: '\\\\s'\n",
      "[' ', ' ', ' ', ' ', ' ', ' ', ' ', ' ', ' ', ' ', ' ']\n",
      "\n",
      "\n",
      "Searchin the phrase using recheck: '\\\\S+'\n",
      "['This', 'is', 'a', 'string', 'with', 'some', 'numbers', '1233', 'and', 'a', 'symbol', '#hashtag']\n",
      "\n",
      "\n",
      "Searchin the phrase using recheck: '\\\\w+'\n",
      "['This', 'is', 'a', 'string', 'with', 'some', 'numbers', '1233', 'and', 'a', 'symbol', 'hashtag']\n",
      "\n",
      "\n",
      "Searchin the phrase using recheck: '\\\\W+'\n",
      "[' ', ' ', ' ', ' ', ' ', ' ', ' ', ' ', ' ', ' ', ' #']\n",
      "\n",
      "\n"
     ]
    }
   ],
   "source": [
    "# Escape codes find specific types of patterns such as digits, nondigits, whitespace\n",
    "tph = 'This is a string with some numbers 1233 and a symbol #hashtag'\n",
    "tpt = [r'\\d+', # sequence of digits\n",
    "       r'\\D+', # sequence of non digits\n",
    "       r'\\s', # sequence of whitespace\n",
    "       r'\\S+', # sequence of non whitespace\n",
    "       r'\\w+', # sequence of alphanumeric \n",
    "       r'\\W+', # sequence of non alphanumeric\n",
    "    ]\n",
    "\n",
    "multi_re_find(tpt,tph)"
   ]
  },
  {
   "cell_type": "code",
   "execution_count": null,
   "id": "c01b8957-b986-4b72-b355-2d16fd327d04",
   "metadata": {},
   "outputs": [],
   "source": []
  }
 ],
 "metadata": {
  "kernelspec": {
   "display_name": "Python 3 (ipykernel)",
   "language": "python",
   "name": "python3"
  },
  "language_info": {
   "codemirror_mode": {
    "name": "ipython",
    "version": 3
   },
   "file_extension": ".py",
   "mimetype": "text/x-python",
   "name": "python",
   "nbconvert_exporter": "python",
   "pygments_lexer": "ipython3",
   "version": "3.9.13"
  }
 },
 "nbformat": 4,
 "nbformat_minor": 5
}
